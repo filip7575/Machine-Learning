{
  "nbformat": 4,
  "nbformat_minor": 0,
  "metadata": {
    "colab": {
      "name": "Untitled14.ipynb",
      "provenance": []
    },
    "kernelspec": {
      "name": "python3",
      "display_name": "Python 3"
    },
    "accelerator": "GPU"
  },
  "cells": [
    {
      "cell_type": "code",
      "metadata": {
        "id": "PQLZXJYng0PI",
        "colab_type": "code",
        "colab": {
          "base_uri": "https://localhost:8080/",
          "height": 606
        },
        "outputId": "74a28bdf-2932-46a5-dc77-977807b26178"
      },
      "source": [
        "!pip install transformers\n",
        "\n",
        "import pandas as pd\n",
        "import torch\n",
        "from transformers import T5ForConditionalGeneration,T5Tokenizer,T5Config\n",
        "import warnings\n",
        "warnings.filterwarnings(action='ignore')"
      ],
      "execution_count": 2,
      "outputs": [
        {
          "output_type": "stream",
          "text": [
            "Collecting transformers\n",
            "\u001b[?25l  Downloading https://files.pythonhosted.org/packages/ae/05/c8c55b600308dc04e95100dc8ad8a244dd800fe75dfafcf1d6348c6f6209/transformers-3.1.0-py3-none-any.whl (884kB)\n",
            "\u001b[K     |████████████████████████████████| 890kB 4.8MB/s \n",
            "\u001b[?25hCollecting sacremoses\n",
            "\u001b[?25l  Downloading https://files.pythonhosted.org/packages/7d/34/09d19aff26edcc8eb2a01bed8e98f13a1537005d31e95233fd48216eed10/sacremoses-0.0.43.tar.gz (883kB)\n",
            "\u001b[K     |████████████████████████████████| 890kB 22.8MB/s \n",
            "\u001b[?25hRequirement already satisfied: numpy in /usr/local/lib/python3.6/dist-packages (from transformers) (1.18.5)\n",
            "Collecting tokenizers==0.8.1.rc2\n",
            "\u001b[?25l  Downloading https://files.pythonhosted.org/packages/80/83/8b9fccb9e48eeb575ee19179e2bdde0ee9a1904f97de5f02d19016b8804f/tokenizers-0.8.1rc2-cp36-cp36m-manylinux1_x86_64.whl (3.0MB)\n",
            "\u001b[K     |████████████████████████████████| 3.0MB 31.1MB/s \n",
            "\u001b[?25hCollecting sentencepiece!=0.1.92\n",
            "\u001b[?25l  Downloading https://files.pythonhosted.org/packages/d4/a4/d0a884c4300004a78cca907a6ff9a5e9fe4f090f5d95ab341c53d28cbc58/sentencepiece-0.1.91-cp36-cp36m-manylinux1_x86_64.whl (1.1MB)\n",
            "\u001b[K     |████████████████████████████████| 1.1MB 41.6MB/s \n",
            "\u001b[?25hRequirement already satisfied: tqdm>=4.27 in /usr/local/lib/python3.6/dist-packages (from transformers) (4.41.1)\n",
            "Requirement already satisfied: dataclasses; python_version < \"3.7\" in /usr/local/lib/python3.6/dist-packages (from transformers) (0.7)\n",
            "Requirement already satisfied: filelock in /usr/local/lib/python3.6/dist-packages (from transformers) (3.0.12)\n",
            "Requirement already satisfied: regex!=2019.12.17 in /usr/local/lib/python3.6/dist-packages (from transformers) (2019.12.20)\n",
            "Requirement already satisfied: packaging in /usr/local/lib/python3.6/dist-packages (from transformers) (20.4)\n",
            "Requirement already satisfied: requests in /usr/local/lib/python3.6/dist-packages (from transformers) (2.23.0)\n",
            "Requirement already satisfied: six in /usr/local/lib/python3.6/dist-packages (from sacremoses->transformers) (1.15.0)\n",
            "Requirement already satisfied: click in /usr/local/lib/python3.6/dist-packages (from sacremoses->transformers) (7.1.2)\n",
            "Requirement already satisfied: joblib in /usr/local/lib/python3.6/dist-packages (from sacremoses->transformers) (0.16.0)\n",
            "Requirement already satisfied: pyparsing>=2.0.2 in /usr/local/lib/python3.6/dist-packages (from packaging->transformers) (2.4.7)\n",
            "Requirement already satisfied: chardet<4,>=3.0.2 in /usr/local/lib/python3.6/dist-packages (from requests->transformers) (3.0.4)\n",
            "Requirement already satisfied: idna<3,>=2.5 in /usr/local/lib/python3.6/dist-packages (from requests->transformers) (2.10)\n",
            "Requirement already satisfied: urllib3!=1.25.0,!=1.25.1,<1.26,>=1.21.1 in /usr/local/lib/python3.6/dist-packages (from requests->transformers) (1.24.3)\n",
            "Requirement already satisfied: certifi>=2017.4.17 in /usr/local/lib/python3.6/dist-packages (from requests->transformers) (2020.6.20)\n",
            "Building wheels for collected packages: sacremoses\n",
            "  Building wheel for sacremoses (setup.py) ... \u001b[?25l\u001b[?25hdone\n",
            "  Created wheel for sacremoses: filename=sacremoses-0.0.43-cp36-none-any.whl size=893257 sha256=5d78d2a7a3126e013dff44f42c12495d79bd66698940ea0758e676d780270c5b\n",
            "  Stored in directory: /root/.cache/pip/wheels/29/3c/fd/7ce5c3f0666dab31a50123635e6fb5e19ceb42ce38d4e58f45\n",
            "Successfully built sacremoses\n",
            "Installing collected packages: sacremoses, tokenizers, sentencepiece, transformers\n",
            "Successfully installed sacremoses-0.0.43 sentencepiece-0.1.91 tokenizers-0.8.1rc2 transformers-3.1.0\n"
          ],
          "name": "stdout"
        }
      ]
    },
    {
      "cell_type": "code",
      "metadata": {
        "id": "6FoQAokTg7IL",
        "colab_type": "code",
        "colab": {}
      },
      "source": [
        "\n",
        "import pandas as pd\n",
        "import torch\n",
        "from transformers import T5ForConditionalGeneration,T5Tokenizer,T5Config\n",
        "import warnings\n",
        "warnings.filterwarnings(action='ignore')"
      ],
      "execution_count": 4,
      "outputs": []
    },
    {
      "cell_type": "code",
      "metadata": {
        "id": "ljKIeV_FhZOK",
        "colab_type": "code",
        "colab": {}
      },
      "source": [
        "text='''\n",
        "Pablo Casado se pronuncio finalmente sobre la denominada pieza Kitchen, referida al supuesto espionaje del PP a Luis Barcenas y sobre la que el juez ha levantado secreto de sumario, asegurando que son investigaciones judiciales que vienen de tiempos pasados y que reafirman su compromiso con la honorabilidad y la ejemplaridad que deben tener todos los partidos politicos”. El ahora lider de la formacion recordo que en 2012 y 2013 (años a los que se circunscriben las indagaciones) el era un diputado por avila que no pertenecia a la direccion.\n",
        "Ademas, el lider del PP insistio en un foro organizado por el diario El Mundo que las personas sobre las que la Fiscalia pide una investigacion, entre los que estan el exministro del Interior, Jorge Fernandez Diaz, y la ex secretaria general del PP, Maria Dolores de Cospedal, estan fuera de la politica y no ostentan ninguna responsabilidad en el partido. Ni siquiera fueron en las listas electorales. Cospedal, de hecho, compitio con Casado en las primarias para liderar la formacion conservadora y decidio marcharse tras su fracaso.\n",
        "Despues de varios dias son informaciones sobre los wasaps de Francisco Martinez, entonces secretario de Estado de Interior, en los que da por hecho que las ordenes que recibio y plasmadas en los mensajes podrian provocar no solo la imputacion del exministro, sino tambien la citacion del propio Mariano Rajoy, el actual lider del PP pidio reafirmar y defender la presuncion de inocencia, recordando que “muchas investigaciones cuentan con eco periodistico en sus fases iniciales” y luego quedan en nada. Los famosos ordenadores, por ejemplo. El PP quedo absuelto aunque ya nadie se acuerde, dijo Casado\n",
        "'''"
      ],
      "execution_count": 38,
      "outputs": []
    },
    {
      "cell_type": "code",
      "metadata": {
        "id": "3chIJcPHvZJP",
        "colab_type": "code",
        "colab": {}
      },
      "source": [
        "text1='''\n",
        "El secretario general del PSOE de Madrid, Jose Manuel Franco, ha afirmado este martes que estudiarian proponer a una persona no socialista para la Presidencia de la Comunidad de Madrid en una futurible mocion de censura con tal de desalojar a la actual presidenta, Isabel Diaz Ayuso, de la Puerta del Sol. En principio nosotros hemos ganado las elecciones y se nos haria muy dificil este escenario, pero si la higiene democratica nos lleva a esa exigencia de tener que pasar porque una persona no socialista presida la Comunidad y eso nos conlleva una mejor gestion y un cambio politico en Madrid, estariamos dispuestos a estudiarlo, ha respondido Franco en una entrevista en la Cadena Ser recogida por Europa Press.\n",
        "No obstante, el tambien delegado del Gobierno en Madrid ha afirmado que en el ambito madrileño, a diferencia del nacional, no han tenido contacto con Ciudadanos Cs, socio actual del Gobierno regional, cuyos votos son necesarios para que saliera adelante una mocion de censura. Pero si al final hay un acuerdo presupuestario en España entre Cs y PSOE e Ines Arrimadas, en ejercicio de responsabilidad y sensatez, le recomienda a Ignacio Aguado que apoye una mocion de censura, estamos preparados. Tenemos equipo, programa y tenemos las personas adecuadas para gobernar de otra forma y demostrar, de una vez por toda, que otra solucion es posible, ha esgrimido\n",
        "El lider de los socialistas madrileños ha afirmado que les sobran los motivos para presentar una mocion de censura, pero cree, y la mayoria de los socialistas, que ahora no es el momento por responsabilidad ante la crisis del coronavirus. Este gobierno se merece una mocion de censura pero a dia de hoy no seria responsable presentarla con lo que esta cayendo, con la situacion de la pandemia. Todos debemos sumar fuerzas y funcionar lealmente para frenarla. Ahora mismo es el momento de la unidad para luchar contra la pandemia, ha dicho.\n",
        "'''"
      ],
      "execution_count": 39,
      "outputs": []
    },
    {
      "cell_type": "code",
      "metadata": {
        "id": "5WYcTXy8jbpt",
        "colab_type": "code",
        "colab": {}
      },
      "source": [
        "lst = [text, text1]"
      ],
      "execution_count": 40,
      "outputs": []
    },
    {
      "cell_type": "code",
      "metadata": {
        "id": "BMzdAXGbj_MN",
        "colab_type": "code",
        "colab": {}
      },
      "source": [
        "df = pd.DataFrame(lst,columns=[\"text\"])"
      ],
      "execution_count": 41,
      "outputs": []
    },
    {
      "cell_type": "code",
      "metadata": {
        "id": "_H6-EFHgk5s6",
        "colab_type": "code",
        "colab": {
          "base_uri": "https://localhost:8080/",
          "height": 110
        },
        "outputId": "1304725c-21ed-4cea-f662-cc52e7f2dd5d"
      },
      "source": [
        "df.head()"
      ],
      "execution_count": 42,
      "outputs": [
        {
          "output_type": "execute_result",
          "data": {
            "text/html": [
              "<div>\n",
              "<style scoped>\n",
              "    .dataframe tbody tr th:only-of-type {\n",
              "        vertical-align: middle;\n",
              "    }\n",
              "\n",
              "    .dataframe tbody tr th {\n",
              "        vertical-align: top;\n",
              "    }\n",
              "\n",
              "    .dataframe thead th {\n",
              "        text-align: right;\n",
              "    }\n",
              "</style>\n",
              "<table border=\"1\" class=\"dataframe\">\n",
              "  <thead>\n",
              "    <tr style=\"text-align: right;\">\n",
              "      <th></th>\n",
              "      <th>text</th>\n",
              "    </tr>\n",
              "  </thead>\n",
              "  <tbody>\n",
              "    <tr>\n",
              "      <th>0</th>\n",
              "      <td>\\nPablo Casado se pronuncio finalmente sobre l...</td>\n",
              "    </tr>\n",
              "    <tr>\n",
              "      <th>1</th>\n",
              "      <td>\\nEl secretario general del PSOE de Madrid, Jo...</td>\n",
              "    </tr>\n",
              "  </tbody>\n",
              "</table>\n",
              "</div>"
            ],
            "text/plain": [
              "                                                text\n",
              "0  \\nPablo Casado se pronuncio finalmente sobre l...\n",
              "1  \\nEl secretario general del PSOE de Madrid, Jo..."
            ]
          },
          "metadata": {
            "tags": []
          },
          "execution_count": 42
        }
      ]
    },
    {
      "cell_type": "code",
      "metadata": {
        "id": "7rXwlNXDk64z",
        "colab_type": "code",
        "colab": {}
      },
      "source": [
        "### Loading the Model\n",
        "#model = T5ForConditionalGeneration.from_pretrained('t5-small')\n",
        "tokenizer = T5Tokenizer.from_pretrained('t5-small')\n",
        "device = torch.device('cuda' if torch.cuda.is_available() else 'cpu')\n",
        "model = T5ForConditionalGeneration.from_pretrained('t5-base').to(device)"
      ],
      "execution_count": 43,
      "outputs": []
    },
    {
      "cell_type": "code",
      "metadata": {
        "id": "oIIf1_OOp6aY",
        "colab_type": "code",
        "colab": {}
      },
      "source": [
        "def get_summary(text_data,max_seq_len = 100):\n",
        "    ''' Takes in n the text data and outputs the summaries.\n",
        "    \n",
        "        max_seq_len = the maximum sequence length that we wish our summary to have. Can be used to control the size of summary default = 100'''\n",
        "    \n",
        "    summaries = [] # empty list to hold all of our summaries\n",
        "    for text in text_data:\n",
        "        \n",
        "        preprocess_text = text.strip().replace(\"\\n\",\"\") # removing any extra spaces or line breaks present\n",
        "        t5_prepared_Text = \"summarize: \"+preprocess_text # prepending 'summarize' to the text as guided in the T5 research paper\n",
        "        tokenized_text = tokenizer.encode(t5_prepared_Text, return_tensors=\"pt\",max_length=512).to(device) # tokenizing\n",
        "                # max_length here is 512 as that is the maximum lenght t5 can handle so if out text tokens have greater max len than 512\n",
        "        # it is truncated\n",
        "        \n",
        "    \n",
        "        summary_ids = model.generate(tokenized_text,\n",
        "                                    num_beams=4, # number of beams in beam search\n",
        "                                    max_length = max_seq_len, # max length of the sequence\n",
        "                                    early_stopping=True) # stops beam search when number sentences equal to num_beams have finnished\n",
        "        output = tokenizer.decode(summary_ids[0], skip_special_tokens=True) # decoding the tokens to text\n",
        "        # the size of summary_ids size [1,seq_len] so we do summary_ids[0] to get shape of [seq_len] \n",
        "        \n",
        "        summaries.append(output) # append to list created \n",
        "    return summaries"
      ],
      "execution_count": 44,
      "outputs": []
    },
    {
      "cell_type": "code",
      "metadata": {
        "id": "m3fTxBanp7aF",
        "colab_type": "code",
        "colab": {
          "base_uri": "https://localhost:8080/",
          "height": 72
        },
        "outputId": "cc963b79-7188-4873-ce98-bbf289ec72d6"
      },
      "source": [
        "summaries = get_summary(df.text,max_seq_len=100)\n",
        "df['Summary'] = summaries"
      ],
      "execution_count": 45,
      "outputs": [
        {
          "output_type": "stream",
          "text": [
            "Truncation was not explicitely activated but `max_length` is provided a specific value, please use `truncation=True` to explicitely truncate examples to max length. Defaulting to 'longest_first' truncation strategy. If you encode pairs of sequences (GLUE-style) with the tokenizer you can select this strategy more precisely by providing a specific strategy to `truncation`.\n",
            "Truncation was not explicitely activated but `max_length` is provided a specific value, please use `truncation=True` to explicitely truncate examples to max length. Defaulting to 'longest_first' truncation strategy. If you encode pairs of sequences (GLUE-style) with the tokenizer you can select this strategy more precisely by providing a specific strategy to `truncation`.\n"
          ],
          "name": "stderr"
        }
      ]
    },
    {
      "cell_type": "code",
      "metadata": {
        "id": "17MJYu4yqXMK",
        "colab_type": "code",
        "colab": {
          "base_uri": "https://localhost:8080/",
          "height": 110
        },
        "outputId": "6a124105-f9b1-4ba7-e869-9d72389f1776"
      },
      "source": [
        "df.head()"
      ],
      "execution_count": 46,
      "outputs": [
        {
          "output_type": "execute_result",
          "data": {
            "text/html": [
              "<div>\n",
              "<style scoped>\n",
              "    .dataframe tbody tr th:only-of-type {\n",
              "        vertical-align: middle;\n",
              "    }\n",
              "\n",
              "    .dataframe tbody tr th {\n",
              "        vertical-align: top;\n",
              "    }\n",
              "\n",
              "    .dataframe thead th {\n",
              "        text-align: right;\n",
              "    }\n",
              "</style>\n",
              "<table border=\"1\" class=\"dataframe\">\n",
              "  <thead>\n",
              "    <tr style=\"text-align: right;\">\n",
              "      <th></th>\n",
              "      <th>text</th>\n",
              "      <th>Summary</th>\n",
              "    </tr>\n",
              "  </thead>\n",
              "  <tbody>\n",
              "    <tr>\n",
              "      <th>0</th>\n",
              "      <td>\\nPablo Casado se pronuncio finalmente sobre l...</td>\n",
              "      <td>al supuesto espionaje del PP a Luis Barcenas, ...</td>\n",
              "    </tr>\n",
              "    <tr>\n",
              "      <th>1</th>\n",
              "      <td>\\nEl secretario general del PSOE de Madrid, Jo...</td>\n",
              "      <td>el secretario general del PSOE de Madrid, Jose...</td>\n",
              "    </tr>\n",
              "  </tbody>\n",
              "</table>\n",
              "</div>"
            ],
            "text/plain": [
              "                                                text                                            Summary\n",
              "0  \\nPablo Casado se pronuncio finalmente sobre l...  al supuesto espionaje del PP a Luis Barcenas, ...\n",
              "1  \\nEl secretario general del PSOE de Madrid, Jo...  el secretario general del PSOE de Madrid, Jose..."
            ]
          },
          "metadata": {
            "tags": []
          },
          "execution_count": 46
        }
      ]
    },
    {
      "cell_type": "code",
      "metadata": {
        "id": "TkCq-sRrqZBW",
        "colab_type": "code",
        "colab": {
          "base_uri": "https://localhost:8080/",
          "height": 314
        },
        "outputId": "2d1430f5-bdf0-49b3-8b4b-9e3c8ec519cf"
      },
      "source": [
        "for i,column in enumerate(df['text']):\n",
        "    print('Original: ',df['text'][i],'\\n')\n",
        "    print('Summary: ',df['Summary'][i],'\\n')"
      ],
      "execution_count": 54,
      "outputs": [
        {
          "output_type": "stream",
          "text": [
            "Original:  \n",
            "Pablo Casado se pronuncio finalmente sobre la denominada pieza Kitchen, referida al supuesto espionaje del PP a Luis Barcenas y sobre la que el juez ha levantado secreto de sumario, asegurando que son investigaciones judiciales que vienen de tiempos pasados y que reafirman su compromiso con la honorabilidad y la ejemplaridad que deben tener todos los partidos politicos”. El ahora lider de la formacion recordo que en 2012 y 2013 (años a los que se circunscriben las indagaciones) el era un diputado por avila que no pertenecia a la direccion.\n",
            "Ademas, el lider del PP insistio en un foro organizado por el diario El Mundo que las personas sobre las que la Fiscalia pide una investigacion, entre los que estan el exministro del Interior, Jorge Fernandez Diaz, y la ex secretaria general del PP, Maria Dolores de Cospedal, estan fuera de la politica y no ostentan ninguna responsabilidad en el partido. Ni siquiera fueron en las listas electorales. Cospedal, de hecho, compitio con Casado en las primarias para liderar la formacion conservadora y decidio marcharse tras su fracaso.\n",
            "Despues de varios dias son informaciones sobre los wasaps de Francisco Martinez, entonces secretario de Estado de Interior, en los que da por hecho que las ordenes que recibio y plasmadas en los mensajes podrian provocar no solo la imputacion del exministro, sino tambien la citacion del propio Mariano Rajoy, el actual lider del PP pidio reafirmar y defender la presuncion de inocencia, recordando que “muchas investigaciones cuentan con eco periodistico en sus fases iniciales” y luego quedan en nada. Los famosos ordenadores, por ejemplo. El PP quedo absuelto aunque ya nadie se acuerde, dijo Casado\n",
            " \n",
            "\n",
            "Summary:  al supuesto espionaje del PP a Luis Barcenas, el juez ha levantado secreto de sumario. el lider de la formacion recordo que en 2012 y 2013 el era un diputado por avila que no pertenecia a la direccion. \n",
            "\n",
            "Original:  \n",
            "El secretario general del PSOE de Madrid, Jose Manuel Franco, ha afirmado este martes que estudiarian proponer a una persona no socialista para la Presidencia de la Comunidad de Madrid en una futurible mocion de censura con tal de desalojar a la actual presidenta, Isabel Diaz Ayuso, de la Puerta del Sol. En principio nosotros hemos ganado las elecciones y se nos haria muy dificil este escenario, pero si la higiene democratica nos lleva a esa exigencia de tener que pasar porque una persona no socialista presida la Comunidad y eso nos conlleva una mejor gestion y un cambio politico en Madrid, estariamos dispuestos a estudiarlo, ha respondido Franco en una entrevista en la Cadena Ser recogida por Europa Press.\n",
            "No obstante, el tambien delegado del Gobierno en Madrid ha afirmado que en el ambito madrileño, a diferencia del nacional, no han tenido contacto con Ciudadanos Cs, socio actual del Gobierno regional, cuyos votos son necesarios para que saliera adelante una mocion de censura. Pero si al final hay un acuerdo presupuestario en España entre Cs y PSOE e Ines Arrimadas, en ejercicio de responsabilidad y sensatez, le recomienda a Ignacio Aguado que apoye una mocion de censura, estamos preparados. Tenemos equipo, programa y tenemos las personas adecuadas para gobernar de otra forma y demostrar, de una vez por toda, que otra solucion es posible, ha esgrimido\n",
            "El lider de los socialistas madrileños ha afirmado que les sobran los motivos para presentar una mocion de censura, pero cree, y la mayoria de los socialistas, que ahora no es el momento por responsabilidad ante la crisis del coronavirus. Este gobierno se merece una mocion de censura pero a dia de hoy no seria responsable presentarla con lo que esta cayendo, con la situacion de la pandemia. Todos debemos sumar fuerzas y funcionar lealmente para frenarla. Ahora mismo es el momento de la unidad para luchar contra la pandemia, ha dicho.\n",
            " \n",
            "\n",
            "Summary:  el secretario general del PSOE de Madrid, Jose Manuel Franco, ha afirmado este martes que estudiarian proponer a una persona no socialista para la Presidencia de la Comunidad de Madrid. la higiene democratica nos lleva a esa exigencia de tener que pasar porque una persona no socialista presida la Comunidad. \n",
            "\n"
          ],
          "name": "stdout"
        }
      ]
    }
  ]
}