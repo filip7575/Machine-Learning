{
 "cells": [
  {
   "cell_type": "code",
   "execution_count": 1,
   "metadata": {},
   "outputs": [],
   "source": [
    "from transformers import *"
   ]
  },
  {
   "cell_type": "code",
   "execution_count": 79,
   "metadata": {},
   "outputs": [],
   "source": [
    "# By now we do not use fast tokenizer so we create the tokenizer with the object {\"use_fast\": False}\n",
    "nlp = pipeline(\n",
    "    'question-answering', \n",
    "    model='mrm8488/distill-bert-base-spanish-wwm-cased-finetuned-spa-squad2-es',\n",
    "    tokenizer=(\n",
    "        'mrm8488/distill-bert-base-spanish-wwm-cased-finetuned-spa-squad2-es',  \n",
    "        {\"use_fast\": False}\n",
    "    )\n",
    ")"
   ]
  },
  {
   "cell_type": "code",
   "execution_count": 127,
   "metadata": {},
   "outputs": [],
   "source": [
    "context = 'Manuel Romero está colaborando activamente con huggingface/transformers para traer el poder de las últimas técnicas de procesamiento de lenguaje natural al idioma español'\n",
    "\n",
    "context = '''\n",
    "En el año 2029, después de devastar la Tierra y esclavizar a la humanidad, las máquinas, gobernadas por la inteligencia artificial conocida como Skynet, están a punto de perder la guerra contra la resistencia humana liderada por John Connor. Frente a esa situación, las máquinas entienden que asesinar a John Connor en el presente sería irrelevante, dado que ya ha conducido a la resistencia humana a la victoria. Por lo tanto, Skynet elabora su estrategia decidiendo eliminar al líder enemigo antes que nazca. Para ello envía al año 1984 a un Terminator T-800 modelo Cyberdyne 101, un cíborg exterminador (Arnold Schwarzenegger), a través de una máquina del tiempo, con la misión de exterminar a Sarah Connor (Linda Hamilton), madre de John, antes que sea concebido.\n",
    "Enterados del plan para asesinar a la mujer que dará a luz al único hombre capaz de salvar a la humanidad, la resistencia también consigue acceder a la máquina del tiempo y logra enviar a un soldado humano, Kyle Reese (Michael Biehn), con la misión de protegerla del T-800. \n",
    "Cuando el cíborg llega en la madrugada a 1984, asesina a dos punks después que se negaran a entregarle sus ropas, dejando vivo al tercero que acabó cediendo, tras esto asesina al dueño de una armería y se surte con varias armas de alto poder. Posteriormente localiza y asesina a dos mujeres llamadas Sarah Connor, que encontró en la guía telefónica de Los Ángeles. Cuando Sarah Connor salía de su turno como camarera, su compañera de trabajo le muestra la televisión donde anuncian que una mujer llamada Sarah Connor ha sido asesinada esa misma mañana. Kyle Reese logra llegar a 1984 y mientras huye de una patrulla que lo persigue logra quitarle la pistola a un policía, robar ropa de una tienda y una escopeta desde una patrulla estacionada. \n",
    "Mientras tanto, el Terminator llega al apartamento de Sarah y asesina a Ginger, confundiéndola con Sarah, y a su novio Matt, quién intentó detenerlo. Estando por retirarse, escucha el mensaje de Sarah y sale a encontrarla en la discoteca Tech Noir ahora que conoce su aspecto gracias a las fotos del apartamento. Después de encontrarla, cuando parece que logrará asesinarla, Kyle Reese le dispara repetidas veces con la escopeta, dejándolo temporalmente neutralizado. Reese logra convencer a Sarah de huir con él en un auto mientras el Terminator se recupera y los persigue en un coche patrulla que roba. \n",
    "Sarah y Reese se ocultan en un estacionamiento donde Kyle le explica que él viene del futuro y tiene la misión de protegerla de los intentos de asesinato del Terminator. También le cuenta que en el futuro, los militares estadounidenses crearán una inteligencia artificial llamada Skynet, para tomar decisiones estratégicas, pero que Skynet había tomado conciencia de sí misma después de haber sido creada y que había decidido que la raza humana era una amenaza y decide destruirla. Para eso, había iniciado un ataque termonuclear total, resultando posteriormente en una guerra entre los sobrevivientes humanos y las máquinas. El papel de Sarah era engendrar a John Connor, quien sería el futuro líder de la resistencia y dirigiría a los humanos hacia la última victoria. Aunque Sarah al principio no parece creer la historia de Kyle. \n",
    "'''\n",
    "\n",
    "context = 'En el año 2029, después de devastar la Tierra y esclavizar a la humanidad, las máquinas, gobernadas por la inteligencia artificial conocida como Skynet, están a punto de perder la guerra contra la resistencia humana liderada por John Connor. Frente a esa situación, las máquinas entienden que asesinar a John Connor en el presente sería irrelevante, dado que ya ha conducido a la resistencia humana a la victoria. Por lo tanto, Skynet elabora su estrategia decidiendo eliminar al líder enemigo antes que nazca. Para ello envía al año 1984 a un Terminator T-800 modelo Cyberdyne 101, un cíborg exterminador (Arnold Schwarzenegger), a través de una máquina del tiempo, con la misión de exterminar a Sarah Connor (Linda Hamilton), madre de John, antes que sea concebido. Enterados del plan para asesinar a la mujer que dará a luz al único hombre capaz de salvar a la humanidad, la resistencia también consigue acceder a la máquina del tiempo y logra enviar a un soldado humano, Kyle Reese (Michael Biehn), con la misión de protegerla del T-800.\\\n",
    "Cuando el cíborg llega en la madrugada a 1984, asesina a dos punks después que se negaran a entregarle sus ropas, dejando vivo al \\\n",
    "En 1998, tres años después de evitar la amenaza de Skynet, Sarah Connor y su hijo John disfrutan de la vida en una playa en Livingston, Guatemala, pero son  \\\n",
    "repentinamente atacados por un Terminator T-800 que fue enviado a través del tiempo por Skynet antes de quedar borrada de la historia. El Terminator le dispara a \\\n",
    "John con una escopeta y Sarah intenta detenerlo disparándole por detrás con una pistola, pero es rápidamente superada por la máquina. Sin poder hacer nada \\\n",
    "contempla horrorizada como su hijo es brutalmente asesinado por el Terminator. Después de cumplir su objetivo, el Terminator se va del lugar, dejando a Sarah \\\n",
    "totalmente devastada \\\n",
    "Veintidós años después, en 2020, un Terminator avanzado llamado Rev-9 es enviado de regreso en el tiempo a Ciudad de México para asesinar a Daniella \"Dani\"\\\n",
    "'"
   ]
  },
  {
   "cell_type": "code",
   "execution_count": 128,
   "metadata": {},
   "outputs": [
    {
     "data": {
      "text/plain": [
       "{'score': 0.2150619147215037,\n",
       " 'start': 27,\n",
       " 'end': 74,\n",
       " 'answer': 'devastar la Tierra y esclavizar a la humanidad,'}"
      ]
     },
     "execution_count": 128,
     "metadata": {},
     "output_type": "execute_result"
    }
   ],
   "source": [
    "nlp(\n",
    "    {\n",
    "        'question': '¿Qué le pasó a la humanidad',\n",
    "        'context': context\n",
    "    }\n",
    ")"
   ]
  },
  {
   "cell_type": "code",
   "execution_count": 136,
   "metadata": {},
   "outputs": [
    {
     "data": {
      "text/plain": [
       "{'score': 0.2967863684008117,\n",
       " 'start': 586,\n",
       " 'end': 605,\n",
       " 'answer': 'cíborg exterminador'}"
      ]
     },
     "execution_count": 136,
     "metadata": {},
     "output_type": "execute_result"
    }
   ],
   "source": [
    "nlp(\n",
    "        {\n",
    "            'question': '¿Quién es skynet?',\n",
    "            'context': context\n",
    "        }\n",
    ")"
   ]
  },
  {
   "cell_type": "code",
   "execution_count": 145,
   "metadata": {},
   "outputs": [
    {
     "data": {
      "text/plain": [
       "{'score': 0.035753654114376233,\n",
       " 'start': 684,\n",
       " 'end': 709,\n",
       " 'answer': 'exterminar a Sarah Connor'}"
      ]
     },
     "execution_count": 145,
     "metadata": {},
     "output_type": "execute_result"
    }
   ],
   "source": [
    "nlp(\n",
    "    {'question': '¿Que quiere skynet',\n",
    "     'context': context\n",
    "    }\n",
    ")"
   ]
  },
  {
   "cell_type": "code",
   "execution_count": 131,
   "metadata": {},
   "outputs": [
    {
     "data": {
      "text/plain": [
       "{'score': 0.06868278149382283,\n",
       " 'start': 544,\n",
       " 'end': 560,\n",
       " 'answer': 'Terminator T-800'}"
      ]
     },
     "execution_count": 131,
     "metadata": {},
     "output_type": "execute_result"
    }
   ],
   "source": [
    "nlp(\n",
    "    {'question': '¿Cuantos robot hay?',\n",
    "     'context': context\n",
    "    }\n",
    ")"
   ]
  },
  {
   "cell_type": "code",
   "execution_count": 4,
   "metadata": {},
   "outputs": [
    {
     "data": {
      "text/plain": [
       "{'score': 0.6943322774467187, 'start': 0, 'end': 13, 'answer': 'Manuel Romero'}"
      ]
     },
     "execution_count": 4,
     "metadata": {},
     "output_type": "execute_result"
    }
   ],
   "source": [
    "nlp(\n",
    "    {\n",
    "        'question': '¿Quién está trabajando activamente con huggingface/transformer? ',\n",
    "        'context': context\n",
    "    }\n",
    ")"
   ]
  },
  {
   "cell_type": "code",
   "execution_count": 5,
   "metadata": {},
   "outputs": [
    {
     "data": {
      "text/plain": [
       "{'score': 0.6591529091987028, 'start': 163, 'end': 169, 'answer': 'español'}"
      ]
     },
     "execution_count": 5,
     "metadata": {},
     "output_type": "execute_result"
    }
   ],
   "source": [
    "nlp(\n",
    "    {\n",
    "        'question': '¿Para qué lenguaje está trabajando?',\n",
    "        'context': context\n",
    "                    \n",
    "    }\n",
    ")"
   ]
  },
  {
   "cell_type": "code",
   "execution_count": 6,
   "metadata": {},
   "outputs": [
    {
     "data": {
      "text/plain": [
       "{'score': 0.11018116145702044,\n",
       " 'start': 47,\n",
       " 'end': 71,\n",
       " 'answer': 'huggingface/transformers'}"
      ]
     },
     "execution_count": 6,
     "metadata": {},
     "output_type": "execute_result"
    }
   ],
   "source": [
    "nlp(\n",
    "    {\n",
    "        'question': '¿Para qué empresa?',\n",
    "        'context': context\n",
    "                    \n",
    "    }\n",
    ")"
   ]
  },
  {
   "cell_type": "code",
   "execution_count": 7,
   "metadata": {},
   "outputs": [
    {
     "data": {
      "text/plain": [
       "{'score': 0.35067929794480174,\n",
       " 'start': 77,\n",
       " 'end': 152,\n",
       " 'answer': 'traer el poder de las últimas técnicas de procesamiento de lenguaje natural'}"
      ]
     },
     "execution_count": 7,
     "metadata": {},
     "output_type": "execute_result"
    }
   ],
   "source": [
    "nlp(\n",
    "    {\n",
    "        'question': '¿Qué hace?',\n",
    "        'context': context\n",
    "    }\n",
    ")"
   ]
  },
  {
   "cell_type": "code",
   "execution_count": 11,
   "metadata": {},
   "outputs": [
    {
     "data": {
      "application/vnd.jupyter.widget-view+json": {
       "model_id": "b5f57ff3f08f46f691e461c7f3c07048",
       "version_major": 2,
       "version_minor": 0
      },
      "text/plain": [
       "HBox(children=(FloatProgress(value=0.0, description='Downloading', max=1578.0, style=ProgressStyle(description…"
      ]
     },
     "metadata": {},
     "output_type": "display_data"
    },
    {
     "name": "stdout",
     "output_type": "stream",
     "text": [
      "\n"
     ]
    },
    {
     "data": {
      "application/vnd.jupyter.widget-view+json": {
       "model_id": "ab172d671fac49c1bd28bef7cabc0c2d",
       "version_major": 2,
       "version_minor": 0
      },
      "text/plain": [
       "HBox(children=(FloatProgress(value=0.0, description='Downloading', max=898822.0, style=ProgressStyle(descripti…"
      ]
     },
     "metadata": {},
     "output_type": "display_data"
    },
    {
     "name": "stdout",
     "output_type": "stream",
     "text": [
      "\n"
     ]
    },
    {
     "data": {
      "application/vnd.jupyter.widget-view+json": {
       "model_id": "6d0ae85e2965476a89c23b70bfbd548d",
       "version_major": 2,
       "version_minor": 0
      },
      "text/plain": [
       "HBox(children=(FloatProgress(value=0.0, description='Downloading', max=456318.0, style=ProgressStyle(descripti…"
      ]
     },
     "metadata": {},
     "output_type": "display_data"
    },
    {
     "name": "stdout",
     "output_type": "stream",
     "text": [
      "\n"
     ]
    },
    {
     "data": {
      "application/vnd.jupyter.widget-view+json": {
       "model_id": "352cca7045804d7c9ebc5483c3c404e9",
       "version_major": 2,
       "version_minor": 0
      },
      "text/plain": [
       "HBox(children=(FloatProgress(value=0.0, description='Downloading', max=26.0, style=ProgressStyle(description_w…"
      ]
     },
     "metadata": {},
     "output_type": "display_data"
    },
    {
     "name": "stdout",
     "output_type": "stream",
     "text": [
      "\n"
     ]
    },
    {
     "data": {
      "application/vnd.jupyter.widget-view+json": {
       "model_id": "59bf93ef9ba140409183062c6e562dcd",
       "version_major": 2,
       "version_minor": 0
      },
      "text/plain": [
       "HBox(children=(FloatProgress(value=0.0, description='Downloading', max=1222317369.0, style=ProgressStyle(descr…"
      ]
     },
     "metadata": {},
     "output_type": "display_data"
    },
    {
     "name": "stdout",
     "output_type": "stream",
     "text": [
      "\n"
     ]
    }
   ],
   "source": [
    "# By now we do not use fast tokenizer so we create the tokenizer with the object {\"use_fast\": False}\n",
    "nlp = pipeline('summarization')"
   ]
  },
  {
   "cell_type": "code",
   "execution_count": 13,
   "metadata": {},
   "outputs": [
    {
     "name": "stderr",
     "output_type": "stream",
     "text": [
      "Some weights of the model checkpoint at mrm8488/distill-bert-base-spanish-wwm-cased-finetuned-spa-squad2-es were not used when initializing BertForSequenceClassification: ['qa_outputs.weight', 'qa_outputs.bias']\n",
      "- This IS expected if you are initializing BertForSequenceClassification from the checkpoint of a model trained on another task or with another architecture (e.g. initializing a BertForSequenceClassification model from a BertForPretraining model).\n",
      "- This IS NOT expected if you are initializing BertForSequenceClassification from the checkpoint of a model that you expect to be exactly identical (initializing a BertForSequenceClassification model from a BertForSequenceClassification model).\n",
      "Some weights of BertForSequenceClassification were not initialized from the model checkpoint at mrm8488/distill-bert-base-spanish-wwm-cased-finetuned-spa-squad2-es and are newly initialized: ['classifier.weight', 'classifier.bias']\n",
      "You should probably TRAIN this model on a down-stream task to be able to use it for predictions and inference.\n"
     ]
    }
   ],
   "source": [
    "nlp = pipeline('sentiment-analysis',\n",
    "                model='mrm8488/distill-bert-base-spanish-wwm-cased-finetuned-spa-squad2-es',\n",
    "                tokenizer=(\n",
    "                          'mrm8488/distill-bert-base-spanish-wwm-cased-finetuned-spa-squad2-es',  \n",
    "                          {\"use_fast\": False}\n",
    "                )\n",
    ")"
   ]
  },
  {
   "cell_type": "code",
   "execution_count": 14,
   "metadata": {},
   "outputs": [],
   "source": [
    "# Statement to be predicted the sentiment of\n",
    "statement = \"El estaba muy contento porque le habia tocado la lotería\""
   ]
  },
  {
   "cell_type": "code",
   "execution_count": 16,
   "metadata": {},
   "outputs": [],
   "source": [
    "output = nlp(statement)"
   ]
  },
  {
   "cell_type": "code",
   "execution_count": 17,
   "metadata": {},
   "outputs": [
    {
     "name": "stdout",
     "output_type": "stream",
     "text": [
      "[{'label': 'LABEL_0', 'score': 0.5393373370170593}]\n"
     ]
    }
   ],
   "source": [
    "print(output)"
   ]
  },
  {
   "cell_type": "code",
   "execution_count": 20,
   "metadata": {},
   "outputs": [
    {
     "name": "stdout",
     "output_type": "stream",
     "text": [
      "[{'label': 'LABEL_0', 'score': 0.546545147895813}]\n"
     ]
    }
   ],
   "source": [
    "stament = \"estoy muy enfadado por lo ocurrido\"\n",
    "output = nlp(stament)\n",
    "print(output)"
   ]
  },
  {
   "cell_type": "code",
   "execution_count": 24,
   "metadata": {},
   "outputs": [
    {
     "name": "stdout",
     "output_type": "stream",
     "text": [
      "[{'label': 'LABEL_1', 'score': 0.5487095713615417}]\n"
     ]
    }
   ],
   "source": [
    "stament = \"el mundo es mundo Y ME NO GUSTA\"\n",
    "output = nlp(stament)\n",
    "print(output)"
   ]
  },
  {
   "cell_type": "code",
   "execution_count": 30,
   "metadata": {},
   "outputs": [
    {
     "name": "stdout",
     "output_type": "stream",
     "text": [
      "[{'label': 'POSITIVE', 'score': 0.9998710751533508}]\n"
     ]
    }
   ],
   "source": [
    "nlp = pipeline('sentiment-analysis')\n",
    "statement = \"I love this movies\"\n",
    "output = nlp(statement)\n",
    "print(output)"
   ]
  },
  {
   "cell_type": "code",
   "execution_count": 32,
   "metadata": {},
   "outputs": [
    {
     "data": {
      "application/vnd.jupyter.widget-view+json": {
       "model_id": "ebbfffe2887e461d975d3fd4c7d8a17b",
       "version_major": 2,
       "version_minor": 0
      },
      "text/plain": [
       "HBox(children=(FloatProgress(value=0.0, description='Downloading', max=533.0, style=ProgressStyle(description_…"
      ]
     },
     "metadata": {},
     "output_type": "display_data"
    },
    {
     "name": "stdout",
     "output_type": "stream",
     "text": [
      "\n"
     ]
    },
    {
     "data": {
      "application/vnd.jupyter.widget-view+json": {
       "model_id": "92c3f3c260a0498689d7b5370dd2af36",
       "version_major": 2,
       "version_minor": 0
      },
      "text/plain": [
       "HBox(children=(FloatProgress(value=0.0, description='Downloading', max=980988.0, style=ProgressStyle(descripti…"
      ]
     },
     "metadata": {},
     "output_type": "display_data"
    },
    {
     "name": "stdout",
     "output_type": "stream",
     "text": [
      "\n"
     ]
    },
    {
     "data": {
      "application/vnd.jupyter.widget-view+json": {
       "model_id": "3bbc88e7db624c3ca04e848aedb5ea09",
       "version_major": 2,
       "version_minor": 0
      },
      "text/plain": [
       "HBox(children=(FloatProgress(value=0.0, description='Downloading', max=523071.0, style=ProgressStyle(descripti…"
      ]
     },
     "metadata": {},
     "output_type": "display_data"
    },
    {
     "name": "stdout",
     "output_type": "stream",
     "text": [
      "\n"
     ]
    },
    {
     "data": {
      "application/vnd.jupyter.widget-view+json": {
       "model_id": "6a3989f377ba477ba4c9ce43f829cec9",
       "version_major": 2,
       "version_minor": 0
      },
      "text/plain": [
       "HBox(children=(FloatProgress(value=0.0, description='Downloading', max=150.0, style=ProgressStyle(description_…"
      ]
     },
     "metadata": {},
     "output_type": "display_data"
    },
    {
     "name": "stdout",
     "output_type": "stream",
     "text": [
      "\n"
     ]
    },
    {
     "data": {
      "application/vnd.jupyter.widget-view+json": {
       "model_id": "b2f1bd94322a4ac1a10419e9af4d270c",
       "version_major": 2,
       "version_minor": 0
      },
      "text/plain": [
       "HBox(children=(FloatProgress(value=0.0, description='Downloading', max=173.0, style=ProgressStyle(description_…"
      ]
     },
     "metadata": {},
     "output_type": "display_data"
    },
    {
     "name": "stdout",
     "output_type": "stream",
     "text": [
      "\n"
     ]
    },
    {
     "data": {
      "application/vnd.jupyter.widget-view+json": {
       "model_id": "fc63455673174821b3e2ceed497a5824",
       "version_major": 2,
       "version_minor": 0
      },
      "text/plain": [
       "HBox(children=(FloatProgress(value=0.0, description='Downloading', max=503968031.0, style=ProgressStyle(descri…"
      ]
     },
     "metadata": {},
     "output_type": "display_data"
    },
    {
     "name": "stdout",
     "output_type": "stream",
     "text": [
      "\n"
     ]
    },
    {
     "name": "stderr",
     "output_type": "stream",
     "text": [
      "Some weights of the model checkpoint at mrm8488/RuPERTa-base-finetuned-squadv2 were not used when initializing RobertaForSequenceClassification: ['qa_outputs.weight', 'qa_outputs.bias']\n",
      "- This IS expected if you are initializing RobertaForSequenceClassification from the checkpoint of a model trained on another task or with another architecture (e.g. initializing a BertForSequenceClassification model from a BertForPretraining model).\n",
      "- This IS NOT expected if you are initializing RobertaForSequenceClassification from the checkpoint of a model that you expect to be exactly identical (initializing a BertForSequenceClassification model from a BertForSequenceClassification model).\n",
      "Some weights of RobertaForSequenceClassification were not initialized from the model checkpoint at mrm8488/RuPERTa-base-finetuned-squadv2 and are newly initialized: ['classifier.dense.weight', 'classifier.dense.bias', 'classifier.out_proj.weight', 'classifier.out_proj.bias']\n",
      "You should probably TRAIN this model on a down-stream task to be able to use it for predictions and inference.\n"
     ]
    }
   ],
   "source": [
    "nlp = pipeline('sentiment-analysis',\n",
    "                model='mrm8488/RuPERTa-base-finetuned-squadv2',\n",
    "                   tokenizer=('mrm8488/RuPERTa-base-finetuned-squadv2',\n",
    "                               {\"use_fast\": False}\n",
    "                             )\n",
    "              )"
   ]
  },
  {
   "cell_type": "code",
   "execution_count": 48,
   "metadata": {},
   "outputs": [
    {
     "name": "stdout",
     "output_type": "stream",
     "text": [
      "[{'label': 'LABEL_1', 'score': 0.5185615420341492}]\n"
     ]
    }
   ],
   "source": [
    "# 0 positivo\n",
    "# 1 Negativo\n",
    "statement=\"Me gusta mucho el padel\"\n",
    "statement=\"yo odio el padel\"\n",
    "#statement=\"No puedo fumar en un lugar cerrado\"\n",
    "output = nlp(statement)\n",
    "print(output)"
   ]
  },
  {
   "cell_type": "code",
   "execution_count": 49,
   "metadata": {},
   "outputs": [],
   "source": [
    "model = AutoModelForSequenceClassification.from_pretrained(\"nlptown/bert-base-multilingual-uncased-sentiment\")\n",
    "tokenizer = AutoTokenizer.from_pretrained(\"nlptown/bert-base-multilingual-uncased-sentiment\")\n",
    "\n",
    "# create pipeline\n",
    "sa= pipeline(\"sentiment-analysis\")"
   ]
  },
  {
   "cell_type": "code",
   "execution_count": 50,
   "metadata": {},
   "outputs": [
    {
     "name": "stdout",
     "output_type": "stream",
     "text": [
      "[{'label': 'NEGATIVE', 'score': 0.7772061228752136}]\n"
     ]
    }
   ],
   "source": [
    "p= sa(\"Estos modelos de teléfonos son de muy alta calidad y también baratos y fáciles de encontrar.\")\n",
    "print(p)"
   ]
  },
  {
   "cell_type": "code",
   "execution_count": 51,
   "metadata": {},
   "outputs": [
    {
     "name": "stdout",
     "output_type": "stream",
     "text": [
      "False\n"
     ]
    }
   ],
   "source": [
    "print (p[0]['label']=='LABEL_1')"
   ]
  },
  {
   "cell_type": "code",
   "execution_count": 52,
   "metadata": {},
   "outputs": [
    {
     "name": "stdout",
     "output_type": "stream",
     "text": [
      "[{'label': 'NEGATIVE', 'score': 0.6981905102729797}]\n"
     ]
    }
   ],
   "source": [
    "p=sa(\"Yo odio fumar\")\n",
    "print(p)"
   ]
  },
  {
   "cell_type": "code",
   "execution_count": 54,
   "metadata": {
    "scrolled": true
   },
   "outputs": [
    {
     "name": "stdout",
     "output_type": "stream",
     "text": [
      "[{'label': 'NEGATIVE', 'score': 0.9319393038749695}]\n"
     ]
    }
   ],
   "source": [
    "p=sa(\"Me has decepcionado \")\n",
    "print(p)"
   ]
  },
  {
   "cell_type": "code",
   "execution_count": 56,
   "metadata": {},
   "outputs": [
    {
     "name": "stdout",
     "output_type": "stream",
     "text": [
      "[{'label': 'NEGATIVE', 'score': 0.986835777759552}]\n"
     ]
    }
   ],
   "source": [
    "p=sa(\"La vida es un cuento contado por un idiota, llena de furia y ruido, que nada significa\")\n",
    "print(p)"
   ]
  },
  {
   "cell_type": "code",
   "execution_count": 57,
   "metadata": {},
   "outputs": [
    {
     "name": "stdout",
     "output_type": "stream",
     "text": [
      "[{'label': 'NEGATIVE', 'score': 0.9682528972625732}]\n"
     ]
    }
   ],
   "source": [
    "p=sa(\"Para poder vivir una vida plena y feliz, es importante cambiar tu perspectiva de las cosas, reprogramar tu mente y cambiar tus pensamientos.\")\n",
    "print(p)"
   ]
  },
  {
   "cell_type": "code",
   "execution_count": 58,
   "metadata": {},
   "outputs": [
    {
     "name": "stdout",
     "output_type": "stream",
     "text": [
      "[{'label': 'NEGATIVE', 'score': 0.9757078886032104}]\n"
     ]
    }
   ],
   "source": [
    "p=sa(\"No te rindas nunca porque nunca sabes si el próximo intento será el que funcionará\")\n",
    "print(p)"
   ]
  },
  {
   "cell_type": "code",
   "execution_count": 63,
   "metadata": {},
   "outputs": [
    {
     "name": "stdout",
     "output_type": "stream",
     "text": [
      "[{'label': 'NEGATIVE', 'score': 0.6856726408004761}]\n"
     ]
    }
   ],
   "source": [
    "p=sa(\"Ese telefono es de alta calidad, y el servicio que prestan me gustan\")\n",
    "print(p)"
   ]
  },
  {
   "cell_type": "code",
   "execution_count": 61,
   "metadata": {},
   "outputs": [
    {
     "name": "stdout",
     "output_type": "stream",
     "text": [
      "[{'label': 'POSITIVE', 'score': 0.9989745616912842}]\n"
     ]
    }
   ],
   "source": [
    "p=sa(\"Me gusta el padel\")\n",
    "print(p)"
   ]
  },
  {
   "cell_type": "code",
   "execution_count": 65,
   "metadata": {},
   "outputs": [
    {
     "name": "stdout",
     "output_type": "stream",
     "text": [
      "[{'label': 'NEGATIVE', 'score': 0.7557675242424011}]\n"
     ]
    }
   ],
   "source": [
    "p=sa(\"vivimos vidas más largas. La esperanza de vida pasó de 48 a 72 años desde 1950. Solo desde el año 2000, aumentó 6 años en todo el mundo y 10 años en África, donde la esperanza de vida para un recién nacido pasó de 53 a 63 años\")\n",
    "print(p)"
   ]
  },
  {
   "cell_type": "code",
   "execution_count": 66,
   "metadata": {},
   "outputs": [
    {
     "name": "stdout",
     "output_type": "stream",
     "text": [
      "[{'label': 'POSITIVE', 'score': 0.8635579943656921}]\n"
     ]
    }
   ],
   "source": [
    "p=sa(\"Me gusto mucho todo del hotel,desde la priemera vez que viene hasta esta ultima, en especial la excelente animación, siempre muy entretenida y divertida, en especial chocolate max y king Kong :) que espero verlos los siguientes años\")\n",
    "print(p)"
   ]
  },
  {
   "cell_type": "code",
   "execution_count": 67,
   "metadata": {},
   "outputs": [
    {
     "name": "stdout",
     "output_type": "stream",
     "text": [
      "[{'label': 'NEGATIVE', 'score': 0.9698813557624817}]\n"
     ]
    }
   ],
   "source": [
    "p=sa(\"El hotel es muy bello. Habitación muy cómoda con balconcito privado y una vista increíble. La piscina es enorme y super disfrutable, con reposeras y sombrillas a gusto. Pero lo más destacable de todo es la atención del personal, sobre todo el de la piscina. Son muy atentos, sin ser invasivos y siempre tienen una sonrisa. También es destacable la cocina y los tragos preparados en el hotel. Lo único a tener en cuenta es que se encuentra alejado de la zona mas urbanizada, pero tiene todo lo necesario para no querer salir de allí. Si el clima acompaña, es el lugar ideal para una escapada relajante\")\n",
    "print(p)"
   ]
  },
  {
   "cell_type": "code",
   "execution_count": 71,
   "metadata": {},
   "outputs": [
    {
     "name": "stdout",
     "output_type": "stream",
     "text": [
      "[{'label': 'NEGATIVE', 'score': 0.9582526087760925}]\n"
     ]
    }
   ],
   "source": [
    "p=sa(\"El hotel es muy bonito. Habitación muy cómoda con balconcito privado y una vista increíble. La piscina es enorme y super disfrutable, con reposeras y sombrillas a gusto.Lo más destacable de todo es la atención del personal, sobre todo el de la piscina. Son muy atentos, sin ser invasivos y siempre tienen una sonrisa. También es destacable la cocina y los tragos preparados en el hotel\")\n",
    "print(p)"
   ]
  },
  {
   "cell_type": "code",
   "execution_count": 73,
   "metadata": {},
   "outputs": [
    {
     "name": "stdout",
     "output_type": "stream",
     "text": [
      "[{'label': 'NEGATIVE', 'score': 0.9837046265602112}]\n"
     ]
    }
   ],
   "source": [
    "p=sa(\"No puedo imaginar por qué alguien debería quedarse en este hotel a menos que tenga que hacerlo por razones de negocios. \\\n",
    "El hotel está limpio, los pocos empleados son amables, pero ahí es donde termina. \\\n",
    "El desayuno es una disculpa y quizás sea mejor en temporada alta, aunque ¿por qué uno estaría tan lejos del centro de la ciudad? El restaurante para las cenas es limitado y, aunque hay algunos buenos restaurantes alrededor, necesita un taxi o un automóvil (aproximadamente 15 minutos en automóvil) para llegar a ellos\")\n",
    "print(p)"
   ]
  },
  {
   "cell_type": "code",
   "execution_count": 74,
   "metadata": {},
   "outputs": [
    {
     "name": "stdout",
     "output_type": "stream",
     "text": [
      "[{'label': 'NEGATIVE', 'score': 0.972861647605896}]\n"
     ]
    }
   ],
   "source": [
    "p=sa(\"El hotel está muy bien ubicado en la cima de la colina en el área de Kifissia. Tiene una gran y bonita piscina, desafortunadamente estaba cerrada por rellenar \\\n",
    "Un hotel de negocios por encima de la media, todo lo disponible en la habitación lo que se puede esperar. Bonito cuarto de baño y aire acondicionado funcionando bien.\\\n",
    "Un buen desayuno con suficientes opciones y un buen café de desayuno\")\n",
    "print(p)"
   ]
  },
  {
   "cell_type": "code",
   "execution_count": 146,
   "metadata": {},
   "outputs": [
    {
     "data": {
      "application/vnd.jupyter.widget-view+json": {
       "model_id": "09a9c03b5912463d9af65c1fd3fe5711",
       "version_major": 2,
       "version_minor": 0
      },
      "text/plain": [
       "HBox(children=(FloatProgress(value=0.0, description='Downloading', max=487.0, style=ProgressStyle(description_…"
      ]
     },
     "metadata": {},
     "output_type": "display_data"
    },
    {
     "name": "stdout",
     "output_type": "stream",
     "text": [
      "\n"
     ]
    },
    {
     "data": {
      "application/vnd.jupyter.widget-view+json": {
       "model_id": "0607c61f838347e4ab2b75be0ad88c08",
       "version_major": 2,
       "version_minor": 0
      },
      "text/plain": [
       "HBox(children=(FloatProgress(value=0.0, description='Downloading', max=954339.0, style=ProgressStyle(descripti…"
      ]
     },
     "metadata": {},
     "output_type": "display_data"
    },
    {
     "name": "stdout",
     "output_type": "stream",
     "text": [
      "\n"
     ]
    },
    {
     "data": {
      "application/vnd.jupyter.widget-view+json": {
       "model_id": "63e44514012049b9ab914f61c30dc15d",
       "version_major": 2,
       "version_minor": 0
      },
      "text/plain": [
       "HBox(children=(FloatProgress(value=0.0, description='Downloading', max=512068.0, style=ProgressStyle(descripti…"
      ]
     },
     "metadata": {},
     "output_type": "display_data"
    },
    {
     "name": "stdout",
     "output_type": "stream",
     "text": [
      "\n"
     ]
    },
    {
     "data": {
      "application/vnd.jupyter.widget-view+json": {
       "model_id": "ad89ed0fa438439cb4e96f3698235e26",
       "version_major": 2,
       "version_minor": 0
      },
      "text/plain": [
       "HBox(children=(FloatProgress(value=0.0, description='Downloading', max=16.0, style=ProgressStyle(description_w…"
      ]
     },
     "metadata": {},
     "output_type": "display_data"
    },
    {
     "name": "stdout",
     "output_type": "stream",
     "text": [
      "\n"
     ]
    },
    {
     "name": "stderr",
     "output_type": "stream",
     "text": [
      "C:\\ProgramData\\Anaconda3\\lib\\site-packages\\transformers\\modeling_auto.py:798: FutureWarning: The class `AutoModelWithLMHead` is deprecated and will be removed in a future version. Please use `AutoModelForCausalLM` for causal language models, `AutoModelForMaskedLM` for masked language models and `AutoModelForSeq2SeqLM` for encoder-decoder models.\n",
      "  FutureWarning,\n"
     ]
    },
    {
     "data": {
      "application/vnd.jupyter.widget-view+json": {
       "model_id": "d5db5eeb16da4cf981966820c2b573af",
       "version_major": 2,
       "version_minor": 0
      },
      "text/plain": [
       "HBox(children=(FloatProgress(value=0.0, description='Downloading', max=501202014.0, style=ProgressStyle(descri…"
      ]
     },
     "metadata": {},
     "output_type": "display_data"
    },
    {
     "name": "stdout",
     "output_type": "stream",
     "text": [
      "\n"
     ]
    }
   ],
   "source": [
    "fill_mask = pipeline(\n",
    "    \"fill-mask\",\n",
    "    model=\"chriskhanhtran/spanberta\",\n",
    "    tokenizer=\"chriskhanhtran/spanberta\"\n",
    ")"
   ]
  },
  {
   "cell_type": "code",
   "execution_count": 147,
   "metadata": {},
   "outputs": [
    {
     "data": {
      "text/plain": [
       "[{'sequence': '<s>Lavarse frecuentemente las manos con agua y jabón.</s>',\n",
       "  'score': 0.5661507248878479,\n",
       "  'token': 18493,\n",
       "  'token_str': 'ĠjabÃ³n'},\n",
       " {'sequence': '<s>Lavarse frecuentemente las manos con agua y vapor.</s>',\n",
       "  'score': 0.03604867681860924,\n",
       "  'token': 11079,\n",
       "  'token_str': 'Ġvapor'},\n",
       " {'sequence': '<s>Lavarse frecuentemente las manos con agua y vinagre.</s>',\n",
       "  'score': 0.033295825123786926,\n",
       "  'token': 18424,\n",
       "  'token_str': 'Ġvinagre'},\n",
       " {'sequence': '<s>Lavarse frecuentemente las manos con agua y sal.</s>',\n",
       "  'score': 0.03297511488199234,\n",
       "  'token': 619,\n",
       "  'token_str': 'Ġsal'},\n",
       " {'sequence': '<s>Lavarse frecuentemente las manos con agua y limón.</s>',\n",
       "  'score': 0.014753480441868305,\n",
       "  'token': 12788,\n",
       "  'token_str': 'ĠlimÃ³n'}]"
      ]
     },
     "execution_count": 147,
     "metadata": {},
     "output_type": "execute_result"
    }
   ],
   "source": [
    "fill_mask(\"Lavarse frecuentemente las manos con agua y <mask>.\")"
   ]
  },
  {
   "cell_type": "code",
   "execution_count": null,
   "metadata": {},
   "outputs": [],
   "source": []
  }
 ],
 "metadata": {
  "kernelspec": {
   "display_name": "Python 3",
   "language": "python",
   "name": "python3"
  },
  "language_info": {
   "codemirror_mode": {
    "name": "ipython",
    "version": 3
   },
   "file_extension": ".py",
   "mimetype": "text/x-python",
   "name": "python",
   "nbconvert_exporter": "python",
   "pygments_lexer": "ipython3",
   "version": "3.7.6"
  }
 },
 "nbformat": 4,
 "nbformat_minor": 4
}
