{
 "cells": [
  {
   "cell_type": "code",
   "execution_count": 29,
   "metadata": {},
   "outputs": [],
   "source": [
    "from gensim.corpora import Dictionary\n",
    "from gensim.models import ldamodel\n",
    "from gensim.models import LsiModel\n",
    "from gensim.models import TfidfModel\n",
    "import numpy\n",
    "%matplotlib inline"
   ]
  },
  {
   "cell_type": "code",
   "execution_count": 52,
   "metadata": {},
   "outputs": [],
   "source": [
    "# setting up corpus and documents we will be comparing\n",
    "texts = [['banco','mar','curtar','agua'],\n",
    "        ['mar','surfear','cortar','agua'],\n",
    "        ['mar','agua','cangrejo','lento','arboles'],\n",
    "        ['banco','agua','invierno','suelo'],\n",
    "        ['banco','banca','agua','llover','mar'],\n",
    "        ['mar','agua','nubes','arboles'],\n",
    "        ['dinero','transacciones','banco','finanzas','prestamos'],\n",
    "        ['banco','prestar','dinero'],\n",
    "        ['banco','financiero'],\n",
    "        [\"interfaz\",\"humanos\",\"laboratorios\",\"Madrid\"],\n",
    "        [\"final\", \"real madrid\",\"fracaso\"],\n",
    "        [\"humanos\",\"tecnologia\",\"Toledo\"],\n",
    "        [\"politica\",\"presupuestos\",\"cancelacion\",\"acuerdos\"],\n",
    "        ['financiacion','dinero','venta','banco'],\n",
    "        ['marron','vender'],\n",
    "        ['banco','prestar','vender']]"
   ]
  },
  {
   "cell_type": "code",
   "execution_count": 53,
   "metadata": {},
   "outputs": [],
   "source": [
    "# Create Dictionary\n",
    "dictionary = Dictionary(texts)\n",
    "corpus = [dictionary.doc2bow(text) for text in texts]"
   ]
  },
  {
   "cell_type": "markdown",
   "metadata": {},
   "source": [
    "### Creating TF-IDF and LDA models for the following corpus will help us illustrate our distance metrics"
   ]
  },
  {
   "cell_type": "code",
   "execution_count": 54,
   "metadata": {},
   "outputs": [],
   "source": [
    "tfidf = TfidfModel(corpus)\n",
    "model = ldamodel.LdaModel(corpus, id2word=dictionary, num_topics=3)\n",
    "#model = LsiModel(corpus, id2word=dictionary, num_topics=5)"
   ]
  },
  {
   "cell_type": "markdown",
   "metadata": {},
   "source": [
    "### Representation of TF-IDF would have as many features as the size of the vocabulary, and an LDA model representation would have as many features as the number of topics. We will be using both these models later to compare distances"
   ]
  },
  {
   "cell_type": "code",
   "execution_count": 55,
   "metadata": {},
   "outputs": [
    {
     "data": {
      "text/plain": [
       "[(0,\n",
       "  '0.094*\"humanos\" + 0.061*\"banco\" + 0.057*\"dinero\" + 0.054*\"venta\" + 0.054*\"Toledo\" + 0.054*\"laboratorios\" + 0.054*\"interfaz\" + 0.054*\"financiacion\" + 0.054*\"Madrid\" + 0.054*\"tecnologia\"'),\n",
       " (1,\n",
       "  '0.133*\"agua\" + 0.110*\"mar\" + 0.090*\"banco\" + 0.052*\"arboles\" + 0.051*\"vender\" + 0.030*\"prestar\" + 0.030*\"suelo\" + 0.030*\"lento\" + 0.029*\"real madrid\" + 0.029*\"fracaso\"'),\n",
       " (2,\n",
       "  '0.127*\"banco\" + 0.081*\"dinero\" + 0.047*\"prestar\" + 0.047*\"transacciones\" + 0.047*\"finanzas\" + 0.046*\"cancelacion\" + 0.046*\"politica\" + 0.046*\"presupuestos\" + 0.046*\"prestamos\" + 0.046*\"acuerdos\"')]"
      ]
     },
     "execution_count": 55,
     "metadata": {},
     "output_type": "execute_result"
    }
   ],
   "source": [
    "model.show_topics()"
   ]
  },
  {
   "cell_type": "code",
   "execution_count": 56,
   "metadata": {},
   "outputs": [],
   "source": [
    "doc_lab =  [\"interfaz\",\"humanos\",\"laboratorios\",\"Madrid\"]\n",
    "doc_poli = [\"presupuestos\", \"pedro sanchez\", \"cancelacion\",\"acuerdos\"]"
   ]
  },
  {
   "cell_type": "markdown",
   "metadata": {},
   "source": [
    "### Once we have our documents, we quickly convert these into a bag of words, TF-IDF, and LdaModel representations"
   ]
  },
  {
   "cell_type": "code",
   "execution_count": 57,
   "metadata": {},
   "outputs": [],
   "source": [
    "bow_lab = model.id2word.doc2bow(doc_lab)\n",
    "bow_poli = model.id2word.doc2bow(doc_poli)\n",
    "\n",
    "lda_bow_lab = model[bow_lab]\n",
    "lda_bow_poli = model[bow_poli]\n",
    "\n",
    "tfidf_bow_lab = tfidf[lda_bow_lab]\n",
    "tfidf_bow_poli = tfidf[lda_bow_poli]"
   ]
  },
  {
   "cell_type": "markdown",
   "metadata": {},
   "source": [
    "##### Let's have a look at lda_bow_poli and see what it looks like:"
   ]
  },
  {
   "cell_type": "code",
   "execution_count": 58,
   "metadata": {},
   "outputs": [
    {
     "data": {
      "text/plain": [
       "[(0, 0.08424669), (1, 0.08379577), (2, 0.8319576)]"
      ]
     },
     "execution_count": 58,
     "metadata": {},
     "output_type": "execute_result"
    }
   ],
   "source": [
    "lda_bow_poli"
   ]
  },
  {
   "cell_type": "markdown",
   "metadata": {},
   "source": [
    "#### Similar Query\n",
    "\n",
    "###### This is a well-balanced document with respect to the topics (as expected)."
   ]
  },
  {
   "cell_type": "code",
   "execution_count": 59,
   "metadata": {},
   "outputs": [],
   "source": [
    "from gensim import similarities"
   ]
  },
  {
   "cell_type": "code",
   "execution_count": 60,
   "metadata": {},
   "outputs": [],
   "source": [
    "# Create index\n",
    "index = similarities.MatrixSimilarity(model[corpus])"
   ]
  },
  {
   "cell_type": "markdown",
   "metadata": {},
   "source": [
    "We created our index based on the similarities created by the LDA transformation of our corpus. We can create the same index using TF-IDF, or even bag of words, but we can expect better performance when using topics. We should also keep in mind that our queries should be in the same input space as the representation in which we created our index."
   ]
  },
  {
   "cell_type": "code",
   "execution_count": 61,
   "metadata": {},
   "outputs": [],
   "source": [
    "# Let's use the same lda_bow_finance document and find which articles are most\n",
    "# similar.\n",
    "#sims = index[lda_bow_poli]\n",
    "sims = index[tfidf_bow_poli]"
   ]
  },
  {
   "cell_type": "code",
   "execution_count": 62,
   "metadata": {},
   "outputs": [
    {
     "name": "stdout",
     "output_type": "stream",
     "text": [
      "[0.11023868 0.10541195 0.09040789 0.11018307 0.09719157 0.10522823\n",
      " 0.9988203  0.9939853  0.9856416  0.11446519 0.12916419 0.13761894\n",
      " 0.9977799  0.1469763  0.17191184 0.16252382]\n"
     ]
    }
   ],
   "source": [
    "# a list with each document and the corresponding similarity\n",
    "# values.\n",
    "print(sims)"
   ]
  },
  {
   "cell_type": "code",
   "execution_count": 63,
   "metadata": {},
   "outputs": [
    {
     "name": "stdout",
     "output_type": "stream",
     "text": [
      "search:  ['presupuestos', 'pedro sanchez', 'cancelacion', 'acuerdos']\n",
      "['dinero', 'transacciones', 'banco', 'finanzas', 'prestamos'] 0.9988203\n",
      "['politica', 'presupuestos', 'cancelacion', 'acuerdos'] 0.9977799\n",
      "['banco', 'prestar', 'dinero'] 0.9939853\n",
      "['banco', 'financiero'] 0.9856416\n",
      "['marron', 'vender'] 0.17191184\n",
      "['banco', 'prestar', 'vender'] 0.16252382\n",
      "['financiacion', 'dinero', 'venta', 'banco'] 0.1469763\n",
      "['humanos', 'tecnologia', 'Toledo'] 0.13761894\n",
      "['final', 'real madrid', 'fracaso'] 0.12916419\n",
      "['interfaz', 'humanos', 'laboratorios', 'Madrid'] 0.11446519\n",
      "['banco', 'mar', 'curtar', 'agua'] 0.11023868\n",
      "['banco', 'agua', 'invierno', 'suelo'] 0.11018307\n",
      "['mar', 'surfear', 'cortar', 'agua'] 0.105411954\n",
      "['mar', 'agua', 'nubes', 'arboles'] 0.10522823\n",
      "['banco', 'banca', 'agua', 'llover', 'mar'] 0.09719157\n",
      "['mar', 'agua', 'cangrejo', 'lento', 'arboles'] 0.09040789\n"
     ]
    }
   ],
   "source": [
    "# Let's look at which documents were actually picked up, and sort them according to how\n",
    "# similar they are.\n",
    "print(\"search: \",doc_poli)\n",
    "sims = sorted(enumerate(sims), key=lambda item: -item[1])\n",
    "for doc_id, similarity in sims:\n",
    "    print(texts[doc_id], similarity)"
   ]
  },
  {
   "cell_type": "code",
   "execution_count": null,
   "metadata": {},
   "outputs": [],
   "source": []
  }
 ],
 "metadata": {
  "kernelspec": {
   "display_name": "Python 3",
   "language": "python",
   "name": "python3"
  },
  "language_info": {
   "codemirror_mode": {
    "name": "ipython",
    "version": 3
   },
   "file_extension": ".py",
   "mimetype": "text/x-python",
   "name": "python",
   "nbconvert_exporter": "python",
   "pygments_lexer": "ipython3",
   "version": "3.7.6"
  }
 },
 "nbformat": 4,
 "nbformat_minor": 4
}
