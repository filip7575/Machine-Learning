{
 "cells": [
  {
   "cell_type": "code",
   "execution_count": 2,
   "metadata": {},
   "outputs": [
    {
     "name": "stdout",
     "output_type": "stream",
     "text": [
      "Collecting gensim\n",
      "  Downloading gensim-3.8.3-cp37-cp37m-win_amd64.whl (24.2 MB)\n",
      "Collecting Cython==0.29.14\n",
      "  Downloading Cython-0.29.14-cp37-cp37m-win_amd64.whl (1.7 MB)\n",
      "Requirement already satisfied: six>=1.5.0 in c:\\programdata\\anaconda3\\lib\\site-packages (from gensim) (1.14.0)\n",
      "Collecting smart-open>=1.8.1\n",
      "  Downloading smart_open-2.0.0.tar.gz (103 kB)\n",
      "Requirement already satisfied: numpy>=1.11.3 in c:\\programdata\\anaconda3\\lib\\site-packages (from gensim) (1.18.1)\n",
      "Requirement already satisfied: scipy>=0.18.1 in c:\\programdata\\anaconda3\\lib\\site-packages (from gensim) (1.4.1)\n",
      "Requirement already satisfied: requests in c:\\programdata\\anaconda3\\lib\\site-packages (from smart-open>=1.8.1->gensim) (2.22.0)\n",
      "Requirement already satisfied: boto in c:\\programdata\\anaconda3\\lib\\site-packages (from smart-open>=1.8.1->gensim) (2.49.0)\n",
      "Collecting boto3\n",
      "  Downloading boto3-1.13.6-py2.py3-none-any.whl (128 kB)\n",
      "Requirement already satisfied: certifi>=2017.4.17 in c:\\programdata\\anaconda3\\lib\\site-packages (from requests->smart-open>=1.8.1->gensim) (2019.11.28)\n",
      "Requirement already satisfied: idna<2.9,>=2.5 in c:\\programdata\\anaconda3\\lib\\site-packages (from requests->smart-open>=1.8.1->gensim) (2.8)\n",
      "Requirement already satisfied: urllib3!=1.25.0,!=1.25.1,<1.26,>=1.21.1 in c:\\programdata\\anaconda3\\lib\\site-packages (from requests->smart-open>=1.8.1->gensim) (1.25.8)\n",
      "Requirement already satisfied: chardet<3.1.0,>=3.0.2 in c:\\programdata\\anaconda3\\lib\\site-packages (from requests->smart-open>=1.8.1->gensim) (3.0.4)\n",
      "Collecting s3transfer<0.4.0,>=0.3.0\n",
      "  Downloading s3transfer-0.3.3-py2.py3-none-any.whl (69 kB)\n",
      "Collecting botocore<1.17.0,>=1.16.6\n",
      "  Downloading botocore-1.16.6-py2.py3-none-any.whl (6.2 MB)\n",
      "Collecting jmespath<1.0.0,>=0.7.1\n",
      "  Downloading jmespath-0.9.5-py2.py3-none-any.whl (24 kB)\n",
      "Requirement already satisfied: python-dateutil<3.0.0,>=2.1 in c:\\programdata\\anaconda3\\lib\\site-packages (from botocore<1.17.0,>=1.16.6->boto3->smart-open>=1.8.1->gensim) (2.8.1)\n",
      "Collecting docutils<0.16,>=0.10\n",
      "  Downloading docutils-0.15.2-py3-none-any.whl (547 kB)\n",
      "Building wheels for collected packages: smart-open\n",
      "  Building wheel for smart-open (setup.py): started\n",
      "  Building wheel for smart-open (setup.py): finished with status 'done'\n",
      "  Created wheel for smart-open: filename=smart_open-2.0.0-py3-none-any.whl size=101346 sha256=11bc80b698c2225f0b508c5ddbeb6d7a0d2639cc9e0cc6f24fbc44920bcbc893\n",
      "  Stored in directory: c:\\users\\administrator\\appdata\\local\\pip\\cache\\wheels\\bb\\1c\\9c\\412ec03f6d5ac7d41f4b965bde3fc0d1bd201da5ba3e2636de\n",
      "Successfully built smart-open\n",
      "Installing collected packages: Cython, jmespath, docutils, botocore, s3transfer, boto3, smart-open, gensim\n",
      "  Attempting uninstall: Cython\n",
      "    Found existing installation: Cython 0.29.15\n",
      "    Uninstalling Cython-0.29.15:\n",
      "      Successfully uninstalled Cython-0.29.15\n",
      "  Attempting uninstall: docutils\n",
      "    Found existing installation: docutils 0.16\n",
      "    Uninstalling docutils-0.16:\n",
      "      Successfully uninstalled docutils-0.16\n",
      "Successfully installed Cython-0.29.14 boto3-1.13.6 botocore-1.16.6 docutils-0.15.2 gensim-3.8.3 jmespath-0.9.5 s3transfer-0.3.3 smart-open-2.0.0\n"
     ]
    }
   ],
   "source": [
    "!pip install gensim"
   ]
  },
  {
   "cell_type": "code",
   "execution_count": 3,
   "metadata": {},
   "outputs": [],
   "source": [
    "import pandas as pd\n",
    "import numpy as np\n",
    "import re\n",
    "import nltk\n",
    "from nltk.stem import WordNetLemmatizer\n",
    "from nltk import word_tokenize\n",
    "from nltk.corpus import stopwords\n",
    "import string\n",
    "import matplotlib.pyplot as plt\n",
    "import gensim\n",
    "import numpy as np\n",
    "from gensim.models import CoherenceModel, LdaModel, LsiModel, HdpModel\n",
    "from gensim.models.wrappers import LdaMallet\n",
    "from gensim.corpora import Dictionary\n"
   ]
  },
  {
   "cell_type": "code",
   "execution_count": 5,
   "metadata": {},
   "outputs": [
    {
     "name": "stdout",
     "output_type": "stream",
     "text": [
      "Collecting google-colab\n",
      "  Downloading google-colab-1.0.0.tar.gz (72 kB)\n",
      "Collecting google-auth~=1.4.0\n",
      "  Downloading google_auth-1.4.2-py2.py3-none-any.whl (64 kB)\n",
      "Collecting ipykernel~=4.6.0\n",
      "  Downloading ipykernel-4.6.1-py3-none-any.whl (104 kB)\n",
      "Collecting ipython~=5.5.0\n",
      "  Downloading ipython-5.5.0-py3-none-any.whl (758 kB)\n",
      "Collecting notebook~=5.2.0\n",
      "  Downloading notebook-5.2.2-py2.py3-none-any.whl (8.0 MB)\n",
      "Collecting six~=1.12.0\n",
      "  Downloading six-1.12.0-py2.py3-none-any.whl (10 kB)\n",
      "Collecting pandas~=0.24.0\n",
      "  Downloading pandas-0.24.2-cp37-cp37m-win_amd64.whl (9.0 MB)\n",
      "Collecting portpicker~=1.2.0\n",
      "  Downloading portpicker-1.2.0.tar.gz (17 kB)\n",
      "Collecting requests~=2.21.0\n",
      "  Downloading requests-2.21.0-py2.py3-none-any.whl (57 kB)\n",
      "Collecting tornado~=4.5.0\n",
      "  Downloading tornado-4.5.3.tar.gz (484 kB)\n",
      "Requirement already satisfied: rsa>=3.1.4 in c:\\programdata\\anaconda3\\lib\\site-packages (from google-auth~=1.4.0->google-colab) (4.0)\n",
      "Requirement already satisfied: pyasn1-modules>=0.2.1 in c:\\programdata\\anaconda3\\lib\\site-packages (from google-auth~=1.4.0->google-colab) (0.2.8)\n",
      "Requirement already satisfied: cachetools>=2.0.0 in c:\\programdata\\anaconda3\\lib\\site-packages (from google-auth~=1.4.0->google-colab) (4.1.0)\n",
      "Requirement already satisfied: jupyter-client in c:\\programdata\\anaconda3\\lib\\site-packages (from ipykernel~=4.6.0->google-colab) (5.3.4)\n",
      "Requirement already satisfied: traitlets>=4.1.0 in c:\\programdata\\anaconda3\\lib\\site-packages (from ipykernel~=4.6.0->google-colab) (4.3.3)\n",
      "Requirement already satisfied: decorator in c:\\programdata\\anaconda3\\lib\\site-packages (from ipython~=5.5.0->google-colab) (4.4.1)\n",
      "Collecting prompt-toolkit<2.0.0,>=1.0.4\n",
      "  Downloading prompt_toolkit-1.0.18-py3-none-any.whl (245 kB)\n",
      "Requirement already satisfied: setuptools>=18.5 in c:\\programdata\\anaconda3\\lib\\site-packages (from ipython~=5.5.0->google-colab) (45.2.0.post20200210)\n",
      "Requirement already satisfied: pickleshare in c:\\programdata\\anaconda3\\lib\\site-packages (from ipython~=5.5.0->google-colab) (0.7.5)\n",
      "Requirement already satisfied: pygments in c:\\programdata\\anaconda3\\lib\\site-packages (from ipython~=5.5.0->google-colab) (2.5.2)\n",
      "Requirement already satisfied: simplegeneric>0.8 in c:\\programdata\\anaconda3\\lib\\site-packages (from ipython~=5.5.0->google-colab) (0.8.1)\n",
      "Requirement already satisfied: colorama; sys_platform == \"win32\" in c:\\programdata\\anaconda3\\lib\\site-packages (from ipython~=5.5.0->google-colab) (0.4.3)\n",
      "Requirement already satisfied: jupyter-core in c:\\programdata\\anaconda3\\lib\\site-packages (from notebook~=5.2.0->google-colab) (4.6.1)\n",
      "Requirement already satisfied: nbconvert in c:\\programdata\\anaconda3\\lib\\site-packages (from notebook~=5.2.0->google-colab) (5.6.1)\n",
      "Requirement already satisfied: nbformat in c:\\programdata\\anaconda3\\lib\\site-packages (from notebook~=5.2.0->google-colab) (5.0.4)\n",
      "Requirement already satisfied: jinja2 in c:\\programdata\\anaconda3\\lib\\site-packages (from notebook~=5.2.0->google-colab) (2.11.1)\n",
      "Requirement already satisfied: ipython-genutils in c:\\programdata\\anaconda3\\lib\\site-packages (from notebook~=5.2.0->google-colab) (0.2.0)\n",
      "Requirement already satisfied: python-dateutil>=2.5.0 in c:\\programdata\\anaconda3\\lib\\site-packages (from pandas~=0.24.0->google-colab) (2.8.1)\n",
      "Requirement already satisfied: pytz>=2011k in c:\\programdata\\anaconda3\\lib\\site-packages (from pandas~=0.24.0->google-colab) (2019.3)\n",
      "Requirement already satisfied: numpy>=1.12.0 in c:\\programdata\\anaconda3\\lib\\site-packages (from pandas~=0.24.0->google-colab) (1.18.1)\n",
      "Requirement already satisfied: chardet<3.1.0,>=3.0.2 in c:\\programdata\\anaconda3\\lib\\site-packages (from requests~=2.21.0->google-colab) (3.0.4)\n",
      "Requirement already satisfied: certifi>=2017.4.17 in c:\\programdata\\anaconda3\\lib\\site-packages (from requests~=2.21.0->google-colab) (2019.11.28)\n",
      "Collecting urllib3<1.25,>=1.21.1\n",
      "  Downloading urllib3-1.24.3-py2.py3-none-any.whl (118 kB)\n",
      "Requirement already satisfied: idna<2.9,>=2.5 in c:\\programdata\\anaconda3\\lib\\site-packages (from requests~=2.21.0->google-colab) (2.8)\n",
      "Requirement already satisfied: pyasn1>=0.1.3 in c:\\programdata\\anaconda3\\lib\\site-packages (from rsa>=3.1.4->google-auth~=1.4.0->google-colab) (0.4.8)\n",
      "Requirement already satisfied: pyzmq>=13 in c:\\programdata\\anaconda3\\lib\\site-packages (from jupyter-client->ipykernel~=4.6.0->google-colab) (18.1.1)\n",
      "Requirement already satisfied: pywin32>=1.0; sys_platform == \"win32\" in c:\\programdata\\anaconda3\\lib\\site-packages (from jupyter-client->ipykernel~=4.6.0->google-colab) (227)\n",
      "Requirement already satisfied: wcwidth in c:\\programdata\\anaconda3\\lib\\site-packages (from prompt-toolkit<2.0.0,>=1.0.4->ipython~=5.5.0->google-colab) (0.1.8)\n",
      "Requirement already satisfied: bleach in c:\\programdata\\anaconda3\\lib\\site-packages (from nbconvert->notebook~=5.2.0->google-colab) (3.1.0)\n",
      "Requirement already satisfied: defusedxml in c:\\programdata\\anaconda3\\lib\\site-packages (from nbconvert->notebook~=5.2.0->google-colab) (0.6.0)\n",
      "Requirement already satisfied: entrypoints>=0.2.2 in c:\\programdata\\anaconda3\\lib\\site-packages (from nbconvert->notebook~=5.2.0->google-colab) (0.3)\n",
      "Requirement already satisfied: testpath in c:\\programdata\\anaconda3\\lib\\site-packages (from nbconvert->notebook~=5.2.0->google-colab) (0.4.4)\n",
      "Requirement already satisfied: pandocfilters>=1.4.1 in c:\\programdata\\anaconda3\\lib\\site-packages (from nbconvert->notebook~=5.2.0->google-colab) (1.4.2)\n",
      "Requirement already satisfied: mistune<2,>=0.8.1 in c:\\programdata\\anaconda3\\lib\\site-packages (from nbconvert->notebook~=5.2.0->google-colab) (0.8.4)\n",
      "Requirement already satisfied: jsonschema!=2.5.0,>=2.4 in c:\\programdata\\anaconda3\\lib\\site-packages (from nbformat->notebook~=5.2.0->google-colab) (3.2.0)\n",
      "Requirement already satisfied: MarkupSafe>=0.23 in c:\\programdata\\anaconda3\\lib\\site-packages (from jinja2->notebook~=5.2.0->google-colab) (1.1.1)\n",
      "Requirement already satisfied: webencodings in c:\\programdata\\anaconda3\\lib\\site-packages (from bleach->nbconvert->notebook~=5.2.0->google-colab) (0.5.1)\n",
      "Requirement already satisfied: attrs>=17.4.0 in c:\\programdata\\anaconda3\\lib\\site-packages (from jsonschema!=2.5.0,>=2.4->nbformat->notebook~=5.2.0->google-colab) (19.3.0)\n",
      "Requirement already satisfied: pyrsistent>=0.14.0 in c:\\programdata\\anaconda3\\lib\\site-packages (from jsonschema!=2.5.0,>=2.4->nbformat->notebook~=5.2.0->google-colab) (0.15.7)\n",
      "Requirement already satisfied: importlib-metadata; python_version < \"3.8\" in c:\\programdata\\anaconda3\\lib\\site-packages (from jsonschema!=2.5.0,>=2.4->nbformat->notebook~=5.2.0->google-colab) (1.5.0)\n",
      "Requirement already satisfied: zipp>=0.5 in c:\\programdata\\anaconda3\\lib\\site-packages (from importlib-metadata; python_version < \"3.8\"->jsonschema!=2.5.0,>=2.4->nbformat->notebook~=5.2.0->google-colab) (2.2.0)\n",
      "Building wheels for collected packages: google-colab, portpicker, tornado\n",
      "  Building wheel for google-colab (setup.py): started\n",
      "  Building wheel for google-colab (setup.py): finished with status 'done'\n",
      "  Created wheel for google-colab: filename=google_colab-1.0.0-py2.py3-none-any.whl size=102298 sha256=e6b544c6dbc196a2ff7d24fa03162a33d7bcc39f08ec61cef0e88d9967033dc4\n",
      "  Stored in directory: c:\\users\\administrator\\appdata\\local\\pip\\cache\\wheels\\f6\\3b\\58\\f34ea9045a7c69bd5634978bf25ac60277e90997d9e6e74192\n",
      "  Building wheel for portpicker (setup.py): started\n",
      "  Building wheel for portpicker (setup.py): finished with status 'done'\n",
      "  Created wheel for portpicker: filename=portpicker-1.2.0-py3-none-any.whl size=13370 sha256=fe3ade9614db29213c93747f090a11c3b726abd6c5f03065abd8b26e2caac67b\n",
      "  Stored in directory: c:\\users\\administrator\\appdata\\local\\pip\\cache\\wheels\\73\\0c\\f5\\35977446e45e818e6b848be3d41e7f38298a5102f4dcda21c6\n",
      "  Building wheel for tornado (setup.py): started\n",
      "  Building wheel for tornado (setup.py): finished with status 'done'\n",
      "  Created wheel for tornado: filename=tornado-4.5.3-cp37-cp37m-win_amd64.whl size=420780 sha256=5c1e065f734a931bd53be5e858eb4cbb7bfe67386ad8ec3454bdd18343747740\n",
      "  Stored in directory: c:\\users\\administrator\\appdata\\local\\pip\\cache\\wheels\\a2\\45\\43\\36ec7a893e16c1212a6b1505ded0a2d73cf8e863a0227c8e04\n",
      "Successfully built google-colab portpicker tornado\n",
      "Installing collected packages: six, google-auth, tornado, prompt-toolkit, ipython, ipykernel, notebook, pandas, portpicker, urllib3, requests, google-colab\n",
      "  Attempting uninstall: six\n",
      "    Found existing installation: six 1.14.0\n",
      "    Uninstalling six-1.14.0:\n",
      "      Successfully uninstalled six-1.14.0\n",
      "  Attempting uninstall: google-auth\n",
      "    Found existing installation: google-auth 1.14.1\n",
      "    Uninstalling google-auth-1.14.1:\n",
      "      Successfully uninstalled google-auth-1.14.1\n",
      "  Attempting uninstall: tornado\n",
      "    Found existing installation: tornado 6.0.3\n",
      "    Uninstalling tornado-6.0.3:\n",
      "      Successfully uninstalled tornado-6.0.3\n"
     ]
    },
    {
     "name": "stderr",
     "output_type": "stream",
     "text": [
      "ERROR: pytest-astropy 0.8.0 requires pytest-cov>=2.0, which is not installed.\n",
      "ERROR: pytest-astropy 0.8.0 requires pytest-filter-subpackage>=0.1, which is not installed.\n",
      "ERROR: astroid 2.3.3 requires typed-ast<1.5,>=1.4.0; implementation_name == \"cpython\" and python_version < \"3.8\", which is not installed.\n",
      "ERROR: tensorboard 2.2.1 has requirement google-auth<2,>=1.6.3, but you'll have google-auth 1.4.2 which is incompatible.\n",
      "ERROR: spyder-kernels 1.8.1 has requirement ipykernel>=5.1.3; python_version > \"2\", but you'll have ipykernel 4.6.1 which is incompatible.\n",
      "ERROR: jupyter-console 6.1.0 has requirement prompt-toolkit!=3.0.0,!=3.0.1,<3.1.0,>=2.0.0, but you'll have prompt-toolkit 1.0.18 which is incompatible.\n",
      "ERROR: google-api-core 1.17.0 has requirement google-auth<2.0dev,>=1.14.0, but you'll have google-auth 1.4.2 which is incompatible.\n",
      "ERROR: distributed 2.11.0 has requirement tornado>=5; python_version < \"3.8\", but you'll have tornado 4.5.3 which is incompatible.\n",
      "ERROR: Could not install packages due to an EnvironmentError: [WinError 5] Acceso denegado: 'c:\\\\programdata\\\\anaconda3\\\\lib\\\\site-packages\\\\~ornado\\\\speedups.cp37-win_amd64.pyd'\n",
      "Consider using the `--user` option or check the permissions.\n",
      "\n"
     ]
    }
   ],
   "source": [
    "!pip install google-colab"
   ]
  },
  {
   "cell_type": "code",
   "execution_count": 20,
   "metadata": {},
   "outputs": [],
   "source": [
    "import glob\n",
    "import pandas as pd\n",
    "\n",
    "# get data file names\n",
    "path =r'C:\\lab_ccn_cert\\MachineLearning'\n",
    "filenames = glob.glob(path + \"/noticias*.csv\")\n",
    "\n",
    "li = []\n",
    "\n",
    "for filename in filenames:\n",
    "    df = pd.read_csv(filename, index_col=None, header=0)\n",
    "    li.append(df)\n",
    "\n",
    "frame = pd.concat(li, axis=0, ignore_index=True)"
   ]
  },
  {
   "cell_type": "code",
   "execution_count": 28,
   "metadata": {},
   "outputs": [
    {
     "data": {
      "text/html": [
       "<div>\n",
       "<style scoped>\n",
       "    .dataframe tbody tr th:only-of-type {\n",
       "        vertical-align: middle;\n",
       "    }\n",
       "\n",
       "    .dataframe tbody tr th {\n",
       "        vertical-align: top;\n",
       "    }\n",
       "\n",
       "    .dataframe thead th {\n",
       "        text-align: right;\n",
       "    }\n",
       "</style>\n",
       "<table border=\"1\" class=\"dataframe\">\n",
       "  <thead>\n",
       "    <tr style=\"text-align: right;\">\n",
       "      <th></th>\n",
       "      <th>titulo</th>\n",
       "      <th>detalle</th>\n",
       "      <th>cuerpo</th>\n",
       "    </tr>\n",
       "  </thead>\n",
       "  <tbody>\n",
       "    <tr>\n",
       "      <th>0</th>\n",
       "      <td>\\n                                Minsal adela...</td>\n",
       "      <td>['Gracias a la alerta sanitaria decretada en C...</td>\n",
       "      <td>['Una de las medidas adoptadas será adelantar ...</td>\n",
       "    </tr>\n",
       "    <tr>\n",
       "      <th>1</th>\n",
       "      <td>\\n                                Revocan alza...</td>\n",
       "      <td>['La Superintendencia de Salud revocó el alza ...</td>\n",
       "      <td>['En tanto, quienes no se acogieron a este rec...</td>\n",
       "    </tr>\n",
       "    <tr>\n",
       "      <th>2</th>\n",
       "      <td>\\n                                Hospital Reg...</td>\n",
       "      <td>['El Hospital Regional de Concepción debió act...</td>\n",
       "      <td>['En tanto, la Seremi de Salud de la Región de...</td>\n",
       "    </tr>\n",
       "    <tr>\n",
       "      <th>3</th>\n",
       "      <td>\\n                                Hospital de ...</td>\n",
       "      <td>['El Hospital de la Fuerza Aérea de Chile (FAC...</td>\n",
       "      <td>['El centro asistencia de la FACh está a la es...</td>\n",
       "    </tr>\n",
       "    <tr>\n",
       "      <th>4</th>\n",
       "      <td>\\n                                Alcalde de  ...</td>\n",
       "      <td>['El alcalde de Santiago, Felipe Alessandri, a...</td>\n",
       "      <td>['El 30% de los fallecimientos en nuestro país...</td>\n",
       "    </tr>\n",
       "  </tbody>\n",
       "</table>\n",
       "</div>"
      ],
      "text/plain": [
       "                                              titulo  \\\n",
       "0  \\n                                Minsal adela...   \n",
       "1  \\n                                Revocan alza...   \n",
       "2  \\n                                Hospital Reg...   \n",
       "3  \\n                                Hospital de ...   \n",
       "4  \\n                                Alcalde de  ...   \n",
       "\n",
       "                                             detalle  \\\n",
       "0  ['Gracias a la alerta sanitaria decretada en C...   \n",
       "1  ['La Superintendencia de Salud revocó el alza ...   \n",
       "2  ['El Hospital Regional de Concepción debió act...   \n",
       "3  ['El Hospital de la Fuerza Aérea de Chile (FAC...   \n",
       "4  ['El alcalde de Santiago, Felipe Alessandri, a...   \n",
       "\n",
       "                                              cuerpo  \n",
       "0  ['Una de las medidas adoptadas será adelantar ...  \n",
       "1  ['En tanto, quienes no se acogieron a este rec...  \n",
       "2  ['En tanto, la Seremi de Salud de la Región de...  \n",
       "3  ['El centro asistencia de la FACh está a la es...  \n",
       "4  ['El 30% de los fallecimientos en nuestro país...  "
      ]
     },
     "execution_count": 28,
     "metadata": {},
     "output_type": "execute_result"
    }
   ],
   "source": [
    "df_news= frame\n",
    "frame.head()"
   ]
  },
  {
   "cell_type": "code",
   "execution_count": 29,
   "metadata": {},
   "outputs": [
    {
     "data": {
      "text/plain": [
       "(611, 3)"
      ]
     },
     "execution_count": 29,
     "metadata": {},
     "output_type": "execute_result"
    }
   ],
   "source": [
    "frame.shape"
   ]
  },
  {
   "cell_type": "code",
   "execution_count": 30,
   "metadata": {},
   "outputs": [
    {
     "name": "stdout",
     "output_type": "stream",
     "text": [
      "<class 'pandas.core.frame.DataFrame'>\n",
      "RangeIndex: 611 entries, 0 to 610\n",
      "Data columns (total 3 columns):\n",
      " #   Column   Non-Null Count  Dtype \n",
      "---  ------   --------------  ----- \n",
      " 0   titulo   611 non-null    object\n",
      " 1   detalle  611 non-null    object\n",
      " 2   cuerpo   611 non-null    object\n",
      "dtypes: object(3)\n",
      "memory usage: 14.4+ KB\n"
     ]
    }
   ],
   "source": [
    "frame.info()"
   ]
  },
  {
   "cell_type": "markdown",
   "metadata": {},
   "source": [
    "### Data Preprocessing"
   ]
  },
  {
   "cell_type": "code",
   "execution_count": 31,
   "metadata": {},
   "outputs": [],
   "source": [
    "black_list = ['más', 'mas', 'unir', 'paises', 'pais', 'espa', 'no', 'os', 'a', 'compa', 'acompa', 'off', 'and', 'grecia', 'the','it', 'to',\n",
    "              'd',  'et',  'dame',  'il',  'dans', 'that',  'as',   'for',  'it',  'elections',  'would',  'this',  'with', 'york', 'obama', 'chavez', 'gadafi']"
   ]
  },
  {
   "cell_type": "code",
   "execution_count": 32,
   "metadata": {},
   "outputs": [],
   "source": [
    "def cleaner(word):\n",
    "  word = re.sub(r'((http|https)\\:\\/\\/)?[a-zA-Z0-9\\.\\/\\?\\:@\\-_=#]+\\.([a-zA-Z]){2,6}([a-zA-Z0-9\\.\\&\\/\\?\\:@\\-_=#])*', '', word, flags=re.MULTILINE)\n",
    "  word = re.sub(r'(?::|;|=)(?:-)?(?:\\)|\\(|D|P)', \"\", word)\n",
    "  word = re.sub(r'ee.uu', 'eeuu', word)\n",
    "  word = re.sub(r'\\#\\.', '', word)\n",
    "  word = re.sub(r'\\n', '', word)\n",
    "  word = re.sub(r',', '', word)\n",
    "  word = re.sub(r'\\-', ' ', word)\n",
    "  word = re.sub(r'\\.{3}', ' ', word)\n",
    "  word = re.sub(r'a{2,}', 'a', word)\n",
    "  word = re.sub(r'é{2,}', 'é', word)\n",
    "  word = re.sub(r'i{2,}', 'i', word)\n",
    "  word = re.sub(r'ja{2,}', 'ja', word) \n",
    "  word = re.sub(r'á', 'a', word)\n",
    "  word = re.sub(r'é', 'e', word)\n",
    "  word = re.sub(r'í', 'i', word)\n",
    "  word = re.sub(r'ó', 'o', word)\n",
    "  word = re.sub(r'ú', 'u', word)  \n",
    "  word = re.sub('[^a-zA-Z]', ' ', word)\n",
    "  list_word_clean = []\n",
    "  for w1 in word.split(\" \"):\n",
    "    if  w1.lower() not in stopwords:\n",
    "      list_word_clean.append(w1.lower())\n",
    "\n",
    "  bigram_list = bigram[list_word_clean]\n",
    "  out_text = lemmatization(\" \".join(bigram_list))\n",
    "  return out_text"
   ]
  },
  {
   "cell_type": "markdown",
   "metadata": {},
   "source": [
    "#### Create the function for select only nouns for our data, this way we are removing adverb, adjetives, verbs, etc. This is doing with spacy"
   ]
  },
  {
   "cell_type": "code",
   "execution_count": 33,
   "metadata": {},
   "outputs": [],
   "source": [
    "def lemmatization(texts, allowed_postags=['NOUN']):\n",
    "    texts_out = [ token.text for token in nlp(texts) if token.pos_ in \n",
    "                 allowed_postags and token.text not in black_list and len(token.text)>2]\n",
    "    return texts_out"
   ]
  },
  {
   "cell_type": "markdown",
   "metadata": {},
   "source": [
    "For gensim we need a list of text, so we need do convert the dataframe to list"
   ]
  },
  {
   "cell_type": "code",
   "execution_count": 34,
   "metadata": {},
   "outputs": [
    {
     "data": {
      "text/plain": [
       "611"
      ]
     },
     "execution_count": 34,
     "metadata": {},
     "output_type": "execute_result"
    }
   ],
   "source": [
    "len(df_news.cuerpo.to_list())"
   ]
  },
  {
   "cell_type": "code",
   "execution_count": 36,
   "metadata": {},
   "outputs": [
    {
     "name": "stdout",
     "output_type": "stream",
     "text": [
      "Wall time: 2.78 s\n"
     ]
    }
   ],
   "source": [
    "%%time\n",
    "bigram = gensim.models.Phrases(df_news.cuerpo.to_list()) "
   ]
  },
  {
   "cell_type": "code",
   "execution_count": 40,
   "metadata": {},
   "outputs": [
    {
     "data": {
      "text/plain": [
       "['El',\n",
       " 'jefe',\n",
       " 'comunal',\n",
       " 'declaró',\n",
       " 'al',\n",
       " 'diario',\n",
       " 'La',\n",
       " 'Tercera',\n",
       " 'que',\n",
       " 'la',\n",
       " 'iniciativa',\n",
       " 'la',\n",
       " 'planteó',\n",
       " 'hace',\n",
       " 'dos',\n",
       " 'años,',\n",
       " 'y',\n",
       " 'contó',\n",
       " 'que',\n",
       " 'ya',\n",
       " 'está',\n",
       " 'listo',\n",
       " 'el',\n",
       " 'convenio',\n",
       " 'con',\n",
       " 'el',\n",
       " 'Sename',\n",
       " 'para',\n",
       " 'empezar',\n",
       " 'a',\n",
       " \"operar.',\",\n",
       " \"'(adsbygoogle\",\n",
       " '=',\n",
       " 'window.adsbygoogle',\n",
       " '||',\n",
       " \"[]).push({});',\",\n",
       " '\"',\n",
       " 'googletag.cmd.push(function()',\n",
       " '{',\n",
       " \"googletag.display('div-gpt-ad-2246448-2');\",\n",
       " '});\",',\n",
       " \"'\\\\xa0Hemos\",\n",
       " 'llegado',\n",
       " 'a',\n",
       " 'la',\n",
       " 'conclusión',\n",
       " 'de',\n",
       " 'que',\n",
       " 'ningún',\n",
       " 'hogar',\n",
       " 'privado',\n",
       " 'puede',\n",
       " 'ofrecer',\n",
       " 'a',\n",
       " 'los',\n",
       " 'niños,',\n",
       " 'por',\n",
       " 'más',\n",
       " 'plata',\n",
       " 'que',\n",
       " 'le',\n",
       " 'pasen,',\n",
       " 'lo',\n",
       " 'que',\n",
       " 'una',\n",
       " 'municipalidad',\n",
       " 'les',\n",
       " 'puede',\n",
       " 'ofrecer.',\n",
       " 'Por',\n",
       " 'lo',\n",
       " 'tanto,',\n",
       " 'estamos',\n",
       " 'proponiendo',\n",
       " 'que',\n",
       " 'el',\n",
       " 'Sename',\n",
       " 'sea',\n",
       " 'municipalizado,',\n",
       " 'que',\n",
       " 'todas',\n",
       " 'las',\n",
       " 'comunas',\n",
       " 'cuenten',\n",
       " 'con',\n",
       " 'hogares',\n",
       " 'municipales',\n",
       " 'para',\n",
       " 'tener',\n",
       " 'a',\n",
       " 'nuestros',\n",
       " 'niños',\n",
       " 'bajo',\n",
       " 'protección,',\n",
       " \"contó.',\",\n",
       " \"'En\",\n",
       " 'esa',\n",
       " 'línea,',\n",
       " 'añadió',\n",
       " 'que',\n",
       " 'además',\n",
       " 'de',\n",
       " 'la',\n",
       " 'plata',\n",
       " 'que',\n",
       " 'vamos',\n",
       " 'a',\n",
       " 'recibir',\n",
       " 'del',\n",
       " 'sistema,',\n",
       " 'vamos',\n",
       " 'a',\n",
       " 'poner',\n",
       " 'a',\n",
       " 'disposición',\n",
       " 'de',\n",
       " 'ellos,',\n",
       " 'los',\n",
       " 'centros',\n",
       " 'deportivos,',\n",
       " 'culturales,',\n",
       " 'las',\n",
       " 'escuelas,',\n",
       " 'los',\n",
       " \"consultorios.',\",\n",
       " \"'Finamente,\",\n",
       " 'Jadue',\n",
       " 'sostuvo:',\n",
       " 'Eso',\n",
       " 'lo',\n",
       " 'propusimos',\n",
       " 'hace',\n",
       " 'dos',\n",
       " 'años,',\n",
       " 'hoy',\n",
       " 'ya',\n",
       " 'está',\n",
       " 'listo',\n",
       " 'el',\n",
       " 'convenio',\n",
       " 'con',\n",
       " 'el',\n",
       " 'Sename',\n",
       " 'y',\n",
       " 'en',\n",
       " 'marzo',\n",
       " 'inauguramos',\n",
       " 'la',\n",
       " 'primera',\n",
       " 'casa,',\n",
       " 'que',\n",
       " 'va',\n",
       " 'a',\n",
       " 'acoger',\n",
       " 'a',\n",
       " '12',\n",
       " 'jóvenes,',\n",
       " 'entre',\n",
       " '14',\n",
       " 'y',\n",
       " '17',\n",
       " 'años,',\n",
       " 'con',\n",
       " 'un',\n",
       " 'nivel',\n",
       " 'de',\n",
       " 'prestaciones',\n",
       " 'y',\n",
       " 'de',\n",
       " 'sistema',\n",
       " 'de',\n",
       " 'seguridad',\n",
       " 'y',\n",
       " 'protección',\n",
       " 'que',\n",
       " 'no',\n",
       " 'se',\n",
       " 'había',\n",
       " 'visto',\n",
       " 'antes.']"
      ]
     },
     "execution_count": 40,
     "metadata": {},
     "output_type": "execute_result"
    }
   ],
   "source": [
    "bigram[df_news.cuerpo.to_list()[610].split()]"
   ]
  },
  {
   "cell_type": "code",
   "execution_count": 41,
   "metadata": {},
   "outputs": [
    {
     "name": "stderr",
     "output_type": "stream",
     "text": [
      "[nltk_data] Downloading package stopwords to\n",
      "[nltk_data]     C:\\Users\\administrator\\AppData\\Roaming\\nltk_data...\n",
      "[nltk_data]   Package stopwords is already up-to-date!\n",
      "[nltk_data] Downloading package punkt to\n",
      "[nltk_data]     C:\\Users\\administrator\\AppData\\Roaming\\nltk_data...\n",
      "[nltk_data]   Package punkt is already up-to-date!\n"
     ]
    },
    {
     "data": {
      "text/plain": [
       "True"
      ]
     },
     "execution_count": 41,
     "metadata": {},
     "output_type": "execute_result"
    }
   ],
   "source": [
    "import nltk\n",
    "nltk.download('stopwords')\n",
    "nltk.download('punkt')\n"
   ]
  },
  {
   "cell_type": "code",
   "execution_count": 42,
   "metadata": {},
   "outputs": [],
   "source": [
    "from nltk import word_tokenize\n",
    "from nltk.corpus import stopwords\n",
    "stop = set(stopwords.words('spanish'))\n",
    "\n",
    "additional_stopwords=set(black_list)\n",
    "\n",
    "stopwords = stop.union(additional_stopwords)"
   ]
  },
  {
   "cell_type": "markdown",
   "metadata": {},
   "source": [
    " We are using Spacy For lemmatize spanish words"
   ]
  },
  {
   "cell_type": "code",
   "execution_count": 47,
   "metadata": {},
   "outputs": [
    {
     "name": "stdout",
     "output_type": "stream",
     "text": [
      "Collecting spacy\n",
      "  Using cached spacy-2.2.4-cp37-cp37m-win_amd64.whl (9.9 MB)\n",
      "Collecting preshed<3.1.0,>=3.0.2\n",
      "  Downloading preshed-3.0.2-cp37-cp37m-win_amd64.whl (105 kB)\n",
      "Collecting cymem<2.1.0,>=2.0.2\n",
      "  Downloading cymem-2.0.3-cp37-cp37m-win_amd64.whl (32 kB)\n",
      "Collecting thinc==7.4.0\n",
      "  Downloading thinc-7.4.0-cp37-cp37m-win_amd64.whl (2.1 MB)\n",
      "Collecting murmurhash<1.1.0,>=0.28.0\n",
      "  Downloading murmurhash-1.0.2-cp37-cp37m-win_amd64.whl (20 kB)\n",
      "Collecting catalogue<1.1.0,>=0.0.7\n",
      "  Downloading catalogue-1.0.0-py2.py3-none-any.whl (7.7 kB)\n",
      "Requirement already satisfied: numpy>=1.15.0 in c:\\programdata\\anaconda3\\lib\\site-packages (from spacy) (1.18.1)\n",
      "Requirement already satisfied: requests<3.0.0,>=2.13.0 in c:\\programdata\\anaconda3\\lib\\site-packages (from spacy) (2.22.0)\n",
      "Requirement already satisfied: setuptools in c:\\programdata\\anaconda3\\lib\\site-packages (from spacy) (45.2.0.post20200210)\n",
      "Collecting wasabi<1.1.0,>=0.4.0\n",
      "  Downloading wasabi-0.6.0-py3-none-any.whl (20 kB)\n",
      "Collecting plac<1.2.0,>=0.9.6\n",
      "  Downloading plac-1.1.3-py2.py3-none-any.whl (20 kB)\n",
      "Collecting srsly<1.1.0,>=1.0.2\n",
      "  Downloading srsly-1.0.2-cp37-cp37m-win_amd64.whl (179 kB)\n",
      "Requirement already satisfied: tqdm<5.0.0,>=4.38.0 in c:\\programdata\\anaconda3\\lib\\site-packages (from spacy) (4.42.1)\n",
      "Collecting blis<0.5.0,>=0.4.0\n",
      "  Downloading blis-0.4.1-cp37-cp37m-win_amd64.whl (5.0 MB)\n",
      "Requirement already satisfied: importlib-metadata>=0.20; python_version < \"3.8\" in c:\\programdata\\anaconda3\\lib\\site-packages (from catalogue<1.1.0,>=0.0.7->spacy) (1.5.0)\n",
      "Requirement already satisfied: idna<2.9,>=2.5 in c:\\programdata\\anaconda3\\lib\\site-packages (from requests<3.0.0,>=2.13.0->spacy) (2.8)\n",
      "Requirement already satisfied: chardet<3.1.0,>=3.0.2 in c:\\programdata\\anaconda3\\lib\\site-packages (from requests<3.0.0,>=2.13.0->spacy) (3.0.4)\n",
      "Requirement already satisfied: certifi>=2017.4.17 in c:\\programdata\\anaconda3\\lib\\site-packages (from requests<3.0.0,>=2.13.0->spacy) (2019.11.28)\n",
      "Requirement already satisfied: urllib3!=1.25.0,!=1.25.1,<1.26,>=1.21.1 in c:\\programdata\\anaconda3\\lib\\site-packages (from requests<3.0.0,>=2.13.0->spacy) (1.25.8)\n",
      "Requirement already satisfied: zipp>=0.5 in c:\\programdata\\anaconda3\\lib\\site-packages (from importlib-metadata>=0.20; python_version < \"3.8\"->catalogue<1.1.0,>=0.0.7->spacy) (2.2.0)\n",
      "Installing collected packages: cymem, murmurhash, preshed, catalogue, srsly, wasabi, plac, blis, thinc, spacy\n",
      "Successfully installed blis-0.4.1 catalogue-1.0.0 cymem-2.0.3 murmurhash-1.0.2 plac-1.1.3 preshed-3.0.2 spacy-2.2.4 srsly-1.0.2 thinc-7.4.0 wasabi-0.6.0\n"
     ]
    }
   ],
   "source": [
    "!pip install spacy"
   ]
  },
  {
   "cell_type": "code",
   "execution_count": 49,
   "metadata": {},
   "outputs": [
    {
     "name": "stdout",
     "output_type": "stream",
     "text": [
      "Collecting https://github.com/explosion/spacy-models/releases/download/en_core_web_sm-2.0.0/en_core_web_sm-2.0.0.tar.gz\n",
      "  Downloading https://github.com/explosion/spacy-models/releases/download/en_core_web_sm-2.0.0/en_core_web_sm-2.0.0.tar.gz (37.4 MB)\n",
      "Building wheels for collected packages: en-core-web-sm\n",
      "  Building wheel for en-core-web-sm (setup.py): started\n",
      "  Building wheel for en-core-web-sm (setup.py): finished with status 'done'\n",
      "  Created wheel for en-core-web-sm: filename=en_core_web_sm-2.0.0-py3-none-any.whl size=37405980 sha256=a629d91653582ef66aa6293d4fcb93696dd474fbf12376e1965c3815b52e44fe\n",
      "  Stored in directory: c:\\users\\administrator\\appdata\\local\\pip\\cache\\wheels\\51\\df\\77\\250d8a622c7fc066a42ea4238279337e4a5e04c2602c448ea5\n",
      "Successfully built en-core-web-sm\n",
      "Installing collected packages: en-core-web-sm\n",
      "Successfully installed en-core-web-sm-2.0.0\n"
     ]
    }
   ],
   "source": [
    "!pip install https://github.com/explosion/spacy-models/releases/download/en_core_web_sm-2.0.0/en_core_web_sm-2.0.0.tar.gz --no-deps"
   ]
  },
  {
   "cell_type": "code",
   "execution_count": 56,
   "metadata": {},
   "outputs": [],
   "source": [
    "import spacy\n",
    "nlp = spacy.load(r'C:\\Users\\administrator\\Documents\\Curso_Machine\\es_core_news_md-2.2.5\\es_core_news_md\\es_core_news_md-2.2.5')"
   ]
  },
  {
   "cell_type": "code",
   "execution_count": 60,
   "metadata": {},
   "outputs": [
    {
     "data": {
      "text/plain": [
       "'[\\'Una de las medidas adoptadas será adelantar la entrega de cinco hospitales a nivel nacional: Viña del Mar, Angol, Ovalle, Padre Las Casas y Félix Bulnes en Santiago.\\', \\'     (adsbygoogle = window.adsbygoogle || []).push({});\\', \"    googletag.cmd.push(function() { googletag.display(\\'div-gpt-ad-2246448-2\\'); });\", \\'Arturo Zúñiga, subsecretario de Redes Asistenciales, detalló que si tenemos una situación similar a la de 2009, con las tasas de hospitalización que ha tenido este virus y que informa China, es probable que contemos con estas camas de forma adelantada. La alerta sanitaria nos permite esto, porque uno tiene la salud de la ciudadanía de por medio, según consigna La Tercera.\\', \\'En la misma línea, Zúñiga explicó que implementar estos hospitales nos permitirá disponer de 1.762 camas para este invierno, cuando es más probable que ocurran contagios por los temas característicos del invierno: más frío y hacinamiento, etc.\\', \\'En el caso del Hospital Félix Bulnes, este será habilitado en las próximas semanas, abriendo el 1 de abril, y atenderá exclusivamente casos de coronavirus.\\', \\'Posteriormente les seguirán los recintos de Ovalle (abril), Viña del Mar (mayo), Angol (junio) y Padre Las Casas (julio).\\', \\'Además, el subsecretario indicó que se compraron elementos de seguridad para los funcionarios de salud, se coordinó con facultades de medicina para disponer de estudiantes de último año, en caso de ser necesario, y se acordó la entrega exprés de camas clínicas con proveedores.\\', \\'Por último, se adquirieron nuevos test de COVID-19, los que permitirán obtener los resultados de los exámenes en menos de cuatro horas.\\']'"
      ]
     },
     "execution_count": 60,
     "metadata": {},
     "output_type": "execute_result"
    }
   ],
   "source": [
    "df_news.cuerpo[0]"
   ]
  },
  {
   "cell_type": "code",
   "execution_count": 59,
   "metadata": {},
   "outputs": [
    {
     "data": {
      "text/plain": [
       "['medidas',\n",
       " 'entrega',\n",
       " 'hospitales',\n",
       " 'nivel',\n",
       " 'padre',\n",
       " 'casas',\n",
       " 'situacion',\n",
       " 'tasas',\n",
       " 'virus',\n",
       " 'camas',\n",
       " 'forma',\n",
       " 'alerta',\n",
       " 'salud',\n",
       " 'hospitales',\n",
       " 'camas',\n",
       " 'invierno',\n",
       " 'temas',\n",
       " 'invierno',\n",
       " 'semanas',\n",
       " 'abril',\n",
       " 'atendera',\n",
       " 'casos',\n",
       " 'coronavirus',\n",
       " 'recintos',\n",
       " 'abril',\n",
       " 'padre',\n",
       " 'casas',\n",
       " 'julio',\n",
       " 'subsecretario',\n",
       " 'elementos',\n",
       " 'seguridad',\n",
       " 'funcionarios',\n",
       " 'medicina',\n",
       " 'estudiantes',\n",
       " 'caso',\n",
       " 'acordo',\n",
       " 'camas',\n",
       " 'proveedores',\n",
       " 'test',\n",
       " 'resultados',\n",
       " 'examenes',\n",
       " 'horas']"
      ]
     },
     "execution_count": 59,
     "metadata": {},
     "output_type": "execute_result"
    }
   ],
   "source": [
    "cleaner(df_news.cuerpo[0])"
   ]
  },
  {
   "cell_type": "code",
   "execution_count": 61,
   "metadata": {},
   "outputs": [],
   "source": [
    "df_news['text2'] = df_news['cuerpo']"
   ]
  },
  {
   "cell_type": "code",
   "execution_count": 62,
   "metadata": {},
   "outputs": [
    {
     "name": "stdout",
     "output_type": "stream",
     "text": [
      "Wall time: 29.2 s\n"
     ]
    }
   ],
   "source": [
    "%%time\n",
    "df_news['cuerpo'] = df_news['cuerpo'].apply(cleaner)"
   ]
  },
  {
   "cell_type": "code",
   "execution_count": 63,
   "metadata": {},
   "outputs": [],
   "source": [
    "dictionary = Dictionary(df_news['cuerpo'].to_list())\n",
    "dictionary.compactify()\n",
    "# Filter extremes\n",
    "dictionary.filter_extremes(no_below=2, no_above=0.97, keep_n=None)\n",
    "dictionary.compactify()\n",
    "\n",
    "corpus = [dictionary.doc2bow(text) for text in df_news['cuerpo'].to_list()]"
   ]
  },
  {
   "cell_type": "markdown",
   "metadata": {},
   "source": [
    "#### Now let's do the modeling part\n",
    "We are comparing 3 topic modeling algorithm Latent Dirichlet Allocation (LDA), Latent semantic analysis (LSA), Hierarchical Dirichlet Process (HDP),in order to evaluate topic models we will be using topic coherence, which is a measure of how interpretable topics are for human beings."
   ]
  },
  {
   "cell_type": "code",
   "execution_count": 64,
   "metadata": {},
   "outputs": [],
   "source": [
    "hdpmodel = HdpModel(corpus=corpus, id2word=dictionary, random_state= 30)"
   ]
  },
  {
   "cell_type": "markdown",
   "metadata": {},
   "source": [
    "and the topics of this model:"
   ]
  },
  {
   "cell_type": "code",
   "execution_count": 65,
   "metadata": {},
   "outputs": [],
   "source": [
    "def display_topics(model, model_type=\"lda\"):\n",
    "  for topic_idx, topic in enumerate(model.print_topics()):\n",
    "    print (\"Topic %d:\" % (topic_idx))\n",
    "    if model_type== \"hdp\":\n",
    "      print (\" \".join(re.findall( r'\\*(.[^\\*-S]+).?', topic[1])), \"\\n\")\n",
    "    else:\n",
    "      print (\" \".join(re.findall( r'\\\"(.[^\"]+).?', topic[1])), \"\\n\")"
   ]
  },
  {
   "cell_type": "code",
   "execution_count": 66,
   "metadata": {},
   "outputs": [
    {
     "name": "stdout",
     "output_type": "stream",
     "text": [
      "Topic 0:\n",
      "parte  familia  personas  restos  alza  partido  resultado  marzo  forma  casa \n",
      "\n",
      "Topic 1:\n",
      "medidas  caso  coronavirus  casos  momento  riesgo  millones  consensos  noticias  contactos \n",
      "\n",
      "Topic 2:\n",
      "delitos  denuncias  periodo  respecto  misterios  cifras  racionamiento  ilegalidades  caso  octubre \n",
      "\n",
      "Topic 3:\n",
      "terminos  opciones  cientificas  febrero  barcazas  tripulantes  necesidad  fruto  partitura  compromiso \n",
      "\n",
      "Topic 4:\n",
      "ensayo  producto  extracciones  productor  fallecimiento  familia  eventos  redes  formas  hipocresia \n",
      "\n",
      "Topic 5:\n",
      "seguridad  cautela  participacion  masa  bandas  parametros  boleto  dotaciones  barrios  carabineros \n",
      "\n",
      "Topic 6:\n",
      "turismo  equipos  multas  agente  aparicion  ciencias  millones  tejemanejes  ganas  plantas \n",
      "\n",
      "Topic 7:\n",
      "cuestiones  funciones  domingo  cambio  inundaciones  coronavirus  momento  mercado  euros  tortilla \n",
      "\n",
      "Topic 8:\n",
      "agua  tema  importancia  parte  habitantes  recurso  ente  invierno  lentitud  cantante \n",
      "\n",
      "Topic 9:\n",
      "telefonazo  vez  fichajes  vuelos  tramites  colaboracion  fraude  militancia  referentes  fiscalia \n",
      "\n",
      "Topic 10:\n",
      "fiscalia  progreso  germenes  caso  interlocutores  patrimonio  intercambio  precaucion  ciberseguridad  consecuencia \n",
      "\n",
      "Topic 11:\n",
      "bondad  alarma  consenso  lado  cena  calzado  jamas  millones  militante  embargo \n",
      "\n",
      "Topic 12:\n",
      "protocolos  caso  grupos  medidas  brochazos  pueblos  adenovirus  salud  competencias  impacto \n",
      "\n",
      "Topic 13:\n",
      "edad  situacion  macarrones  coche  comunicador  resultado  madrugada  cerros  habilidades  agua \n",
      "\n",
      "Topic 14:\n",
      "contexto  lides  mujer  bronca  sala  firma  modelo  repudio  manifiesto  coronavirus \n",
      "\n",
      "Topic 15:\n",
      "juego  presidente  sistema  basta  beisbol  esposa  normativa  fallo  dolosos  partidos \n",
      "\n",
      "Topic 16:\n",
      "conceptos  colaboracion  ambientes  gente  profesionalidad  capacidad  mirada  voluntad  relevancia  intenciones \n",
      "\n",
      "Topic 17:\n",
      "limitaciones  eventos  mascarilla  sindicatos  instancias  edad  museos  veces  comicios  golpe \n",
      "\n",
      "Topic 18:\n",
      "semillas  coronavirus  maniobra  lazo  emblematicoslos  libro  plazos  manera  heroes  test \n",
      "\n",
      "Topic 19:\n",
      "efectos  pasaporte  desapercibidos  tipo  ejemplo  surja  aprobacion  ores  habia  desarrollarlos \n",
      "\n"
     ]
    }
   ],
   "source": [
    "# hdpmodel.show_topics() \n",
    "\n",
    "display_topics(hdpmodel, model_type=\"hdp\")"
   ]
  },
  {
   "cell_type": "markdown",
   "metadata": {},
   "source": [
    "as we could see there are 20 topics, however is kind of dificult to interpret or follow, so we decide to move to another model."
   ]
  },
  {
   "cell_type": "code",
   "execution_count": 67,
   "metadata": {},
   "outputs": [],
   "source": [
    "def evaluate_graph(dictionary, corpus, texts, limit, model):\n",
    "    \"\"\"\n",
    "    Function to display num_topics - LDA graph using c_v coherence\n",
    "    \n",
    "    Parameters:\n",
    "    ----------\n",
    "    dictionary : Gensim dictionary\n",
    "    corpus : Gensim corpus\n",
    "    limit : topic limit\n",
    "    \n",
    "    Returns:\n",
    "    -------\n",
    "    lm_list : List of LDA topic models\n",
    "    c_v : Coherence values corresponding to the LDA model with respective number of topics\n",
    "    \"\"\"\n",
    "    c_v = []\n",
    "    lm_list = []\n",
    "    for num_topics in range(1, limit):\n",
    "        if model == 'lsi':\n",
    "          lm = LsiModel(corpus=corpus, num_topics=num_topics, id2word=dictionary)\n",
    "        else:\n",
    "          lm = LdaModel(corpus=corpus, num_topics=num_topics, id2word=dictionary)\n",
    "        lm_list.append(lm)\n",
    "        cm = CoherenceModel(model=lm, texts=texts, dictionary=dictionary, coherence='c_v')\n",
    "        c_v.append(cm.get_coherence())\n",
    "        \n",
    "    # Show graph\n",
    "    x = range(1, limit)\n",
    "    plt.plot(x, c_v)\n",
    "    plt.xlabel(\"num_topics\")\n",
    "    plt.ylabel(\"Coherence score\")\n",
    "    plt.legend((\"c_v\"), loc='best')\n",
    "    plt.show()\n",
    "    \n",
    "    return lm_list, c_v"
   ]
  },
  {
   "cell_type": "markdown",
   "metadata": {},
   "source": [
    "## LSI MODEL"
   ]
  },
  {
   "cell_type": "code",
   "execution_count": 68,
   "metadata": {},
   "outputs": [],
   "source": [
    "lsimodel = LsiModel(corpus=corpus, num_topics=10, id2word=dictionary)"
   ]
  },
  {
   "cell_type": "code",
   "execution_count": 69,
   "metadata": {},
   "outputs": [
    {
     "name": "stdout",
     "output_type": "stream",
     "text": [
      "Topic 0:\n",
      "personas parte tambien caso coronavirus medidas casos mujeres tipo forma \n",
      "\n",
      "Topic 1:\n",
      "delitos periodo respecto cifras coronavirus derechos denuncias octubre prisiones ilegalidades \n",
      "\n",
      "Topic 2:\n",
      "coronavirus parte medidas casos mujeres riesgo caso delitos casa dia \n",
      "\n",
      "Topic 3:\n",
      "juego bar partidos sistema entrenador coronavirus parte equipos jugadores partido \n",
      "\n",
      "Topic 4:\n",
      "juego mujeres bar coronavirus partidos sistema agua caso tambien casa \n",
      "\n",
      "Topic 5:\n",
      "agua presidente ejemplo tema animales acuerdo mosquitos euros personas naturaleza \n",
      "\n",
      "Topic 6:\n",
      "mujeres agua caso mujer presidente parte millones euros gente medidas \n",
      "\n",
      "Topic 7:\n",
      "mujeres agua ejemplo violencia coronavirus tema mujer animales habitantes millones \n",
      "\n",
      "Topic 8:\n",
      "mujeres cabeza millones gente caso euros presidente violencia medidas agua \n",
      "\n",
      "Topic 9:\n",
      "presidente acuerdo gente euros cabeza violencia millones elecciones partido forma \n",
      "\n"
     ]
    }
   ],
   "source": [
    "display_topics(lsimodel)  # Showing the topics"
   ]
  },
  {
   "cell_type": "markdown",
   "metadata": {},
   "source": [
    "It seen that with 10 topics there is some themes with keywords related to: trump, venezuela, police, electiones, terrorism; still is a little difficult to gt some insight, because of this we are trying to select the best number of topics by iterate over a range of values and looking the coherence"
   ]
  },
  {
   "cell_type": "code",
   "execution_count": 77,
   "metadata": {},
   "outputs": [],
   "source": [
    "import matplotlib.pyplot as plt"
   ]
  },
  {
   "cell_type": "code",
   "execution_count": 70,
   "metadata": {},
   "outputs": [
    {
     "data": {
      "image/png": "[encoded data removed]",
      "text/plain": [
       "<Figure size 432x288 with 1 Axes>"
      ]
     },
     "metadata": {
      "needs_background": "light"
     },
     "output_type": "display_data"
    },
    {
     "name": "stdout",
     "output_type": "stream",
     "text": [
      "Wall time: 3min 39s\n"
     ]
    }
   ],
   "source": [
    "%%time\n",
    "lmlist_lsi, c_v = evaluate_graph(dictionary=dictionary, corpus=corpus, texts=df_news['cuerpo'].to_list(), limit=21, model= \"lsi\")"
   ]
  },
  {
   "cell_type": "code",
   "execution_count": 71,
   "metadata": {},
   "outputs": [
    {
     "name": "stdout",
     "output_type": "stream",
     "text": [
      "Topic 0:\n",
      "personas parte tambien caso coronavirus medidas casos mujeres tipo forma \n",
      "\n",
      "Topic 1:\n",
      "delitos periodo respecto cifras coronavirus derechos denuncias octubre prisiones ilegalidades \n",
      "\n",
      "Topic 2:\n",
      "coronavirus parte medidas casos mujeres riesgo caso delitos casa dia \n",
      "\n"
     ]
    }
   ],
   "source": [
    "display_topics(lmlist_lsi[2])"
   ]
  },
  {
   "cell_type": "markdown",
   "metadata": {},
   "source": [
    "Now, Let's try another model"
   ]
  },
  {
   "cell_type": "markdown",
   "metadata": {},
   "source": [
    "#### Latent Dirichlet Allocation Model"
   ]
  },
  {
   "cell_type": "code",
   "execution_count": 72,
   "metadata": {},
   "outputs": [],
   "source": [
    "ldamodel = LdaModel(corpus=corpus, num_topics=10, id2word=dictionary)"
   ]
  },
  {
   "cell_type": "code",
   "execution_count": 74,
   "metadata": {},
   "outputs": [
    {
     "name": "stdout",
     "output_type": "stream",
     "text": [
      "Topic 0:\n",
      "coronavirus tipo millones personas virus medidas equipo tambien forma riesgo \n",
      "\n",
      "Topic 1:\n",
      "personas violencia momento medidas tambien semana horas tiempo parte presidente \n",
      "\n",
      "Topic 2:\n",
      "presidente parte tambien acuerdo persona elecciones horas casa equipo meses \n",
      "\n",
      "Topic 3:\n",
      "caso coronavirus casos riesgo personas medidas parte tambien tipo euros \n",
      "\n",
      "Topic 4:\n",
      "euros tambien delitos cifras personas mes serie millones marzo dia \n",
      "\n",
      "Topic 5:\n",
      "mujeres tambien parte mujer personas mundo medidas tema muerte marzo \n",
      "\n",
      "Topic 6:\n",
      "numeros lugar proceso combinacion personas horas sistema parte dia licitacion \n",
      "\n",
      "Topic 7:\n",
      "tambien mujeres personas marzo mujer caso vez parte forma violencia \n",
      "\n",
      "Topic 8:\n",
      "coronavirus casos medidas lugar tambien parte personas noticias horas grupo \n",
      "\n",
      "Topic 9:\n",
      "respecto tambien caso parte personas delitos horas casos medidas presidente \n",
      "\n"
     ]
    }
   ],
   "source": [
    "display_topics(ldamodel)"
   ]
  },
  {
   "cell_type": "code",
   "execution_count": 76,
   "metadata": {},
   "outputs": [
    {
     "data": {
      "image/png": "[encoded data removed]",
      "text/plain": [
       "<Figure size 432x288 with 1 Axes>"
      ]
     },
     "metadata": {
      "needs_background": "light"
     },
     "output_type": "display_data"
    },
    {
     "name": "stdout",
     "output_type": "stream",
     "text": [
      "Wall time: 3min 51s\n"
     ]
    }
   ],
   "source": [
    "%%time\n",
    "lmlist, c_v = evaluate_graph(dictionary=dictionary, corpus=corpus, texts=df_news['cuerpo'].to_list(), limit=21, model= \"lda\")"
   ]
  },
  {
   "cell_type": "markdown",
   "metadata": {},
   "source": [
    "Comparing the Model Coherence of the Best Models\n",
    "we made 3 models, now let's compare each other's coherence"
   ]
  },
  {
   "cell_type": "code",
   "execution_count": 78,
   "metadata": {},
   "outputs": [],
   "source": [
    "ldamodel = lmlist[11]\n",
    "lsimodel = lmlist_lsi[2]\n",
    "\n",
    "lsitopics = [[word for word, prob in topic] for topicid, topic in lsimodel.show_topics(formatted=False)]\n",
    "\n",
    "hdptopics = [[word for word, prob in topic] for topicid, topic in hdpmodel.show_topics(formatted=False)]\n",
    "\n",
    "ldatopics = [[word for word, prob in topic] for topicid, topic in ldamodel.show_topics(formatted=False)]"
   ]
  },
  {
   "cell_type": "code",
   "execution_count": 80,
   "metadata": {},
   "outputs": [],
   "source": [
    "lsi_coherence = CoherenceModel(topics=lsitopics[:10], texts=df_news['cuerpo'].to_list(), dictionary=dictionary, window_size=10).get_coherence()\n",
    "\n",
    "hdp_coherence = CoherenceModel(topics=hdptopics[:10], texts=df_news['cuerpo'].to_list(), dictionary=dictionary, window_size=10).get_coherence()\n",
    "\n",
    "lda_coherence = CoherenceModel(topics=ldatopics, texts=df_news['cuerpo'].to_list(), dictionary=dictionary, window_size=10).get_coherence()"
   ]
  },
  {
   "cell_type": "code",
   "execution_count": 81,
   "metadata": {},
   "outputs": [
    {
     "data": {
      "text/plain": [
       "<matplotlib.axes._subplots.AxesSubplot at 0x3f4e4a08>"
      ]
     },
     "execution_count": 81,
     "metadata": {},
     "output_type": "execute_result"
    },
    {
     "data": {
      "image/png": "[encoded data removed]",
      "text/plain": [
       "<Figure size 432x288 with 1 Axes>"
      ]
     },
     "metadata": {
      "needs_background": "light"
     },
     "output_type": "display_data"
    }
   ],
   "source": [
    "import seaborn as sns\n",
    "\n",
    "coherences = [lsi_coherence, hdp_coherence, lda_coherence]\n",
    "n = len(coherences)\n",
    "x = ['lsi_coherence','hdp_coherence', 'lda_coherence']\n",
    "sns.barplot(x, coherences)"
   ]
  },
  {
   "cell_type": "markdown",
   "metadata": {},
   "source": [
    "We can see that the LdaModel model with 8 topics has the higher value of coherence\n",
    "\n",
    "Examine the keyword to get the topics of the best model"
   ]
  },
  {
   "cell_type": "code",
   "execution_count": 91,
   "metadata": {},
   "outputs": [
    {
     "name": "stdout",
     "output_type": "stream",
     "text": [
      "Topic 0:\n",
      "parte  familia  personas  restos  alza  partido  resultado  marzo  forma  casa \n",
      "\n",
      "Topic 1:\n",
      "medidas  caso  coronavirus  casos  momento  riesgo  millones  consensos  noticias  contactos \n",
      "\n",
      "Topic 2:\n",
      "delitos  denuncias  periodo  respecto  misterios  cifras  racionamiento  ilegalidades  caso  octubre \n",
      "\n",
      "Topic 3:\n",
      "terminos  opciones  cientificas  febrero  barcazas  tripulantes  necesidad  fruto  partitura  compromiso \n",
      "\n",
      "Topic 4:\n",
      "ensayo  producto  extracciones  productor  fallecimiento  familia  eventos  redes  formas  hipocresia \n",
      "\n",
      "Topic 5:\n",
      "seguridad  cautela  participacion  masa  bandas  parametros  boleto  dotaciones  barrios  carabineros \n",
      "\n",
      "Topic 6:\n",
      "turismo  equipos  multas  agente  aparicion  ciencias  millones  tejemanejes  ganas  plantas \n",
      "\n",
      "Topic 7:\n",
      "cuestiones  funciones  domingo  cambio  inundaciones  coronavirus  momento  mercado  euros  tortilla \n",
      "\n",
      "Topic 8:\n",
      "agua  tema  importancia  parte  habitantes  recurso  ente  invierno  lentitud  cantante \n",
      "\n",
      "Topic 9:\n",
      "telefonazo  vez  fichajes  vuelos  tramites  colaboracion  fraude  militancia  referentes  fiscalia \n",
      "\n",
      "Topic 10:\n",
      "fiscalia  progreso  germenes  caso  interlocutores  patrimonio  intercambio  precaucion  ciberseguridad  consecuencia \n",
      "\n",
      "Topic 11:\n",
      "bondad  alarma  consenso  lado  cena  calzado  jamas  millones  militante  embargo \n",
      "\n",
      "Topic 12:\n",
      "protocolos  caso  grupos  medidas  brochazos  pueblos  adenovirus  salud  competencias  impacto \n",
      "\n",
      "Topic 13:\n",
      "edad  situacion  macarrones  coche  comunicador  resultado  madrugada  cerros  habilidades  agua \n",
      "\n",
      "Topic 14:\n",
      "contexto  lides  mujer  bronca  sala  firma  modelo  repudio  manifiesto  coronavirus \n",
      "\n",
      "Topic 15:\n",
      "juego  presidente  sistema  basta  beisbol  esposa  normativa  fallo  dolosos  partidos \n",
      "\n",
      "Topic 16:\n",
      "conceptos  colaboracion  ambientes  gente  profesionalidad  capacidad  mirada  voluntad  relevancia  intenciones \n",
      "\n",
      "Topic 17:\n",
      "limitaciones  eventos  mascarilla  sindicatos  instancias  edad  museos  veces  comicios  golpe \n",
      "\n",
      "Topic 18:\n",
      "semillas  coronavirus  maniobra  lazo  emblematicoslos  libro  plazos  manera  heroes  test \n",
      "\n",
      "Topic 19:\n",
      "efectos  pasaporte  desapercibidos  tipo  ejemplo  surja  aprobacion  ores  habia  desarrollarlos \n",
      "\n"
     ]
    }
   ],
   "source": [
    "display_topics(hdpmodel, model_type=\"hdp\")"
   ]
  },
  {
   "cell_type": "markdown",
   "metadata": {},
   "source": [
    "Classifiying all documents\n",
    "now that we have been select the best model and topics number, is time to assign a topic to each document, means cluster according to the topics"
   ]
  },
  {
   "cell_type": "code",
   "execution_count": 88,
   "metadata": {},
   "outputs": [],
   "source": [
    "def format_topics_sentences(ldamodel=0, corpus=corpus, texts=0):\n",
    "    # Init output\n",
    "    sent_topics_df = pd.DataFrame()-n\n",
    "\n",
    "    # Get main topic in each document\n",
    "    for i, row in enumerate(ldamodel[corpus]):\n",
    "        row = sorted(row, key=lambda x: (x[1]), reverse=True)\n",
    "        # Get the Dominant topic, Perc Contribution and Keywords for each document\n",
    "        for j, (topic_num, prop_topic) in enumerate(row):\n",
    "            if j == 0:  # => dominant topic\n",
    "                wp = ldamodel.show_topic(topic_num)\n",
    "                topic_keywords = \", \".join([word for word, prop in wp])\n",
    "                sent_topics_df = sent_topics_df.append(pd.Series([int(topic_num), round(prop_topic,4), topic_keywords]), ignore_index=True)\n",
    "            else:\n",
    "                break\n",
    "    sent_topics_df.columns = ['Dominant_Topic', 'Perc_Contribution', 'Topic_Keywords']\n",
    "\n",
    "    # Add original text to the end of the output\n",
    "    contents = pd.Series(texts)\n",
    "    sent_topics_df = pd.concat([sent_topics_df, contents], axis=1)\n",
    "    return(sent_topics_df)\n",
    "\n",
    "\n",
    "df_topic_sents_keywords = format_topics_sentences(ldamodel, corpus=corpus, texts=df_news['cuerpo'].to_list())"
   ]
  },
  {
   "cell_type": "code",
   "execution_count": 89,
   "metadata": {},
   "outputs": [
    {
     "data": {
      "text/html": [
       "<div>\n",
       "<style scoped>\n",
       "    .dataframe tbody tr th:only-of-type {\n",
       "        vertical-align: middle;\n",
       "    }\n",
       "\n",
       "    .dataframe tbody tr th {\n",
       "        vertical-align: top;\n",
       "    }\n",
       "\n",
       "    .dataframe thead th {\n",
       "        text-align: right;\n",
       "    }\n",
       "</style>\n",
       "<table border=\"1\" class=\"dataframe\">\n",
       "  <thead>\n",
       "    <tr style=\"text-align: right;\">\n",
       "      <th></th>\n",
       "      <th>Document_No</th>\n",
       "      <th>Dominant_Topic</th>\n",
       "      <th>Topic_Perc_Contrib</th>\n",
       "      <th>Keywords</th>\n",
       "      <th>Text</th>\n",
       "    </tr>\n",
       "  </thead>\n",
       "  <tbody>\n",
       "    <tr>\n",
       "      <th>0</th>\n",
       "      <td>0</td>\n",
       "      <td>4.0</td>\n",
       "      <td>0.9787</td>\n",
       "      <td>coronavirus, medidas, casos, personas, tambien...</td>\n",
       "      <td>[medidas, entrega, hospitales, nivel, padre, c...</td>\n",
       "    </tr>\n",
       "    <tr>\n",
       "      <th>1</th>\n",
       "      <td>1</td>\n",
       "      <td>11.0</td>\n",
       "      <td>0.9461</td>\n",
       "      <td>presidente, violencia, tambien, acuerdo, perso...</td>\n",
       "      <td>[reclamo, octubre, exceso, costos, carga, octu...</td>\n",
       "    </tr>\n",
       "    <tr>\n",
       "      <th>2</th>\n",
       "      <td>2</td>\n",
       "      <td>7.0</td>\n",
       "      <td>0.9563</td>\n",
       "      <td>caso, casos, riesgo, personas, coronavirus, pa...</td>\n",
       "      <td>[detecto, caso, acuerdo, criterios, familia, f...</td>\n",
       "    </tr>\n",
       "    <tr>\n",
       "      <th>3</th>\n",
       "      <td>3</td>\n",
       "      <td>4.0</td>\n",
       "      <td>0.9771</td>\n",
       "      <td>coronavirus, medidas, casos, personas, tambien...</td>\n",
       "      <td>[resultados, examen, casos, paciente, hospital...</td>\n",
       "    </tr>\n",
       "    <tr>\n",
       "      <th>4</th>\n",
       "      <td>4</td>\n",
       "      <td>3.0</td>\n",
       "      <td>0.9813</td>\n",
       "      <td>mujeres, agua, tambien, parte, mundo, horas, l...</td>\n",
       "      <td>[fallecimientos, enfermedades, acciones, ejerc...</td>\n",
       "    </tr>\n",
       "    <tr>\n",
       "      <th>5</th>\n",
       "      <td>5</td>\n",
       "      <td>0.0</td>\n",
       "      <td>0.5410</td>\n",
       "      <td>coronavirus, tambien, personas, medidas, caso,...</td>\n",
       "      <td>[semanas, protocolo, manejo, control, coronavi...</td>\n",
       "    </tr>\n",
       "    <tr>\n",
       "      <th>6</th>\n",
       "      <td>6</td>\n",
       "      <td>0.0</td>\n",
       "      <td>0.6921</td>\n",
       "      <td>coronavirus, tambien, personas, medidas, caso,...</td>\n",
       "      <td>[estudiante, transito, aislamiento, mascarilla...</td>\n",
       "    </tr>\n",
       "    <tr>\n",
       "      <th>7</th>\n",
       "      <td>7</td>\n",
       "      <td>2.0</td>\n",
       "      <td>0.9918</td>\n",
       "      <td>caso, coronavirus, medidas, tambien, euros, vi...</td>\n",
       "      <td>[enfermedad, causa, programa, frecuencia, sist...</td>\n",
       "    </tr>\n",
       "    <tr>\n",
       "      <th>8</th>\n",
       "      <td>8</td>\n",
       "      <td>7.0</td>\n",
       "      <td>0.9859</td>\n",
       "      <td>caso, casos, riesgo, personas, coronavirus, pa...</td>\n",
       "      <td>[popularidad, recintos, camping, actividades, ...</td>\n",
       "    </tr>\n",
       "    <tr>\n",
       "      <th>9</th>\n",
       "      <td>9</td>\n",
       "      <td>10.0</td>\n",
       "      <td>0.9805</td>\n",
       "      <td>presidente, parte, tambien, millones, ministro...</td>\n",
       "      <td>[instancia, exportaciones, mercados, producto,...</td>\n",
       "    </tr>\n",
       "  </tbody>\n",
       "</table>\n",
       "</div>"
      ],
      "text/plain": [
       "   Document_No  Dominant_Topic  Topic_Perc_Contrib  \\\n",
       "0            0             4.0              0.9787   \n",
       "1            1            11.0              0.9461   \n",
       "2            2             7.0              0.9563   \n",
       "3            3             4.0              0.9771   \n",
       "4            4             3.0              0.9813   \n",
       "5            5             0.0              0.5410   \n",
       "6            6             0.0              0.6921   \n",
       "7            7             2.0              0.9918   \n",
       "8            8             7.0              0.9859   \n",
       "9            9            10.0              0.9805   \n",
       "\n",
       "                                            Keywords  \\\n",
       "0  coronavirus, medidas, casos, personas, tambien...   \n",
       "1  presidente, violencia, tambien, acuerdo, perso...   \n",
       "2  caso, casos, riesgo, personas, coronavirus, pa...   \n",
       "3  coronavirus, medidas, casos, personas, tambien...   \n",
       "4  mujeres, agua, tambien, parte, mundo, horas, l...   \n",
       "5  coronavirus, tambien, personas, medidas, caso,...   \n",
       "6  coronavirus, tambien, personas, medidas, caso,...   \n",
       "7  caso, coronavirus, medidas, tambien, euros, vi...   \n",
       "8  caso, casos, riesgo, personas, coronavirus, pa...   \n",
       "9  presidente, parte, tambien, millones, ministro...   \n",
       "\n",
       "                                                Text  \n",
       "0  [medidas, entrega, hospitales, nivel, padre, c...  \n",
       "1  [reclamo, octubre, exceso, costos, carga, octu...  \n",
       "2  [detecto, caso, acuerdo, criterios, familia, f...  \n",
       "3  [resultados, examen, casos, paciente, hospital...  \n",
       "4  [fallecimientos, enfermedades, acciones, ejerc...  \n",
       "5  [semanas, protocolo, manejo, control, coronavi...  \n",
       "6  [estudiante, transito, aislamiento, mascarilla...  \n",
       "7  [enfermedad, causa, programa, frecuencia, sist...  \n",
       "8  [popularidad, recintos, camping, actividades, ...  \n",
       "9  [instancia, exportaciones, mercados, producto,...  "
      ]
     },
     "execution_count": 89,
     "metadata": {},
     "output_type": "execute_result"
    }
   ],
   "source": [
    "# Format\n",
    "df_dominant_topic = df_topic_sents_keywords.reset_index()\n",
    "df_dominant_topic.columns = ['Document_No', 'Dominant_Topic', 'Topic_Perc_Contrib', 'Keywords', 'Text']\n",
    "\n",
    "# Show\n",
    "df_dominant_topic.head(10)"
   ]
  },
  {
   "cell_type": "markdown",
   "metadata": {},
   "source": [
    "We selected the ldamodel with 12 topics and asigned a dominant topic to each document, now let map each topic with a label\n",
    "\n",
    "first let's create the dictionary"
   ]
  },
  {
   "cell_type": "code",
   "execution_count": 92,
   "metadata": {},
   "outputs": [],
   "source": [
    "label_dicc = {0:'Politica', 1:'polit-corav', 2:'negociaciones', 3: 'viaje_bar',\n",
    "              4:'life_family', 5:'sea_disasters', 6:'elections', \n",
    "              7:'terrorism', 8:'economic_crisis', 9: 'seism', \n",
    "              10:'peacy_treaty', 11:'airport_security'}"
   ]
  },
  {
   "cell_type": "code",
   "execution_count": 93,
   "metadata": {},
   "outputs": [],
   "source": [
    "df_dominant_topic['Dominant_Topic'] = df_dominant_topic['Dominant_Topic'].astype('int64')"
   ]
  },
  {
   "cell_type": "code",
   "execution_count": 94,
   "metadata": {},
   "outputs": [
    {
     "data": {
      "text/html": [
       "<div>\n",
       "<style scoped>\n",
       "    .dataframe tbody tr th:only-of-type {\n",
       "        vertical-align: middle;\n",
       "    }\n",
       "\n",
       "    .dataframe tbody tr th {\n",
       "        vertical-align: top;\n",
       "    }\n",
       "\n",
       "    .dataframe thead th {\n",
       "        text-align: right;\n",
       "    }\n",
       "</style>\n",
       "<table border=\"1\" class=\"dataframe\">\n",
       "  <thead>\n",
       "    <tr style=\"text-align: right;\">\n",
       "      <th></th>\n",
       "      <th>Document_No</th>\n",
       "      <th>Dominant_Topic</th>\n",
       "      <th>Topic_Perc_Contrib</th>\n",
       "      <th>Keywords</th>\n",
       "      <th>Text</th>\n",
       "    </tr>\n",
       "  </thead>\n",
       "  <tbody>\n",
       "    <tr>\n",
       "      <th>0</th>\n",
       "      <td>0</td>\n",
       "      <td>life_family</td>\n",
       "      <td>0.9787</td>\n",
       "      <td>coronavirus, medidas, casos, personas, tambien...</td>\n",
       "      <td>[medidas, entrega, hospitales, nivel, padre, c...</td>\n",
       "    </tr>\n",
       "    <tr>\n",
       "      <th>1</th>\n",
       "      <td>1</td>\n",
       "      <td>airport_security</td>\n",
       "      <td>0.9461</td>\n",
       "      <td>presidente, violencia, tambien, acuerdo, perso...</td>\n",
       "      <td>[reclamo, octubre, exceso, costos, carga, octu...</td>\n",
       "    </tr>\n",
       "    <tr>\n",
       "      <th>2</th>\n",
       "      <td>2</td>\n",
       "      <td>terrorism</td>\n",
       "      <td>0.9563</td>\n",
       "      <td>caso, casos, riesgo, personas, coronavirus, pa...</td>\n",
       "      <td>[detecto, caso, acuerdo, criterios, familia, f...</td>\n",
       "    </tr>\n",
       "    <tr>\n",
       "      <th>3</th>\n",
       "      <td>3</td>\n",
       "      <td>life_family</td>\n",
       "      <td>0.9771</td>\n",
       "      <td>coronavirus, medidas, casos, personas, tambien...</td>\n",
       "      <td>[resultados, examen, casos, paciente, hospital...</td>\n",
       "    </tr>\n",
       "    <tr>\n",
       "      <th>4</th>\n",
       "      <td>4</td>\n",
       "      <td>protest</td>\n",
       "      <td>0.9813</td>\n",
       "      <td>mujeres, agua, tambien, parte, mundo, horas, l...</td>\n",
       "      <td>[fallecimientos, enfermedades, acciones, ejerc...</td>\n",
       "    </tr>\n",
       "    <tr>\n",
       "      <th>5</th>\n",
       "      <td>5</td>\n",
       "      <td>trials</td>\n",
       "      <td>0.5410</td>\n",
       "      <td>coronavirus, tambien, personas, medidas, caso,...</td>\n",
       "      <td>[semanas, protocolo, manejo, control, coronavi...</td>\n",
       "    </tr>\n",
       "    <tr>\n",
       "      <th>6</th>\n",
       "      <td>6</td>\n",
       "      <td>trials</td>\n",
       "      <td>0.6921</td>\n",
       "      <td>coronavirus, tambien, personas, medidas, caso,...</td>\n",
       "      <td>[estudiante, transito, aislamiento, mascarilla...</td>\n",
       "    </tr>\n",
       "    <tr>\n",
       "      <th>7</th>\n",
       "      <td>7</td>\n",
       "      <td>violence</td>\n",
       "      <td>0.9918</td>\n",
       "      <td>caso, coronavirus, medidas, tambien, euros, vi...</td>\n",
       "      <td>[enfermedad, causa, programa, frecuencia, sist...</td>\n",
       "    </tr>\n",
       "    <tr>\n",
       "      <th>8</th>\n",
       "      <td>8</td>\n",
       "      <td>terrorism</td>\n",
       "      <td>0.9859</td>\n",
       "      <td>caso, casos, riesgo, personas, coronavirus, pa...</td>\n",
       "      <td>[popularidad, recintos, camping, actividades, ...</td>\n",
       "    </tr>\n",
       "    <tr>\n",
       "      <th>9</th>\n",
       "      <td>9</td>\n",
       "      <td>peacy_treaty</td>\n",
       "      <td>0.9805</td>\n",
       "      <td>presidente, parte, tambien, millones, ministro...</td>\n",
       "      <td>[instancia, exportaciones, mercados, producto,...</td>\n",
       "    </tr>\n",
       "  </tbody>\n",
       "</table>\n",
       "</div>"
      ],
      "text/plain": [
       "   Document_No    Dominant_Topic  Topic_Perc_Contrib  \\\n",
       "0            0       life_family              0.9787   \n",
       "1            1  airport_security              0.9461   \n",
       "2            2         terrorism              0.9563   \n",
       "3            3       life_family              0.9771   \n",
       "4            4           protest              0.9813   \n",
       "5            5            trials              0.5410   \n",
       "6            6            trials              0.6921   \n",
       "7            7          violence              0.9918   \n",
       "8            8         terrorism              0.9859   \n",
       "9            9      peacy_treaty              0.9805   \n",
       "\n",
       "                                            Keywords  \\\n",
       "0  coronavirus, medidas, casos, personas, tambien...   \n",
       "1  presidente, violencia, tambien, acuerdo, perso...   \n",
       "2  caso, casos, riesgo, personas, coronavirus, pa...   \n",
       "3  coronavirus, medidas, casos, personas, tambien...   \n",
       "4  mujeres, agua, tambien, parte, mundo, horas, l...   \n",
       "5  coronavirus, tambien, personas, medidas, caso,...   \n",
       "6  coronavirus, tambien, personas, medidas, caso,...   \n",
       "7  caso, coronavirus, medidas, tambien, euros, vi...   \n",
       "8  caso, casos, riesgo, personas, coronavirus, pa...   \n",
       "9  presidente, parte, tambien, millones, ministro...   \n",
       "\n",
       "                                                Text  \n",
       "0  [medidas, entrega, hospitales, nivel, padre, c...  \n",
       "1  [reclamo, octubre, exceso, costos, carga, octu...  \n",
       "2  [detecto, caso, acuerdo, criterios, familia, f...  \n",
       "3  [resultados, examen, casos, paciente, hospital...  \n",
       "4  [fallecimientos, enfermedades, acciones, ejerc...  \n",
       "5  [semanas, protocolo, manejo, control, coronavi...  \n",
       "6  [estudiante, transito, aislamiento, mascarilla...  \n",
       "7  [enfermedad, causa, programa, frecuencia, sist...  \n",
       "8  [popularidad, recintos, camping, actividades, ...  \n",
       "9  [instancia, exportaciones, mercados, producto,...  "
      ]
     },
     "execution_count": 94,
     "metadata": {},
     "output_type": "execute_result"
    }
   ],
   "source": [
    "df_dominant_topic['Dominant_Topic'] = df_dominant_topic['Dominant_Topic'].map(label_dicc)\n",
    "df_dominant_topic.head(10)"
   ]
  },
  {
   "cell_type": "code",
   "execution_count": 95,
   "metadata": {},
   "outputs": [],
   "source": [
    "df_news['labels'] = df_dominant_topic['Dominant_Topic']"
   ]
  },
  {
   "cell_type": "code",
   "execution_count": 96,
   "metadata": {},
   "outputs": [
    {
     "data": {
      "text/html": [
       "<div>\n",
       "<style scoped>\n",
       "    .dataframe tbody tr th:only-of-type {\n",
       "        vertical-align: middle;\n",
       "    }\n",
       "\n",
       "    .dataframe tbody tr th {\n",
       "        vertical-align: top;\n",
       "    }\n",
       "\n",
       "    .dataframe thead th {\n",
       "        text-align: right;\n",
       "    }\n",
       "</style>\n",
       "<table border=\"1\" class=\"dataframe\">\n",
       "  <thead>\n",
       "    <tr style=\"text-align: right;\">\n",
       "      <th></th>\n",
       "      <th>text2</th>\n",
       "      <th>labels</th>\n",
       "    </tr>\n",
       "  </thead>\n",
       "  <tbody>\n",
       "    <tr>\n",
       "      <th>0</th>\n",
       "      <td>['Una de las medidas adoptadas será adelantar ...</td>\n",
       "      <td>life_family</td>\n",
       "    </tr>\n",
       "    <tr>\n",
       "      <th>1</th>\n",
       "      <td>['En tanto, quienes no se acogieron a este rec...</td>\n",
       "      <td>airport_security</td>\n",
       "    </tr>\n",
       "    <tr>\n",
       "      <th>2</th>\n",
       "      <td>['En tanto, la Seremi de Salud de la Región de...</td>\n",
       "      <td>terrorism</td>\n",
       "    </tr>\n",
       "    <tr>\n",
       "      <th>3</th>\n",
       "      <td>['El centro asistencia de la FACh está a la es...</td>\n",
       "      <td>life_family</td>\n",
       "    </tr>\n",
       "    <tr>\n",
       "      <th>4</th>\n",
       "      <td>['El 30% de los fallecimientos en nuestro país...</td>\n",
       "      <td>protest</td>\n",
       "    </tr>\n",
       "    <tr>\n",
       "      <th>5</th>\n",
       "      <td>['La Seremi de la Región Metropolitana comenzó...</td>\n",
       "      <td>trials</td>\n",
       "    </tr>\n",
       "    <tr>\n",
       "      <th>6</th>\n",
       "      <td>['La seremi de Salud RM, Rosa Oyarce, explicó ...</td>\n",
       "      <td>trials</td>\n",
       "    </tr>\n",
       "    <tr>\n",
       "      <th>7</th>\n",
       "      <td>['Según el Registro Nacional de Cáncer Infanti...</td>\n",
       "      <td>violence</td>\n",
       "    </tr>\n",
       "    <tr>\n",
       "      <th>8</th>\n",
       "      <td>['La popularidad de los recintos con camping, ...</td>\n",
       "      <td>terrorism</td>\n",
       "    </tr>\n",
       "    <tr>\n",
       "      <th>9</th>\n",
       "      <td>['En la instancia se analizó la situación que ...</td>\n",
       "      <td>peacy_treaty</td>\n",
       "    </tr>\n",
       "  </tbody>\n",
       "</table>\n",
       "</div>"
      ],
      "text/plain": [
       "                                               text2            labels\n",
       "0  ['Una de las medidas adoptadas será adelantar ...       life_family\n",
       "1  ['En tanto, quienes no se acogieron a este rec...  airport_security\n",
       "2  ['En tanto, la Seremi de Salud de la Región de...         terrorism\n",
       "3  ['El centro asistencia de la FACh está a la es...       life_family\n",
       "4  ['El 30% de los fallecimientos en nuestro país...           protest\n",
       "5  ['La Seremi de la Región Metropolitana comenzó...            trials\n",
       "6  ['La seremi de Salud RM, Rosa Oyarce, explicó ...            trials\n",
       "7  ['Según el Registro Nacional de Cáncer Infanti...          violence\n",
       "8  ['La popularidad de los recintos con camping, ...         terrorism\n",
       "9  ['En la instancia se analizó la situación que ...      peacy_treaty"
      ]
     },
     "execution_count": 96,
     "metadata": {},
     "output_type": "execute_result"
    }
   ],
   "source": [
    "df_news[['text2', 'labels']].head(10)"
   ]
  },
  {
   "cell_type": "code",
   "execution_count": 99,
   "metadata": {},
   "outputs": [
    {
     "data": {
      "text/plain": [
       "2     ['En tanto, la Seremi de Salud de la Región de...\n",
       "8     ['La popularidad de los recintos con camping, ...\n",
       "11    ['En este caso, se contemplará como posible ca...\n",
       "24    ['En tanto, la Seremi de Salud de la Región de...\n",
       "30    ['La popularidad de los recintos con camping, ...\n",
       "Name: text2, dtype: object"
      ]
     },
     "execution_count": 99,
     "metadata": {},
     "output_type": "execute_result"
    }
   ],
   "source": [
    "df_news[ df_news['labels'] == 'terrorism'].head().text2"
   ]
  },
  {
   "cell_type": "code",
   "execution_count": 102,
   "metadata": {},
   "outputs": [
    {
     "data": {
      "image/png": "[encoded data removed]",
      "text/plain": [
       "<Figure size 432x288 with 1 Axes>"
      ]
     },
     "metadata": {
      "needs_background": "light"
     },
     "output_type": "display_data"
    }
   ],
   "source": [
    "ax = df_dominant_topic['Dominant_Topic'].value_counts().plot(kind='bar')\n",
    "plt.show()"
   ]
  },
  {
   "cell_type": "markdown",
   "metadata": {},
   "source": [
    "The topis are almost balanced, so we are good"
   ]
  },
  {
   "cell_type": "code",
   "execution_count": 103,
   "metadata": {},
   "outputs": [
    {
     "name": "stdout",
     "output_type": "stream",
     "text": [
      "Collecting pyLDAvis\n",
      "  Downloading pyLDAvis-2.1.2.tar.gz (1.6 MB)\n",
      "Requirement already satisfied: wheel>=0.23.0 in c:\\programdata\\anaconda3\\lib\\site-packages (from pyLDAvis) (0.34.2)\n",
      "Requirement already satisfied: numpy>=1.9.2 in c:\\programdata\\anaconda3\\lib\\site-packages (from pyLDAvis) (1.18.1)\n",
      "Requirement already satisfied: scipy>=0.18.0 in c:\\programdata\\anaconda3\\lib\\site-packages (from pyLDAvis) (1.4.1)\n",
      "Requirement already satisfied: pandas>=0.17.0 in c:\\programdata\\anaconda3\\lib\\site-packages (from pyLDAvis) (1.0.1)\n",
      "Requirement already satisfied: joblib>=0.8.4 in c:\\programdata\\anaconda3\\lib\\site-packages (from pyLDAvis) (0.14.1)\n",
      "Requirement already satisfied: jinja2>=2.7.2 in c:\\programdata\\anaconda3\\lib\\site-packages (from pyLDAvis) (2.11.1)\n",
      "Requirement already satisfied: numexpr in c:\\programdata\\anaconda3\\lib\\site-packages (from pyLDAvis) (2.7.1)\n",
      "Requirement already satisfied: pytest in c:\\programdata\\anaconda3\\lib\\site-packages (from pyLDAvis) (5.3.5)\n",
      "Requirement already satisfied: future in c:\\programdata\\anaconda3\\lib\\site-packages (from pyLDAvis) (0.18.2)\n",
      "Collecting funcy\n",
      "  Downloading funcy-1.14.tar.gz (548 kB)\n",
      "Requirement already satisfied: pytz>=2017.2 in c:\\programdata\\anaconda3\\lib\\site-packages (from pandas>=0.17.0->pyLDAvis) (2019.3)\n",
      "Requirement already satisfied: python-dateutil>=2.6.1 in c:\\programdata\\anaconda3\\lib\\site-packages (from pandas>=0.17.0->pyLDAvis) (2.8.1)\n",
      "Requirement already satisfied: MarkupSafe>=0.23 in c:\\programdata\\anaconda3\\lib\\site-packages (from jinja2>=2.7.2->pyLDAvis) (1.1.1)\n",
      "Requirement already satisfied: py>=1.5.0 in c:\\programdata\\anaconda3\\lib\\site-packages (from pytest->pyLDAvis) (1.8.1)\n",
      "Requirement already satisfied: packaging in c:\\programdata\\anaconda3\\lib\\site-packages (from pytest->pyLDAvis) (20.1)\n",
      "Requirement already satisfied: attrs>=17.4.0 in c:\\programdata\\anaconda3\\lib\\site-packages (from pytest->pyLDAvis) (19.3.0)\n",
      "Requirement already satisfied: more-itertools>=4.0.0 in c:\\programdata\\anaconda3\\lib\\site-packages (from pytest->pyLDAvis) (8.2.0)\n",
      "Requirement already satisfied: pluggy<1.0,>=0.12 in c:\\programdata\\anaconda3\\lib\\site-packages (from pytest->pyLDAvis) (0.13.1)\n",
      "Requirement already satisfied: wcwidth in c:\\programdata\\anaconda3\\lib\\site-packages (from pytest->pyLDAvis) (0.1.8)\n",
      "Requirement already satisfied: importlib-metadata>=0.12 in c:\\programdata\\anaconda3\\lib\\site-packages (from pytest->pyLDAvis) (1.5.0)\n",
      "Requirement already satisfied: atomicwrites>=1.0 in c:\\programdata\\anaconda3\\lib\\site-packages (from pytest->pyLDAvis) (1.3.0)\n",
      "Requirement already satisfied: colorama in c:\\programdata\\anaconda3\\lib\\site-packages (from pytest->pyLDAvis) (0.4.3)\n",
      "Requirement already satisfied: six>=1.5 in c:\\programdata\\anaconda3\\lib\\site-packages (from python-dateutil>=2.6.1->pandas>=0.17.0->pyLDAvis) (1.12.0)\n",
      "Requirement already satisfied: pyparsing>=2.0.2 in c:\\programdata\\anaconda3\\lib\\site-packages (from packaging->pytest->pyLDAvis) (2.4.6)\n",
      "Requirement already satisfied: zipp>=0.5 in c:\\programdata\\anaconda3\\lib\\site-packages (from importlib-metadata>=0.12->pytest->pyLDAvis) (2.2.0)\n",
      "Building wheels for collected packages: pyLDAvis, funcy\n",
      "  Building wheel for pyLDAvis (setup.py): started\n",
      "  Building wheel for pyLDAvis (setup.py): finished with status 'done'\n",
      "  Created wheel for pyLDAvis: filename=pyLDAvis-2.1.2-py2.py3-none-any.whl size=97716 sha256=bfa88b2667a896d5c2c2aa5ba5f0d3f2d7a34447f62d707991bb994f4d22aa16\n",
      "  Stored in directory: c:\\users\\administrator\\appdata\\local\\pip\\cache\\wheels\\3b\\fb\\41\\e32e5312da9f440d34c4eff0d2207b46dc9332a7b931ef1e89\n",
      "  Building wheel for funcy (setup.py): started\n",
      "  Building wheel for funcy (setup.py): finished with status 'done'\n",
      "  Created wheel for funcy: filename=funcy-1.14-py2.py3-none-any.whl size=32045 sha256=b7e6ed4de96bcb9aaa9d15d18831aa5861532310b3353a6beb7bb7e6cc44ccff\n",
      "  Stored in directory: c:\\users\\administrator\\appdata\\local\\pip\\cache\\wheels\\3c\\33\\97\\805b282e129f60bb4e87cea622338f30b65f21eaf65219971f\n",
      "Successfully built pyLDAvis funcy\n",
      "Installing collected packages: funcy, pyLDAvis\n",
      "Successfully installed funcy-1.14 pyLDAvis-2.1.2\n"
     ]
    }
   ],
   "source": [
    "!pip install pyLDAvis"
   ]
  },
  {
   "cell_type": "code",
   "execution_count": 104,
   "metadata": {},
   "outputs": [],
   "source": [
    "import pyLDAvis\n",
    "\n",
    "pyLDAvis.enable_notebook()"
   ]
  },
  {
   "cell_type": "code",
   "execution_count": 105,
   "metadata": {},
   "outputs": [
    {
     "data": {
      "text/html": [
       "\n",
       "<link rel=\"stylesheet\" type=\"text/css\" href=\"https://cdn.rawgit.com/bmabey/pyLDAvis/files/ldavis.v1.0.0.css\">\n",
       "\n",
       "\n",
       "<div id=\"ldavis_el1070411571652565309490938\"></div>\n",
       "<script type=\"text/javascript\">\n",
       "\n",
       "var ldavis_el1070411571652565309490938_data = {\"mdsDat\": {\"x\": [-0.10956089463665833, -0.03522688462260611, 0.0568083286208567, -0.05068099461580548, -0.03172728374197697, 0.023065661267214, 0.009161276960364065, 0.008244019053962786, 0.04883649752167189, 0.008678455255663109, 0.007403671095239049, 0.06499814784207512], \"y\": [-0.03420234371674958, -0.018741592394195674, -0.0204055893563504, -0.009045566847645143, 0.006115969054360728, 0.026332920710226006, 0.057390644045385214, 0.022987728858579998, -0.04245066855342972, -0.03311333221594536, 0.09390266812278078, -0.04877083770701687], \"topics\": [1, 2, 3, 4, 5, 6, 7, 8, 9, 10, 11, 12], \"cluster\": [1, 1, 1, 1, 1, 1, 1, 1, 1, 1, 1, 1], \"Freq\": [10.584553718566895, 10.469298362731934, 10.261781692504883, 10.015429496765137, 9.439596176147461, 9.340071678161621, 8.143941879272461, 7.812334060668945, 7.050724506378174, 5.981281757354736, 5.706047058105469, 5.194947719573975]}, \"tinfo\": {\"Term\": [\"euros\", \"agua\", \"presidente\", \"delitos\", \"partido\", \"millones\", \"violencia\", \"coronavirus\", \"mujeres\", \"caso\", \"tema\", \"periodo\", \"elecciones\", \"numeros\", \"vez\", \"habitantes\", \"cifras\", \"juego\", \"franja\", \"acuerdo\", \"casos\", \"riesgo\", \"candidato\", \"ministro\", \"dia\", \"pasajeros\", \"ley\", \"desarrollo\", \"respecto\", \"vigilancia\", \"matorrales\", \"tifus\", \"municiones\", \"armamento\", \"meningitis\", \"desaparicion\", \"picadura\", \"precauciones\", \"bacteria\", \"calibre\", \"ratones\", \"camping\", \"basta\", \"falla\", \"mirista\", \"envio\", \"loxocelismo\", \"establecimiento\", \"destinos\", \"definicion\", \"soporte\", \"coordinaciones\", \"ambientes\", \"estandar\", \"ambulancia\", \"pasta\", \"etiologia\", \"popularidad\", \"diagnostico\", \"patologias\", \"dificultad\", \"pasajero\", \"vigilancia\", \"contactos\", \"restos\", \"confirmacion\", \"fiebre\", \"autoridad\", \"delito\", \"detecto\", \"caso\", \"armas\", \"riesgo\", \"pasajeros\", \"pacientes\", \"tos\", \"casos\", \"domicilio\", \"aire\", \"zonas\", \"centro\", \"contagio\", \"sintomas\", \"familia\", \"zona\", \"mujer\", \"personas\", \"coronavirus\", \"embargo\", \"parte\", \"virus\", \"ley\", \"punto\", \"frente\", \"tambien\", \"tipo\", \"vez\", \"casa\", \"medidas\", \"gente\", \"momento\", \"persona\", \"arresto\", \"reparticion\", \"camas\", \"congresos\", \"sintomatologia\", \"secretarios\", \"anti\", \"humoristas\", \"querella\", \"importacion\", \"atendera\", \"extrajeros\", \"acudio\", \"ores\", \"acordo\", \"box\", \"copago\", \"enfermera\", \"anule\", \"directriz\", \"parametros\", \"penden\", \"bajas\", \"folletos\", \"cargador\", \"porcentajes\", \"gol\", \"tasas\", \"aficiones\", \"legislador\", \"agente\", \"criterios\", \"regiones\", \"nave\", \"hospitales\", \"seguridad\", \"asalto\", \"casos\", \"coronavirus\", \"futbol\", \"brote\", \"medidas\", \"hospital\", \"centros\", \"noticias\", \"colegios\", \"edad\", \"personas\", \"carabineros\", \"virus\", \"ejemplo\", \"muerte\", \"tipo\", \"equipo\", \"datos\", \"semanas\", \"tambien\", \"control\", \"familias\", \"hombre\", \"resultados\", \"respecto\", \"mujer\", \"nivel\", \"eventos\", \"marzo\", \"forma\", \"vida\", \"parte\", \"ministro\", \"delitos\", \"caso\", \"presidente\", \"horas\", \"verdades\", \"bicicleta\", \"escolta\", \"encuestadoras\", \"gritan\", \"pedaleo\", \"empleos\", \"sere\", \"recorte\", \"listas\", \"insultos\", \"inestabilidad\", \"gusto\", \"escrache\", \"pactarse\", \"compatriotas\", \"ofensas\", \"legislaturas\", \"anticiparse\", \"proposiciones\", \"defensora\", \"demostro\", \"requerimiento\", \"cohesion\", \"senadora\", \"panelista\", \"comunicador\", \"anularme\", \"animador\", \"arremetio\", \"chilenos\", \"vacaciones\", \"violencia\", \"presidente\", \"democracia\", \"profesor\", \"iniciativas\", \"secretaria\", \"calles\", \"vias\", \"abril\", \"acuerdo\", \"reforma\", \"secretario\", \"discurso\", \"mar\", \"ley\", \"periodo\", \"elecciones\", \"paz\", \"fuentes\", \"apoyo\", \"grupo\", \"sectores\", \"red\", \"tambien\", \"respecto\", \"personas\", \"delitos\", \"parte\", \"ciudadanos\", \"horas\", \"medios\", \"debate\", \"partido\", \"momento\", \"trabajo\", \"mes\", \"meses\", \"marzo\", \"lugar\", \"miembros\", \"coronavirus\", \"proceso\", \"medidas\", \"lunes\", \"tema\", \"colectividad\", \"adversarios\", \"viveres\", \"visiones\", \"energias\", \"temperaturas\", \"cola\", \"fachadas\", \"urgencias\", \"muros\", \"necropsia\", \"consignas\", \"militantes\", \"basura\", \"interferencia\", \"pormenores\", \"aparato\", \"fachada\", \"suscribirse\", \"atropello\", \"romperla\", \"brochazos\", \"conocerse\", \"enjuicio\", \"aplico\", \"movil\", \"agresion\", \"huellas\", \"boletines\", \"conductor\", \"probabilidad\", \"trabajos\", \"suicidio\", \"militancia\", \"muestras\", \"hipotesis\", \"rutina\", \"pasajeros\", \"protocolo\", \"coronavirus\", \"plantas\", \"apuestas\", \"noticias\", \"zona\", \"cosas\", \"riesgo\", \"sistema\", \"partido\", \"virus\", \"tambien\", \"dia\", \"personas\", \"medidas\", \"ciudad\", \"febrero\", \"mensaje\", \"redes\", \"caso\", \"horas\", \"millones\", \"casos\", \"lugar\", \"problemas\", \"momento\", \"forma\", \"gente\", \"tiempo\", \"persona\", \"parte\", \"mundo\", \"centro\", \"galli\", \"hitos\", \"articulos\", \"plebiscito\", \"general\", \"repudio\", \"actas\", \"archivos\", \"encubridor\", \"teniente\", \"cohecho\", \"coima\", \"ejercito\", \"farmacia\", \"sindicatos\", \"aniversario\", \"prepararnos\", \"alarma\", \"estrategias\", \"manto\", \"coronel\", \"plegarse\", \"detencion\", \"globulos\", \"contingente\", \"cliente\", \"desmanes\", \"evacuacion\", \"cartera\", \"altercados\", \"lemas\", \"test\", \"camisetas\", \"efectos\", \"modalidad\", \"productos\", \"indicaciones\", \"canciller\", \"amigos\", \"numeros\", \"caso\", \"apuestas\", \"actividad\", \"euros\", \"coronavirus\", \"violencia\", \"existencia\", \"medidas\", \"crecimiento\", \"jefe\", \"acuerdo\", \"empresas\", \"equipos\", \"crisis\", \"control\", \"tambien\", \"horas\", \"mujer\", \"ejemplo\", \"dia\", \"tipo\", \"riesgo\", \"casos\", \"viernes\", \"lunes\", \"grupo\", \"eventos\", \"parte\", \"forma\", \"marzo\", \"embargo\", \"momento\", \"personas\", \"centro\", \"persona\", \"loterias\", \"udi\", \"acertantes\", \"prohibicion\", \"asesores\", \"fisco\", \"exmodelo\", \"transacciones\", \"moquetas\", \"tibieza\", \"continuidad\", \"constitucionalismo\", \"sacrificios\", \"carcajadas\", \"comprension\", \"exponente\", \"exportaciones\", \"perpetua\", \"exportadores\", \"hoy\", \"exposiciones\", \"fraude\", \"madres\", \"parlamentario\", \"lujo\", \"inmigrantes\", \"regulatorias\", \"embarques\", \"envios\", \"mandato\", \"blanqueo\", \"ruido\", \"consejero\", \"inseguridad\", \"congreso\", \"ministro\", \"padre\", \"apuesta\", \"torno\", \"presidente\", \"anuncios\", \"millones\", \"juego\", \"defensa\", \"filtros\", \"parte\", \"candidato\", \"tambien\", \"publicidad\", \"instancia\", \"euros\", \"mesa\", \"medidas\", \"personas\", \"dinero\", \"mujer\", \"forma\", \"apoyo\", \"contacto\", \"momento\", \"manera\", \"mujeres\", \"dia\", \"vez\", \"semana\", \"marzo\", \"problema\", \"lunes\", \"crisis\", \"vida\", \"tiempo\", \"respecto\", \"partido\", \"caso\", \"persona\", \"extracciones\", \"cupones\", \"ordenadores\", \"sueldazo\", \"rayos\", \"clubes\", \"viviendas\", \"negros\", \"propuestos\", \"lanzamientos\", \"asiento\", \"multiples\", \"mundiales\", \"envergadura\", \"maquina\", \"posconvergentes\", \"calculos\", \"pericia\", \"reunirse\", \"operaciones\", \"estimaciones\", \"evidencias\", \"consecutivos\", \"premios\", \"exministra\", \"honor\", \"deuda\", \"fichajes\", \"diagnosticos\", \"mecanismo\", \"viaje\", \"euros\", \"vacunas\", \"espacio\", \"millones\", \"fronteras\", \"premio\", \"jugadores\", \"movimientos\", \"mesa\", \"controles\", \"miembros\", \"respuesta\", \"mes\", \"club\", \"forma\", \"tipo\", \"interes\", \"propagacion\", \"equipo\", \"mujeres\", \"momento\", \"serie\", \"medidas\", \"tiempo\", \"coronavirus\", \"horas\", \"noticias\", \"marzo\", \"cifras\", \"parte\", \"vez\", \"tambien\", \"caso\", \"lugar\", \"presidente\", \"personas\", \"semana\", \"febrero\", \"riesgo\", \"germenes\", \"desfibriladores\", \"mejoras\", \"sermones\", \"abrira\", \"ebriedad\", \"chica\", \"peligros\", \"craneal\", \"propinas\", \"paro\", \"piedad\", \"rapidez\", \"fallecimientos\", \"retos\", \"galardon\", \"efectivos\", \"saldo\", \"detras\", \"intervenciones\", \"infraestructuras\", \"sufragistas\", \"broma\", \"pieles\", \"arena\", \"reconstruccion\", \"acusados\", \"particulas\", \"lazo\", \"inspeccion\", \"bomba\", \"recinto\", \"sabor\", \"agua\", \"mujeres\", \"huawei\", \"machismo\", \"coche\", \"hombres\", \"molotov\", \"alcalde\", \"cantante\", \"obras\", \"mundo\", \"feminismo\", \"camino\", \"lugar\", \"tema\", \"vida\", \"horas\", \"ejemplo\", \"enfermedades\", \"juez\", \"parte\", \"dia\", \"vez\", \"tiempo\", \"tambien\", \"redes\", \"semana\", \"serie\", \"lunes\", \"juicio\", \"caso\", \"proceso\", \"nivel\", \"gente\", \"personas\", \"derechos\", \"tipo\", \"febrero\", \"equipo\", \"millones\", \"riesgo\", \"moto\", \"tractores\", \"secuestros\", \"campeonato\", \"grito\", \"gordo\", \"lvarez\", \"subidas\", \"incidencias\", \"tramites\", \"robos\", \"decima\", \"enfermos\", \"drogas\", \"homicidios\", \"incrementos\", \"amiga\", \"frase\", \"centimetros\", \"combinacion\", \"repunte\", \"ascenso\", \"ciberseguridad\", \"disparidad\", \"denuncias\", \"trimestre\", \"balance\", \"salio\", \"puente\", \"previsiones\", \"agresiones\", \"infracciones\", \"delitos\", \"lapso\", \"numeros\", \"ilegalidades\", \"prisiones\", \"cifras\", \"nieve\", \"periodo\", \"calendario\", \"vicepresidente\", \"momentos\", \"aumento\", \"ministra\", \"octubre\", \"respecto\", \"viernes\", \"semana\", \"casa\", \"libertad\", \"derechos\", \"ley\", \"mujeres\", \"personas\", \"forma\", \"fin\", \"cuenta\", \"mujer\", \"tambien\", \"parte\", \"equipo\", \"marzo\", \"trabajo\", \"coronavirus\", \"casos\", \"presidente\", \"tipo\", \"gerente\", \"injerencia\", \"decidira\", \"presentadora\", \"incidencia\", \"afecto\", \"consultorios\", \"hogares\", \"plata\", \"identificacion\", \"aristas\", \"paternidad\", \"instancias\", \"estatus\", \"parche\", \"ralentizacion\", \"perjuicios\", \"deberes\", \"salinas\", \"vestidos\", \"programas\", \"rios\", \"acumula\", \"artificio\", \"lucro\", \"iniciativa\", \"escritora\", \"ansiedad\", \"barcazas\", \"reciclaje\", \"prestaciones\", \"voto\", \"error\", \"desarrollo\", \"ejecutivo\", \"entorno\", \"elecciones\", \"municipalidad\", \"empresa\", \"programa\", \"compromisarios\", \"candidato\", \"empresas\", \"pacto\", \"partido\", \"dia\", \"proceso\", \"firma\", \"periodo\", \"hijos\", \"caso\", \"acuerdo\", \"marzo\", \"diciembre\", \"proyecto\", \"personas\", \"embargo\", \"padres\", \"octubre\", \"febrero\", \"forma\", \"vez\", \"medios\", \"dinero\", \"euros\", \"sistema\", \"horas\", \"casos\", \"respecto\", \"delitos\", \"presidente\", \"lugar\", \"centros\", \"parte\", \"destinatario\", \"pegamento\", \"pegarle\", \"infertilidad\", \"racionamiento\", \"sequia\", \"licitacion\", \"lentitud\", \"precipitaciones\", \"escases\", \"amantes\", \"resuelve\", \"institucionalidad\", \"andanzas\", \"cancha\", \"celos\", \"elemento\", \"hinchas\", \"directrices\", \"estrato\", \"proveedor\", \"demora\", \"credito\", \"comuna\", \"protagonista\", \"ejecucion\", \"super\", \"complemento\", \"burocracia\", \"regantes\", \"escasez\", \"habitantes\", \"suministro\", \"ribetes\", \"agua\", \"tema\", \"importancia\", \"cabeza\", \"edificio\", \"ataque\", \"estructura\", \"parte\", \"zonas\", \"flores\", \"modificaciones\", \"acciones\", \"personas\", \"recursos\", \"vez\", \"autoridades\", \"gente\", \"dia\", \"tambien\", \"mujer\", \"crisis\", \"actividades\", \"semana\", \"presidente\", \"hombre\", \"vida\", \"caso\", \"violencia\", \"medidas\", \"tiempo\", \"trabajo\", \"partido\", \"bailarines\", \"pertenencia\", \"bloques\", \"segmentos\", \"instante\", \"capsulas\", \"franja\", \"incumplimientos\", \"esmoquin\", \"progenitores\", \"album\", \"boricua\", \"beso\", \"tiburones\", \"quiebre\", \"regimen\", \"ado\", \"eleccion\", \"polos\", \"comandos\", \"gira\", \"musicos\", \"ctm\", \"canciones\", \"disconformidad\", \"animadores\", \"homicidio\", \"posiciones\", \"agrupaciones\", \"euromillones\", \"compromisarios\", \"disco\", \"votos\", \"partido\", \"juego\", \"cantante\", \"vez\", \"bar\", \"respeto\", \"vida\", \"respecto\", \"declaraciones\", \"cabo\", \"crisis\", \"meses\", \"importancia\", \"ley\", \"hora\", \"parte\", \"hombre\", \"tambien\", \"delitos\", \"relaciones\", \"sistema\", \"muerte\", \"mujer\", \"momento\", \"personas\", \"manera\", \"febrero\", \"marzo\", \"semana\", \"caso\", \"presidente\"], \"Freq\": [148.0, 69.0, 187.0, 95.0, 114.0, 134.0, 108.0, 235.0, 150.0, 236.0, 72.0, 66.0, 60.0, 52.0, 143.0, 27.0, 51.0, 51.0, 15.0, 100.0, 175.0, 122.0, 27.0, 95.0, 144.0, 49.0, 100.0, 44.0, 127.0, 30.0, 6.593115329742432, 6.329287052154541, 6.293529033660889, 6.993801593780518, 3.4662623405456543, 2.5508804321289062, 3.363837480545044, 3.3594048023223877, 3.338834285736084, 3.3424601554870605, 3.3209192752838135, 3.301520824432373, 3.2863314151763916, 3.281693935394287, 3.252547264099121, 3.2817294597625732, 3.189603328704834, 3.176938056945801, 3.942842960357666, 6.332219123840332, 3.0610244274139404, 3.0392255783081055, 3.0092968940734863, 3.656364679336548, 2.872292995452881, 7.785952091217041, 2.8299100399017334, 3.458983898162842, 4.1142144203186035, 3.3369760513305664, 9.155352592468262, 9.488465309143066, 17.24919319152832, 15.494024276733398, 9.676609992980957, 6.309812545776367, 13.504980087280273, 16.778770446777344, 18.77259063720703, 6.912275791168213, 59.22528076171875, 13.472166061401367, 33.6728515625, 17.570669174194336, 11.704532623291016, 7.85671329498291, 37.147613525390625, 9.573413848876953, 11.592310905456543, 16.0114688873291, 20.62407684326172, 11.435132026672363, 14.55807113647461, 14.44831371307373, 15.393108367919922, 21.2465763092041, 26.71499252319336, 25.00804901123047, 17.635103225708008, 23.644590377807617, 17.120346069335938, 17.203781127929688, 14.70252513885498, 13.60103988647461, 22.333847045898438, 18.00112533569336, 18.032323837280273, 13.71330738067627, 17.645124435424805, 14.00865364074707, 15.136653900146484, 13.859408378601074, 5.673248767852783, 2.674191951751709, 6.869808673858643, 2.487020254135132, 1.8071081638336182, 1.8026067018508911, 1.8010387420654297, 1.8006199598312378, 3.4923760890960693, 1.7551273107528687, 2.3675084114074707, 1.7154239416122437, 2.274693250656128, 2.841939687728882, 2.331510305404663, 2.271014928817749, 1.6783024072647095, 1.6550166606903076, 1.6520678997039795, 1.6482778787612915, 2.201145648956299, 1.6144367456436157, 1.6328505277633667, 2.6747591495513916, 1.5612242221832275, 6.271098613739014, 4.135536193847656, 2.607891082763672, 2.0581393241882324, 2.5046398639678955, 4.818246841430664, 6.548854351043701, 12.277142524719238, 5.012924671173096, 5.437074184417725, 18.93455696105957, 3.6141462326049805, 44.149810791015625, 55.396610260009766, 10.752545356750488, 12.323284149169922, 45.02558135986328, 11.442000389099121, 16.286752700805664, 21.775619506835938, 6.054471969604492, 13.044719696044922, 41.005126953125, 9.768844604492188, 20.940872192382812, 20.349151611328125, 16.47544288635254, 26.10127830505371, 19.25682830810547, 17.355594635009766, 11.717206001281738, 32.97844314575195, 13.438321113586426, 10.223631858825684, 12.871892929077148, 11.993038177490234, 18.117658615112305, 16.782033920288086, 13.225048065185547, 11.802754402160645, 16.566761016845703, 16.241044998168945, 14.820732116699219, 18.085159301757812, 14.00137710571289, 13.554628372192383, 15.056968688964844, 14.4856595993042, 12.363617897033691, 5.639614582061768, 9.301948547363281, 3.786426067352295, 2.8586480617523193, 2.858593463897705, 2.8580145835876465, 1.9316110610961914, 1.8921927213668823, 5.050451755523682, 1.8664021492004395, 3.5674617290496826, 1.801074504852295, 8.11712646484375, 4.001293659210205, 1.7560203075408936, 5.64030647277832, 1.6942952871322632, 1.6902753114700317, 1.6897379159927368, 1.6847572326660156, 1.624899983406067, 1.6716018915176392, 2.1384904384613037, 1.6461946964263916, 2.0303409099578857, 1.5819329023361206, 1.5552760362625122, 1.5522655248641968, 1.5476962327957153, 1.54508376121521, 4.028082370758057, 3.4158565998077393, 40.514015197753906, 63.49299621582031, 9.790060997009277, 6.901619911193848, 5.959088325500488, 5.270529270172119, 10.900433540344238, 5.218810081481934, 20.36034393310547, 27.8625431060791, 7.45572566986084, 10.626072883605957, 3.9818975925445557, 11.925189971923828, 23.55083656311035, 17.371429443359375, 15.795981407165527, 9.028046607971191, 18.202394485473633, 13.335506439208984, 20.020009994506836, 10.378066062927246, 11.060689926147461, 31.862350463867188, 20.13630485534668, 27.567916870117188, 16.04806900024414, 22.32267189025879, 11.160922050476074, 17.03411102294922, 11.738120079040527, 9.953752517700195, 14.267690658569336, 14.851424217224121, 12.076448440551758, 11.10066032409668, 11.727816581726074, 13.326610565185547, 12.418049812316895, 11.548959732055664, 13.433262825012207, 11.908975601196289, 12.563977241516113, 11.691726684570312, 11.320494651794434, 2.9451851844787598, 2.9451944828033447, 2.004356622695923, 2.939840316772461, 2.9343018531799316, 2.1644208431243896, 2.1656625270843506, 2.0400643348693848, 2.157456874847412, 2.027838706970215, 2.5544090270996094, 3.0405385494232178, 3.527571678161621, 5.434370517730713, 1.9452368021011353, 3.3601174354553223, 2.3982486724853516, 1.9008193016052246, 1.4382340908050537, 3.3382747173309326, 1.4378888607025146, 1.8562636375427246, 1.892391324043274, 1.8346811532974243, 2.003751277923584, 2.2698354721069336, 2.6920688152313232, 1.7350114583969116, 1.3200196027755737, 1.3094562292099, 4.323175430297852, 11.196845054626465, 3.789288282394409, 11.704062461853027, 3.7287650108337402, 5.2854437828063965, 3.034497022628784, 15.82870101928711, 7.6881184577941895, 48.07701110839844, 6.764496803283691, 10.046514511108398, 19.0655574798584, 14.735628128051758, 17.59589195251465, 23.205379486083984, 16.364093780517578, 21.489503860473633, 19.091167449951172, 35.12599563598633, 23.214710235595703, 32.301002502441406, 27.44548797607422, 9.915267944335938, 16.95598793029785, 10.563169479370117, 12.953049659729004, 24.048595428466797, 18.576122283935547, 17.453392028808594, 19.681015014648438, 16.164188385009766, 9.523555755615234, 16.367937088012695, 16.643075942993164, 12.394423484802246, 14.401325225830078, 12.846189498901367, 16.858844757080078, 13.241997718811035, 12.349682807922363, 2.512077808380127, 2.5118954181671143, 3.681011199951172, 2.9907896518707275, 4.615502834320068, 1.697434902191162, 1.6974250078201294, 1.697287917137146, 1.6972243785858154, 1.6971087455749512, 1.693452000617981, 1.692946434020996, 3.3271799087524414, 2.557065725326538, 4.086821556091309, 2.5121848583221436, 2.512136220932007, 3.570446729660034, 6.161884307861328, 1.3397274017333984, 1.7684277296066284, 1.3662933111190796, 1.6974900960922241, 4.229755878448486, 1.3164654970169067, 2.4655587673187256, 1.3062812089920044, 1.2976516485214233, 1.9600507020950317, 1.265473484992981, 2.7613112926483154, 6.851221561431885, 3.0077385902404785, 16.077495574951172, 3.4223992824554443, 10.971002578735352, 3.7579941749572754, 2.698664903640747, 5.48766565322876, 14.547433853149414, 45.2943000793457, 10.228843688964844, 11.745401382446289, 25.936330795288086, 33.52019500732422, 19.566699981689453, 6.1726789474487305, 28.518564224243164, 6.474067211151123, 9.719725608825684, 17.016698837280273, 13.53350830078125, 9.88740348815918, 14.199159622192383, 11.76579761505127, 26.173355102539062, 18.580095291137695, 17.13620376586914, 14.602607727050781, 17.493167877197266, 16.920120239257812, 15.447731971740723, 17.806867599487305, 11.454611778259277, 13.114386558532715, 13.099340438842773, 10.22082233428955, 17.19814109802246, 14.451294898986816, 13.957413673400879, 12.582375526428223, 13.234442710876465, 14.762163162231445, 11.677485466003418, 11.669938087463379, 2.860914468765259, 2.860563039779663, 4.7165327072143555, 3.2594614028930664, 3.2730135917663574, 3.2491278648376465, 1.9329030513763428, 1.9326345920562744, 1.9170438051223755, 1.9100550413131714, 1.9078482389450073, 7.436996936798096, 1.8349283933639526, 3.0726027488708496, 1.8067413568496704, 1.7955747842788696, 5.601524353027344, 2.860600233078003, 3.7807021141052246, 1.6568679809570312, 1.5732589960098267, 5.712796211242676, 7.17563009262085, 5.644179344177246, 2.016923427581787, 2.486454725265503, 1.9163798093795776, 1.9109481573104858, 1.9059511423110962, 1.9116557836532593, 6.18309211730957, 3.7503013610839844, 3.174260139465332, 4.776185989379883, 3.9692471027374268, 28.460498809814453, 12.624760627746582, 4.536580562591553, 7.43996000289917, 41.27417755126953, 7.374812602996826, 32.119239807128906, 14.520727157592773, 6.762879371643066, 4.542182445526123, 32.964107513427734, 8.337730407714844, 32.34137725830078, 8.838953971862793, 8.118964195251465, 19.59966278076172, 9.5294189453125, 21.61598014831543, 23.07126808166504, 10.28179931640625, 15.912653923034668, 17.05872344970703, 10.083258628845215, 10.371628761291504, 15.997143745422363, 12.676483154296875, 14.892786026000977, 14.626542091369629, 14.361604690551758, 13.255945205688477, 13.431096076965332, 9.992349624633789, 11.65372371673584, 11.266393661499023, 11.642377853393555, 11.663559913635254, 11.719820976257324, 10.978716850280762, 12.148916244506836, 10.566039085388184, 5.059688568115234, 4.140929698944092, 3.3926632404327393, 3.271022081375122, 5.523756980895996, 2.4611570835113525, 2.4322891235351562, 1.8107596635818481, 1.787722110748291, 1.789604902267456, 1.7850449085235596, 1.7846397161483765, 1.786189079284668, 1.7553410530090332, 1.755220890045166, 1.744719386100769, 1.7425274848937988, 1.7225432395935059, 1.681334376335144, 3.0953142642974854, 2.5905356407165527, 8.859357833862305, 3.079763174057007, 8.08394718170166, 3.484173059463501, 1.977307915687561, 1.4298181533813477, 1.8635097742080688, 2.827711820602417, 2.764526605606079, 10.309627532958984, 54.26899337768555, 3.1351544857025146, 13.847686767578125, 36.27125549316406, 11.189888000488281, 10.5516357421875, 9.521397590637207, 6.583441734313965, 11.825045585632324, 7.849420070648193, 17.964908599853516, 11.701822280883789, 13.645803451538086, 6.934539318084717, 22.581222534179688, 21.84731101989746, 6.076235771179199, 5.448580265045166, 15.685908317565918, 20.65299415588379, 19.439579010009766, 11.097674369812012, 22.396350860595703, 16.409196853637695, 22.797286987304688, 17.208980560302734, 13.474924087524414, 16.070016860961914, 10.061427116394043, 17.095794677734375, 14.507904052734375, 16.886613845825195, 15.664572715759277, 12.588940620422363, 12.471412658691406, 12.994346618652344, 11.306147575378418, 10.817103385925293, 10.697794914245605, 4.042252063751221, 2.6358296871185303, 7.734155178070068, 1.913722276687622, 1.913696050643921, 1.9136215448379517, 1.913480281829834, 1.6108208894729614, 1.5736888647079468, 1.562371850013733, 5.334386825561523, 2.4028196334838867, 3.4048869609832764, 2.838810920715332, 8.080044746398926, 1.9136340618133545, 1.9136981964111328, 1.9135644435882568, 1.49101722240448, 2.2985405921936035, 2.3178768157958984, 1.8511993885040283, 1.431931972503662, 2.6477739810943604, 2.1592788696289062, 2.1696877479553223, 2.1295711994171143, 1.7077300548553467, 6.595040798187256, 4.124889850616455, 4.941142559051514, 9.668578147888184, 4.536240577697754, 22.64239501953125, 38.02104187011719, 4.14432954788208, 3.4744679927825928, 5.485529899597168, 12.370523452758789, 4.739397048950195, 7.4358811378479, 7.328976631164551, 6.022486209869385, 19.052824020385742, 7.220988750457764, 7.209056377410889, 17.571949005126953, 12.6798677444458, 16.319486618041992, 18.60277557373047, 14.459891319274902, 6.707417011260986, 7.3517069816589355, 20.552841186523438, 16.152387619018555, 15.590991020202637, 14.10767650604248, 20.857650756835938, 10.608660697937012, 13.337445259094238, 9.450075149536133, 11.289968490600586, 7.673768520355225, 15.046101570129395, 10.511899948120117, 9.233846664428711, 9.356857299804688, 11.78471851348877, 8.728012084960938, 10.025487899780273, 9.351605415344238, 8.979927062988281, 9.15436840057373, 8.923517227172852, 4.123000144958496, 2.9627954959869385, 3.7232754230499268, 2.5622341632843018, 1.9758096933364868, 1.396643042564392, 1.9761207103729248, 1.4016865491867065, 1.8589473962783813, 2.1665549278259277, 4.700616359710693, 1.2679829597473145, 1.7323614358901978, 2.890157699584961, 2.8481152057647705, 1.2110596895217896, 2.3751320838928223, 4.360256195068359, 1.557461142539978, 11.023025512695312, 1.1362640857696533, 1.542781114578247, 4.106025695800781, 1.0993282794952393, 10.045517921447754, 5.028028964996338, 3.531660795211792, 1.023132562637329, 1.027451515197754, 3.0964372158050537, 6.16462516784668, 4.764733791351318, 30.69046401977539, 4.207409381866455, 15.81757926940918, 6.6551923751831055, 6.8274335861206055, 14.163548469543457, 3.6051273345947266, 16.408527374267578, 4.353741645812988, 7.415768623352051, 9.73017692565918, 8.961962699890137, 9.055754661560059, 11.838027000427246, 18.483783721923828, 11.85122013092041, 16.217252731323242, 10.775616645812988, 8.207611083984375, 10.808749198913574, 12.476237297058105, 14.892040252685547, 19.111989974975586, 14.266487121582031, 9.445874214172363, 9.88956356048584, 12.305116653442383, 16.299951553344727, 15.135350227355957, 10.577884674072266, 11.091257095336914, 9.333035469055176, 11.489744186401367, 10.637907981872559, 10.47476577758789, 9.232779502868652, 2.7193210124969482, 2.7185776233673096, 2.71801495552063, 2.5209553241729736, 2.4478726387023926, 3.382359027862549, 1.8539546728134155, 1.8539377450942993, 1.8539437055587769, 2.7264740467071533, 1.8536639213562012, 2.722214937210083, 1.3461257219314575, 1.3090896606445312, 1.7627606391906738, 1.2230297327041626, 2.8155367374420166, 1.5916101932525635, 1.1453335285186768, 1.095852017402649, 3.746403217315674, 1.8958324193954468, 1.8539655208587646, 1.8077596426010132, 1.4370476007461548, 2.7365691661834717, 3.847079277038574, 4.810978412628174, 1.0451643466949463, 1.044881820678711, 3.0744128227233887, 6.229141712188721, 5.476743698120117, 13.41948413848877, 3.8962247371673584, 4.098732948303223, 13.594917297363281, 4.532774925231934, 11.665287017822266, 10.183871269226074, 4.766251087188721, 6.741305828094482, 13.035736083984375, 6.417819976806641, 15.216717720031738, 17.371501922607422, 13.302962303161621, 5.492547512054443, 10.256680488586426, 7.122204303741455, 18.868627548217773, 11.181537628173828, 12.823673248291016, 6.452929973602295, 7.723568439483643, 15.602041244506836, 10.010705947875977, 6.432986736297607, 7.9091572761535645, 9.447202682495117, 10.643784523010254, 10.329427719116211, 7.460731506347656, 6.693887710571289, 9.114059448242188, 7.446194171905518, 8.52270221710205, 8.845382690429688, 8.121089935302734, 7.541740417480469, 8.173527717590332, 7.638596057891846, 6.916053771972656, 7.084095001220703, 2.3065295219421387, 2.3018925189971924, 2.2944672107696533, 2.290801763534546, 7.782620429992676, 7.57560920715332, 7.884068489074707, 7.337590217590332, 3.9073572158813477, 3.8033089637756348, 2.4137697219848633, 3.7308523654937744, 3.7229979038238525, 2.305227756500244, 1.3835561275482178, 2.3171610832214355, 7.7944440841674805, 1.3564128875732422, 3.5935230255126953, 3.5062901973724365, 3.4673800468444824, 3.821939468383789, 1.2068084478378296, 4.397591590881348, 6.024726390838623, 1.5798481702804565, 2.295013189315796, 3.4943010807037354, 3.4793598651885986, 3.472050666809082, 3.806683301925659, 11.589119911193848, 3.6807422637939453, 4.057706356048584, 21.135955810546875, 17.32050323486328, 9.08406925201416, 10.2987060546875, 6.268228054046631, 7.446861743927002, 4.894952774047852, 19.09914779663086, 9.269777297973633, 3.8526906967163086, 4.519296646118164, 8.243577003479004, 16.907686233520508, 8.560039520263672, 12.831146240234375, 9.251347541809082, 9.510089874267578, 11.737748146057129, 14.591107368469238, 10.26097583770752, 8.819137573242188, 6.594336986541748, 9.656235694885254, 10.823368072509766, 7.328220844268799, 8.600597381591797, 10.09762954711914, 8.342363357543945, 9.186429977416992, 7.936019420623779, 7.501218795776367, 7.5209736824035645, 4.745659828186035, 3.335284471511841, 2.530933141708374, 2.5254857540130615, 2.521228551864624, 3.060432195663452, 9.928421020507812, 3.335378646850586, 1.641890525817871, 3.306448459625244, 1.6317691802978516, 1.6126431226730347, 1.607399582862854, 1.5970635414123535, 1.5964704751968384, 2.6438865661621094, 1.5584176778793335, 5.599334716796875, 2.4919865131378174, 2.5301878452301025, 3.3530941009521484, 2.217573642730713, 1.7588104009628296, 5.558062553405762, 1.6756230592727661, 1.5693979263305664, 1.6193506717681885, 5.734673500061035, 1.484846591949463, 1.7737597227096558, 6.100473403930664, 3.4890506267547607, 3.8980791568756104, 19.66379737854004, 9.642801284790039, 6.121861457824707, 17.408065795898438, 5.082761764526367, 5.055173873901367, 11.868854522705078, 12.252026557922363, 6.295661449432373, 6.351956367492676, 9.2506742477417, 8.267326354980469, 6.031226634979248, 9.150870323181152, 7.017606735229492, 11.833974838256836, 7.136713981628418, 11.928546905517578, 7.858187198638916, 5.3377766609191895, 6.833219051361084, 6.54172420501709, 7.499741077423096, 7.597860813140869, 8.477398872375488, 6.718360424041748, 6.638974189758301, 6.796609401702881, 6.70115852355957, 6.298914432525635, 6.074093341827393], \"Total\": [148.0, 69.0, 187.0, 95.0, 114.0, 134.0, 108.0, 235.0, 150.0, 236.0, 72.0, 66.0, 60.0, 52.0, 143.0, 27.0, 51.0, 51.0, 15.0, 100.0, 175.0, 122.0, 27.0, 95.0, 144.0, 49.0, 100.0, 44.0, 127.0, 30.0, 7.994495868682861, 7.906495571136475, 7.910260200500488, 9.006505012512207, 4.488410472869873, 3.368354558944702, 4.460479259490967, 4.461633205413818, 4.448795795440674, 4.460002899169922, 4.449317455291748, 4.441044330596924, 4.434596061706543, 4.435281276702881, 4.43251895904541, 4.485044956207275, 4.4048871994018555, 4.424678802490234, 5.499276638031006, 8.85983943939209, 4.390118598937988, 4.385977268218994, 4.377348899841309, 5.456274032592773, 4.337060928344727, 11.828879356384277, 4.326690196990967, 5.347302436828613, 6.391525745391846, 5.351857662200928, 14.922700881958008, 15.93813705444336, 30.63628387451172, 27.414648056030273, 17.064250946044922, 10.748394966125488, 27.711790084838867, 36.72378158569336, 44.69883346557617, 12.594325065612793, 236.35435485839844, 31.353485107421875, 122.37500762939453, 49.34188461303711, 28.50459861755371, 16.547969818115234, 175.03692626953125, 23.079288482666016, 31.735233306884766, 54.11751174926758, 86.31796264648438, 32.949058532714844, 49.21168899536133, 49.75052261352539, 61.933048248291016, 126.05193328857422, 250.3006591796875, 235.95254516601562, 102.78170776367188, 221.8747100830078, 98.15526580810547, 100.59996032714844, 70.75672912597656, 57.62763214111328, 268.2331848144531, 141.0404815673828, 143.7899169921875, 64.0202407836914, 206.50985717773438, 81.48909759521484, 139.59922790527344, 90.92923736572266, 6.961997985839844, 3.521428346633911, 9.097898483276367, 3.563405990600586, 2.654343843460083, 2.654634475708008, 2.6548094749450684, 2.6545722484588623, 5.200328350067139, 2.6530308723449707, 3.630394220352173, 2.6489007472991943, 3.5569145679473877, 4.446838855743408, 3.6495273113250732, 3.557945728302002, 2.6465702056884766, 2.6352360248565674, 2.6447887420654297, 2.644458055496216, 3.542860269546509, 2.6425282955169678, 2.6732633113861084, 4.435380458831787, 2.639328718185425, 10.640091896057129, 7.043198585510254, 4.473567485809326, 3.547147274017334, 4.393568992614746, 8.817140579223633, 13.143488883972168, 27.791942596435547, 10.029362678527832, 11.259066581726074, 56.069122314453125, 7.0653886795043945, 175.03692626953125, 235.95254516601562, 28.8614444732666, 36.00517272949219, 206.50985717773438, 33.91432571411133, 58.02082824707031, 88.98645782470703, 14.919085502624512, 45.39751052856445, 250.3006591796875, 30.596410751342773, 98.15526580810547, 94.0788345336914, 69.30862426757812, 141.0404815673828, 93.21223449707031, 80.32875061035156, 45.02865219116211, 268.2331848144531, 62.47861099243164, 38.170284271240234, 60.19376754760742, 54.09538650512695, 127.45812225341797, 126.05193328857422, 70.97647094726562, 54.20503234863281, 134.5823211669922, 145.91477966308594, 113.40478515625, 221.8747100830078, 95.5068130493164, 95.56497955322266, 236.35435485839844, 187.69642639160156, 145.47512817382812, 6.48187780380249, 11.045551300048828, 4.628685474395752, 3.7009072303771973, 3.700852155685425, 3.7002742290496826, 2.7738678455352783, 2.772406816482544, 7.439703464508057, 2.7709267139434814, 5.441573143005371, 2.7767536640167236, 12.77540397644043, 6.447174549102783, 2.8302865028381348, 9.441539764404297, 2.8494343757629395, 2.851046562194824, 2.851391077041626, 2.852724075317383, 2.7731568813323975, 2.8568925857543945, 3.704491138458252, 2.864680051803589, 3.551135778427124, 2.771218776702881, 2.7709317207336426, 2.7708659172058105, 2.770620584487915, 2.7709615230560303, 7.383982181549072, 6.367819786071777, 108.01542663574219, 187.69642639160156, 22.689468383789062, 15.228676795959473, 12.916726112365723, 11.274519920349121, 27.37646484375, 11.218122482299805, 59.135223388671875, 100.33747863769531, 18.62594223022461, 30.286468505859375, 8.430360794067383, 37.84053039550781, 100.59996032714844, 66.7578353881836, 60.70636749267578, 27.197566986083984, 77.60807800292969, 49.61832809448242, 94.46475219726562, 33.789207458496094, 38.600181579589844, 268.2331848144531, 127.45812225341797, 250.3006591796875, 95.56497955322266, 221.8747100830078, 50.181915283203125, 145.47512817382812, 60.17550277709961, 41.09137725830078, 114.65190124511719, 139.59922790527344, 76.99530792236328, 58.264278411865234, 74.17088317871094, 134.5823211669922, 118.99485778808594, 73.3814926147461, 235.95254516601562, 93.93119049072266, 206.50985717773438, 92.00289916992188, 72.3989486694336, 3.8053905963897705, 3.805464267730713, 2.8436925411224365, 4.714319705963135, 4.706827640533447, 3.761260986328125, 3.7832796573638916, 3.689473867416382, 3.9184410572052, 3.690176486968994, 4.654789447784424, 5.553021430969238, 6.518774032592773, 10.249526977539062, 3.6741011142730713, 6.401042461395264, 4.637821674346924, 3.685389757156372, 2.8015663623809814, 6.503805160522461, 2.8357598781585693, 3.663691520690918, 3.74737286567688, 3.6642472743988037, 4.038107872009277, 4.629756450653076, 5.618849277496338, 3.6550233364105225, 2.792572259902954, 2.7915632724761963, 9.23962116241455, 24.52227210998535, 8.127103805541992, 26.06425666809082, 8.220993041992188, 12.280787467956543, 6.597720146179199, 49.34188461303711, 20.950010299682617, 235.95254516601562, 20.117130279541016, 35.602779388427734, 88.98645782470703, 61.933048248291016, 79.95780181884766, 122.37500762939453, 74.83299255371094, 114.65190124511719, 98.15526580810547, 268.2331848144531, 144.91831970214844, 250.3006591796875, 206.50985717773438, 40.20951843261719, 100.76428985595703, 46.21193313598633, 70.63501739501953, 236.35435485839844, 145.47512817382812, 134.51666259765625, 175.03692626953125, 118.99485778808594, 43.74406433105469, 139.59922790527344, 145.91477966308594, 81.48909759521484, 118.20848083496094, 90.92923736572266, 221.8747100830078, 108.54730224609375, 86.31796264648438, 3.3637073040008545, 3.363525152206421, 5.058695316314697, 4.217980861663818, 6.734614372253418, 2.5490636825561523, 2.5490546226501465, 2.548917293548584, 2.548854112625122, 2.548739433288574, 2.5491833686828613, 2.5493197441101074, 5.0421552658081055, 4.215007305145264, 6.905735015869141, 4.265817642211914, 4.308123588562012, 6.213316440582275, 11.85162353515625, 2.604750633239746, 3.4663331508636475, 2.702702522277832, 3.4244024753570557, 8.589802742004395, 2.7226057052612305, 5.112508773803711, 2.7279160022735596, 2.728344678878784, 4.191134452819824, 2.7459659576416016, 6.01559591293335, 15.158966064453125, 6.66211462020874, 42.705360412597656, 7.850496768951416, 30.10956382751465, 8.843390464782715, 6.0588579177856445, 14.880836486816406, 52.670555114746094, 236.35435485839844, 35.602779388427734, 43.59843444824219, 148.05953979492188, 235.95254516601562, 108.01542663574219, 18.593603134155273, 206.50985717773438, 20.989376068115234, 40.19491958618164, 100.33747863769531, 74.32876586914062, 44.37358856201172, 85.23954010009766, 62.47861099243164, 268.2331848144531, 145.47512817382812, 126.05193328857422, 94.0788345336914, 144.91831970214844, 141.0404815673828, 122.37500762939453, 175.03692626953125, 68.96623992919922, 92.00289916992188, 94.46475219726562, 54.20503234863281, 221.8747100830078, 145.91477966308594, 134.5823211669922, 102.78170776367188, 139.59922790527344, 250.3006591796875, 86.31796264648438, 90.92923736572266, 3.703120470046997, 3.7027673721313477, 6.373357772827148, 4.589803695678711, 4.650742053985596, 4.656362533569336, 2.7751054763793945, 2.7748377323150635, 2.774118661880493, 2.7735161781311035, 2.7734456062316895, 11.071779251098633, 2.774728775024414, 4.704173564910889, 2.775130271911621, 2.7746763229370117, 8.92441463470459, 4.610173225402832, 6.259073257446289, 2.756457567214966, 2.76682186126709, 10.060593605041504, 12.8361177444458, 10.167722702026367, 3.6790318489074707, 4.595100402832031, 3.5875637531280518, 3.587153196334839, 3.5866081714630127, 3.613431215286255, 11.836960792541504, 7.282341480255127, 6.3075666427612305, 10.136728286743164, 8.324544906616211, 95.5068130493164, 35.507938385009766, 9.923900604248047, 19.054994583129883, 187.69642639160156, 18.893043518066406, 134.51666259765625, 51.06681823730469, 18.366647720336914, 10.426334381103516, 221.8747100830078, 27.99722671508789, 268.2331848144531, 31.57623863220215, 28.564714431762695, 148.05953979492188, 40.22200393676758, 206.50985717773438, 250.3006591796875, 48.499412536621094, 126.05193328857422, 145.91477966308594, 49.61832809448242, 54.275062561035156, 139.59922790527344, 87.76434326171875, 150.18389892578125, 144.91831970214844, 143.7899169921875, 125.54644012451172, 134.5823211669922, 54.162532806396484, 92.00289916992188, 85.23954010009766, 113.40478515625, 118.20848083496094, 127.45812225341797, 114.65190124511719, 236.35435485839844, 90.92923736572266, 6.524031639099121, 5.587836265563965, 4.661839008331299, 4.6523566246032715, 8.299558639526367, 3.709691286087036, 3.7151706218719482, 2.7915689945220947, 2.784893751144409, 2.7910680770874023, 2.7855963706970215, 2.7853376865386963, 2.7909862995147705, 2.7841243743896484, 2.7910120487213135, 2.7842204570770264, 2.790626287460327, 2.7900335788726807, 2.7803478240966797, 5.484263896942139, 4.616120338439941, 15.844429016113281, 5.512508392333984, 14.729988098144531, 6.434917449951172, 3.719392776489258, 2.7331223487854004, 3.670861005783081, 5.64445161819458, 5.601928234100342, 22.412553787231445, 148.05953979492188, 6.491203784942627, 39.468284606933594, 134.51666259765625, 31.806211471557617, 29.70973777770996, 26.072093963623047, 17.55489730834961, 40.22200393676758, 22.82723045349121, 73.3814926147461, 42.184051513671875, 58.264278411865234, 22.726511001586914, 145.91477966308594, 141.0404815673828, 18.80862808227539, 15.869681358337402, 93.21223449707031, 150.18389892578125, 139.59922790527344, 56.08904266357422, 206.50985717773438, 118.20848083496094, 235.95254516601562, 145.47512817382812, 88.98645782470703, 134.5823211669922, 51.233421325683594, 221.8747100830078, 143.7899169921875, 268.2331848144531, 236.35435485839844, 118.99485778808594, 187.69642639160156, 250.3006591796875, 125.54644012451172, 100.76428985595703, 122.37500762939453, 5.52447509765625, 3.6609442234039307, 10.935664176940918, 2.756690263748169, 2.7566637992858887, 2.7565951347351074, 2.7564549446105957, 2.8577797412872314, 2.8699750900268555, 2.8735828399658203, 9.934962272644043, 4.574399471282959, 6.502634525299072, 5.436659812927246, 15.510879516601562, 3.6737797260284424, 3.6842894554138184, 3.6876494884490967, 2.8972654342651367, 4.503022193908691, 4.576019287109375, 3.6596193313598633, 2.9167234897613525, 5.428637504577637, 4.483733654022217, 4.564114570617676, 4.57374382019043, 3.6993656158447266, 14.471051216125488, 9.14012622833252, 11.333441734313965, 24.364734649658203, 10.52044677734375, 69.6667251586914, 150.18389892578125, 10.178140640258789, 8.261175155639648, 15.376193046569824, 46.25711441040039, 12.94802188873291, 26.19988250732422, 25.76613998413086, 19.418655395507812, 108.54730224609375, 26.562862396240234, 27.12494659423828, 118.99485778808594, 72.3989486694336, 113.40478515625, 145.47512817382812, 94.0788345336914, 25.14577293395996, 30.243547439575195, 221.8747100830078, 144.91831970214844, 143.7899169921875, 118.20848083496094, 268.2331848144531, 70.63501739501953, 125.54644012451172, 56.08904266357422, 92.00289916992188, 36.16409683227539, 236.35435485839844, 93.93119049072266, 70.97647094726562, 81.48909759521484, 250.3006591796875, 66.10762786865234, 141.0404815673828, 100.76428985595703, 93.21223449707031, 134.51666259765625, 122.37500762939453, 6.37224006652832, 4.668464660644531, 6.457964897155762, 4.5684990882873535, 3.6767990589141846, 2.734527826309204, 3.902951955795288, 2.7761194705963135, 3.764301300048828, 4.58555269241333, 10.011890411376953, 2.764955520629883, 3.8078134059906006, 6.415233135223389, 6.450563430786133, 2.7600173950195312, 5.476011753082275, 10.124795913696289, 3.628823757171631, 26.280799865722656, 2.7531988620758057, 3.7656731605529785, 10.150099754333496, 2.7305331230163574, 25.2410888671875, 12.881122589111328, 9.132265090942383, 2.718787670135498, 2.7353975772857666, 8.294960021972656, 16.52935218811035, 12.791387557983398, 95.56497955322266, 11.857195854187012, 52.670555114746094, 20.156057357788086, 20.86758804321289, 51.233421325683594, 10.023699760437012, 66.7578353881836, 12.781645774841309, 26.594789505004883, 40.606597900390625, 36.427024841308594, 40.745941162109375, 62.46413803100586, 127.45812225341797, 68.96623992919922, 125.54644012451172, 64.0202407836914, 40.35614013671875, 66.10762786865234, 100.59996032714844, 150.18389892578125, 250.3006591796875, 145.91477966308594, 60.243473052978516, 67.84615325927734, 126.05193328857422, 268.2331848144531, 221.8747100830078, 93.21223449707031, 134.5823211669922, 76.99530792236328, 235.95254516601562, 175.03692626953125, 187.69642639160156, 141.0404815673828, 4.4062018394470215, 4.40557861328125, 4.405722618103027, 4.492737293243408, 4.435692310333252, 6.228639602661133, 3.550511121749878, 3.55051851272583, 3.5506086349487305, 5.321837425231934, 3.6250689029693604, 5.368680953979492, 2.6814217567443848, 2.7190957069396973, 3.6664159297943115, 2.675459861755371, 6.440336227416992, 3.647467613220215, 2.6459622383117676, 2.636780023574829, 9.049667358398438, 4.615757942199707, 4.572269439697266, 4.487981796264648, 3.6666831970214844, 7.055654048919678, 10.0068359375, 12.530179977416992, 2.7627997398376465, 2.763120651245117, 8.244524002075195, 17.30562400817871, 16.07501792907715, 44.36798858642578, 11.475273132324219, 12.289477348327637, 60.70636749267578, 14.678411483764648, 52.13831329345703, 43.712833404541016, 16.71797752380371, 27.99722671508789, 74.32876586914062, 27.028640747070312, 114.65190124511719, 144.91831970214844, 93.93119049072266, 21.734764099121094, 66.7578353881836, 35.703941345214844, 236.35435485839844, 100.33747863769531, 134.5823211669922, 34.33477783203125, 51.122520446777344, 250.3006591796875, 102.78170776367188, 36.495479583740234, 62.46413803100586, 100.76428985595703, 145.91477966308594, 143.7899169921875, 60.17550277709961, 48.499412536621094, 148.05953979492188, 74.83299255371094, 145.47512817382812, 175.03692626953125, 127.45812225341797, 95.56497955322266, 187.69642639160156, 118.99485778808594, 58.02082824707031, 221.8747100830078, 3.20060396194458, 3.200934648513794, 3.2014036178588867, 3.201345920562744, 12.17785358428955, 12.222447395324707, 13.064826011657715, 12.27556324005127, 6.552972316741943, 6.572086334228516, 4.222429275512695, 6.588772296905518, 6.59076452255249, 4.127720355987549, 2.4778201580047607, 4.160816192626953, 14.023321151733398, 2.4822731018066406, 6.618554592132568, 6.635020732879639, 6.5844292640686035, 7.446302890777588, 2.4919464588165283, 9.130084991455078, 12.561311721801758, 3.339160680770874, 4.931159973144531, 7.552277088165283, 7.565019130706787, 7.594849109649658, 8.418212890625, 27.818937301635742, 8.326482772827148, 9.300040245056152, 69.6667251586914, 72.3989486694336, 35.62527847290039, 43.484649658203125, 20.751392364501953, 29.404237747192383, 14.541428565979004, 221.8747100830078, 54.11751174926758, 9.276474952697754, 13.123628616333008, 49.00054931640625, 250.3006591796875, 55.29323959350586, 143.7899169921875, 67.89847564697266, 81.48909759521484, 144.91831970214844, 268.2331848144531, 126.05193328857422, 85.23954010009766, 36.14594268798828, 125.54644012451172, 187.69642639160156, 60.19376754760742, 113.40478515625, 236.35435485839844, 108.01542663574219, 206.50985717773438, 118.20848083496094, 76.99530792236328, 114.65190124511719, 6.062015533447266, 4.387206554412842, 3.4733059406280518, 3.471054792404175, 3.473205327987671, 4.311343193054199, 15.498115539550781, 5.261019229888916, 2.6328179836273193, 5.30660343170166, 2.633143663406372, 2.6347436904907227, 2.6353321075439453, 2.636229991912842, 2.636345386505127, 4.418769836425781, 2.6392087936401367, 9.692878723144531, 4.330784797668457, 4.403634548187256, 6.163978576660156, 4.42838716506958, 3.5513267517089844, 11.45584487915039, 3.591496706008911, 3.5557801723480225, 3.772653341293335, 13.542293548583984, 3.592057943344116, 4.364839553833008, 16.71797752380371, 9.62537670135498, 11.518476486206055, 114.65190124511719, 51.06681823730469, 25.76613998413086, 143.7899169921875, 20.822248458862305, 21.657657623291016, 113.40478515625, 127.45812225341797, 37.05554962158203, 38.66228485107422, 85.23954010009766, 74.17088317871094, 35.62527847290039, 100.59996032714844, 54.879295349121094, 221.8747100830078, 60.19376754760742, 268.2331848144531, 95.56497955322266, 30.820724487304688, 74.83299255371094, 69.30862426757812, 126.05193328857422, 139.59922790527344, 250.3006591796875, 87.76434326171875, 100.76428985595703, 134.5823211669922, 125.54644012451172, 236.35435485839844, 187.69642639160156], \"Category\": [\"Default\", \"Default\", \"Default\", \"Default\", \"Default\", \"Default\", \"Default\", \"Default\", \"Default\", \"Default\", \"Default\", \"Default\", \"Default\", \"Default\", \"Default\", \"Default\", \"Default\", \"Default\", \"Default\", \"Default\", \"Default\", \"Default\", \"Default\", \"Default\", \"Default\", \"Default\", \"Default\", \"Default\", \"Default\", \"Default\", \"Topic1\", \"Topic1\", \"Topic1\", \"Topic1\", \"Topic1\", \"Topic1\", \"Topic1\", \"Topic1\", \"Topic1\", \"Topic1\", \"Topic1\", \"Topic1\", \"Topic1\", \"Topic1\", \"Topic1\", \"Topic1\", \"Topic1\", \"Topic1\", \"Topic1\", \"Topic1\", \"Topic1\", \"Topic1\", \"Topic1\", \"Topic1\", \"Topic1\", \"Topic1\", \"Topic1\", \"Topic1\", \"Topic1\", \"Topic1\", \"Topic1\", \"Topic1\", \"Topic1\", \"Topic1\", \"Topic1\", \"Topic1\", \"Topic1\", \"Topic1\", \"Topic1\", \"Topic1\", \"Topic1\", \"Topic1\", \"Topic1\", \"Topic1\", \"Topic1\", \"Topic1\", \"Topic1\", \"Topic1\", \"Topic1\", \"Topic1\", \"Topic1\", \"Topic1\", \"Topic1\", \"Topic1\", \"Topic1\", \"Topic1\", \"Topic1\", \"Topic1\", \"Topic1\", \"Topic1\", \"Topic1\", \"Topic1\", \"Topic1\", \"Topic1\", \"Topic1\", \"Topic1\", \"Topic1\", \"Topic1\", \"Topic1\", \"Topic1\", \"Topic1\", \"Topic1\", \"Topic2\", \"Topic2\", \"Topic2\", \"Topic2\", \"Topic2\", \"Topic2\", \"Topic2\", \"Topic2\", \"Topic2\", \"Topic2\", \"Topic2\", \"Topic2\", \"Topic2\", \"Topic2\", \"Topic2\", \"Topic2\", \"Topic2\", \"Topic2\", \"Topic2\", \"Topic2\", \"Topic2\", \"Topic2\", \"Topic2\", \"Topic2\", \"Topic2\", \"Topic2\", \"Topic2\", \"Topic2\", \"Topic2\", \"Topic2\", \"Topic2\", \"Topic2\", \"Topic2\", \"Topic2\", \"Topic2\", \"Topic2\", \"Topic2\", \"Topic2\", \"Topic2\", \"Topic2\", \"Topic2\", \"Topic2\", \"Topic2\", \"Topic2\", \"Topic2\", \"Topic2\", \"Topic2\", \"Topic2\", \"Topic2\", \"Topic2\", \"Topic2\", \"Topic2\", \"Topic2\", \"Topic2\", \"Topic2\", \"Topic2\", \"Topic2\", \"Topic2\", \"Topic2\", \"Topic2\", \"Topic2\", \"Topic2\", \"Topic2\", \"Topic2\", \"Topic2\", \"Topic2\", \"Topic2\", \"Topic2\", \"Topic2\", \"Topic2\", \"Topic2\", \"Topic2\", \"Topic2\", \"Topic2\", \"Topic3\", \"Topic3\", \"Topic3\", \"Topic3\", \"Topic3\", \"Topic3\", \"Topic3\", \"Topic3\", \"Topic3\", \"Topic3\", \"Topic3\", \"Topic3\", \"Topic3\", \"Topic3\", \"Topic3\", \"Topic3\", \"Topic3\", \"Topic3\", \"Topic3\", \"Topic3\", \"Topic3\", \"Topic3\", \"Topic3\", \"Topic3\", \"Topic3\", \"Topic3\", \"Topic3\", \"Topic3\", \"Topic3\", \"Topic3\", \"Topic3\", \"Topic3\", \"Topic3\", \"Topic3\", \"Topic3\", \"Topic3\", \"Topic3\", \"Topic3\", \"Topic3\", \"Topic3\", \"Topic3\", \"Topic3\", \"Topic3\", \"Topic3\", \"Topic3\", \"Topic3\", \"Topic3\", \"Topic3\", \"Topic3\", \"Topic3\", \"Topic3\", \"Topic3\", \"Topic3\", \"Topic3\", \"Topic3\", \"Topic3\", \"Topic3\", \"Topic3\", \"Topic3\", \"Topic3\", \"Topic3\", \"Topic3\", \"Topic3\", \"Topic3\", \"Topic3\", \"Topic3\", \"Topic3\", \"Topic3\", \"Topic3\", \"Topic3\", \"Topic3\", \"Topic3\", \"Topic3\", \"Topic3\", \"Topic3\", \"Topic3\", \"Topic3\", \"Topic4\", \"Topic4\", \"Topic4\", \"Topic4\", \"Topic4\", \"Topic4\", \"Topic4\", \"Topic4\", \"Topic4\", \"Topic4\", \"Topic4\", \"Topic4\", \"Topic4\", \"Topic4\", \"Topic4\", \"Topic4\", \"Topic4\", \"Topic4\", \"Topic4\", \"Topic4\", \"Topic4\", \"Topic4\", \"Topic4\", \"Topic4\", \"Topic4\", \"Topic4\", \"Topic4\", \"Topic4\", \"Topic4\", \"Topic4\", \"Topic4\", \"Topic4\", \"Topic4\", \"Topic4\", \"Topic4\", \"Topic4\", \"Topic4\", \"Topic4\", \"Topic4\", \"Topic4\", \"Topic4\", \"Topic4\", \"Topic4\", \"Topic4\", \"Topic4\", \"Topic4\", \"Topic4\", \"Topic4\", \"Topic4\", \"Topic4\", \"Topic4\", \"Topic4\", \"Topic4\", \"Topic4\", \"Topic4\", \"Topic4\", \"Topic4\", \"Topic4\", \"Topic4\", \"Topic4\", \"Topic4\", \"Topic4\", \"Topic4\", \"Topic4\", \"Topic4\", \"Topic4\", \"Topic4\", \"Topic4\", \"Topic4\", \"Topic4\", \"Topic4\", \"Topic5\", \"Topic5\", \"Topic5\", \"Topic5\", \"Topic5\", \"Topic5\", \"Topic5\", \"Topic5\", \"Topic5\", \"Topic5\", \"Topic5\", \"Topic5\", \"Topic5\", \"Topic5\", \"Topic5\", \"Topic5\", \"Topic5\", \"Topic5\", \"Topic5\", \"Topic5\", \"Topic5\", \"Topic5\", \"Topic5\", \"Topic5\", \"Topic5\", \"Topic5\", \"Topic5\", \"Topic5\", \"Topic5\", \"Topic5\", \"Topic5\", \"Topic5\", \"Topic5\", \"Topic5\", \"Topic5\", \"Topic5\", \"Topic5\", \"Topic5\", \"Topic5\", \"Topic5\", \"Topic5\", \"Topic5\", \"Topic5\", \"Topic5\", \"Topic5\", \"Topic5\", \"Topic5\", \"Topic5\", \"Topic5\", \"Topic5\", \"Topic5\", \"Topic5\", \"Topic5\", \"Topic5\", \"Topic5\", \"Topic5\", \"Topic5\", \"Topic5\", \"Topic5\", \"Topic5\", \"Topic5\", \"Topic5\", \"Topic5\", \"Topic5\", \"Topic5\", \"Topic5\", \"Topic5\", \"Topic5\", \"Topic5\", \"Topic5\", \"Topic5\", \"Topic5\", \"Topic5\", \"Topic5\", \"Topic5\", \"Topic6\", \"Topic6\", \"Topic6\", \"Topic6\", \"Topic6\", \"Topic6\", \"Topic6\", \"Topic6\", \"Topic6\", \"Topic6\", \"Topic6\", \"Topic6\", \"Topic6\", \"Topic6\", \"Topic6\", \"Topic6\", \"Topic6\", \"Topic6\", \"Topic6\", \"Topic6\", \"Topic6\", \"Topic6\", \"Topic6\", \"Topic6\", \"Topic6\", \"Topic6\", \"Topic6\", \"Topic6\", \"Topic6\", \"Topic6\", \"Topic6\", \"Topic6\", \"Topic6\", \"Topic6\", \"Topic6\", \"Topic6\", \"Topic6\", \"Topic6\", \"Topic6\", \"Topic6\", \"Topic6\", \"Topic6\", \"Topic6\", \"Topic6\", \"Topic6\", \"Topic6\", \"Topic6\", \"Topic6\", \"Topic6\", \"Topic6\", \"Topic6\", \"Topic6\", \"Topic6\", \"Topic6\", \"Topic6\", \"Topic6\", \"Topic6\", \"Topic6\", \"Topic6\", \"Topic6\", \"Topic6\", \"Topic6\", \"Topic6\", \"Topic6\", \"Topic6\", \"Topic6\", \"Topic6\", \"Topic6\", \"Topic6\", \"Topic6\", \"Topic6\", \"Topic6\", \"Topic6\", \"Topic6\", \"Topic6\", \"Topic7\", \"Topic7\", \"Topic7\", \"Topic7\", \"Topic7\", \"Topic7\", \"Topic7\", \"Topic7\", \"Topic7\", \"Topic7\", \"Topic7\", \"Topic7\", \"Topic7\", \"Topic7\", \"Topic7\", \"Topic7\", \"Topic7\", \"Topic7\", \"Topic7\", \"Topic7\", \"Topic7\", \"Topic7\", \"Topic7\", \"Topic7\", \"Topic7\", \"Topic7\", \"Topic7\", \"Topic7\", \"Topic7\", \"Topic7\", \"Topic7\", \"Topic7\", \"Topic7\", \"Topic7\", \"Topic7\", \"Topic7\", \"Topic7\", \"Topic7\", \"Topic7\", \"Topic7\", \"Topic7\", \"Topic7\", \"Topic7\", \"Topic7\", \"Topic7\", \"Topic7\", \"Topic7\", \"Topic7\", \"Topic7\", \"Topic7\", \"Topic7\", \"Topic7\", \"Topic7\", \"Topic7\", \"Topic7\", \"Topic7\", \"Topic7\", \"Topic7\", \"Topic7\", \"Topic7\", \"Topic7\", \"Topic7\", \"Topic7\", \"Topic7\", \"Topic7\", \"Topic7\", \"Topic7\", \"Topic7\", \"Topic7\", \"Topic7\", \"Topic8\", \"Topic8\", \"Topic8\", \"Topic8\", \"Topic8\", \"Topic8\", \"Topic8\", \"Topic8\", \"Topic8\", \"Topic8\", \"Topic8\", \"Topic8\", \"Topic8\", \"Topic8\", \"Topic8\", \"Topic8\", \"Topic8\", \"Topic8\", \"Topic8\", \"Topic8\", \"Topic8\", \"Topic8\", \"Topic8\", \"Topic8\", \"Topic8\", \"Topic8\", \"Topic8\", \"Topic8\", \"Topic8\", \"Topic8\", \"Topic8\", \"Topic8\", \"Topic8\", \"Topic8\", \"Topic8\", \"Topic8\", \"Topic8\", \"Topic8\", \"Topic8\", \"Topic8\", \"Topic8\", \"Topic8\", \"Topic8\", \"Topic8\", \"Topic8\", \"Topic8\", \"Topic8\", \"Topic8\", \"Topic8\", \"Topic8\", \"Topic8\", \"Topic8\", \"Topic8\", \"Topic8\", \"Topic8\", \"Topic8\", \"Topic8\", \"Topic8\", \"Topic8\", \"Topic8\", \"Topic8\", \"Topic8\", \"Topic8\", \"Topic8\", \"Topic8\", \"Topic8\", \"Topic8\", \"Topic8\", \"Topic8\", \"Topic8\", \"Topic8\", \"Topic8\", \"Topic8\", \"Topic8\", \"Topic9\", \"Topic9\", \"Topic9\", \"Topic9\", \"Topic9\", \"Topic9\", \"Topic9\", \"Topic9\", \"Topic9\", \"Topic9\", \"Topic9\", \"Topic9\", \"Topic9\", \"Topic9\", \"Topic9\", \"Topic9\", \"Topic9\", \"Topic9\", \"Topic9\", \"Topic9\", \"Topic9\", \"Topic9\", \"Topic9\", \"Topic9\", \"Topic9\", \"Topic9\", \"Topic9\", \"Topic9\", \"Topic9\", \"Topic9\", \"Topic9\", \"Topic9\", \"Topic9\", \"Topic9\", \"Topic9\", \"Topic9\", \"Topic9\", \"Topic9\", \"Topic9\", \"Topic9\", \"Topic9\", \"Topic9\", \"Topic9\", \"Topic9\", \"Topic9\", \"Topic9\", \"Topic9\", \"Topic9\", \"Topic9\", \"Topic9\", \"Topic9\", \"Topic9\", \"Topic9\", \"Topic9\", \"Topic9\", \"Topic9\", \"Topic9\", \"Topic9\", \"Topic9\", \"Topic9\", \"Topic9\", \"Topic9\", \"Topic9\", \"Topic9\", \"Topic9\", \"Topic9\", \"Topic9\", \"Topic9\", \"Topic10\", \"Topic10\", \"Topic10\", \"Topic10\", \"Topic10\", \"Topic10\", \"Topic10\", \"Topic10\", \"Topic10\", \"Topic10\", \"Topic10\", \"Topic10\", \"Topic10\", \"Topic10\", \"Topic10\", \"Topic10\", \"Topic10\", \"Topic10\", \"Topic10\", \"Topic10\", \"Topic10\", \"Topic10\", \"Topic10\", \"Topic10\", \"Topic10\", \"Topic10\", \"Topic10\", \"Topic10\", \"Topic10\", \"Topic10\", \"Topic10\", \"Topic10\", \"Topic10\", \"Topic10\", \"Topic10\", \"Topic10\", \"Topic10\", \"Topic10\", \"Topic10\", \"Topic10\", \"Topic10\", \"Topic10\", \"Topic10\", \"Topic10\", \"Topic10\", \"Topic10\", \"Topic10\", \"Topic10\", \"Topic10\", \"Topic10\", \"Topic10\", \"Topic10\", \"Topic10\", \"Topic10\", \"Topic10\", \"Topic10\", \"Topic10\", \"Topic10\", \"Topic10\", \"Topic10\", \"Topic10\", \"Topic10\", \"Topic10\", \"Topic10\", \"Topic10\", \"Topic10\", \"Topic10\", \"Topic10\", \"Topic10\", \"Topic10\", \"Topic10\", \"Topic10\", \"Topic10\", \"Topic10\", \"Topic11\", \"Topic11\", \"Topic11\", \"Topic11\", \"Topic11\", \"Topic11\", \"Topic11\", \"Topic11\", \"Topic11\", \"Topic11\", \"Topic11\", \"Topic11\", \"Topic11\", \"Topic11\", \"Topic11\", \"Topic11\", \"Topic11\", \"Topic11\", \"Topic11\", \"Topic11\", \"Topic11\", \"Topic11\", \"Topic11\", \"Topic11\", \"Topic11\", \"Topic11\", \"Topic11\", \"Topic11\", \"Topic11\", \"Topic11\", \"Topic11\", \"Topic11\", \"Topic11\", \"Topic11\", \"Topic11\", \"Topic11\", \"Topic11\", \"Topic11\", \"Topic11\", \"Topic11\", \"Topic11\", \"Topic11\", \"Topic11\", \"Topic11\", \"Topic11\", \"Topic11\", \"Topic11\", \"Topic11\", \"Topic11\", \"Topic11\", \"Topic11\", \"Topic11\", \"Topic11\", \"Topic11\", \"Topic11\", \"Topic11\", \"Topic11\", \"Topic11\", \"Topic11\", \"Topic11\", \"Topic11\", \"Topic11\", \"Topic11\", \"Topic11\", \"Topic11\", \"Topic11\", \"Topic12\", \"Topic12\", \"Topic12\", \"Topic12\", \"Topic12\", \"Topic12\", \"Topic12\", \"Topic12\", \"Topic12\", \"Topic12\", \"Topic12\", \"Topic12\", \"Topic12\", \"Topic12\", \"Topic12\", \"Topic12\", \"Topic12\", \"Topic12\", \"Topic12\", \"Topic12\", \"Topic12\", \"Topic12\", \"Topic12\", \"Topic12\", \"Topic12\", \"Topic12\", \"Topic12\", \"Topic12\", \"Topic12\", \"Topic12\", \"Topic12\", \"Topic12\", \"Topic12\", \"Topic12\", \"Topic12\", \"Topic12\", \"Topic12\", \"Topic12\", \"Topic12\", \"Topic12\", \"Topic12\", \"Topic12\", \"Topic12\", \"Topic12\", \"Topic12\", \"Topic12\", \"Topic12\", \"Topic12\", \"Topic12\", \"Topic12\", \"Topic12\", \"Topic12\", \"Topic12\", \"Topic12\", \"Topic12\", \"Topic12\", \"Topic12\", \"Topic12\", \"Topic12\", \"Topic12\", \"Topic12\", \"Topic12\", \"Topic12\", \"Topic12\"], \"logprob\": [30.0, 29.0, 28.0, 27.0, 26.0, 25.0, 24.0, 23.0, 22.0, 21.0, 20.0, 19.0, 18.0, 17.0, 16.0, 15.0, 14.0, 13.0, 12.0, 11.0, 10.0, 9.0, 8.0, 7.0, 6.0, 5.0, 4.0, 3.0, 2.0, 1.0, -6.3277997970581055, -6.368599891662598, -6.374300003051758, -6.268799781799316, -6.970699787139893, -7.277299880981445, -7.000699996948242, -7.001999855041504, -7.008200168609619, -7.0071001052856445, -7.013500213623047, -7.019400119781494, -7.02400016784668, -7.025400161743164, -7.034299850463867, -7.025400161743164, -7.053899765014648, -7.0578999519348145, -6.841899871826172, -6.368100166320801, -7.09499979019165, -7.102200031280518, -7.112100124359131, -6.917300224304199, -7.158699989318848, -6.161499977111816, -7.173500061035156, -6.972799777984619, -6.799300193786621, -7.008699893951416, -5.9994001388549805, -5.963699817657471, -5.366000175476074, -5.473299980163574, -5.9440999031066895, -6.371699810028076, -5.6107001304626465, -5.393700122833252, -5.281400203704834, -6.2804999351501465, -4.132400035858154, -5.6132001876831055, -4.6971001625061035, -5.347499847412109, -5.753799915313721, -6.152400016784668, -4.598899841308594, -5.954800128936768, -5.763400077819824, -5.440499782562256, -5.187300205230713, -5.777100086212158, -5.535600185394287, -5.5432000160217285, -5.479899883270264, -5.157599925994873, -4.928599834442139, -4.99459981918335, -5.343900203704834, -5.050600051879883, -5.373499870300293, -5.368599891662598, -5.5258002281188965, -5.603600025177002, -5.107699871063232, -5.323299884796143, -5.321599960327148, -5.595399856567383, -5.343299865722656, -5.574100017547607, -5.496699810028076, -5.584799766540527, -6.467100143432617, -7.219200134277344, -6.275700092315674, -7.2916998863220215, -7.611100196838379, -7.61359977722168, -7.614500045776367, -7.614699840545654, -6.952199935913086, -7.6402997970581055, -7.341000080108643, -7.6631999015808105, -7.38100004196167, -7.158299922943115, -7.356299877166748, -7.382599830627441, -7.684999942779541, -7.698999881744385, -7.700799942016602, -7.703100204467773, -7.413899898529053, -7.723800182342529, -7.712500095367432, -7.218999862670898, -7.757400035858154, -6.3668999671936035, -6.783199787139893, -7.24429988861084, -7.480999946594238, -7.2846999168396, -6.63040018081665, -6.323500156402588, -5.695099830627441, -6.590799808502197, -6.5096001625061035, -5.2617998123168945, -6.918000221252441, -4.415200233459473, -4.188300132751465, -5.827700138092041, -5.691299915313721, -4.395599842071533, -5.765500068664551, -5.412499904632568, -5.122000217437744, -6.4019999504089355, -5.634399890899658, -4.489099979400635, -5.923600196838379, -5.161099910736084, -5.189799785614014, -5.401000022888184, -4.940800189971924, -5.244999885559082, -5.348899841308594, -5.741799831390381, -4.706999778747559, -5.604700088500977, -5.8780999183654785, -5.647799968719482, -5.718500137329102, -5.3059000968933105, -5.382500171661377, -5.620699882507324, -5.734499931335449, -5.395400047302246, -5.415299892425537, -5.506800174713135, -5.307700157165527, -5.563700199127197, -5.596099853515625, -5.491000175476074, -5.529699802398682, -5.6880998611450195, -6.453000068664551, -5.952600002288818, -6.851399898529053, -7.132500171661377, -7.132500171661377, -7.132699966430664, -7.524499893188477, -7.545100212097168, -6.563300132751465, -7.558800220489502, -6.910999774932861, -7.594399929046631, -6.088799953460693, -6.796199798583984, -7.619800090789795, -6.452899932861328, -7.6554999351501465, -7.657899856567383, -7.658199787139893, -7.661200046539307, -7.697400093078613, -7.669000148773193, -7.422699928283691, -7.684299945831299, -7.474599838256836, -7.7241997718811035, -7.741199970245361, -7.743100166320801, -7.745999813079834, -7.747700214385986, -6.7895002365112305, -6.954400062561035, -4.481200218200684, -4.031899929046631, -5.901400089263916, -6.251100063323975, -6.397900104522705, -6.520699977874756, -5.794000148773193, -6.5304999351501465, -5.1691999435424805, -4.855500221252441, -6.173799991607666, -5.819499969482422, -6.80109977722168, -5.70419979095459, -5.023600101470947, -5.328000068664551, -5.423099994659424, -5.982500076293945, -5.281300067901611, -5.592400074005127, -5.186100006103516, -5.843100070953369, -5.779399871826172, -4.721399784088135, -5.180300235748291, -4.866199970245361, -5.407199859619141, -5.077199935913086, -5.770400047302246, -5.347599983215332, -5.71999979019165, -5.884900093078613, -5.524799823760986, -5.4847002029418945, -5.6915998458862305, -5.7758002281188965, -5.720799922943115, -5.5929999351501465, -5.663700103759766, -5.736199855804443, -5.585100173950195, -5.70550012588501, -5.6519999504089355, -5.723899841308594, -5.756199836730957, -7.0782999992370605, -7.0782999992370605, -7.463200092315674, -7.0802001953125, -7.081999778747559, -7.38640022277832, -7.385799884796143, -7.445499897003174, -7.389599800109863, -7.451499938964844, -7.220699787139893, -7.046500205993652, -6.897900104522705, -6.465799808502197, -7.493100166320801, -6.946499824523926, -7.28380012512207, -7.516200065612793, -7.795100212097168, -6.953100204467773, -7.795300006866455, -7.539899826049805, -7.520699977874756, -7.551599979400635, -7.463500022888184, -7.338799953460693, -7.1682000160217285, -7.607500076293945, -7.880899906158447, -7.888899803161621, -6.694499969482422, -5.7428998947143555, -6.826300144195557, -5.698599815368652, -6.842400074005127, -6.493599891662598, -7.048500061035156, -5.396699905395508, -6.118800163269043, -4.285699844360352, -6.246799945831299, -5.85129976272583, -5.210599899291992, -5.468200206756592, -5.290800094604492, -5.014100074768066, -5.363399982452393, -5.09089994430542, -5.2093000411987305, -4.599599838256836, -5.013700008392334, -4.6834001541137695, -4.84630012512207, -5.8643999099731445, -5.327899932861328, -5.80109977722168, -5.5971999168396, -4.978400230407715, -5.236599922180176, -5.298999786376953, -5.178899765014648, -5.375699996948242, -5.904699802398682, -5.3632001876831055, -5.346499919891357, -5.641300201416016, -5.491199970245361, -5.605500221252441, -5.333600044250488, -5.575099945068359, -5.644899845123291, -7.178199768066406, -7.178299903869629, -6.79610013961792, -7.003799915313721, -6.569900035858154, -7.570199966430664, -7.570199966430664, -7.570300102233887, -7.570300102233887, -7.570400238037109, -7.572500228881836, -7.572800159454346, -6.897200107574463, -7.160399913787842, -6.691500186920166, -7.178100109100342, -7.178199768066406, -6.826600074768066, -6.280900001525879, -7.80679988861084, -7.529200077056885, -7.787199974060059, -7.570099830627441, -6.657199859619141, -7.8242998123168945, -7.196899890899658, -7.832099914550781, -7.838699817657471, -7.426300048828125, -7.863800048828125, -7.083600044250488, -6.174900054931641, -6.9980998039245605, -5.321899890899658, -6.86899995803833, -5.703999996185303, -6.775400161743164, -7.106500148773193, -6.3968000411987305, -5.421899795532227, -4.286099910736084, -5.774099826812744, -5.635799884796143, -4.843699932098389, -4.587100028991699, -5.125500202178955, -6.279200077056885, -4.748700141906738, -6.231500148773193, -5.825099945068359, -5.265100002288818, -5.494100093841553, -5.808000087738037, -5.446100234985352, -5.634099960327148, -4.83459997177124, -5.177199840545654, -5.2581000328063965, -5.418099880218506, -5.237500190734863, -5.2708001136779785, -5.361800193786621, -5.219699859619141, -5.660900115966797, -5.525599956512451, -5.526700019836426, -5.774899959564209, -5.254499912261963, -5.428500175476074, -5.4633002281188965, -5.566999912261963, -5.516499996185303, -5.407199859619141, -5.641600131988525, -5.642300128936768, -7.037600040435791, -7.037700176239014, -6.537600040435791, -6.907100200653076, -6.9029998779296875, -6.910299777984619, -7.429699897766113, -7.429800033569336, -7.437900066375732, -7.4415998458862305, -7.442699909210205, -6.082200050354004, -7.4816999435424805, -6.96619987487793, -7.497200012207031, -7.503399848937988, -6.365699768066406, -7.037700176239014, -6.758800029754639, -7.583799839019775, -7.635499954223633, -6.3460001945495605, -6.118000030517578, -6.358099937438965, -7.3871002197265625, -7.177800178527832, -7.438300132751465, -7.441100120544434, -7.443699836730957, -7.440700054168701, -6.266900062561035, -6.766900062561035, -6.933599948883057, -6.525100231170654, -6.710100173950195, -4.740200042724609, -5.552999973297119, -6.576499938964844, -6.0817999839782715, -4.368500232696533, -6.09060001373291, -4.619200229644775, -5.413099765777588, -6.177199840545654, -6.575300216674805, -4.593299865722656, -5.967899799346924, -4.612299919128418, -5.9095001220703125, -5.994500160217285, -5.1132001876831055, -5.8343000411987305, -5.0152997970581055, -4.950099945068359, -5.758299827575684, -5.321599960327148, -5.251999855041504, -5.7778000831604, -5.749599933624268, -5.316299915313721, -5.548900127410889, -5.387800216674805, -5.405900001525879, -5.424099922180176, -5.504300117492676, -5.491099834442139, -5.786900043487549, -5.6331000328063965, -5.666900157928467, -5.633999824523926, -5.632199764251709, -5.627399921417236, -5.692699909210205, -5.5914998054504395, -5.731100082397461, -6.330399990081787, -6.530700206756592, -6.730000019073486, -6.766600131988525, -6.242599964141846, -7.051000118255615, -7.06279993057251, -7.357900142669678, -7.370699882507324, -7.369699954986572, -7.372200012207031, -7.372399806976318, -7.371600151062012, -7.388999938964844, -7.389100074768066, -7.395100116729736, -7.396299839019775, -7.407899856567383, -7.43209981918335, -6.821800231933594, -6.999800205230713, -5.770199775695801, -6.8267998695373535, -5.861800193786621, -6.703400135040283, -7.269899845123291, -7.594099998474121, -7.32919979095459, -6.912199974060059, -6.934800148010254, -5.618599891662598, -3.95770001411438, -6.809000015258789, -5.323500156402588, -4.360599994659424, -5.536600112915039, -5.595399856567383, -5.6981000900268555, -6.0671000480651855, -5.481400012969971, -5.891200065612793, -5.063199996948242, -5.4918999671936035, -5.338200092315674, -6.015100002288818, -4.834499835968018, -4.867599964141846, -6.147299766540527, -6.25629997253418, -5.19890022277832, -4.923799991607666, -4.984300136566162, -5.544899940490723, -4.842800140380859, -5.153800010681152, -4.824999809265137, -5.106200218200684, -5.350800037384033, -5.174699783325195, -5.642899990081787, -5.112800121307373, -5.2769999504089355, -5.125100135803223, -5.200300216674805, -5.418799877166748, -5.428199768066406, -5.3871002197265625, -5.526299953460693, -5.570499897003174, -5.581600189208984, -6.513299942016602, -6.940899848937988, -5.8643999099731445, -7.261000156402588, -7.261000156402588, -7.261099815368652, -7.261199951171875, -7.433300018310547, -7.456699848175049, -7.463900089263916, -6.235899925231934, -7.033400058746338, -6.684899806976318, -6.866700172424316, -5.820700168609619, -7.261099815368652, -7.261000156402588, -7.261099815368652, -7.5106000900268555, -7.0777997970581055, -7.069399833679199, -7.294300079345703, -7.55109977722168, -6.936399936676025, -7.1402997970581055, -7.135499954223633, -7.154200077056885, -7.374899864196777, -6.023799896240234, -6.493000030517578, -6.3125, -5.641200065612793, -6.3979997634887695, -4.790299892425537, -4.271900177001953, -6.48829984664917, -6.664599895477295, -6.208000183105469, -5.394800186157227, -6.3541998863220215, -5.903800010681152, -5.918300151824951, -6.11460018157959, -4.962900161743164, -5.93310022354126, -5.934700012207031, -5.043799877166748, -5.370100021362305, -5.117700099945068, -4.986800193786621, -5.238699913024902, -6.006899833679199, -5.915200233459473, -4.8871002197265625, -5.127999782562256, -5.163400173187256, -5.263400077819824, -4.872399806976318, -5.548399925231934, -5.319499969482422, -5.664100170135498, -5.486199855804443, -5.872300148010254, -5.198999881744385, -5.557600021362305, -5.68720006942749, -5.673999786376953, -5.443299770355225, -5.743500232696533, -5.605000019073486, -5.674499988555908, -5.715099811553955, -5.695899963378906, -5.721399784088135, -6.390900135040283, -6.721399784088135, -6.4928998947143555, -6.866600036621094, -7.126500129699707, -7.473400115966797, -7.126399993896484, -7.469799995422363, -7.1875, -7.03439998626709, -6.259799957275391, -7.570099830627441, -7.257999897003174, -6.746200084686279, -6.760900020599365, -7.616000175476074, -6.942500114440918, -6.335000038146973, -7.364500045776367, -5.40749979019165, -7.679800033569336, -7.373899936676025, -6.395100116729736, -7.712800025939941, -5.500400066375732, -6.192500114440918, -6.5457000732421875, -7.784599781036377, -7.780399799346924, -6.677299976348877, -5.988699913024902, -6.246300220489502, -4.383600234985352, -6.370699882507324, -5.04640007019043, -5.912099838256836, -5.886600017547607, -5.156799793243408, -6.525199890136719, -5.009699821472168, -6.33650016784668, -5.803899765014648, -5.532299995422363, -5.614500045776367, -5.604100227355957, -5.33620023727417, -4.890600204467773, -5.335100173950195, -5.021399974822998, -5.430200099945068, -5.702499866485596, -5.427199840545654, -5.283699989318848, -5.1066999435424805, -4.8572001457214355, -5.149600028991699, -5.5619001388549805, -5.515999794006348, -5.297500133514404, -5.01639986038208, -5.0904998779296875, -5.448699951171875, -5.401400089263916, -5.573999881744385, -5.366099834442139, -5.4430999755859375, -5.458499908447266, -5.584799766540527, -6.642600059509277, -6.642899990081787, -6.643099784851074, -6.718400001525879, -6.747799873352051, -6.4243998527526855, -7.025700092315674, -7.025700092315674, -7.025700092315674, -6.639999866485596, -7.025899887084961, -6.641600131988525, -7.345799922943115, -7.373700141906738, -7.076099872589111, -7.441699981689453, -6.607900142669678, -7.178299903869629, -7.507299900054932, -7.551499843597412, -6.322199821472168, -7.003399848937988, -7.025700092315674, -7.050899982452393, -7.280399799346924, -6.636300086975098, -6.2957000732421875, -6.0721001625061035, -7.598800182342529, -7.599100112915039, -6.519899845123291, -5.813799858093262, -5.942500114440918, -5.046299934387207, -6.2829999923706055, -6.2322998046875, -5.033299922943115, -6.131700038909912, -5.186399936676025, -5.322199821472168, -6.081500053405762, -5.734799861907959, -5.075300216674805, -5.783899784088135, -4.920599937438965, -4.7881999015808105, -5.054999828338623, -5.939599990844727, -5.315100193023682, -5.679800033569336, -4.70550012588501, -5.228799819946289, -5.091700077056885, -5.778500080108643, -5.598700046539307, -4.895599842071533, -5.339399814605713, -5.781599998474121, -5.574999809265137, -5.397299766540527, -5.2779998779296875, -5.308000087738037, -5.633399963378906, -5.741799831390381, -5.433199882507324, -5.635300159454346, -5.50029993057251, -5.463099956512451, -5.548600196838379, -5.622600078582764, -5.542099952697754, -5.609799861907959, -5.709199905395508, -5.685200214385986, -6.760200023651123, -6.762199878692627, -6.765399932861328, -6.767000198364258, -5.544000148773193, -5.571000099182129, -5.531099796295166, -5.60290002822876, -6.232999801635742, -6.260000228881836, -6.714700222015381, -6.279300212860107, -6.281400203704834, -6.760700225830078, -7.271299839019775, -6.7555999755859375, -5.542500019073486, -7.291100025177002, -6.316800117492676, -6.341400146484375, -6.352499961853027, -6.255199909210205, -7.407899856567383, -6.1149001121521, -5.800000190734863, -7.138599872589111, -6.765200138092041, -6.344799995422363, -6.349100112915039, -6.351200103759766, -6.259200096130371, -5.1458001136779785, -6.292799949645996, -6.195300102233887, -4.544899940490723, -4.74399995803833, -5.389400005340576, -5.263899803161621, -5.76039981842041, -5.588099956512451, -6.007699966430664, -4.646299839019775, -5.369200229644775, -6.247099876403809, -6.087600231170654, -5.486499786376953, -4.768099784851074, -5.448800086975098, -5.044000148773193, -5.371099948883057, -5.343599796295166, -5.1331000328063965, -4.915500164031982, -5.267600059509277, -5.419000148773193, -5.709700107574463, -5.3282999992370605, -5.214200019836426, -5.6041998863220215, -5.4440999031066895, -5.283599853515625, -5.474599838256836, -5.378200054168701, -5.524499893188477, -5.5808000564575195, -5.578199863433838, -5.944799900054932, -6.297500133514404, -6.573500156402588, -6.5756001472473145, -6.577300071716309, -6.383500099182129, -5.206699848175049, -6.297500133514404, -7.006199836730957, -6.30620002746582, -7.012400150299072, -7.024199962615967, -7.027500152587891, -7.033899784088135, -7.034299850463867, -6.529799938201904, -7.0584001541137695, -5.779399871826172, -6.589000225067139, -6.573800086975098, -6.292200088500977, -6.705699920654297, -6.937399864196777, -5.786799907684326, -6.985899925231934, -7.051400184631348, -7.019999980926514, -5.755499839782715, -7.106800079345703, -6.928999900817871, -5.693699836730957, -6.252399921417236, -6.141600131988525, -4.5233001708984375, -5.235899925231934, -5.690199851989746, -4.645100116729736, -5.876200199127197, -5.881700038909912, -5.028200149536133, -4.996399879455566, -5.662199974060059, -5.653299808502197, -5.277400016784668, -5.389800071716309, -5.705100059509277, -5.2881999015808105, -5.553599834442139, -5.031099796295166, -5.536799907684326, -5.023099899291992, -5.440499782562256, -5.827300071716309, -5.5802998542785645, -5.623899936676025, -5.487199783325195, -5.4741997718811035, -5.364699840545654, -5.5971999168396, -5.609099864959717, -5.585599899291992, -5.599800109863281, -5.6616997718811035, -5.697999954223633], \"loglift\": [30.0, 29.0, 28.0, 27.0, 26.0, 25.0, 24.0, 23.0, 22.0, 21.0, 20.0, 19.0, 18.0, 17.0, 16.0, 15.0, 14.0, 13.0, 12.0, 11.0, 10.0, 9.0, 8.0, 7.0, 6.0, 5.0, 4.0, 3.0, 2.0, 1.0, 2.052999973297119, 2.0232999324798584, 2.0171000957489014, 1.992900013923645, 1.9874000549316406, 1.9678000211715698, 1.9636000394821167, 1.9620000123977661, 1.958799958229065, 1.9572999477386475, 1.9532999992370605, 1.9493000507354736, 1.9460999965667725, 1.9444999694824219, 1.9362000226974487, 1.93340003490448, 1.9229999780654907, 1.9144999980926514, 1.913100004196167, 1.9098999500274658, 1.885200023651123, 1.878999948501587, 1.871000051498413, 1.8454999923706055, 1.8336999416351318, 1.8276000022888184, 1.8212000131607056, 1.8101999759674072, 1.8051999807357788, 1.7733999490737915, 1.757200002670288, 1.7271000146865845, 1.6713999509811401, 1.6751999855041504, 1.6785000562667847, 1.7130999565124512, 1.5269999504089355, 1.462499976158142, 1.3782000541687012, 1.645799994468689, 0.8618000149726868, 1.4011000394821167, 0.9553999900817871, 1.2131999731063843, 1.3557000160217285, 1.5009000301361084, 0.6956999897956848, 1.3658000230789185, 1.238700032234192, 1.027899980545044, 0.8141999840736389, 1.1875, 1.0277999639511108, 1.0092999935150146, 0.853600025177002, 0.4652999937534332, 0.008299999870359898, 0.0013000000035390258, 0.4830999970436096, 0.006800000090152025, 0.49950000643730164, 0.4797999858856201, 0.6744999885559082, 0.8019000291824341, -0.23999999463558197, 0.18719999492168427, 0.1695999950170517, 0.7049000263214111, -0.21410000324249268, 0.48500001430511475, 0.02410000003874302, 0.36469998955726624, 2.052000045776367, 1.9815000295639038, 1.9758000373840332, 1.8970999717712402, 1.8723000288009644, 1.8696000576019287, 1.8687000274658203, 1.8686000108718872, 1.8586000204086304, 1.8436000347137451, 1.829200029373169, 1.8221999406814575, 1.8097000122070312, 1.809000015258789, 1.8085999488830566, 1.807800054550171, 1.801200032234192, 1.791599988937378, 1.7862000465393066, 1.784000039100647, 1.7807999849319458, 1.7640000581741333, 1.763800024986267, 1.7510000467300415, 1.7316999435424805, 1.7280000448226929, 1.7243000268936157, 1.7171000242233276, 1.712399959564209, 1.694700002670288, 1.652400016784668, 1.5600999593734741, 1.4397000074386597, 1.5631999969482422, 1.5288000106811523, 1.1711000204086304, 1.586400032043457, 0.8792999982833862, 0.8076000213623047, 1.2694000005722046, 1.1845999956130981, 0.7336000204086304, 1.170199990272522, 0.986299991607666, 0.8489999771118164, 1.3549000024795532, 1.009600043296814, 0.44780001044273376, 1.1150000095367432, 0.711899995803833, 0.725600004196167, 0.8199999928474426, 0.5697000026702881, 0.6797000169754028, 0.7245000004768372, 0.9104999899864197, 0.1606999933719635, 0.7200000286102295, 0.9394000172615051, 0.7142000198364258, 0.7502999901771545, 0.3057999908924103, 0.2402999997138977, 0.5764999985694885, 0.7322999835014343, 0.16189999878406525, 0.06120000034570694, 0.22179999947547913, -0.25029999017715454, 0.3366999924182892, 0.303600013256073, -0.4968000054359436, -0.30489999055862427, -0.2084999978542328, 2.137500047683716, 2.1048998832702637, 2.075900077819824, 2.0185000896453857, 2.0185000896453857, 2.0185000896453857, 1.9148999452590942, 1.8947999477386475, 1.8894000053405762, 1.881600022315979, 1.8545000553131104, 1.8437999486923218, 1.823199987411499, 1.7997000217437744, 1.799399971961975, 1.7616000175476074, 1.7568999528884888, 1.7539000511169434, 1.753499984741211, 1.750100016593933, 1.7422000169754028, 1.7408000230789185, 1.7273000478744507, 1.7228000164031982, 1.7177000045776367, 1.7160999774932861, 1.6992000341415405, 1.6972999572753906, 1.6943999528884888, 1.6926000118255615, 1.670699954032898, 1.6539000272750854, 1.2961000204086304, 1.1928000450134277, 1.4362000226974487, 1.4852999448776245, 1.503100037574768, 1.5162999629974365, 1.3559000492095947, 1.5115000009536743, 1.2105000019073486, 0.9955000281333923, 1.361199975013733, 1.2294000387191772, 1.5267000198364258, 1.121999979019165, 0.8248000144958496, 0.9304999709129333, 0.9304999709129333, 1.1740000247955322, 0.8266000151634216, 0.9628000259399414, 0.7251999974250793, 1.0963000059127808, 1.026900053024292, 0.14630000293254852, 0.43149998784065247, 0.07069999724626541, 0.4925000071525574, -0.01979999989271164, 0.7735000252723694, 0.13199999928474426, 0.642300009727478, 0.8589000105857849, 0.19280000030994415, 0.03610000014305115, 0.4242999851703644, 0.6187999844551086, 0.43230000138282776, -0.0357000008225441, 0.01679999940097332, 0.427700012922287, -0.5892000198364258, 0.21150000393390656, -0.5228000283241272, 0.21379999816417694, 0.4212000072002411, 2.044800043106079, 2.044800043106079, 1.951300024986267, 1.8287999629974365, 1.8285000324249268, 1.7483999729156494, 1.7431999444961548, 1.7085000276565552, 1.704300045967102, 1.702299952507019, 1.7009999752044678, 1.698699951171875, 1.687000036239624, 1.666599988937378, 1.6650999784469604, 1.656599998474121, 1.6414999961853027, 1.6390000581741333, 1.6342999935150146, 1.6340999603271484, 1.621899962425232, 1.6210999488830566, 1.617799997329712, 1.6093000173568726, 1.6002999544143677, 1.5881999731063843, 1.5651999711990356, 1.555999994277954, 1.5516999959945679, 1.544100046157837, 1.5414999723434448, 1.5170999765396118, 1.5379999876022339, 1.5003999471664429, 1.5104000568389893, 1.4579999446868896, 1.524399995803833, 1.1641000509262085, 1.2985999584197998, 0.7102000117301941, 1.2111999988555908, 1.0357999801635742, 0.7603999972343445, 0.8652999997138977, 0.7871999740600586, 0.6383000016212463, 0.7809000015258789, 0.6266999840736389, 0.6636999845504761, 0.26809999346733093, 0.46970000863075256, 0.2535000145435333, 0.28290000557899475, 0.9010000228881836, 0.5188999772071838, 0.8252000212669373, 0.6047999858856201, 0.015799999237060547, 0.24289999902248383, 0.258899986743927, 0.11569999903440475, 0.30480000376701355, 0.7764999866485596, 0.15760000050067902, 0.12999999523162842, 0.41780000925064087, 0.19589999318122864, 0.3440000116825104, -0.27619999647140503, 0.1973000019788742, 0.35659998655319214, 2.0683000087738037, 2.0683000087738037, 2.04229998588562, 2.016400098800659, 1.9823999404907227, 1.9536000490188599, 1.9536000490188599, 1.9536000490188599, 1.9536000490188599, 1.9536000490188599, 1.951300024986267, 1.9508999586105347, 1.9444999694824219, 1.8604999780654907, 1.8357000350952148, 1.8308000564575195, 1.8208999633789062, 1.8063000440597534, 1.7062000036239624, 1.6953999996185303, 1.6872999668121338, 1.6780999898910522, 1.6584999561309814, 1.6518000364303589, 1.6335999965667725, 1.63100004196167, 1.623900055885315, 1.6171000003814697, 1.6002999544143677, 1.5856000185012817, 1.5815999507904053, 1.566100001335144, 1.565000057220459, 1.3833999633789062, 1.5299999713897705, 1.3507000207901, 1.5045000314712524, 1.5514999628067017, 1.3626999855041504, 1.0736000537872314, 0.7081000208854675, 1.1130000352859497, 1.048699975013733, 0.6183000206947327, 0.40880000591278076, 0.6517999768257141, 1.257599949836731, 0.3804999887943268, 1.184000015258789, 0.9406999945640564, 0.5859000086784363, 0.6568999886512756, 0.8589000105857849, 0.5680000185966492, 0.6905999779701233, 0.03310000151395798, 0.30230000615119934, 0.36480000615119934, 0.49729999899864197, 0.2459000051021576, 0.23970000445842743, 0.2906000018119812, 0.07479999959468842, 0.5649999976158142, 0.4120999872684479, 0.3846000134944916, 0.6919000148773193, -0.19709999859333038, 0.04800000041723251, 0.0940999984741211, 0.2599000036716461, 0.00430000014603138, -0.47029998898506165, 0.35989999771118164, 0.30720001459121704, 2.112799882888794, 2.112799882888794, 2.0697999000549316, 2.028599977493286, 2.0195000171661377, 2.010999917984009, 2.009200096130371, 2.0090999603271484, 2.001300096511841, 1.9979000091552734, 1.9967000484466553, 1.9729000329971313, 1.9572999477386475, 1.9449000358581543, 1.9416999816894531, 1.9356000423431396, 1.9050999879837036, 1.8935999870300293, 1.8667000532150269, 1.861799955368042, 1.8063000440597534, 1.804900050163269, 1.7892999649047852, 1.7822999954223633, 1.7697999477386475, 1.756700038909912, 1.7438000440597534, 1.7410999536514282, 1.7386000156402588, 1.7342000007629395, 1.7214000225067139, 1.707200050354004, 1.6842000484466553, 1.618299961090088, 1.6302000284194946, 1.1601999998092651, 1.3367999792099, 1.5880999565124512, 1.430400013923645, 0.8562999963760376, 1.4300999641418457, 0.9386000037193298, 1.1132999658584595, 1.3717999458312988, 1.5398999452590942, 0.4641999900341034, 1.159500002861023, 0.25529998540878296, 1.097599983215332, 1.1129000186920166, 0.34880000352859497, 0.9308000206947327, 0.11389999836683273, -0.013199999928474426, 0.8197000026702881, 0.3012999892234802, 0.22450000047683716, 0.777400016784668, 0.7159000039100647, 0.2045000046491623, 0.4359000027179718, 0.05990000069141388, 0.07750000059604645, 0.06710000336170197, 0.1225999966263771, 0.06629999727010727, 0.6807000041007996, 0.30469998717308044, 0.3472000062465668, 0.09449999779462814, 0.05490000173449516, -0.015699999406933784, 0.024900000542402267, -0.5971999764442444, 0.2184000015258789, 2.253700017929077, 2.208199977874756, 2.1900999546051025, 2.155600070953369, 2.100800037384033, 2.097599983215332, 2.0843000411987305, 2.075000047683716, 2.0645999908447266, 2.063499927520752, 2.0629000663757324, 2.062700033187866, 2.0615999698638916, 2.046600103378296, 2.044100046157837, 2.0404999256134033, 2.0369999408721924, 2.025599956512451, 2.0048999786376953, 1.9358999729156494, 1.9301999807357788, 1.9265999794006348, 1.9256999492645264, 1.9078999757766724, 1.8944000005722046, 1.876099944114685, 1.8600000143051147, 1.8299000263214111, 1.8166999816894531, 1.8016999959945679, 1.7314000129699707, 1.5041999816894531, 1.7800999879837036, 1.4605000019073486, 1.1971999406814575, 1.4631999731063843, 1.4726999998092651, 1.500599980354309, 1.5270999670028687, 1.2836999893188477, 1.4404000043869019, 1.100600004196167, 1.225600004196167, 1.0563000440597534, 1.3208999633789062, 0.6420000195503235, 0.6428999900817871, 1.378000020980835, 1.4387999773025513, 0.7257999777793884, 0.5238999724388123, 0.5364000201225281, 0.8877000212669373, 0.2863999903202057, 0.53329998254776, 0.17090000212192535, 0.3732999861240387, 0.620199978351593, 0.38269999623298645, 0.8802000284194946, -0.055399999022483826, 0.2142000049352646, -0.2574000060558319, -0.20600000023841858, 0.26159998774528503, -0.20350000262260437, -0.450300008058548, 0.1005999967455864, 0.27619999647140503, 0.07079999893903732, 2.2370998859405518, 2.220900058746338, 2.2030999660491943, 2.184499979019165, 2.184499979019165, 2.184499979019165, 2.1844000816345215, 1.976199984550476, 1.9486000537872314, 1.9400999546051025, 1.9276000261306763, 1.9055999517440796, 1.902500033378601, 1.8997000455856323, 1.8973000049591064, 1.8971999883651733, 1.8944000005722046, 1.893399953842163, 1.885200023651123, 1.8769999742507935, 1.8693000078201294, 1.867900013923645, 1.8380000591278076, 1.8315000534057617, 1.8187999725341797, 1.805799961090088, 1.785099983215332, 1.7764999866485596, 1.7635999917984009, 1.7538000345230103, 1.7193000316619873, 1.6252000331878662, 1.7081999778747559, 1.4256000518798828, 1.1756999492645264, 1.6510000228881836, 1.6833000183105469, 1.5188000202178955, 1.2305999994277954, 1.5443999767303467, 1.2899999618530273, 1.292199969291687, 1.3787000179290771, 0.809499979019165, 1.246899962425232, 1.2244000434875488, 0.6366999745368958, 0.8072999715805054, 0.6108999848365784, 0.4927999973297119, 0.6766999959945679, 1.2280000448226929, 1.13510000705719, 0.1703999936580658, 0.3553999960422516, 0.3278000056743622, 0.4237000048160553, -0.004699999932199717, 0.6535999774932861, 0.3073999881744385, 0.7684999704360962, 0.45159998536109924, 0.9991999864578247, -0.20469999313354492, 0.3594000041484833, 0.5099999904632568, 0.38510000705718994, -0.5063999891281128, 0.5246999859809875, -0.09440000355243683, 0.17219999432563782, 0.20960000157356262, -0.1379999965429306, -0.06889999657869339, 2.2167000770568848, 2.1972999572753906, 2.101300001144409, 2.073699951171875, 2.0309998989105225, 1.9802000522613525, 1.9714000225067139, 1.9687000513076782, 1.9464999437332153, 1.9023000001907349, 1.8960000276565552, 1.8724000453948975, 1.8645000457763672, 1.854699969291687, 1.8344999551773071, 1.8282999992370605, 1.8166999816894531, 1.8095999956130981, 1.8062000274658203, 1.7832000255584717, 1.7669999599456787, 1.7596999406814575, 1.746999979019165, 1.7422000169754028, 1.7307000160217285, 1.711300015449524, 1.7020000219345093, 1.6747000217437744, 1.6727999448776245, 1.666599988937378, 1.6656999588012695, 1.6644999980926514, 1.5161999464035034, 1.6160000562667847, 1.4491000175476074, 1.5439000129699707, 1.5348000526428223, 1.3662999868392944, 1.6294000148773193, 1.2488000392913818, 1.5750999450683594, 1.374899983406067, 1.2232999801635742, 1.2496999502182007, 1.1481000185012817, 0.9887999892234802, 0.7210999727249146, 0.8909000158309937, 0.605400025844574, 0.8701000213623047, 1.059399962425232, 0.8410999774932861, 0.5647000074386597, 0.3409999907016754, 0.07970000058412552, 0.32690000534057617, 0.7991999983787537, 0.7263000011444092, 0.3253999948501587, -0.14869999885559082, -0.032999999821186066, 0.47589999437332153, 0.15600000321865082, 0.5418999791145325, -0.3700999915599823, -0.148499995470047, -0.2337999939918518, -0.07419999688863754, 2.333899974822998, 2.3338000774383545, 2.3334999084472656, 2.2386999130249023, 2.222100019454956, 2.2060000896453857, 2.166800022125244, 2.166800022125244, 2.1666998863220215, 2.147700071334839, 2.1458001136779785, 2.137399911880493, 2.1273999214172363, 2.085599899291992, 2.084199905395508, 2.0336999893188477, 1.9890999794006348, 1.9872000217437744, 1.979200005531311, 1.9385000467300415, 1.9345999956130981, 1.9266999959945679, 1.9139000177383423, 1.9071999788284302, 1.8797999620437622, 1.8694000244140625, 1.8605999946594238, 1.8593000173568726, 1.844499945640564, 1.844099998474121, 1.8301000595092773, 1.794700026512146, 1.739799976348877, 1.6207000017166138, 1.736299991607666, 1.718500018119812, 1.320199966430664, 1.6414999961853027, 1.3193000555038452, 1.3596999645233154, 1.5615999698638916, 1.392699956893921, 1.075700044631958, 1.3787000179290771, 0.796999990940094, 0.6952000260353088, 0.8619999885559082, 1.440999984741211, 0.9434000253677368, 1.2044999599456787, 0.28870001435279846, 0.6223000288009644, 0.4657000005245209, 1.1448999643325806, 0.9265999794006348, 0.04129999876022339, 0.4875999987125397, 1.0808000564575195, 0.75, 0.4494999945163727, 0.19850000739097595, 0.18320000171661377, 0.7289000153541565, 0.8361999988555908, 0.028699999675154686, 0.5090000033378601, -0.02070000022649765, -0.16859999299049377, 0.06319999694824219, 0.27720001339912415, -0.3174000084400177, 0.07069999724626541, 0.6895999908447266, -0.6276999711990356, 2.5360000133514404, 2.533900022506714, 2.530600070953369, 2.5290000438690186, 2.4158999919891357, 2.3852999210357666, 2.358599901199341, 2.3489999771118164, 2.34660005569458, 2.316699981689453, 2.3043999671936035, 2.2948999404907227, 2.2925000190734863, 2.281100034713745, 2.280900001525879, 2.2783000469207764, 2.2762999534606934, 2.2592999935150146, 2.2528998851776123, 2.225800037384033, 2.2223000526428223, 2.196700096130371, 2.1386001110076904, 2.1331000328063965, 2.1289000511169434, 2.115299940109253, 2.09879994392395, 2.092900037765503, 2.0869998931884766, 2.080899953842163, 2.069999933242798, 1.9880000352859497, 2.047300100326538, 2.0341999530792236, 1.6708999872207642, 1.4333000183105469, 1.4970999956130981, 1.42330002784729, 1.6664999723434448, 1.4903000593185425, 1.7747999429702759, 0.41119998693466187, 1.0992000102996826, 1.9848999977111816, 1.7976000308990479, 1.0812000036239624, 0.16869999468326569, 0.9980999827384949, 0.4472000002861023, 0.8704000115394592, 0.715499997138977, 0.35030001401901245, -0.04780000075697899, 0.35530000925064087, 0.5950999855995178, 1.1622999906539917, 0.2985999882221222, 0.010499999858438969, 0.7577999830245972, 0.28450000286102295, -0.28940001130104065, 0.302700012922287, -0.24899999797344208, 0.16259999573230743, 0.5350000262260437, 0.13940000534057617, 2.7126998901367188, 2.683300018310547, 2.6410000324249268, 2.6394999027252197, 2.637200117111206, 2.614799976348877, 2.512200117111206, 2.501699924468994, 2.485300064086914, 2.4844000339508057, 2.4790000915527344, 2.466599941253662, 2.463099956512451, 2.4563000202178955, 2.455899953842163, 2.4439001083374023, 2.4307000637054443, 2.4086999893188477, 2.4047999382019043, 2.4033000469207764, 2.348599910736084, 2.265899896621704, 2.2548000812530518, 2.2342000007629395, 2.1951000690460205, 2.1396000385284424, 2.1117000579833984, 2.0982000827789307, 2.0741000175476074, 2.056999921798706, 1.9493999481201172, 1.9427000284194946, 1.8739999532699585, 1.1943999528884888, 1.2905999422073364, 1.520300030708313, 0.8460999727249146, 1.5472999811172485, 1.502500057220459, 0.7003999948501587, 0.6154000163078308, 1.1849000453948975, 1.1513999700546265, 0.7366999983787537, 0.7634000182151794, 1.181399941444397, 0.5601999759674072, 0.9007999897003174, 0.02630000002682209, 0.8252000212669373, -0.15539999306201935, 0.459199994802475, 1.2041000127792358, 0.5640000104904175, 0.597100019454956, 0.13570000231266022, 0.04659999907016754, -0.4277999997138977, 0.38769999146461487, 0.23770000040531158, -0.028300000354647636, 0.02710000053048134, -0.6675000190734863, -0.4733000099658966]}, \"token.table\": {\"Topic\": [1, 2, 3, 4, 5, 6, 7, 8, 9, 10, 11, 12, 8, 1, 2, 3, 4, 5, 6, 7, 8, 9, 11, 12, 5, 6, 1, 2, 5, 1, 2, 3, 4, 5, 6, 7, 8, 9, 10, 11, 12, 1, 2, 3, 4, 5, 6, 7, 8, 9, 10, 11, 12, 2, 1, 2, 3, 4, 5, 6, 7, 8, 9, 10, 11, 12, 6, 9, 10, 3, 8, 12, 4, 3, 5, 10, 2, 2, 3, 5, 8, 3, 4, 8, 1, 3, 4, 5, 8, 9, 11, 12, 4, 12, 2, 3, 4, 5, 7, 8, 9, 10, 11, 12, 1, 2, 3, 4, 5, 6, 7, 8, 9, 10, 11, 1, 5, 12, 1, 2, 3, 5, 7, 8, 10, 11, 1, 5, 1, 11, 1, 10, 1, 10, 8, 9, 12, 4, 5, 6, 7, 8, 9, 10, 11, 12, 11, 3, 8, 12, 5, 10, 1, 4, 5, 6, 10, 11, 12, 2, 3, 3, 2, 2, 3, 4, 5, 6, 9, 10, 11, 2, 4, 1, 4, 1, 2, 3, 4, 5, 6, 7, 8, 9, 10, 11, 12, 5, 6, 7, 8, 12, 2, 3, 4, 5, 6, 7, 8, 10, 11, 5, 3, 8, 6, 10, 1, 12, 1, 2, 3, 4, 5, 6, 8, 9, 11, 12, 3, 2, 5, 5, 5, 7, 8, 10, 2, 4, 5, 9, 6, 7, 1, 2, 3, 4, 5, 6, 7, 8, 9, 11, 12, 2, 4, 10, 1, 2, 3, 4, 5, 7, 8, 9, 10, 11, 12, 1, 2, 3, 4, 5, 6, 7, 8, 10, 1, 2, 3, 4, 5, 6, 7, 8, 9, 10, 11, 12, 1, 8, 12, 2, 2, 3, 9, 12, 1, 2, 3, 4, 5, 7, 8, 12, 4, 10, 1, 4, 10, 12, 3, 12, 2, 5, 6, 7, 12, 4, 10, 1, 3, 5, 8, 12, 12, 2, 4, 1, 8, 1, 2, 3, 4, 5, 6, 8, 9, 10, 11, 3, 7, 8, 9, 10, 11, 1, 2, 3, 4, 5, 6, 7, 8, 9, 10, 11, 12, 1, 2, 3, 4, 5, 6, 7, 8, 9, 10, 11, 12, 7, 1, 2, 5, 7, 8, 9, 11, 1, 1, 2, 3, 4, 5, 6, 7, 9, 1, 2, 1, 2, 3, 4, 5, 6, 7, 8, 9, 10, 12, 5, 6, 10, 11, 2, 5, 9, 1, 11, 5, 6, 12, 3, 6, 7, 8, 11, 12, 1, 3, 5, 6, 10, 1, 2, 3, 4, 6, 7, 8, 9, 11, 12, 12, 1, 2, 3, 5, 6, 7, 8, 10, 11, 12, 1, 6, 2, 5, 11, 12, 1, 2, 3, 4, 5, 6, 7, 8, 9, 10, 11, 12, 1, 2, 3, 4, 5, 6, 7, 8, 9, 10, 11, 12, 1, 2, 3, 4, 5, 6, 7, 8, 9, 10, 11, 12, 6, 11, 3, 9, 1, 2, 3, 4, 5, 6, 7, 8, 9, 10, 11, 12, 1, 2, 3, 4, 5, 6, 7, 8, 9, 10, 11, 12, 8, 3, 6, 9, 2, 3, 4, 5, 7, 9, 2, 3, 4, 5, 6, 7, 8, 9, 10, 12, 1, 2, 3, 4, 5, 6, 7, 8, 9, 10, 11, 1, 3, 4, 5, 6, 7, 8, 9, 10, 12, 5, 6, 11, 2, 4, 5, 6, 7, 9, 10, 11, 7, 3, 5, 6, 7, 8, 9, 10, 11, 12, 5, 3, 5, 3, 4, 4, 2, 3, 4, 5, 7, 10, 3, 12, 1, 2, 5, 7, 8, 9, 10, 12, 1, 2, 3, 3, 7, 8, 11, 6, 3, 4, 5, 9, 10, 12, 3, 5, 8, 11, 3, 4, 10, 1, 3, 9, 2, 6, 7, 2, 3, 4, 2, 7, 8, 4, 6, 12, 4, 9, 11, 3, 6, 10, 10, 12, 1, 2, 3, 4, 5, 6, 7, 8, 9, 10, 11, 12, 1, 2, 3, 4, 5, 7, 9, 10, 1, 2, 4, 5, 6, 7, 8, 10, 11, 12, 1, 5, 6, 1, 2, 3, 4, 5, 6, 7, 8, 9, 10, 11, 12, 1, 2, 4, 5, 6, 7, 8, 9, 11, 1, 10, 2, 1, 2, 3, 4, 5, 6, 7, 8, 9, 10, 11, 12, 3, 5, 1, 2, 3, 4, 5, 6, 7, 8, 9, 10, 11, 12, 1, 8, 2, 3, 4, 5, 6, 7, 8, 9, 10, 11, 12, 2, 11, 1, 2, 3, 4, 5, 6, 7, 8, 9, 10, 11, 12, 1, 2, 5, 7, 3, 12, 1, 2, 3, 4, 5, 6, 7, 8, 9, 10, 11, 12, 7, 8, 1, 2, 3, 4, 5, 6, 7, 8, 9, 10, 11, 12, 1, 2, 3, 4, 5, 6, 7, 8, 9, 10, 11, 12, 7, 10, 5, 10, 9, 1, 2, 3, 4, 5, 6, 7, 8, 9, 10, 11, 12, 1, 3, 4, 5, 6, 7, 8, 9, 11, 12, 3, 1, 10, 1, 2, 3, 5, 6, 7, 8, 9, 10, 11, 12, 1, 2, 3, 5, 6, 7, 8, 9, 10, 12, 2, 3, 5, 6, 7, 8, 9, 10, 11, 2, 3, 7, 8, 11, 3, 1, 2, 3, 7, 9, 10, 12, 1, 2, 3, 4, 5, 6, 7, 8, 9, 10, 11, 12, 1, 1, 2, 3, 4, 5, 6, 7, 8, 9, 10, 11, 12, 8, 1, 5, 11, 1, 1, 2, 4, 7, 9, 10, 5, 12, 1, 8, 7, 1, 2, 3, 4, 5, 6, 7, 8, 9, 10, 11, 12, 1, 5, 10, 4, 7, 1, 2, 3, 4, 5, 6, 7, 8, 9, 10, 11, 12, 1, 2, 5, 10, 1, 2, 3, 4, 5, 6, 7, 8, 9, 10, 11, 12, 7, 8, 11, 2, 2, 5, 6, 7, 11, 12, 3, 12, 1, 3, 8, 9, 10, 9, 1, 2, 4, 5, 6, 9, 12, 3, 9, 12, 8, 1, 2, 3, 4, 5, 6, 7, 8, 9, 10, 11, 12, 1, 2, 3, 4, 5, 6, 7, 8, 9, 11, 6, 8, 1, 2, 3, 4, 5, 6, 7, 8, 9, 11, 12, 10, 11, 1, 2, 5, 8, 9, 10, 12, 1, 2, 3, 4, 5, 6, 7, 8, 9, 10, 11, 12, 5, 12, 1, 3, 7, 11, 12, 1, 2, 3, 4, 5, 6, 7, 8, 10, 11, 12, 3, 4, 7, 8, 11, 1, 2, 3, 4, 5, 6, 7, 8, 9, 10, 11, 12, 5, 6, 3, 1, 2, 3, 4, 5, 6, 7, 8, 9, 10, 11, 12, 1, 2, 3, 4, 5, 6, 7, 8, 9, 10, 11, 12, 5, 3, 3, 4, 1, 2, 3, 4, 5, 6, 8, 9, 11, 12, 2, 4, 6, 9, 4, 2, 5, 7, 8, 9, 10, 11, 7, 1, 5, 6, 1, 2, 3, 4, 5, 6, 7, 8, 9, 10, 11, 12, 1, 2, 3, 4, 5, 6, 7, 8, 9, 10, 11, 12, 2, 4, 5, 6, 7, 8, 9, 10, 12, 3, 8, 11, 3, 7, 8, 9, 10, 11, 3, 3, 6, 6, 7, 8, 9, 10, 12, 1, 3, 4, 5, 6, 7, 8, 9, 10, 11, 12, 1, 1, 10, 3, 7, 5, 6, 10, 12, 3, 7, 8, 11, 3, 4, 6, 7, 8, 10, 11, 1, 10, 5, 6, 12, 1, 2, 3, 4, 5, 6, 7, 8, 9, 10, 11, 12, 1, 5, 1, 2, 3, 4, 5, 6, 7, 8, 9, 10, 11, 1, 4, 5, 7, 8, 9, 11, 1, 2, 3, 4, 5, 6, 8, 9, 10, 11, 3, 7, 6, 6, 5, 6, 5, 6, 6, 7, 8, 2, 4, 4, 1, 2, 8, 1, 2, 3, 4, 5, 6, 7, 8, 9, 10, 11, 12, 1, 2, 3, 4, 5, 6, 7, 8, 9, 10, 11, 12, 5, 9, 1, 2, 3, 4, 5, 6, 7, 8, 9, 10, 11, 12, 1, 2, 3, 4, 5, 6, 7, 8, 9, 10, 12, 7, 10, 1, 2, 4, 5, 10, 1, 4, 6, 8, 1, 2, 3, 4, 5, 6, 7, 8, 9, 10, 11, 12, 1, 2, 3, 4, 5, 6, 7, 8, 9, 10, 12, 6, 3, 4, 5, 7, 8, 11, 2, 3, 1, 2, 3, 4, 5, 6, 7, 8, 9, 10, 11, 12, 2, 3, 4, 5, 10, 11, 12, 3, 4, 5, 8, 9, 2, 5, 6, 7, 8, 9, 1, 2, 3, 4, 5, 6, 7, 8, 9, 10, 11, 12, 1, 2, 3, 4, 5, 6, 7, 8, 9, 10, 11, 1, 2, 3, 4, 5, 6, 7, 8, 9, 10, 11, 12, 1, 2, 4, 5, 6, 7, 8, 11, 8, 5, 2, 5, 1, 2, 3, 4, 5, 6, 7, 8, 9, 10, 11, 12, 5, 10, 7, 8, 8, 10, 12, 2, 5, 8, 9, 2, 4, 11, 5, 9, 3, 9, 1, 2, 3, 4, 5, 6, 7, 8, 9, 10, 11, 12, 2, 3, 4, 5, 6, 8, 11, 2, 3, 5, 6, 7, 8, 9, 10, 11, 1, 2, 4, 5, 6, 7, 8, 9, 10, 11, 12, 11, 1, 2, 4, 9, 5, 10, 12, 1, 2, 3, 4, 5, 6, 7, 8, 9, 11, 12, 1, 2, 3, 4, 5, 6, 7, 8, 9, 10, 11, 12, 1, 12, 3, 6, 9, 12, 7, 2, 3, 4, 5, 6, 7, 8, 9, 10, 11, 12, 1, 2, 3, 4, 5, 6, 7, 8, 9, 10, 11, 12, 1, 2, 4, 5, 6, 8, 9, 10, 11, 12, 1, 2, 4, 6, 6, 4, 6, 7, 8, 4, 8, 2, 5, 6, 10, 2, 3, 6, 9, 10, 12, 2, 1, 2, 3, 4, 5, 6, 7, 8, 9, 10, 11, 12, 10, 12, 4, 9, 9, 12, 12, 1, 5, 6, 7, 8, 9, 3, 11, 2, 3, 9, 12, 6, 8, 3, 5, 10, 11, 12, 1, 2, 3, 4, 6, 7, 11, 5, 10, 3, 6, 3, 6, 8, 9, 3, 5, 8, 9, 1, 2, 3, 4, 5, 6, 7, 9, 10, 11, 10, 12, 3, 7, 8, 11, 3, 5, 1, 2, 3, 5, 7, 8, 9, 10, 11, 12, 4, 5, 8, 1, 2, 3, 4, 5, 6, 7, 8, 10, 11, 12, 1, 2, 3, 4, 5, 6, 7, 8, 10, 11, 12, 2, 3, 4, 5, 6, 7, 8, 9, 10, 11, 12, 2, 4, 5, 6, 7, 9, 10, 11, 12, 1, 2, 3, 4, 5, 6, 7, 8, 9, 10, 11, 12, 7, 2, 3, 9, 10, 12, 4, 6, 8, 10, 11, 2, 10, 3, 3, 5, 9, 11, 3, 7, 8, 11, 1, 2, 3, 4, 5, 6, 7, 8, 9, 10, 11, 12, 1, 2, 3, 4, 5, 6, 7, 8, 9, 10, 11, 12, 2, 3, 4, 6, 11, 3, 6, 1, 4, 10, 1, 2, 3, 4, 5, 6, 7, 8, 9, 10, 11, 12, 3, 6, 1, 2, 3, 4, 5, 6, 7, 8, 9, 10, 11, 12, 1, 9, 3, 6, 7, 8, 9, 4, 5, 6, 7, 8, 10, 6, 1, 2, 3, 4, 5, 6, 7, 8, 9, 10, 11, 12, 5, 7, 1, 2, 3, 4, 5, 6, 7, 8, 9, 10, 11, 12, 1, 2, 3, 4, 5, 6, 7, 8, 9, 10, 11, 12, 1, 4, 7, 1, 2, 3, 4, 5, 6, 7, 8, 9, 10, 11, 12, 1, 2, 3, 4, 5, 6, 7, 8, 9, 10, 11, 12, 4, 5, 8, 1, 1, 2, 3, 4, 5, 6, 7, 8, 9, 10, 11, 12, 1, 2, 3, 4, 5, 6, 7, 8, 9, 10, 11, 12, 1, 2, 3, 4, 5, 6, 7, 8, 9, 10, 11, 12, 1, 2, 3, 4, 5, 6, 7, 8, 9, 10, 11, 12, 1, 2, 3, 4, 5, 6, 7, 8, 9, 10, 11, 12, 1, 3, 4, 5, 6, 10, 12, 3, 4, 10, 1, 2, 3, 4, 5, 6, 7, 8, 9, 10, 11, 12, 1, 2, 3, 5, 6, 7, 8, 9, 10, 12, 1, 2, 3, 4, 5, 6, 7, 8, 9, 10, 11, 12, 1, 3, 5, 8, 1, 3, 4, 6, 7, 8, 10, 11, 1, 3, 4, 5, 8, 1, 2, 3, 4, 5, 6, 7, 8, 9, 10, 11, 12, 1, 2, 3, 4, 5, 6, 7, 8, 9, 10, 11, 12, 6, 5, 9, 4, 10, 1, 2, 3, 4, 5, 6, 7, 8, 9, 11, 1, 2, 3, 4, 5, 6, 7, 8, 9, 10, 11, 12, 2, 4, 5, 9, 1, 2, 3, 4, 5, 6, 7, 8, 9, 10, 11, 12, 1, 2, 3, 4, 5, 6, 7, 8, 9, 10, 11, 12, 7, 7, 1, 2, 3, 4, 5, 6, 7, 8, 9, 10, 11, 12, 1, 12, 1, 7, 8, 10, 11, 12, 4, 3, 6, 12, 1, 2, 4, 7, 11, 4, 5, 9, 7, 4, 5, 7, 8, 9, 1, 2, 3, 4, 5, 6, 7, 8, 9, 10, 11, 12, 1, 2, 3, 4, 5, 6, 7, 8, 9, 10, 11, 12, 1, 2, 3, 4, 5, 6, 7, 8, 9, 10, 12, 2, 4, 6, 7, 8, 9, 11, 12, 1, 2, 3, 4, 5, 6, 7, 8, 9, 10, 11, 12, 3, 7, 9, 7, 2, 4, 1, 2, 4, 5, 6, 8, 9, 10, 3, 1, 2, 3, 4, 5, 6, 7, 8, 10, 12, 1, 2, 4, 5, 6, 8, 10, 11, 12, 1, 2, 4, 5, 6, 7, 8, 9, 10, 11, 12, 3, 2, 8, 4, 10, 3, 6, 7, 8, 4, 5, 6, 8, 1, 2, 3, 4, 5, 6, 7, 8, 9, 10, 11, 12, 6, 8, 9, 1, 2, 3, 4, 5, 6, 7, 8, 9, 10, 11, 12, 1, 4, 5, 7, 10, 12, 1, 2, 3, 4, 5, 6, 7, 8, 9, 10, 12, 1, 3, 5, 12, 10, 12, 1, 2, 1, 2, 3, 4, 5, 6, 8, 9, 10, 11, 3, 11, 11, 1, 8, 2, 7, 1, 2, 3, 4, 5, 6, 7, 8, 9, 10, 11, 12, 1, 7, 10, 11, 3, 6, 1, 2, 3, 4, 5, 6, 7, 8, 9, 10, 11, 12, 1, 2, 3, 4, 5, 6, 7, 8, 9, 10, 11, 12, 12, 1, 8, 5, 7, 8, 2, 3, 4, 6, 7, 8, 9, 12, 10, 12, 5, 1, 5, 10, 12, 1, 12, 2, 3, 9, 10, 4, 8, 11, 7, 1, 3, 5, 6, 12, 1, 7, 8, 11, 1, 4, 5, 6, 7, 8, 9, 10, 11, 12, 2, 6, 7, 8, 9, 10, 11, 4, 5, 2, 4, 10, 1, 2, 3, 4, 5, 6, 7, 8, 9, 10, 11, 12, 1, 4, 7, 10, 11, 12, 2, 3, 7, 9, 10, 2, 3, 6, 9, 10, 11, 12, 1, 2, 4, 5, 6, 10, 1, 2, 3, 4, 5, 6, 7, 8, 9, 10, 11, 12, 1, 2, 3, 4, 5, 6, 7, 8, 9, 10, 11, 12, 1, 2, 3, 4, 5, 6, 7, 8, 9, 10, 11, 12, 2, 3, 4, 5, 6, 7, 8, 9, 10, 11, 12, 3, 4, 5, 7, 9, 10, 11, 12, 10, 12, 1, 2, 3, 4, 5, 6, 7, 8, 9, 10, 11, 12, 5, 6, 9, 10, 6, 1, 2, 4, 5, 6, 7, 10, 1, 8, 3, 7, 1, 2, 3, 7, 8, 10, 11, 12, 1, 2, 4, 5, 7, 3, 6, 11, 1, 2, 3, 4, 5, 6, 7, 8, 9, 10, 11, 12, 2, 3, 4, 5, 6, 8, 9, 10, 11, 2, 9, 1, 2, 3, 4, 5, 6, 7, 8, 9, 10, 11, 12, 2, 5, 12, 3, 7, 8, 11, 10, 12, 1, 2, 8, 1, 3, 7, 12, 4, 10, 1, 3, 4, 5, 7, 8, 10, 3, 8, 3, 9, 1, 2, 3, 4, 5, 6, 7, 8, 9, 10, 11, 12, 1, 2, 3, 4, 5, 6, 7, 8, 9, 10, 11, 12, 1, 2, 3, 4, 5, 6, 7, 8, 9, 10, 11, 12, 1, 2, 3, 4, 6, 7, 11, 12, 3, 7, 8, 9, 11, 12, 2, 3, 4, 5, 7, 8, 9, 10, 11, 12, 5, 6, 1, 3, 4, 5, 6, 7, 8, 9, 11, 12, 2, 5, 9, 12, 3, 6, 1, 2, 3, 4, 5, 6, 7, 8, 9, 10, 11, 12, 1, 2, 3, 4, 6, 7, 8, 9, 10, 11, 12, 1, 2, 3, 4, 5, 6, 7, 8, 9, 10, 11, 12, 1, 3, 4, 10, 12, 7, 8, 11, 1, 2, 3, 4, 5, 6, 7, 8, 9, 10, 11, 12, 1, 8, 9, 10, 7, 3, 6, 7, 8, 11, 1, 2, 3, 4, 5, 6, 7, 8, 9, 10, 11, 12, 4, 10, 2, 3, 9, 12, 4, 9, 2, 3, 6, 4, 9, 1, 4, 7, 8, 6, 3, 8, 10, 9, 12, 1, 3, 6, 8, 9, 10, 1, 2, 3, 5, 6, 7, 8, 9, 10, 11, 2, 1, 3, 4, 5, 6, 7, 8, 9, 10, 11, 3, 9, 12, 12, 1, 2, 3, 4, 5, 6, 7, 8, 9, 10, 11, 12, 1, 2, 3, 4, 5, 6, 7, 8, 9, 10, 11, 12, 1, 2, 3, 4, 5, 6, 7, 9, 10, 11, 3, 11, 3, 7, 8, 11, 3, 1, 2, 3, 4, 5, 6, 7, 8, 9, 10, 11, 12, 8, 3, 5, 9, 1, 2, 3, 4, 5, 7, 8, 9, 10, 12, 2, 1, 2, 3, 4, 5, 6, 7, 8, 9, 10, 11, 12, 1, 10, 9, 7, 8, 8, 10, 2, 4, 11, 12, 3, 5, 7, 8, 11, 5, 6, 11, 4, 10, 1, 2, 3, 4, 5, 6, 7, 8, 9, 10, 11, 12, 2, 1, 2, 3, 4, 5, 6, 7, 8, 9, 10, 11, 12, 4, 5, 1, 2, 4, 5, 11, 6, 12, 1, 2, 3, 4, 5, 6, 7, 8, 9, 10, 11, 12, 1, 10, 1, 2, 3, 4, 5, 6, 7, 8, 9, 10, 11, 12, 4, 5, 6, 7, 8, 9, 11, 12, 1, 2, 4, 5, 10, 1, 2, 3, 4, 5, 6, 7, 8, 9, 10, 11, 12, 1, 2, 4, 5, 6, 8, 9, 11, 3, 9, 3, 5, 9, 6, 2, 3, 9, 10, 12, 6, 1, 4, 3, 5, 6, 4, 7, 3, 10, 1, 2, 3, 4, 5, 6, 7, 8, 9, 10, 11, 12, 1, 3, 4, 5, 7, 9, 10, 2, 3, 4, 6, 1, 2, 3, 4, 5, 6, 9, 12, 1, 2, 3, 4, 5, 6, 7, 8, 9, 10, 11, 12, 1, 2, 3, 4, 5, 6, 7, 8, 9, 10, 11, 12, 1, 3, 4, 5, 6, 10, 11, 1, 2, 3, 4, 5, 6, 7, 8, 9, 10, 11, 12, 1, 2, 3, 4, 5, 6, 7, 8, 9, 10, 11, 12, 4, 4, 7, 3, 4, 5, 6, 8, 10, 12, 2, 6, 7, 10, 11, 12, 1, 2, 3, 4, 5, 6, 7, 8, 9, 10, 11, 12, 1, 2, 3, 4, 5, 6, 7, 8, 9, 10, 11], \"Freq\": [0.05073118582367897, 0.11837276816368103, 0.3382079005241394, 0.01691039465367794, 0.06764157861471176, 0.08455197513103485, 0.03382078930735588, 0.03382078930735588, 0.05073118582367897, 0.10146237164735794, 0.01691039465367794, 0.06764157861471176, 0.7255146503448486, 0.08163173496723175, 0.08163173496723175, 0.06122380495071411, 0.06122380495071411, 0.14285553991794586, 0.08163173496723175, 0.10203967243432999, 0.10203967243432999, 0.040815867483615875, 0.1632634699344635, 0.040815867483615875, 0.15690316259860992, 0.7845157980918884, 0.2740080952644348, 0.5480161905288696, 0.7846046090126038, 0.06880980730056763, 0.04587320610880852, 0.04587320610880852, 0.04587320610880852, 0.2752392292022705, 0.02293660305440426, 0.09174641221761703, 0.16055622696876526, 0.02293660305440426, 0.11468301713466644, 0.06880980730056763, 0.02293660305440426, 0.22132498025894165, 0.027665622532367706, 0.08299686759710312, 0.11066249012947083, 0.05533124506473541, 0.027665622532367706, 0.13832810521125793, 0.05533124506473541, 0.027665622532367706, 0.05533124506473541, 0.19365935027599335, 0.027665622532367706, 0.5622850656509399, 0.08969729393720627, 0.029899096116423607, 0.2790582478046417, 0.039865463972091675, 0.16942821443080902, 0.08969729393720627, 0.059798192232847214, 0.07973092794418335, 0.009966365993022919, 0.10963001847267151, 0.029899096116423607, 0.009966365993022919, 0.2187097668647766, 0.2187097668647766, 0.4374195337295532, 0.21863926947116852, 0.43727853894233704, 0.7578028440475464, 0.7883400917053223, 0.16054870188236237, 0.16054870188236237, 0.4816460907459259, 0.5638333559036255, 0.5670772790908813, 0.11341545730829239, 0.11341545730829239, 0.11341545730829239, 0.17797237634658813, 0.5339171290397644, 0.17797237634658813, 0.0604984387755394, 0.1814953088760376, 0.0604984387755394, 0.1209968775510788, 0.0604984387755394, 0.3629906177520752, 0.0604984387755394, 0.1209968775510788, 0.27839195728302, 0.27839195728302, 0.07177027314901352, 0.057416219264268875, 0.057416219264268875, 0.014354054816067219, 0.07177027314901352, 0.3301432728767395, 0.014354054816067219, 0.057416219264268875, 0.3014351427555084, 0.014354054816067219, 0.37812861800193787, 0.12604287266731262, 0.031510718166828156, 0.06302143633365631, 0.031510718166828156, 0.031510718166828156, 0.09453215450048447, 0.09453215450048447, 0.06302143633365631, 0.031510718166828156, 0.06302143633365631, 0.1609446406364441, 0.6437785625457764, 0.7595483660697937, 0.03816810995340347, 0.03816810995340347, 0.1526724398136139, 0.1526724398136139, 0.03816810995340347, 0.2671767771244049, 0.07633621990680695, 0.22900865972042084, 0.3641705811023712, 0.3641705811023712, 0.23683048784732819, 0.47366097569465637, 0.6853463053703308, 0.2284487783908844, 0.6917126774787903, 0.23057089745998383, 0.18261465430259705, 0.3652293086051941, 0.18261465430259705, 0.06720052659511566, 0.3360026180744171, 0.06720052659511566, 0.2016015648841858, 0.06720052659511566, 0.13440105319023132, 0.06720052659511566, 0.06720052659511566, 0.06720052659511566, 0.48452895879745483, 0.7218599319458008, 0.28123223781585693, 0.5624644756317139, 0.7032649517059326, 0.23442164063453674, 0.07980731129646301, 0.07980731129646301, 0.15961462259292603, 0.07980731129646301, 0.39903655648231506, 0.07980731129646301, 0.07980731129646301, 0.7533497214317322, 0.7014120221138, 0.7217960357666016, 0.7562040686607361, 0.05292953550815582, 0.05292953550815582, 0.15878860652446747, 0.15878860652446747, 0.37050673365592957, 0.05292953550815582, 0.05292953550815582, 0.05292953550815582, 0.21561846137046814, 0.4312369227409363, 0.2476407289505005, 0.495281457901001, 0.020153842866420746, 0.06046152859926224, 0.2619999647140503, 0.04030768573284149, 0.04030768573284149, 0.20153842866420746, 0.08061537146568298, 0.020153842866420746, 0.06046152859926224, 0.06046152859926224, 0.10076921433210373, 0.04030768573284149, 0.20153366029262543, 0.5038341283798218, 0.10076683014631271, 0.10076683014631271, 0.10076683014631271, 0.08426308631896973, 0.028087694197893143, 0.28087693452835083, 0.28087693452835083, 0.14043846726417542, 0.056175388395786285, 0.08426308631896973, 0.028087694197893143, 0.028087694197893143, 0.7846468687057495, 0.22302840650081635, 0.4460568130016327, 0.2758568227291107, 0.5517136454582214, 0.7772160172462463, 0.11103086173534393, 0.41462695598602295, 0.09568314254283905, 0.0637887641787529, 0.0637887641787529, 0.0637887641787529, 0.1275775283575058, 0.03189438208937645, 0.0637887641787529, 0.03189438208937645, 0.03189438208937645, 0.7217711210250854, 0.8618215918540955, 0.14363692700862885, 0.7907177209854126, 0.2228173017501831, 0.2228173017501831, 0.2228173017501831, 0.4456346035003662, 0.5661401152610779, 0.14153502881526947, 0.14153502881526947, 0.5311135649681091, 0.6450583338737488, 0.7179791331291199, 0.034008704125881195, 0.06801740825176239, 0.10202611237764359, 0.034008704125881195, 0.10202611237764359, 0.17004351317882538, 0.034008704125881195, 0.13603481650352478, 0.034008704125881195, 0.23806092143058777, 0.034008704125881195, 0.5509043335914612, 0.46126842498779297, 0.3075122833251953, 0.08235643804073334, 0.16471287608146667, 0.08235643804073334, 0.027452146634459496, 0.13726073503494263, 0.027452146634459496, 0.08235643804073334, 0.2470693141222, 0.05490429326891899, 0.027452146634459496, 0.08235643804073334, 0.462915301322937, 0.027230311185121536, 0.08169092983007431, 0.13615155220031738, 0.16338185966014862, 0.027230311185121536, 0.027230311185121536, 0.027230311185121536, 0.027230311185121536, 0.11782296746969223, 0.10309509932994843, 0.11782296746969223, 0.11782296746969223, 0.029455741867423058, 0.11782296746969223, 0.07363935559988022, 0.10309509932994843, 0.058911483734846115, 0.014727870933711529, 0.13255083560943604, 0.014727870933711529, 0.674339771270752, 0.16496163606643677, 0.8248081803321838, 0.7481492757797241, 0.10950186103582382, 0.10950186103582382, 0.4380074441432953, 0.21900372207164764, 0.048025552183389664, 0.09605110436677933, 0.048025552183389664, 0.2401277720928192, 0.09605110436677933, 0.19210220873355865, 0.048025552183389664, 0.2401277720928192, 0.36195167899131775, 0.36195167899131775, 0.67649906873703, 0.4878273904323578, 0.29269644618034363, 0.7589176297187805, 0.814807653427124, 0.09053418785333633, 0.0844811424612999, 0.0844811424612999, 0.5068868398666382, 0.2534434199333191, 0.8637304306030273, 0.3580927848815918, 0.3580927848815918, 0.1764688938856125, 0.08823444694280624, 0.08823444694280624, 0.4411722421646118, 0.1764688938856125, 0.7590871453285217, 0.562122106552124, 0.5458974838256836, 0.3428504765033722, 0.3428504765033722, 0.08332136273384094, 0.33328545093536377, 0.055547572672367096, 0.08332136273384094, 0.16664272546768188, 0.19441650807857513, 0.027773786336183548, 0.027773786336183548, 0.027773786336183548, 0.027773786336183548, 0.1321873664855957, 0.1321873664855957, 0.1321873664855957, 0.1321873664855957, 0.1321873664855957, 0.3965621292591095, 0.09198648482561111, 0.11498310416936874, 0.04599324241280556, 0.04599324241280556, 0.20696958899497986, 0.04599324241280556, 0.04599324241280556, 0.06898986548185349, 0.02299662120640278, 0.04599324241280556, 0.2299662083387375, 0.02299662120640278, 0.1293250024318695, 0.02586499974131584, 0.07759500294923782, 0.10345999896526337, 0.1293250024318695, 0.10345999896526337, 0.10345999896526337, 0.02586499974131584, 0.07759500294923782, 0.02586499974131584, 0.05172999948263168, 0.15519000589847565, 0.7166849970817566, 0.07823718339204788, 0.07823718339204788, 0.15647436678409576, 0.07823718339204788, 0.07823718339204788, 0.31294873356819153, 0.07823718339204788, 0.6726453304290771, 0.0730554535984993, 0.03652772679924965, 0.40180498361587524, 0.2191663533449173, 0.03652772679924965, 0.03652772679924965, 0.10958317667245865, 0.03652772679924965, 0.10991549491882324, 0.7694084644317627, 0.11059929430484772, 0.036866430193185806, 0.11059929430484772, 0.07373286038637161, 0.036866430193185806, 0.036866430193185806, 0.14746572077274323, 0.25806501507759094, 0.036866430193185806, 0.07373286038637161, 0.07373286038637161, 0.4503074586391449, 0.15010249614715576, 0.15010249614715576, 0.3002049922943115, 0.2188902646303177, 0.2188902646303177, 0.6566708087921143, 0.6755167841911316, 0.40358054637908936, 0.4951428174972534, 0.33009520173072815, 0.16504760086536407, 0.08729168772697449, 0.08729168772697449, 0.17458337545394897, 0.08729168772697449, 0.08729168772697449, 0.5237501263618469, 0.10715346783399582, 0.2857425808906555, 0.03571782261133194, 0.2857425808906555, 0.2500247657299042, 0.11643187701702118, 0.03881062567234039, 0.03881062567234039, 0.03881062567234039, 0.07762125134468079, 0.07762125134468079, 0.27167436480522156, 0.03881062567234039, 0.03881062567234039, 0.23286375403404236, 0.6958388090133667, 0.09805071353912354, 0.3268357217311859, 0.06536714732646942, 0.19610142707824707, 0.09805071353912354, 0.03268357366323471, 0.06536714732646942, 0.03268357366323471, 0.03268357366323471, 0.03268357366323471, 0.2125771939754486, 0.6377315521240234, 0.757768452167511, 0.4771977663040161, 0.23859888315200806, 0.23859888315200806, 0.21868084371089935, 0.03124012053012848, 0.04686018079519272, 0.06248024106025696, 0.06248024106025696, 0.04686018079519272, 0.06248024106025696, 0.09372036159038544, 0.17182065546512604, 0.09372036159038544, 0.03124012053012848, 0.06248024106025696, 0.24962519109249115, 0.06346403062343597, 0.029616547748446465, 0.10154245048761368, 0.19039209187030792, 0.05077122524380684, 0.06769496947526932, 0.06346403062343597, 0.03384748473763466, 0.08038777112960815, 0.04230935499072075, 0.02538561262190342, 0.21138396859169006, 0.2513755261898041, 0.06284388154745102, 0.11426160484552383, 0.10283544659614563, 0.03427848219871521, 0.022852320224046707, 0.03427848219871521, 0.06284388154745102, 0.051417723298072815, 0.02856540121138096, 0.02856540121138096, 0.24033746123313904, 0.4806749224662781, 0.27557137608528137, 0.5511427521705627, 0.24328656494617462, 0.11585073918104172, 0.06951044499874115, 0.1390208899974823, 0.1390208899974823, 0.034755222499370575, 0.09268059581518173, 0.046340297907590866, 0.023170148953795433, 0.034755222499370575, 0.05792536959052086, 0.011585074476897717, 0.06894075870513916, 0.27576303482055664, 0.10341113805770874, 0.10341113805770874, 0.05170556902885437, 0.08617594838142395, 0.01723518967628479, 0.01723518967628479, 0.06894075870513916, 0.12064632773399353, 0.01723518967628479, 0.06894075870513916, 0.7255696058273315, 0.5417131185531616, 0.2708565592765808, 0.1354282796382904, 0.09852120280265808, 0.09852120280265808, 0.09852120280265808, 0.09852120280265808, 0.09852120280265808, 0.3940848112106323, 0.11711105704307556, 0.13662956655025482, 0.01951850950717926, 0.03903701901435852, 0.03903701901435852, 0.1951850950717926, 0.03903701901435852, 0.27325913310050964, 0.0975925475358963, 0.05855552852153778, 0.0746091976761818, 0.1492183953523636, 0.09947893023490906, 0.24869734048843384, 0.04973946511745453, 0.024869732558727264, 0.0746091976761818, 0.024869732558727264, 0.0746091976761818, 0.024869732558727264, 0.12434867024421692, 0.0199274979531765, 0.21920247375965118, 0.159419983625412, 0.11956498771905899, 0.079709991812706, 0.11956498771905899, 0.059782493859529495, 0.039854995906353, 0.079709991812706, 0.0996374860405922, 0.3911973834037781, 0.19559869170188904, 0.19559869170188904, 0.08800294995307922, 0.22000737488269806, 0.04400147497653961, 0.13200442492961884, 0.3080103099346161, 0.08800294995307922, 0.04400147497653961, 0.08800294995307922, 0.5391284227371216, 0.06503560394048691, 0.06503560394048691, 0.13007120788097382, 0.06503560394048691, 0.32517802715301514, 0.13007120788097382, 0.13007120788097382, 0.06503560394048691, 0.06503560394048691, 0.7845649719238281, 0.6981582641601562, 0.7845230102539062, 0.2643209397792816, 0.5286418795585632, 0.7883553504943848, 0.40216943621635437, 0.0670282393693924, 0.0670282393693924, 0.1340564787387848, 0.0670282393693924, 0.20108471810817719, 0.227085143327713, 0.6812554597854614, 0.03805059194564819, 0.07610118389129639, 0.22830355167388916, 0.03805059194564819, 0.03805059194564819, 0.4185565114021301, 0.03805059194564819, 0.07610118389129639, 0.10591492801904678, 0.21182985603809357, 0.6354895830154419, 0.13241039216518402, 0.13241039216518402, 0.13241039216518402, 0.39723119139671326, 0.7206869125366211, 0.059815846383571625, 0.059815846383571625, 0.11963169276714325, 0.059815846383571625, 0.2990792393684387, 0.35889509320259094, 0.10952800512313843, 0.10952800512313843, 0.21905601024627686, 0.4381120204925537, 0.7217788696289062, 0.35822221636772156, 0.35822221636772156, 0.5582228899002075, 0.09303714334964752, 0.09303714334964752, 0.12012668699026108, 0.4805067479610443, 0.12012668699026108, 0.5612607598304749, 0.2668536305427551, 0.5337072610855103, 0.18140561878681183, 0.5442168712615967, 0.18140561878681183, 0.15853974223136902, 0.47561922669410706, 0.15853974223136902, 0.5402464270591736, 0.18008214235305786, 0.18008214235305786, 0.18063944578170776, 0.6322380304336548, 0.09031972289085388, 0.5632991790771484, 0.2816495895385742, 0.221096009016037, 0.07369866967201233, 0.036849334836006165, 0.12897267937660217, 0.09212333709001541, 0.18424667418003082, 0.036849334836006165, 0.036849334836006165, 0.05527400225400925, 0.018424667418003082, 0.05527400225400925, 0.036849334836006165, 0.5471527576446533, 0.07295370101928711, 0.036476850509643555, 0.036476850509643555, 0.07295370101928711, 0.07295370101928711, 0.036476850509643555, 0.07295370101928711, 0.3338486850261688, 0.1517494022846222, 0.06069976091384888, 0.18209928274154663, 0.06069976091384888, 0.06069976091384888, 0.03034988045692444, 0.03034988045692444, 0.03034988045692444, 0.03034988045692444, 0.36729520559310913, 0.36729520559310913, 0.7211246490478516, 0.11203834414482117, 0.20807120203971863, 0.03201095387339592, 0.11203834414482117, 0.19206573069095612, 0.01600547693669796, 0.03201095387339592, 0.11203834414482117, 0.03201095387339592, 0.04801643267273903, 0.04801643267273903, 0.01600547693669796, 0.04380732774734497, 0.08761465549468994, 0.1314219832420349, 0.17522931098937988, 0.04380732774734497, 0.35045862197875977, 0.04380732774734497, 0.1314219832420349, 0.04380732774734497, 0.6839980483055115, 0.22799935936927795, 0.7556950449943542, 0.10595350712537766, 0.23309771716594696, 0.05509582534432411, 0.20343074202537537, 0.14409677684307098, 0.042381402105093, 0.09747722744941711, 0.01271442137658596, 0.04661954194307327, 0.02542884275317192, 0.01271442137658596, 0.01695256121456623, 0.28848928213119507, 0.5769785642623901, 0.050026386976242065, 0.06253298372030258, 0.11255937069654465, 0.2251187413930893, 0.08754617720842361, 0.08754617720842361, 0.13757257163524628, 0.025013193488121033, 0.10005277395248413, 0.06253298372030258, 0.03751979023218155, 0.03751979023218155, 0.34843507409095764, 0.6968701481819153, 0.14292944967746735, 0.04764315113425255, 0.0952863022685051, 0.2858588993549347, 0.04764315113425255, 0.0952863022685051, 0.04764315113425255, 0.0952863022685051, 0.04764315113425255, 0.04764315113425255, 0.04764315113425255, 0.40129274129867554, 0.40129274129867554, 0.05865822359919548, 0.07038986682891846, 0.05865822359919548, 0.05865822359919548, 0.16424302756786346, 0.12904809415340424, 0.046926580369472504, 0.07038986682891846, 0.09385316073894501, 0.046926580369472504, 0.10558480024337769, 0.10558480024337769, 0.22824989259243011, 0.5325831174850464, 0.07608330249786377, 0.07608330249786377, 0.28158488869667053, 0.5631697773933411, 0.13265305757522583, 0.07369614392518997, 0.1031746044754982, 0.07369614392518997, 0.07369614392518997, 0.1031746044754982, 0.04421768710017204, 0.08843537420034409, 0.14739228785037994, 0.07369614392518997, 0.05895691737532616, 0.04421768710017204, 0.7158405780792236, 0.1789601445198059, 0.12448842823505402, 0.21163032948970795, 0.037346526980400085, 0.07469305396080017, 0.13693727552890778, 0.06224421411752701, 0.04979537054896355, 0.04979537054896355, 0.07469305396080017, 0.07469305396080017, 0.037346526980400085, 0.04979537054896355, 0.12168002873659134, 0.024336006492376328, 0.24336005747318268, 0.09734402596950531, 0.12168002873659134, 0.09734402596950531, 0.024336006492376328, 0.09734402596950531, 0.07300801575183868, 0.024336006492376328, 0.024336006492376328, 0.07300801575183868, 0.27416282892227173, 0.5483256578445435, 0.22697752714157104, 0.6809325814247131, 0.36166948080062866, 0.05397302284836769, 0.026986511424183846, 0.16191907227039337, 0.05397302284836769, 0.10794604569673538, 0.08095953613519669, 0.08095953613519669, 0.08095953613519669, 0.10794604569673538, 0.05397302284836769, 0.05397302284836769, 0.16191907227039337, 0.054446518421173096, 0.1633395552635193, 0.054446518421173096, 0.054446518421173096, 0.38112562894821167, 0.054446518421173096, 0.054446518421173096, 0.054446518421173096, 0.054446518421173096, 0.054446518421173096, 0.7211997509002686, 0.677213191986084, 0.11286886036396027, 0.4250670075416565, 0.1566036343574524, 0.044743895530700684, 0.06711584329605103, 0.11185973882675171, 0.022371947765350342, 0.044743895530700684, 0.022371947765350342, 0.022371947765350342, 0.044743895530700684, 0.044743895530700684, 0.010464084334671497, 0.14649717509746552, 0.16742534935474396, 0.06278450787067413, 0.03139225393533707, 0.03139225393533707, 0.06278450787067413, 0.3243866264820099, 0.08371267467737198, 0.08371267467737198, 0.04407330974936485, 0.4407331049442291, 0.0881466194987297, 0.22036655247211456, 0.04407330974936485, 0.04407330974936485, 0.0881466194987297, 0.04407330974936485, 0.04407330974936485, 0.13429483771324158, 0.13429483771324158, 0.13429483771324158, 0.13429483771324158, 0.5371793508529663, 0.7000613212585449, 0.07923588156700134, 0.07923588156700134, 0.11885382980108261, 0.07923588156700134, 0.3961794078350067, 0.11885382980108261, 0.03961794078350067, 0.1210147812962532, 0.13614162802696228, 0.1210147812962532, 0.0302536953240633, 0.0605073906481266, 0.045380543917417526, 0.0302536953240633, 0.13614162802696228, 0.16639532148838043, 0.0605073906481266, 0.01512684766203165, 0.07563423365354538, 0.8906425833702087, 0.09015508741140366, 0.04507754370570183, 0.022538771852850914, 0.04507754370570183, 0.15777140855789185, 0.04507754370570183, 0.11269386112689972, 0.04507754370570183, 0.06761632114648819, 0.29300403594970703, 0.04507754370570183, 0.022538771852850914, 0.8194607496261597, 0.36658018827438354, 0.36658018827438354, 0.6248820424079895, 0.7273684144020081, 0.5558058619499207, 0.15880167484283447, 0.07940083742141724, 0.07940083742141724, 0.07940083742141724, 0.07940083742141724, 0.5840435028076172, 0.2920217514038086, 0.3451530635356903, 0.3451530635356903, 0.36588189005851746, 0.07590482383966446, 0.06900438666343689, 0.05520351231098175, 0.15871009230613708, 0.11730746179819107, 0.10350657999515533, 0.04140263423323631, 0.1104070246219635, 0.027601756155490875, 0.11730746179819107, 0.08280526846647263, 0.034502193331718445, 0.6258286833763123, 0.15645717084407806, 0.15645717084407806, 0.17716513574123383, 0.5314953923225403, 0.14562493562698364, 0.0873749628663063, 0.11649995297193527, 0.0873749628663063, 0.0873749628663063, 0.058249976485967636, 0.029124988242983818, 0.058249976485967636, 0.0873749628663063, 0.1747499257326126, 0.029124988242983818, 0.0873749628663063, 0.6031079888343811, 0.0670119971036911, 0.0670119971036911, 0.1340239942073822, 0.0824752226471901, 0.04123761132359505, 0.020618805661797523, 0.0824752226471901, 0.06185641884803772, 0.20618806779384613, 0.1649504452943802, 0.04123761132359505, 0.06185641884803772, 0.1443316489458084, 0.06185641884803772, 0.04123761132359505, 0.15109038352966309, 0.15109038352966309, 0.6043615341186523, 0.7562986016273499, 0.10389203578233719, 0.10389203578233719, 0.10389203578233719, 0.20778407156467438, 0.10389203578233719, 0.31167611479759216, 0.27843543887138367, 0.5568708777427673, 0.11861888319253922, 0.47447553277015686, 0.11861888319253922, 0.11861888319253922, 0.11861888319253922, 0.366228848695755, 0.43328893184661865, 0.043328892439603806, 0.12998667359352112, 0.12998667359352112, 0.043328892439603806, 0.08665778487920761, 0.08665778487920761, 0.1558789759874344, 0.46763694286346436, 0.3117579519748688, 0.7255327105522156, 0.0660829171538353, 0.2863593101501465, 0.0440552793443203, 0.11013820022344589, 0.0440552793443203, 0.0660829171538353, 0.02202763967216015, 0.0881105586886406, 0.0881105586886406, 0.0440552793443203, 0.0440552793443203, 0.0660829171538353, 0.04818953573703766, 0.09637907147407532, 0.04818953573703766, 0.09637907147407532, 0.09637907147407532, 0.04818953573703766, 0.09637907147407532, 0.04818953573703766, 0.09637907147407532, 0.28913721442222595, 0.27142274379730225, 0.5428454875946045, 0.046832527965307236, 0.11708132177591324, 0.023416263982653618, 0.023416263982653618, 0.3746602237224579, 0.11708132177591324, 0.023416263982653618, 0.1404975801706314, 0.023416263982653618, 0.023416263982653618, 0.0702487900853157, 0.2994764447212219, 0.5989528894424438, 0.2614316940307617, 0.0871438980102539, 0.0871438980102539, 0.0871438980102539, 0.0871438980102539, 0.3485755920410156, 0.0871438980102539, 0.06377629935741425, 0.21258766949176788, 0.06377629935741425, 0.10629383474588394, 0.1594407558441162, 0.0425175316631794, 0.06377629935741425, 0.14881137013435364, 0.05314691737294197, 0.0212587658315897, 0.0212587658315897, 0.03188814967870712, 0.5949836373329163, 0.19832788407802582, 0.10316852480173111, 0.10316852480173111, 0.10316852480173111, 0.10316852480173111, 0.6190111637115479, 0.09883642196655273, 0.01647273637354374, 0.26356378197669983, 0.01647273637354374, 0.11530915647745132, 0.1482546329498291, 0.06589094549417496, 0.01647273637354374, 0.23061831295490265, 0.01647273637354374, 0.03294547274708748, 0.07130978256464005, 0.07130978256464005, 0.07130978256464005, 0.1426195651292801, 0.5704782605171204, 0.17512844502925873, 0.09729357808828354, 0.08756422251462936, 0.08756422251462936, 0.12648165225982666, 0.09729357808828354, 0.07783485949039459, 0.058376144617795944, 0.038917429745197296, 0.09729357808828354, 0.038917429745197296, 0.019458714872598648, 0.27877259254455566, 0.5575451850891113, 0.7210148572921753, 0.019179753959178925, 0.11507852375507355, 0.019179753959178925, 0.11507852375507355, 0.09589876979589462, 0.13425827026367188, 0.03835950791835785, 0.0767190158367157, 0.057539261877536774, 0.2301570475101471, 0.019179753959178925, 0.057539261877536774, 0.026907483115792274, 0.1076299324631691, 0.1076299324631691, 0.026907483115792274, 0.18835237622261047, 0.13453741371631622, 0.08072245121002197, 0.06726870685815811, 0.06726870685815811, 0.1748986393213272, 0.013453741557896137, 0.013453741557896137, 0.7846662998199463, 0.8106120228767395, 0.2124573290348053, 0.6373719573020935, 0.1193043440580368, 0.1193043440580368, 0.07953622937202454, 0.07953622937202454, 0.03976811468601227, 0.1193043440580368, 0.27837681770324707, 0.03976811468601227, 0.03976811468601227, 0.03976811468601227, 0.7589452862739563, 0.26261791586875916, 0.26261791586875916, 0.5252358317375183, 0.5458146929740906, 0.08137042820453644, 0.08137042820453644, 0.08137042820453644, 0.08137042820453644, 0.08137042820453644, 0.32548171281814575, 0.08137042820453644, 0.7183586955070496, 0.6688896417617798, 0.2788149416446686, 0.5576298832893372, 0.021456411108374596, 0.20383590459823608, 0.021456411108374596, 0.06436923146247864, 0.09655384719371796, 0.06436923146247864, 0.17165128886699677, 0.09655384719371796, 0.1180102601647377, 0.053641028702259064, 0.04291282221674919, 0.04291282221674919, 0.02253592759370804, 0.15775150060653687, 0.02253592759370804, 0.09014371037483215, 0.22535927593708038, 0.02253592759370804, 0.13521556556224823, 0.06760778278112411, 0.06760778278112411, 0.09014371037483215, 0.02253592759370804, 0.04507185518741608, 0.062208328396081924, 0.062208328396081924, 0.12441665679216385, 0.062208328396081924, 0.062208328396081924, 0.062208328396081924, 0.062208328396081924, 0.3110416531562805, 0.12441665679216385, 0.1521586775779724, 0.1521586775779724, 0.6086347103118896, 0.11879006028175354, 0.11879006028175354, 0.11879006028175354, 0.11879006028175354, 0.11879006028175354, 0.47516024112701416, 0.8641762137413025, 0.6204268336296082, 0.15510670840740204, 0.09993168711662292, 0.09993168711662292, 0.09993168711662292, 0.09993168711662292, 0.3997267484664917, 0.7596423625946045, 0.05067359656095505, 0.12668399512767792, 0.05067359656095505, 0.025336798280477524, 0.05067359656095505, 0.3547151982784271, 0.05067359656095505, 0.05067359656095505, 0.05067359656095505, 0.05067359656095505, 0.1013471931219101, 0.6780152916908264, 0.7331010103225708, 0.367769330739975, 0.21663212776184082, 0.6498963832855225, 0.5062597393989563, 0.08437662571668625, 0.25312986969947815, 0.08437662571668625, 0.1507154256105423, 0.1507154256105423, 0.1507154256105423, 0.6028617024421692, 0.06876903772354126, 0.06876903772354126, 0.06876903772354126, 0.06876903772354126, 0.06876903772354126, 0.20630709826946259, 0.3438451588153839, 0.6933706402778625, 0.23112355172634125, 0.22910349071025848, 0.22910349071025848, 0.45820698142051697, 0.02026211842894554, 0.047278277575969696, 0.03377019986510277, 0.04052423685789108, 0.17560502886772156, 0.13508079946041107, 0.36471813917160034, 0.05403231829404831, 0.013508079573512077, 0.060786355286836624, 0.027016159147024155, 0.013508079573512077, 0.3665226101875305, 0.3665226101875305, 0.09224236011505127, 0.22138166427612305, 0.03689694404602051, 0.11069083213806152, 0.18448472023010254, 0.16603624820709229, 0.05534541606903076, 0.018448472023010254, 0.05534541606903076, 0.03689694404602051, 0.05534541606903076, 0.06311366707086563, 0.12622733414173126, 0.06311366707086563, 0.5680229663848877, 0.06311366707086563, 0.06311366707086563, 0.06311366707086563, 0.053781937807798386, 0.053781937807798386, 0.10756387561559677, 0.053781937807798386, 0.3226916193962097, 0.16134580969810486, 0.053781937807798386, 0.053781937807798386, 0.053781937807798386, 0.053781937807798386, 0.15540215373039246, 0.46620646119117737, 0.7206933498382568, 0.7208048105239868, 0.3361564874649048, 0.6723129749298096, 0.31953611969947815, 0.6390722393989563, 0.722851037979126, 0.76639723777771, 0.15327945351600647, 0.7550301551818848, 0.5426834225654602, 0.5420827269554138, 0.676394522190094, 0.3678729236125946, 0.5518094301223755, 0.2814040780067444, 0.10050145536661148, 0.10050145536661148, 0.12060175091028214, 0.10050145536661148, 0.10050145536661148, 0.08040116727352142, 0.04020058363676071, 0.020100291818380356, 0.020100291818380356, 0.020100291818380356, 0.020100291818380356, 0.10479356348514557, 0.2619839012622833, 0.026198390871286392, 0.13099195063114166, 0.07859516888856888, 0.052396781742572784, 0.052396781742572784, 0.026198390871286392, 0.026198390871286392, 0.10479356348514557, 0.052396781742572784, 0.07859516888856888, 0.7117425203323364, 0.2372475117444992, 0.08931735903024673, 0.11908981204032898, 0.06946905702352524, 0.16871055960655212, 0.04962075501680374, 0.05954490602016449, 0.10916566103696823, 0.08931735903024673, 0.05954490602016449, 0.08931735903024673, 0.03969660401344299, 0.06946905702352524, 0.07529309391975403, 0.15058618783950806, 0.07529309391975403, 0.07529309391975403, 0.07529309391975403, 0.037646546959877014, 0.037646546959877014, 0.2635258138179779, 0.11293963342905045, 0.037646546959877014, 0.07529309391975403, 0.5448313355445862, 0.2724156677722931, 0.5052001476287842, 0.03608572483062744, 0.21651434898376465, 0.14434289932250977, 0.07217144966125488, 0.09591098129749298, 0.09591098129749298, 0.4795549213886261, 0.19182196259498596, 0.14939378201961517, 0.06639723479747772, 0.11619515717029572, 0.08299653977155685, 0.08299653977155685, 0.09959585219621658, 0.03319861739873886, 0.08299653977155685, 0.14939378201961517, 0.04979792609810829, 0.01659930869936943, 0.06639723479747772, 0.04600924253463745, 0.0920184850692749, 0.04600924253463745, 0.04600924253463745, 0.0920184850692749, 0.0920184850692749, 0.04600924253463745, 0.0920184850692749, 0.23004619777202606, 0.23004619777202606, 0.04600924253463745, 0.6442797183990479, 0.10779956728219986, 0.10779956728219986, 0.10779956728219986, 0.10779956728219986, 0.10779956728219986, 0.43119826912879944, 0.676379382610321, 0.22545979917049408, 0.047973208129405975, 0.1096530482172966, 0.0548265241086483, 0.11650636047124863, 0.09594641625881195, 0.11650636047124863, 0.15762625634670258, 0.0548265241086483, 0.09594641625881195, 0.07538647204637527, 0.04111989215016365, 0.034266576170921326, 0.06452397257089615, 0.06452397257089615, 0.06452397257089615, 0.06452397257089615, 0.06452397257089615, 0.06452397257089615, 0.6452397108078003, 0.09876742213964462, 0.09876742213964462, 0.09876742213964462, 0.09876742213964462, 0.3950696885585785, 0.09939771145582199, 0.09939771145582199, 0.5963862538337708, 0.09939771145582199, 0.09939771145582199, 0.09939771145582199, 0.24293901026248932, 0.08676393330097198, 0.1388222873210907, 0.08676393330097198, 0.06941114366054535, 0.05205836147069931, 0.034705571830272675, 0.06941114366054535, 0.06941114366054535, 0.08676393330097198, 0.017352785915136337, 0.05205836147069931, 0.09432119876146317, 0.12576159834861755, 0.03144039958715439, 0.15720200538635254, 0.03144039958715439, 0.03144039958715439, 0.3458443880081177, 0.03144039958715439, 0.03144039958715439, 0.03144039958715439, 0.03144039958715439, 0.11596731096506119, 0.12885256111621857, 0.23193462193012238, 0.07731153815984726, 0.03865576907992363, 0.06442628055810928, 0.12885256111621857, 0.07731153815984726, 0.025770513340830803, 0.051541026681661606, 0.025770513340830803, 0.025770513340830803, 0.03464829921722412, 0.38113129138946533, 0.20788981020450592, 0.06929659843444824, 0.03464829921722412, 0.03464829921722412, 0.03464829921722412, 0.1732414960861206, 0.5443984270095825, 0.8918730616569519, 0.14848659932613373, 0.7424330115318298, 0.1718021184206009, 0.02454316057264805, 0.11044422537088394, 0.1472589671611786, 0.03681474179029465, 0.11044422537088394, 0.0490863211452961, 0.11044422537088394, 0.03681474179029465, 0.03681474179029465, 0.12271580100059509, 0.03681474179029465, 0.22695283591747284, 0.6808584928512573, 0.18101267516613007, 0.7240507006645203, 0.1622328758239746, 0.1622328758239746, 0.48669862747192383, 0.23283421993255615, 0.4656684398651123, 0.23283421993255615, 0.11641710996627808, 0.5679237842559814, 0.14198094606399536, 0.14198094606399536, 0.3656938374042511, 0.3656938374042511, 0.8106241226196289, 0.5439513921737671, 0.08468767255544662, 0.09527362883090973, 0.21171918511390686, 0.03175787627696991, 0.13761746883392334, 0.09527362883090973, 0.07410171627998352, 0.03175787627696991, 0.08468767255544662, 0.04234383627772331, 0.07410171627998352, 0.03175787627696991, 0.0782754123210907, 0.6262032985687256, 0.0782754123210907, 0.0782754123210907, 0.0782754123210907, 0.0782754123210907, 0.0782754123210907, 0.035946737974882126, 0.035946737974882126, 0.035946737974882126, 0.07189347594976425, 0.1437869518995285, 0.21568042039871216, 0.035946737974882126, 0.035946737974882126, 0.4313608407974243, 0.0560162253677845, 0.1400405615568161, 0.0840243399143219, 0.1400405615568161, 0.112032450735569, 0.02800811268389225, 0.02800811268389225, 0.02800811268389225, 0.1960567831993103, 0.0560162253677845, 0.112032450735569, 0.4028565585613251, 0.08142800629138947, 0.16285601258277893, 0.40714001655578613, 0.08142800629138947, 0.8919214010238647, 0.5632979869842529, 0.28164899349212646, 0.03322603181004524, 0.21596920490264893, 0.08306507766246796, 0.049839045852422714, 0.03322603181004524, 0.08306507766246796, 0.049839045852422714, 0.13290412724018097, 0.06645206362009048, 0.1162911057472229, 0.1162911057472229, 0.06485489010810852, 0.12970978021621704, 0.043236590921878815, 0.021618295460939407, 0.043236590921878815, 0.10809148102998734, 0.043236590921878815, 0.2594195604324341, 0.08647318184375763, 0.043236590921878815, 0.06485489010810852, 0.06485489010810852, 0.26506543159484863, 0.5301308631896973, 0.15502521395683289, 0.15502521395683289, 0.46507564187049866, 0.15502521395683289, 0.5377221703529358, 0.1457744687795639, 0.1457744687795639, 0.1457744687795639, 0.10933084785938263, 0.09110904484987259, 0.054665423929691315, 0.036443617194890976, 0.018221808597445488, 0.036443617194890976, 0.07288723438978195, 0.12755265831947327, 0.06874027103185654, 0.08248832821846008, 0.11685846745967865, 0.1306065171957016, 0.1306065171957016, 0.04124416410923004, 0.11685846745967865, 0.1306065171957016, 0.05499221757054329, 0.06186624616384506, 0.03437013551592827, 0.04124416410923004, 0.2358885109424591, 0.32434672117233276, 0.08845819532871246, 0.08845819532871246, 0.05897212773561478, 0.02948606386780739, 0.08845819532871246, 0.02948606386780739, 0.02948606386780739, 0.02948606386780739, 0.1776346117258072, 0.44408655166625977, 0.0888173058629036, 0.1776346117258072, 0.725568950176239, 0.09824977070093155, 0.29474931955337524, 0.09824977070093155, 0.3929990828037262, 0.5471921563148499, 0.2735960781574249, 0.7534170746803284, 0.18790502846240997, 0.18790502846240997, 0.5637151002883911, 0.09922575205564499, 0.24806438386440277, 0.049612876027822495, 0.34729012846946716, 0.19845150411128998, 0.049612876027822495, 0.7538547515869141, 0.05613991245627403, 0.028069956228137016, 0.05613991245627403, 0.028069956228137016, 0.028069956228137016, 0.0842098668217659, 0.0842098668217659, 0.11227982491254807, 0.0842098668217659, 0.05613991245627403, 0.2526296079158783, 0.1684197336435318, 0.45088788866996765, 0.22544394433498383, 0.2656535506248474, 0.5313071012496948, 0.3623165488243103, 0.3623165488243103, 0.5702317357063293, 0.11307880282402039, 0.45231521129608154, 0.11307880282402039, 0.11307880282402039, 0.11307880282402039, 0.11307880282402039, 0.7202655673027039, 0.6247372627258301, 0.07817760109901428, 0.23453280329704285, 0.3908880054950714, 0.23453280329704285, 0.2185305505990982, 0.4370611011981964, 0.14173030853271484, 0.14173030853271484, 0.42519092559814453, 0.14173030853271484, 0.14173030853271484, 0.07741899788379669, 0.07741899788379669, 0.46451398730278015, 0.07741899788379669, 0.15483799576759338, 0.07741899788379669, 0.15483799576759338, 0.22698494791984558, 0.6809548139572144, 0.21762309968471527, 0.43524619936943054, 0.09865116328001022, 0.4932557940483093, 0.09865116328001022, 0.2959534823894501, 0.21881535649299622, 0.10940767824649811, 0.43763071298599243, 0.10940767824649811, 0.035008225589990616, 0.07001645117998123, 0.10502468049526215, 0.07001645117998123, 0.17504113912582397, 0.2800658047199249, 0.035008225589990616, 0.035008225589990616, 0.10502468049526215, 0.10502468049526215, 0.372936487197876, 0.863755464553833, 0.15172746777534485, 0.15172746777534485, 0.15172746777534485, 0.6069098711013794, 0.7350815534591675, 0.18377038836479187, 0.05316708981990814, 0.05316708981990814, 0.10633417963981628, 0.15950126945972443, 0.31900253891944885, 0.10633417963981628, 0.10633417963981628, 0.05316708981990814, 0.05316708981990814, 0.05316708981990814, 0.544350802898407, 0.22207307815551758, 0.44414615631103516, 0.04975753277540207, 0.0746362954378128, 0.17415136098861694, 0.024878766387701035, 0.24878765642642975, 0.0746362954378128, 0.04975753277540207, 0.1492725908756256, 0.04975753277540207, 0.024878766387701035, 0.0746362954378128, 0.03916437551379204, 0.03916437551379204, 0.01958218775689602, 0.1370753049850464, 0.09791093319654465, 0.29373282194137573, 0.05874656140804291, 0.01958218775689602, 0.01958218775689602, 0.07832875102758408, 0.1958218663930893, 0.1983894258737564, 0.06612981110811234, 0.03306490555405617, 0.06612981110811234, 0.03306490555405617, 0.03306490555405617, 0.23145432770252228, 0.06612981110811234, 0.13225962221622467, 0.03306490555405617, 0.0991947129368782, 0.1150655597448349, 0.07671037316322327, 0.1150655597448349, 0.03835518658161163, 0.38355186581611633, 0.1150655597448349, 0.03835518658161163, 0.03835518658161163, 0.07671037316322327, 0.02765173465013504, 0.02765173465013504, 0.11060693860054016, 0.05530346930027008, 0.08295520395040512, 0.19356213510036469, 0.02765173465013504, 0.22121387720108032, 0.05530346930027008, 0.08295520395040512, 0.08295520395040512, 0.02765173465013504, 0.716571569442749, 0.16867394745349884, 0.16867394745349884, 0.3373478949069977, 0.16867394745349884, 0.08433697372674942, 0.13820695877075195, 0.06910347938537598, 0.48372435569763184, 0.20731043815612793, 0.06910347938537598, 0.682816207408905, 0.22760538756847382, 0.7014967799186707, 0.1662345677614212, 0.4987037181854248, 0.1662345677614212, 0.1662345677614212, 0.08146265894174576, 0.08146265894174576, 0.16292531788349152, 0.5702385902404785, 0.16898615658283234, 0.0894632562994957, 0.23856867849826813, 0.049701809883117676, 0.0894632562994957, 0.06958252936601639, 0.029821084812283516, 0.009940361604094505, 0.11928433924913406, 0.01988072320818901, 0.01988072320818901, 0.0894632562994957, 0.12389688193798065, 0.02477937750518322, 0.12389688193798065, 0.09911751002073288, 0.07433813065290451, 0.02477937750518322, 0.14867626130580902, 0.04955875501036644, 0.19823502004146576, 0.04955875501036644, 0.02477937750518322, 0.07433813065290451, 0.07654139399528503, 0.07654139399528503, 0.07654139399528503, 0.15308278799057007, 0.6123311519622803, 0.7217801809310913, 0.8101275563240051, 0.6810616850852966, 0.27272602915763855, 0.27272602915763855, 0.09244097024202347, 0.10084469616413116, 0.10084469616413116, 0.13445958495140076, 0.05882607027888298, 0.07563351839780807, 0.10924841463565826, 0.15126703679561615, 0.05042234808206558, 0.06722979247570038, 0.016807448118925095, 0.05042234808206558, 0.2718106508255005, 0.543621301651001, 0.05434611439704895, 0.11956144869327545, 0.130430668592453, 0.0869537815451622, 0.14129988849163055, 0.130430668592453, 0.0869537815451622, 0.11956144869327545, 0.0434768907725811, 0.03260766714811325, 0.02173844538629055, 0.02173844538629055, 0.2562163174152374, 0.5124326348304749, 0.12104815244674683, 0.12104815244674683, 0.12104815244674683, 0.3631444573402405, 0.12104815244674683, 0.07790517807006836, 0.07790517807006836, 0.5453362464904785, 0.07790517807006836, 0.07790517807006836, 0.07790517807006836, 0.5534905195236206, 0.06836489588022232, 0.07975903898477554, 0.113941490650177, 0.12533563375473022, 0.12533563375473022, 0.14812393486499786, 0.0569707453250885, 0.06836489588022232, 0.04557659476995468, 0.02278829738497734, 0.07975903898477554, 0.07975903898477554, 0.38391390442848206, 0.7165859341621399, 0.0792800709605217, 0.052853383123874664, 0.3171202838420868, 0.10570676624774933, 0.026426691561937332, 0.026426691561937332, 0.0792800709605217, 0.0792800709605217, 0.026426691561937332, 0.10570676624774933, 0.052853383123874664, 0.0792800709605217, 0.08173435926437378, 0.12631674110889435, 0.0965951532125473, 0.07430396229028702, 0.10402555018663406, 0.0965951532125473, 0.11888634413480759, 0.04458237811923027, 0.08173435926437378, 0.0965951532125473, 0.029721586033701897, 0.05201277509331703, 0.8756024241447449, 0.17850996553897858, 0.5355299115180969, 0.08716291189193726, 0.21790727972984314, 0.0629509910941124, 0.13074436783790588, 0.14042913913726807, 0.10653244704008102, 0.10653244704008102, 0.033896688371896744, 0.033896688371896744, 0.033896688371896744, 0.04358145594596863, 0.009684767574071884, 0.06647223234176636, 0.08309029042720795, 0.19941669702529907, 0.13294446468353271, 0.11632640659809113, 0.08309029042720795, 0.03323611617088318, 0.03323611617088318, 0.06647223234176636, 0.11632640659809113, 0.04985417425632477, 0.01661805808544159, 0.09144391864538193, 0.09144391864538193, 0.7315513491630554, 0.6683880686759949, 0.1081971600651741, 0.06491829454898834, 0.15147602558135986, 0.23803375661373138, 0.08655773103237152, 0.04327886551618576, 0.04327886551618576, 0.08655773103237152, 0.02163943275809288, 0.02163943275809288, 0.08655773103237152, 0.02163943275809288, 0.03432634845376015, 0.05148952454328537, 0.18879492580890656, 0.0686526969075203, 0.1544685810804367, 0.0686526969075203, 0.24028444290161133, 0.10297904908657074, 0.017163174226880074, 0.05148952454328537, 0.017163174226880074, 0.017163174226880074, 0.02486201375722885, 0.0497240275144577, 0.12431006878614426, 0.0497240275144577, 0.0497240275144577, 0.2486201375722885, 0.2983441650867462, 0.0497240275144577, 0.02486201375722885, 0.02486201375722885, 0.0497240275144577, 0.07458604127168655, 0.06741189956665039, 0.08089427649974823, 0.16178855299949646, 0.1078590378165245, 0.09437665343284607, 0.1078590378165245, 0.05392951890826225, 0.08089427649974823, 0.040447138249874115, 0.026964759454131126, 0.08089427649974823, 0.1078590378165245, 0.04088224098086357, 0.06813707202672958, 0.16352896392345428, 0.05450965836644173, 0.0953918993473053, 0.0953918993473053, 0.24529345333576202, 0.08176448196172714, 0.027254829183220863, 0.013627414591610432, 0.05450965836644173, 0.06813707202672958, 0.15346688032150269, 0.03836672008037567, 0.46040061116218567, 0.03836672008037567, 0.15346688032150269, 0.07673344016075134, 0.03836672008037567, 0.15340307354927063, 0.6136122941970825, 0.15340307354927063, 0.05203816294670105, 0.022302070632576942, 0.03717011585831642, 0.1263784021139145, 0.044604141265153885, 0.23788873851299286, 0.2676248252391815, 0.06690620630979538, 0.029736092314124107, 0.044604141265153885, 0.03717011585831642, 0.029736092314124107, 0.04908464476466179, 0.2208808958530426, 0.14725393056869507, 0.09816928952932358, 0.04908464476466179, 0.04908464476466179, 0.024542322382330894, 0.2208808958530426, 0.024542322382330894, 0.09816928952932358, 0.041881829500198364, 0.14658640325069427, 0.08376365900039673, 0.10470457375049591, 0.1151750311255455, 0.29317280650138855, 0.010470457375049591, 0.03141137212514877, 0.052352286875247955, 0.07329320162534714, 0.020940914750099182, 0.020940914750099182, 0.6768160462379456, 0.12738047540187836, 0.3821414113044739, 0.2547609508037567, 0.07619843631982803, 0.15239687263965607, 0.07619843631982803, 0.07619843631982803, 0.07619843631982803, 0.07619843631982803, 0.07619843631982803, 0.38099220395088196, 0.1544637531042099, 0.07723187655210495, 0.07723187655210495, 0.3089275062084198, 0.38615936040878296, 0.1074504479765892, 0.07879699766635895, 0.1074504479765892, 0.11461381614208221, 0.09312372654676437, 0.11461381614208221, 0.13610389828681946, 0.05730690807104111, 0.03581681847572327, 0.04298017919063568, 0.04298017919063568, 0.05730690807104111, 0.049253080040216446, 0.07387962192296982, 0.07387962192296982, 0.12313269823789597, 0.049253080040216446, 0.12313269823789597, 0.09850616008043289, 0.07387962192296982, 0.24626539647579193, 0.049253080040216446, 0.049253080040216446, 0.049253080040216446, 0.7209497094154358, 0.15693068504333496, 0.6277227401733398, 0.4319881796836853, 0.21599408984184265, 0.05696416273713112, 0.05696416273713112, 0.05696416273713112, 0.05696416273713112, 0.11392832547426224, 0.11392832547426224, 0.39874914288520813, 0.05696416273713112, 0.05696416273713112, 0.05696416273713112, 0.1875668466091156, 0.23085150122642517, 0.05771287530660629, 0.08656931668519974, 0.04328465834259987, 0.08656931668519974, 0.014428218826651573, 0.05771287530660629, 0.08656931668519974, 0.014428218826651573, 0.04328465834259987, 0.10099752992391586, 0.2432796061038971, 0.4865592122077942, 0.12163980305194855, 0.12163980305194855, 0.16659800708293915, 0.13486504554748535, 0.0317329540848732, 0.02379971370100975, 0.13486504554748535, 0.1269318163394928, 0.0634659081697464, 0.0634659081697464, 0.095198854804039, 0.0158664770424366, 0.0793323814868927, 0.05553266778588295, 0.07324353605508804, 0.06658503413200378, 0.06658503413200378, 0.04660952463746071, 0.07324353605508804, 0.09987755119800568, 0.13982857763767242, 0.2530231177806854, 0.09987755119800568, 0.03995101898908615, 0.006658503320068121, 0.026634013280272484, 0.7180457711219788, 0.71659255027771, 0.11976345628499985, 0.1105508804321289, 0.09212573617696762, 0.11976345628499985, 0.08291316032409668, 0.07370058447122574, 0.0644880160689354, 0.1750388890504837, 0.04606286808848381, 0.027637720108032227, 0.03685029223561287, 0.03685029223561287, 0.758508563041687, 0.1264180988073349, 0.13625451922416687, 0.13625451922416687, 0.2043817937374115, 0.34063631296157837, 0.13625451922416687, 0.06812725961208344, 0.5419794917106628, 0.22581584751605988, 0.22581584751605988, 0.45163169503211975, 0.09970723092556, 0.4985361695289612, 0.09970723092556, 0.09970723092556, 0.09970723092556, 0.6444974541664124, 0.21483248472213745, 0.21483248472213745, 0.7164430022239685, 0.09976356476545334, 0.19952712953090668, 0.09976356476545334, 0.09976356476545334, 0.39905425906181335, 0.04226752743124962, 0.18315929174423218, 0.08453505486249924, 0.056356705725193024, 0.11271341145038605, 0.056356705725193024, 0.12680257856845856, 0.12680257856845856, 0.04226752743124962, 0.07044588029384613, 0.028178352862596512, 0.07044588029384613, 0.08990132063627243, 0.24722862243652344, 0.022475330159068108, 0.21351563930511475, 0.056188326328992844, 0.056188326328992844, 0.14608964323997498, 0.022475330159068108, 0.056188326328992844, 0.044950660318136215, 0.022475330159068108, 0.022475330159068108, 0.018985940143465996, 0.05695781856775284, 0.018985940143465996, 0.03797188028693199, 0.2847890853881836, 0.018985940143465996, 0.09492970257997513, 0.05695781856775284, 0.30377504229545593, 0.05695781856775284, 0.05695781856775284, 0.05149687081575394, 0.20598748326301575, 0.20598748326301575, 0.05149687081575394, 0.3089812397956848, 0.05149687081575394, 0.05149687081575394, 0.05149687081575394, 0.01600918546319008, 0.09605511277914047, 0.12807348370552063, 0.09605511277914047, 0.11206430196762085, 0.08004593104124069, 0.03201837092638016, 0.08004593104124069, 0.19211022555828094, 0.12807348370552063, 0.03201837092638016, 0.01600918546319008, 0.70189368724823, 0.5470196008682251, 0.1823398768901825, 0.6435228586196899, 0.6746365427970886, 0.22487884759902954, 0.4209847152233124, 0.07016411423683167, 0.2104923576116562, 0.07016411423683167, 0.03508205711841583, 0.14032822847366333, 0.03508205711841583, 0.03508205711841583, 0.7066422700881958, 0.03699779137969017, 0.07399558275938034, 0.29598233103752136, 0.03699779137969017, 0.11099337041378021, 0.07399558275938034, 0.07399558275938034, 0.03699779137969017, 0.22198674082756042, 0.03699779137969017, 0.056325431913137436, 0.19713900983333588, 0.056325431913137436, 0.028162715956568718, 0.3661153018474579, 0.084488146007061, 0.14081358909606934, 0.028162715956568718, 0.056325431913137436, 0.027400653809309006, 0.27400654554367065, 0.08220195770263672, 0.08220195770263672, 0.05480130761861801, 0.027400653809309006, 0.10960261523723602, 0.027400653809309006, 0.16440391540527344, 0.027400653809309006, 0.10960261523723602, 0.7217041254043579, 0.5645156502723694, 0.2822578251361847, 0.27274593710899353, 0.5454918742179871, 0.19670088589191437, 0.5901026129722595, 0.09835044294595718, 0.09835044294595718, 0.10065463185310364, 0.20130926370620728, 0.10065463185310364, 0.5032731890678406, 0.10816915333271027, 0.081126868724823, 0.09915506094694138, 0.07661981880664825, 0.07661981880664825, 0.14873258769512177, 0.07661981880664825, 0.09464801102876663, 0.06760571897029877, 0.03154933825135231, 0.08563391119241714, 0.05408457666635513, 0.27031663060188293, 0.5406332612037659, 0.27031663060188293, 0.04361026734113693, 0.0523323193192482, 0.12210875004529953, 0.183163121342659, 0.04361026734113693, 0.09594258666038513, 0.017444105818867683, 0.017444105818867683, 0.03488821163773537, 0.1308307945728302, 0.06977642327547073, 0.17444106936454773, 0.5646833181381226, 0.06274259090423584, 0.06274259090423584, 0.06274259090423584, 0.06274259090423584, 0.06274259090423584, 0.36480164527893066, 0.06080027297139168, 0.020266756415367126, 0.324268102645874, 0.0810670256614685, 0.020266756415367126, 0.06080027297139168, 0.020266756415367126, 0.020266756415367126, 0.020266756415367126, 0.04053351283073425, 0.6763108968734741, 0.08453886210918427, 0.08453886210918427, 0.08453886210918427, 0.5587964653968811, 0.1862654983997345, 0.5605530142784119, 0.18685100972652435, 0.03676799312233925, 0.0735359862446785, 0.3309119641780853, 0.03676799312233925, 0.147071972489357, 0.2206079661846161, 0.0735359862446785, 0.03676799312233925, 0.03676799312233925, 0.03676799312233925, 0.8107507228851318, 0.6248174905776978, 0.6247259974479675, 0.3499220013618469, 0.6998440027236938, 0.7568509578704834, 0.7168372273445129, 0.02995903044939041, 0.08987709134817123, 0.2546517550945282, 0.02995903044939041, 0.02995903044939041, 0.02995903044939041, 0.04493854567408562, 0.014979515224695206, 0.2396722435951233, 0.14979514479637146, 0.02995903044939041, 0.04493854567408562, 0.15527139604091644, 0.15527139604091644, 0.4658142030239105, 0.15527139604091644, 0.21691158413887024, 0.6507347822189331, 0.15396587550640106, 0.12097319215536118, 0.07698293775320053, 0.1429683119058609, 0.13197074830532074, 0.12097319215536118, 0.043990250676870346, 0.08798050135374069, 0.021995125338435173, 0.043990250676870346, 0.05498781427741051, 0.021995125338435173, 0.10787027329206467, 0.16380301117897034, 0.11186546832323074, 0.12784624099731445, 0.05992792919278145, 0.09188949316740036, 0.051937539130449295, 0.04794234409928322, 0.07590871304273605, 0.06392312049865723, 0.0679183155298233, 0.03196156024932861, 0.6838064193725586, 0.672573447227478, 0.4372158646583557, 0.18420828878879547, 0.18420828878879547, 0.5526248812675476, 0.09941776096820831, 0.09941776096820831, 0.3479621410369873, 0.049708880484104156, 0.049708880484104156, 0.09941776096820831, 0.049708880484104156, 0.19883552193641663, 0.5632836818695068, 0.2816418409347534, 0.7112407684326172, 0.37000003457069397, 0.37000003457069397, 0.23090502619743347, 0.46181005239486694, 0.5610305666923523, 0.18701018393039703, 0.563904881477356, 0.09398414939641953, 0.09398414939641953, 0.09398414939641953, 0.4686736464500427, 0.1562245488166809, 0.1562245488166809, 0.718333899974823, 0.07384273409843445, 0.2953709363937378, 0.07384273409843445, 0.1476854681968689, 0.4430564045906067, 0.6723995208740234, 0.15260250866413116, 0.15260250866413116, 0.6104100346565247, 0.03365899622440338, 0.10097699612379074, 0.03365899622440338, 0.23561298847198486, 0.3702489733695984, 0.03365899622440338, 0.13463598489761353, 0.03365899622440338, 0.03365899622440338, 0.06731799244880676, 0.06788871437311172, 0.06788871437311172, 0.5431097149848938, 0.06788871437311172, 0.06788871437311172, 0.06788871437311172, 0.06788871437311172, 0.232119619846344, 0.696358859539032, 0.22258146107196808, 0.22258146107196808, 0.6677443385124207, 0.03196651116013527, 0.07458852976560593, 0.3356483578681946, 0.02131100744009018, 0.03729426488280296, 0.21843783557415009, 0.06393302232027054, 0.02131100744009018, 0.05327751860022545, 0.04262201488018036, 0.05860527232289314, 0.03196651116013527, 0.12129262834787369, 0.12129262834787369, 0.12129262834787369, 0.36387789249420166, 0.12129262834787369, 0.12129262834787369, 0.12055513262748718, 0.12055513262748718, 0.12055513262748718, 0.36166539788246155, 0.12055513262748718, 0.14376361668109894, 0.19168482720851898, 0.047921206802129745, 0.3354484438896179, 0.14376361668109894, 0.047921206802129745, 0.047921206802129745, 0.10822954773902893, 0.21645909547805786, 0.4329181909561157, 0.10822954773902893, 0.10822954773902893, 0.10822954773902893, 0.07385178655385971, 0.036925893276929855, 0.11077768355607986, 0.12924063205718994, 0.14770357310771942, 0.18462947010993958, 0.09231473505496979, 0.05538884177803993, 0.05538884177803993, 0.09231473505496979, 0.018462946638464928, 0.018462946638464928, 0.0685807317495346, 0.04572048783302307, 0.04572048783302307, 0.22860243916511536, 0.11430121958255768, 0.1371614634990692, 0.022860243916511536, 0.022860243916511536, 0.0685807317495346, 0.1371614634990692, 0.0685807317495346, 0.0685807317495346, 0.1277530938386917, 0.03193827345967293, 0.1277530938386917, 0.06387654691934586, 0.08516872674226761, 0.07452263683080673, 0.07452263683080673, 0.11710700392723083, 0.05323045328259468, 0.1383991837501526, 0.06387654691934586, 0.042584363371133804, 0.1660601943731308, 0.03321203961968422, 0.03321203961968422, 0.3653324246406555, 0.09963611513376236, 0.03321203961968422, 0.06642407923936844, 0.06642407923936844, 0.03321203961968422, 0.06642407923936844, 0.03321203961968422, 0.4596590995788574, 0.0656655877828598, 0.0656655877828598, 0.0656655877828598, 0.0656655877828598, 0.1313311755657196, 0.1313311755657196, 0.0656655877828598, 0.18844445049762726, 0.565333366394043, 0.11438288539648056, 0.06862973421812057, 0.09150630980730057, 0.022876577451825142, 0.06862973421812057, 0.045753154903650284, 0.022876577451825142, 0.045753154903650284, 0.11438288539648056, 0.22876577079296112, 0.06862973421812057, 0.11438288539648056, 0.11050129681825638, 0.11050129681825638, 0.22100259363651276, 0.4420051872730255, 0.6536227464675903, 0.3150661885738373, 0.0630132406949997, 0.1260264813899994, 0.0630132406949997, 0.0630132406949997, 0.3150661885738373, 0.0630132406949997, 0.34799763560295105, 0.6959952712059021, 0.7010842561721802, 0.7181602716445923, 0.07960952073335648, 0.07960952073335648, 0.07960952073335648, 0.07960952073335648, 0.07960952073335648, 0.07960952073335648, 0.47765710949897766, 0.07960952073335648, 0.19093069434165955, 0.19093069434165955, 0.3818613886833191, 0.14319801330566406, 0.047732673585414886, 0.15187345445156097, 0.15187345445156097, 0.45562034845352173, 0.03912170231342316, 0.09780425578355789, 0.1760476529598236, 0.13692595064640045, 0.11736510694026947, 0.058682553470134735, 0.01956085115671158, 0.03912170231342316, 0.058682553470134735, 0.15648680925369263, 0.058682553470134735, 0.058682553470134735, 0.03166938200592995, 0.09500814974308014, 0.22168567776679993, 0.19001629948616028, 0.2850244343280792, 0.03166938200592995, 0.03166938200592995, 0.0633387640118599, 0.03166938200592995, 0.3655775785446167, 0.3655775785446167, 0.2119939774274826, 0.09893052279949188, 0.08479759097099304, 0.08479759097099304, 0.09893052279949188, 0.0706646591424942, 0.08479759097099304, 0.09893052279949188, 0.04239879548549652, 0.04239879548549652, 0.05653172731399536, 0.02826586365699768, 0.5768866539001465, 0.19229555130004883, 0.7586259245872498, 0.0821162760257721, 0.0821162760257721, 0.0821162760257721, 0.6569302082061768, 0.37376752495765686, 0.37376752495765686, 0.15378382802009583, 0.15378382802009583, 0.4613514840602875, 0.6742607355117798, 0.12048833817243576, 0.7229300141334534, 0.12048833817243576, 0.3619096279144287, 0.3619096279144287, 0.1641717106103897, 0.04104292765259743, 0.08208585530519485, 0.1641717106103897, 0.08208585530519485, 0.4104292690753937, 0.04104292765259743, 0.21910054981708527, 0.43820109963417053, 0.672069787979126, 0.1344139575958252, 0.090426966547966, 0.090426966547966, 0.16276854276657104, 0.07234157621860504, 0.16276854276657104, 0.03617078810930252, 0.05425618216395378, 0.05425618216395378, 0.07234157621860504, 0.03617078810930252, 0.16276854276657104, 0.01808539405465126, 0.02590661309659481, 0.02590661309659481, 0.28497275710105896, 0.15543968975543976, 0.05181322619318962, 0.15543968975543976, 0.02590661309659481, 0.05181322619318962, 0.02590661309659481, 0.10362645238637924, 0.02590661309659481, 0.05181322619318962, 0.0991009846329689, 0.04247185215353966, 0.11325827240943909, 0.18404468894004822, 0.07078641653060913, 0.0991009846329689, 0.02831456810235977, 0.15573012828826904, 0.04247185215353966, 0.07078641653060913, 0.014157284051179886, 0.08494370430707932, 0.10737711936235428, 0.10737711936235428, 0.3758199214935303, 0.05368855968117714, 0.05368855968117714, 0.10737711936235428, 0.05368855968117714, 0.10737711936235428, 0.13166818022727966, 0.13166818022727966, 0.13166818022727966, 0.13166818022727966, 0.3950045704841614, 0.6789219975471497, 0.4317798316478729, 0.03598165139555931, 0.03598165139555931, 0.03598165139555931, 0.07196330279111862, 0.07196330279111862, 0.03598165139555931, 0.03598165139555931, 0.14392660558223724, 0.03598165139555931, 0.27874070405960083, 0.5574814081192017, 0.1622285097837448, 0.1297827959060669, 0.032445698976516724, 0.06489139795303345, 0.1297827959060669, 0.09733710438013077, 0.09733710438013077, 0.06489139795303345, 0.032445698976516724, 0.1622285097837448, 0.8519270420074463, 0.7846018075942993, 0.3632138669490814, 0.3632138669490814, 0.5398852229118347, 0.26994261145591736, 0.07845713943243027, 0.14122284948825836, 0.15691427886486053, 0.0627657100558281, 0.054919999092817307, 0.09414856880903244, 0.03138285502791405, 0.04707428440451622, 0.14122284948825836, 0.0627657100558281, 0.03138285502791405, 0.09414856880903244, 0.04617304354906082, 0.09234608709812164, 0.13851913809776306, 0.04617304354906082, 0.04617304354906082, 0.04617304354906082, 0.04617304354906082, 0.13851913809776306, 0.13851913809776306, 0.04617304354906082, 0.2308652251958847, 0.04741128161549568, 0.02370564080774784, 0.04741128161549568, 0.11852820962667465, 0.07111692428588867, 0.04741128161549568, 0.2844676971435547, 0.09482256323099136, 0.07111692428588867, 0.02370564080774784, 0.04741128161549568, 0.07111692428588867, 0.5860204696655273, 0.2344081848859787, 0.058602046221494675, 0.058602046221494675, 0.058602046221494675, 0.1517733484506607, 0.1517733484506607, 0.6070933938026428, 0.11091519147157669, 0.22183038294315338, 0.055457595735788345, 0.018485864624381065, 0.07394345849752426, 0.018485864624381065, 0.16637277603149414, 0.055457595735788345, 0.07394345849752426, 0.1294010579586029, 0.03697172924876213, 0.03697172924876213, 0.2578835189342499, 0.5157670378684998, 0.06447087973356247, 0.06447087973356247, 0.7193344831466675, 0.21505282819271088, 0.10752641409635544, 0.10752641409635544, 0.10752641409635544, 0.43010565638542175, 0.2778345048427582, 0.08988763391971588, 0.008171603083610535, 0.1879468709230423, 0.12257404625415802, 0.03268641233444214, 0.08988763391971588, 0.07354442775249481, 0.024514809250831604, 0.024514809250831604, 0.04902961850166321, 0.01634320616722107, 0.4332982897758484, 0.4332982897758484, 0.09988123923540115, 0.09988123923540115, 0.49940618872642517, 0.29964372515678406, 0.35263916850090027, 0.35263916850090027, 0.1373184770345688, 0.1373184770345688, 0.5492739081382751, 0.4547025263309479, 0.3031350076198578, 0.09505299478769302, 0.19010598957538605, 0.19010598957538605, 0.4752649962902069, 0.7207911610603333, 0.27117544412612915, 0.5423508882522583, 0.3779343366622925, 0.367810994386673, 0.367810994386673, 0.08869557082653046, 0.4434778690338135, 0.1773911416530609, 0.08869557082653046, 0.08869557082653046, 0.08869557082653046, 0.06603609025478363, 0.16509023308753967, 0.36319848895072937, 0.06603609025478363, 0.13207218050956726, 0.033018045127391815, 0.033018045127391815, 0.09905413538217545, 0.09905413538217545, 0.033018045127391815, 0.7533993721008301, 0.05919049680233002, 0.2959524989128113, 0.02959524840116501, 0.11838099360466003, 0.08878574520349503, 0.05919049680233002, 0.08878574520349503, 0.02959524840116501, 0.05919049680233002, 0.17757149040699005, 0.15484754741191864, 0.6193901896476746, 0.15484754741191864, 0.8642905950546265, 0.08917564153671265, 0.3388674557209015, 0.07134051620960236, 0.05350538715720177, 0.12484589964151382, 0.03567025810480118, 0.03567025810480118, 0.10701077431440353, 0.05350538715720177, 0.05350538715720177, 0.01783512905240059, 0.01783512905240059, 0.07168661803007126, 0.09558215737342834, 0.0637214407324791, 0.07168661803007126, 0.08761698007583618, 0.1035473421216011, 0.08761698007583618, 0.1035473421216011, 0.1274428814649582, 0.04779107868671417, 0.07965180277824402, 0.055756259709596634, 0.11104041337966919, 0.2664969861507416, 0.088832326233387, 0.1332484930753708, 0.0666242465376854, 0.1554565727710724, 0.0444161631166935, 0.0444161631166935, 0.0444161631166935, 0.0444161631166935, 0.5632001161575317, 0.28160005807876587, 0.0818166732788086, 0.0818166732788086, 0.1636333465576172, 0.6545333862304688, 0.7213948369026184, 0.12480156123638153, 0.03565758839249611, 0.05348638445138931, 0.07131517678499222, 0.07131517678499222, 0.12480156123638153, 0.19611673057079315, 0.16045914590358734, 0.03565758839249611, 0.07131517678499222, 0.03565758839249611, 0.03565758839249611, 0.7255076766014099, 0.14480717480182648, 0.5792286992073059, 0.14480717480182648, 0.3048056364059448, 0.20320375263690948, 0.020320376381278038, 0.14224262535572052, 0.14224262535572052, 0.060961127281188965, 0.040640752762556076, 0.040640752762556076, 0.020320376381278038, 0.020320376381278038, 0.7534818649291992, 0.08017853647470474, 0.06681545078754425, 0.12026780843734741, 0.21380943059921265, 0.08017853647470474, 0.08017853647470474, 0.04008926823735237, 0.05345235764980316, 0.04008926823735237, 0.09354162961244583, 0.02672617882490158, 0.09354162961244583, 0.6833528280258179, 0.22778427600860596, 0.36021503806114197, 0.6448344588279724, 0.21494482457637787, 0.5465049147605896, 0.2732524573802948, 0.2460901290178299, 0.4921802580356598, 0.12304506450891495, 0.12304506450891495, 0.12009873241186142, 0.12009873241186142, 0.12009873241186142, 0.24019746482372284, 0.4803949296474457, 0.20279204845428467, 0.20279204845428467, 0.40558409690856934, 0.35694319009780884, 0.35694319009780884, 0.08201818913221359, 0.12302727997303009, 0.11929918080568314, 0.130483478307724, 0.09693058580160141, 0.11929918080568314, 0.06337769329547882, 0.07829008996486664, 0.05964959040284157, 0.02609669603407383, 0.055921491235494614, 0.04473719373345375, 0.6706057190895081, 0.069061778485775, 0.013812355697154999, 0.1519359052181244, 0.08287413418292999, 0.055249422788619995, 0.027624711394309998, 0.055249422788619995, 0.1795606166124344, 0.013812355697154999, 0.027624711394309998, 0.23481003940105438, 0.08287413418292999, 0.5317365527153015, 0.7847016453742981, 0.19790267944335938, 0.13193511962890625, 0.06596755981445312, 0.4617729187011719, 0.06596755981445312, 0.7211062908172607, 0.7586591243743896, 0.09305592626333237, 0.025378890335559845, 0.09305592626333237, 0.11843481659889221, 0.07613667100667953, 0.10151556134223938, 0.13535407185554504, 0.11843481659889221, 0.06767703592777252, 0.05075778067111969, 0.06767703592777252, 0.05075778067111969, 0.7588697075843811, 0.12647828459739685, 0.12762293219566345, 0.18434423208236694, 0.07090163230895996, 0.05672130361199379, 0.12053277343511581, 0.04254097864031792, 0.1559835821390152, 0.07090163230895996, 0.06381146609783173, 0.04254097864031792, 0.03545081615447998, 0.03545081615447998, 0.10495936125516891, 0.10495936125516891, 0.3673577606678009, 0.10495936125516891, 0.05247968062758446, 0.10495936125516891, 0.05247968062758446, 0.05247968062758446, 0.4834429919719696, 0.0604303739964962, 0.2417214959859848, 0.1208607479929924, 0.0604303739964962, 0.06493902206420898, 0.07792682945728302, 0.15585365891456604, 0.06493902206420898, 0.09091462939977646, 0.05195121839642525, 0.1039024367928505, 0.06493902206420898, 0.11689023673534393, 0.07792682945728302, 0.1039024367928505, 0.03896341472864151, 0.08155851066112518, 0.04077925533056259, 0.4485718011856079, 0.04077925533056259, 0.12233776599168777, 0.16311702132225037, 0.04077925533056259, 0.04077925533056259, 0.21420317888259888, 0.6426095366477966, 0.2180762141942978, 0.2180762141942978, 0.4361524283885956, 0.7207628488540649, 0.07763298600912094, 0.31053194403648376, 0.3881649374961853, 0.07763298600912094, 0.07763298600912094, 0.810204803943634, 0.2552035450935364, 0.5104070901870728, 0.47111886739730835, 0.15703962743282318, 0.15703962743282318, 0.15405462682247162, 0.46216389536857605, 0.9256576895713806, 0.3792504370212555, 0.1251826286315918, 0.048682134598493576, 0.055636726319789886, 0.0625913143157959, 0.0625913143157959, 0.09736426919698715, 0.10431885719299316, 0.11127345263957977, 0.048682134598493576, 0.06954590231180191, 0.09040967375040054, 0.11822804063558578, 0.044617850333452225, 0.044617850333452225, 0.22308926284313202, 0.08923570066690445, 0.44617852568626404, 0.044617850333452225, 0.044617850333452225, 0.08914147317409515, 0.44570738077163696, 0.26742443442344666, 0.08914147317409515, 0.037601351737976074, 0.07520270347595215, 0.2632094621658325, 0.07520270347595215, 0.11280404776334763, 0.07520270347595215, 0.2632094621658325, 0.037601351737976074, 0.07936172932386398, 0.13226954638957977, 0.08817970007658005, 0.06172579154372215, 0.044089850038290024, 0.10581564158201218, 0.07054375857114792, 0.14108751714229584, 0.05290782079100609, 0.044089850038290024, 0.07936172932386398, 0.10581564158201218, 0.04349954426288605, 0.02899969555437565, 0.10149893909692764, 0.0869990885257721, 0.15949833393096924, 0.13049863278865814, 0.04349954426288605, 0.10149893909692764, 0.1739981770515442, 0.0579993911087513, 0.02899969555437565, 0.04349954426288605, 0.5548976063728333, 0.06528206914663315, 0.16320517659187317, 0.06528206914663315, 0.032641034573316574, 0.032641034573316574, 0.032641034573316574, 0.03703174740076065, 0.027773810550570488, 0.3795754015445709, 0.018515873700380325, 0.18515874445438385, 0.09257937222719193, 0.009257936850190163, 0.0740634948015213, 0.04628968611359596, 0.009257936850190163, 0.0740634948015213, 0.04628968611359596, 0.1731949895620346, 0.21394674479961395, 0.05093970149755478, 0.19357086718082428, 0.07131558656692505, 0.05093970149755478, 0.09169146418571472, 0.02037588134407997, 0.04075176268815994, 0.04075176268815994, 0.02037588134407997, 0.030563822016119957, 0.6363590359687805, 0.7033109068870544, 0.5383332967758179, 0.11556936800479889, 0.2889234125614166, 0.057784684002399445, 0.057784684002399445, 0.057784684002399445, 0.3467080891132355, 0.11556936800479889, 0.08681703358888626, 0.17363406717777252, 0.08681703358888626, 0.08681703358888626, 0.08681703358888626, 0.34726813435554504, 0.24219702184200287, 0.12917174398899078, 0.06458587199449539, 0.24219702184200287, 0.06458587199449539, 0.016146467998623848, 0.016146467998623848, 0.06458587199449539, 0.016146467998623848, 0.016146467998623848, 0.09687881171703339, 0.016146467998623848, 0.29565292596817017, 0.12934814393520355, 0.05543491989374161, 0.09239153563976288, 0.03695661574602127, 0.03695661574602127, 0.03695661574602127, 0.07391323149204254, 0.05543491989374161, 0.03695661574602127, 0.16630476713180542], \"Term\": [\"abril\", \"abril\", \"abril\", \"abril\", \"abril\", \"abril\", \"abril\", \"abril\", \"abril\", \"abril\", \"abril\", \"abril\", \"abrira\", \"acciones\", \"acciones\", \"acciones\", \"acciones\", \"acciones\", \"acciones\", \"acciones\", \"acciones\", \"acciones\", \"acciones\", \"acciones\", \"acertantes\", \"acertantes\", \"acordo\", \"acordo\", \"actas\", \"actividad\", \"actividad\", \"actividad\", \"actividad\", \"actividad\", \"actividad\", \"actividad\", \"actividad\", \"actividad\", \"actividad\", \"actividad\", \"actividad\", \"actividades\", \"actividades\", \"actividades\", \"actividades\", \"actividades\", \"actividades\", \"actividades\", \"actividades\", \"actividades\", \"actividades\", \"actividades\", \"actividades\", \"acudio\", \"acuerdo\", \"acuerdo\", \"acuerdo\", \"acuerdo\", \"acuerdo\", \"acuerdo\", \"acuerdo\", \"acuerdo\", \"acuerdo\", \"acuerdo\", \"acuerdo\", \"acuerdo\", \"acumula\", \"acumula\", \"acumula\", \"acusados\", \"acusados\", \"ado\", \"adversarios\", \"afecto\", \"afecto\", \"afecto\", \"aficiones\", \"agente\", \"agente\", \"agente\", \"agente\", \"agresion\", \"agresion\", \"agresion\", \"agresiones\", \"agresiones\", \"agresiones\", \"agresiones\", \"agresiones\", \"agresiones\", \"agresiones\", \"agresiones\", \"agrupaciones\", \"agrupaciones\", \"agua\", \"agua\", \"agua\", \"agua\", \"agua\", \"agua\", \"agua\", \"agua\", \"agua\", \"agua\", \"aire\", \"aire\", \"aire\", \"aire\", \"aire\", \"aire\", \"aire\", \"aire\", \"aire\", \"aire\", \"aire\", \"alarma\", \"alarma\", \"album\", \"alcalde\", \"alcalde\", \"alcalde\", \"alcalde\", \"alcalde\", \"alcalde\", \"alcalde\", \"alcalde\", \"altercados\", \"altercados\", \"amantes\", \"amantes\", \"ambientes\", \"ambientes\", \"ambulancia\", \"ambulancia\", \"amiga\", \"amiga\", \"amiga\", \"amigos\", \"amigos\", \"amigos\", \"amigos\", \"amigos\", \"amigos\", \"amigos\", \"amigos\", \"amigos\", \"andanzas\", \"animador\", \"animadores\", \"animadores\", \"aniversario\", \"aniversario\", \"ansiedad\", \"ansiedad\", \"ansiedad\", \"ansiedad\", \"ansiedad\", \"ansiedad\", \"ansiedad\", \"anti\", \"anticiparse\", \"anularme\", \"anule\", \"anuncios\", \"anuncios\", \"anuncios\", \"anuncios\", \"anuncios\", \"anuncios\", \"anuncios\", \"anuncios\", \"aparato\", \"aparato\", \"aplico\", \"aplico\", \"apoyo\", \"apoyo\", \"apoyo\", \"apoyo\", \"apoyo\", \"apoyo\", \"apoyo\", \"apoyo\", \"apoyo\", \"apoyo\", \"apoyo\", \"apoyo\", \"apuesta\", \"apuesta\", \"apuesta\", \"apuesta\", \"apuesta\", \"apuestas\", \"apuestas\", \"apuestas\", \"apuestas\", \"apuestas\", \"apuestas\", \"apuestas\", \"apuestas\", \"apuestas\", \"archivos\", \"arena\", \"arena\", \"aristas\", \"aristas\", \"armamento\", \"armamento\", \"armas\", \"armas\", \"armas\", \"armas\", \"armas\", \"armas\", \"armas\", \"armas\", \"armas\", \"armas\", \"arremetio\", \"arresto\", \"arresto\", \"articulos\", \"artificio\", \"artificio\", \"artificio\", \"artificio\", \"asalto\", \"asalto\", \"asalto\", \"ascenso\", \"asesores\", \"asiento\", \"ataque\", \"ataque\", \"ataque\", \"ataque\", \"ataque\", \"ataque\", \"ataque\", \"ataque\", \"ataque\", \"ataque\", \"ataque\", \"atendera\", \"atropello\", \"atropello\", \"aumento\", \"aumento\", \"aumento\", \"aumento\", \"aumento\", \"aumento\", \"aumento\", \"aumento\", \"aumento\", \"aumento\", \"aumento\", \"autoridad\", \"autoridad\", \"autoridad\", \"autoridad\", \"autoridad\", \"autoridad\", \"autoridad\", \"autoridad\", \"autoridad\", \"autoridades\", \"autoridades\", \"autoridades\", \"autoridades\", \"autoridades\", \"autoridades\", \"autoridades\", \"autoridades\", \"autoridades\", \"autoridades\", \"autoridades\", \"autoridades\", \"bacteria\", \"bailarines\", \"bailarines\", \"bajas\", \"balance\", \"balance\", \"balance\", \"balance\", \"bar\", \"bar\", \"bar\", \"bar\", \"bar\", \"bar\", \"bar\", \"bar\", \"barcazas\", \"barcazas\", \"basta\", \"basura\", \"basura\", \"beso\", \"bicicleta\", \"bicicleta\", \"blanqueo\", \"blanqueo\", \"blanqueo\", \"blanqueo\", \"bloques\", \"boletines\", \"boletines\", \"bomba\", \"bomba\", \"bomba\", \"bomba\", \"bomba\", \"boricua\", \"box\", \"brochazos\", \"broma\", \"broma\", \"brote\", \"brote\", \"brote\", \"brote\", \"brote\", \"brote\", \"brote\", \"brote\", \"brote\", \"brote\", \"burocracia\", \"burocracia\", \"burocracia\", \"burocracia\", \"burocracia\", \"burocracia\", \"cabeza\", \"cabeza\", \"cabeza\", \"cabeza\", \"cabeza\", \"cabeza\", \"cabeza\", \"cabeza\", \"cabeza\", \"cabeza\", \"cabeza\", \"cabeza\", \"cabo\", \"cabo\", \"cabo\", \"cabo\", \"cabo\", \"cabo\", \"cabo\", \"cabo\", \"cabo\", \"cabo\", \"cabo\", \"cabo\", \"calculos\", \"calendario\", \"calendario\", \"calendario\", \"calendario\", \"calendario\", \"calendario\", \"calendario\", \"calibre\", \"calles\", \"calles\", \"calles\", \"calles\", \"calles\", \"calles\", \"calles\", \"calles\", \"camas\", \"camas\", \"camino\", \"camino\", \"camino\", \"camino\", \"camino\", \"camino\", \"camino\", \"camino\", \"camino\", \"camino\", \"camino\", \"camisetas\", \"camisetas\", \"camisetas\", \"camisetas\", \"campeonato\", \"campeonato\", \"campeonato\", \"camping\", \"cancha\", \"canciller\", \"canciller\", \"canciller\", \"canciones\", \"canciones\", \"canciones\", \"canciones\", \"canciones\", \"canciones\", \"candidato\", \"candidato\", \"candidato\", \"candidato\", \"candidato\", \"cantante\", \"cantante\", \"cantante\", \"cantante\", \"cantante\", \"cantante\", \"cantante\", \"cantante\", \"cantante\", \"cantante\", \"capsulas\", \"carabineros\", \"carabineros\", \"carabineros\", \"carabineros\", \"carabineros\", \"carabineros\", \"carabineros\", \"carabineros\", \"carabineros\", \"carabineros\", \"carcajadas\", \"carcajadas\", \"cargador\", \"cartera\", \"cartera\", \"cartera\", \"casa\", \"casa\", \"casa\", \"casa\", \"casa\", \"casa\", \"casa\", \"casa\", \"casa\", \"casa\", \"casa\", \"casa\", \"caso\", \"caso\", \"caso\", \"caso\", \"caso\", \"caso\", \"caso\", \"caso\", \"caso\", \"caso\", \"caso\", \"caso\", \"casos\", \"casos\", \"casos\", \"casos\", \"casos\", \"casos\", \"casos\", \"casos\", \"casos\", \"casos\", \"casos\", \"casos\", \"celos\", \"celos\", \"centimetros\", \"centimetros\", \"centro\", \"centro\", \"centro\", \"centro\", \"centro\", \"centro\", \"centro\", \"centro\", \"centro\", \"centro\", \"centro\", \"centro\", \"centros\", \"centros\", \"centros\", \"centros\", \"centros\", \"centros\", \"centros\", \"centros\", \"centros\", \"centros\", \"centros\", \"centros\", \"chica\", \"chilenos\", \"chilenos\", \"chilenos\", \"ciberseguridad\", \"ciberseguridad\", \"ciberseguridad\", \"ciberseguridad\", \"ciberseguridad\", \"ciberseguridad\", \"cifras\", \"cifras\", \"cifras\", \"cifras\", \"cifras\", \"cifras\", \"cifras\", \"cifras\", \"cifras\", \"cifras\", \"ciudad\", \"ciudad\", \"ciudad\", \"ciudad\", \"ciudad\", \"ciudad\", \"ciudad\", \"ciudad\", \"ciudad\", \"ciudad\", \"ciudad\", \"ciudadanos\", \"ciudadanos\", \"ciudadanos\", \"ciudadanos\", \"ciudadanos\", \"ciudadanos\", \"ciudadanos\", \"ciudadanos\", \"ciudadanos\", \"ciudadanos\", \"cliente\", \"cliente\", \"cliente\", \"club\", \"club\", \"club\", \"club\", \"club\", \"club\", \"club\", \"club\", \"clubes\", \"coche\", \"coche\", \"coche\", \"coche\", \"coche\", \"coche\", \"coche\", \"coche\", \"coche\", \"cohecho\", \"cohesion\", \"coima\", \"cola\", \"cola\", \"colectividad\", \"colegios\", \"colegios\", \"colegios\", \"colegios\", \"colegios\", \"colegios\", \"comandos\", \"comandos\", \"combinacion\", \"combinacion\", \"combinacion\", \"combinacion\", \"combinacion\", \"combinacion\", \"combinacion\", \"combinacion\", \"compatriotas\", \"compatriotas\", \"compatriotas\", \"complemento\", \"complemento\", \"complemento\", \"complemento\", \"comprension\", \"compromisarios\", \"compromisarios\", \"compromisarios\", \"compromisarios\", \"compromisarios\", \"compromisarios\", \"comuna\", \"comuna\", \"comuna\", \"comuna\", \"comunicador\", \"conductor\", \"conductor\", \"confirmacion\", \"confirmacion\", \"confirmacion\", \"congreso\", \"congreso\", \"congreso\", \"congresos\", \"conocerse\", \"conocerse\", \"consecutivos\", \"consecutivos\", \"consecutivos\", \"consejero\", \"consejero\", \"consejero\", \"consignas\", \"consignas\", \"consignas\", \"constitucionalismo\", \"constitucionalismo\", \"constitucionalismo\", \"consultorios\", \"consultorios\", \"contacto\", \"contacto\", \"contacto\", \"contacto\", \"contacto\", \"contacto\", \"contacto\", \"contacto\", \"contacto\", \"contacto\", \"contacto\", \"contacto\", \"contactos\", \"contactos\", \"contactos\", \"contactos\", \"contactos\", \"contactos\", \"contactos\", \"contactos\", \"contagio\", \"contagio\", \"contagio\", \"contagio\", \"contagio\", \"contagio\", \"contagio\", \"contagio\", \"contagio\", \"contagio\", \"contingente\", \"contingente\", \"continuidad\", \"control\", \"control\", \"control\", \"control\", \"control\", \"control\", \"control\", \"control\", \"control\", \"control\", \"control\", \"control\", \"controles\", \"controles\", \"controles\", \"controles\", \"controles\", \"controles\", \"controles\", \"controles\", \"controles\", \"coordinaciones\", \"coordinaciones\", \"copago\", \"coronavirus\", \"coronavirus\", \"coronavirus\", \"coronavirus\", \"coronavirus\", \"coronavirus\", \"coronavirus\", \"coronavirus\", \"coronavirus\", \"coronavirus\", \"coronavirus\", \"coronavirus\", \"coronel\", \"coronel\", \"cosas\", \"cosas\", \"cosas\", \"cosas\", \"cosas\", \"cosas\", \"cosas\", \"cosas\", \"cosas\", \"cosas\", \"cosas\", \"cosas\", \"craneal\", \"craneal\", \"crecimiento\", \"crecimiento\", \"crecimiento\", \"crecimiento\", \"crecimiento\", \"crecimiento\", \"crecimiento\", \"crecimiento\", \"crecimiento\", \"crecimiento\", \"crecimiento\", \"credito\", \"credito\", \"crisis\", \"crisis\", \"crisis\", \"crisis\", \"crisis\", \"crisis\", \"crisis\", \"crisis\", \"crisis\", \"crisis\", \"crisis\", \"crisis\", \"criterios\", \"criterios\", \"criterios\", \"criterios\", \"ctm\", \"ctm\", \"cuenta\", \"cuenta\", \"cuenta\", \"cuenta\", \"cuenta\", \"cuenta\", \"cuenta\", \"cuenta\", \"cuenta\", \"cuenta\", \"cuenta\", \"cuenta\", \"cupones\", \"cupones\", \"datos\", \"datos\", \"datos\", \"datos\", \"datos\", \"datos\", \"datos\", \"datos\", \"datos\", \"datos\", \"datos\", \"datos\", \"debate\", \"debate\", \"debate\", \"debate\", \"debate\", \"debate\", \"debate\", \"debate\", \"debate\", \"debate\", \"debate\", \"debate\", \"deberes\", \"deberes\", \"decidira\", \"decidira\", \"decima\", \"declaraciones\", \"declaraciones\", \"declaraciones\", \"declaraciones\", \"declaraciones\", \"declaraciones\", \"declaraciones\", \"declaraciones\", \"declaraciones\", \"declaraciones\", \"declaraciones\", \"declaraciones\", \"defensa\", \"defensa\", \"defensa\", \"defensa\", \"defensa\", \"defensa\", \"defensa\", \"defensa\", \"defensa\", \"defensa\", \"defensora\", \"definicion\", \"definicion\", \"delito\", \"delito\", \"delito\", \"delito\", \"delito\", \"delito\", \"delito\", \"delito\", \"delito\", \"delito\", \"delito\", \"delitos\", \"delitos\", \"delitos\", \"delitos\", \"delitos\", \"delitos\", \"delitos\", \"delitos\", \"delitos\", \"delitos\", \"democracia\", \"democracia\", \"democracia\", \"democracia\", \"democracia\", \"democracia\", \"democracia\", \"democracia\", \"democracia\", \"demora\", \"demora\", \"demora\", \"demora\", \"demora\", \"demostro\", \"denuncias\", \"denuncias\", \"denuncias\", \"denuncias\", \"denuncias\", \"denuncias\", \"denuncias\", \"derechos\", \"derechos\", \"derechos\", \"derechos\", \"derechos\", \"derechos\", \"derechos\", \"derechos\", \"derechos\", \"derechos\", \"derechos\", \"derechos\", \"desaparicion\", \"desarrollo\", \"desarrollo\", \"desarrollo\", \"desarrollo\", \"desarrollo\", \"desarrollo\", \"desarrollo\", \"desarrollo\", \"desarrollo\", \"desarrollo\", \"desarrollo\", \"desarrollo\", \"desfibriladores\", \"desmanes\", \"desmanes\", \"destinatario\", \"destinos\", \"detecto\", \"detecto\", \"detecto\", \"detecto\", \"detecto\", \"detecto\", \"detencion\", \"detencion\", \"detras\", \"detras\", \"deuda\", \"dia\", \"dia\", \"dia\", \"dia\", \"dia\", \"dia\", \"dia\", \"dia\", \"dia\", \"dia\", \"dia\", \"dia\", \"diagnostico\", \"diagnostico\", \"diagnostico\", \"diagnosticos\", \"diagnosticos\", \"diciembre\", \"diciembre\", \"diciembre\", \"diciembre\", \"diciembre\", \"diciembre\", \"diciembre\", \"diciembre\", \"diciembre\", \"diciembre\", \"diciembre\", \"diciembre\", \"dificultad\", \"dificultad\", \"dificultad\", \"dificultad\", \"dinero\", \"dinero\", \"dinero\", \"dinero\", \"dinero\", \"dinero\", \"dinero\", \"dinero\", \"dinero\", \"dinero\", \"dinero\", \"dinero\", \"directrices\", \"directrices\", \"directrices\", \"directriz\", \"disco\", \"disco\", \"disco\", \"disco\", \"disco\", \"disco\", \"disconformidad\", \"disconformidad\", \"discurso\", \"discurso\", \"discurso\", \"discurso\", \"discurso\", \"disparidad\", \"domicilio\", \"domicilio\", \"domicilio\", \"domicilio\", \"domicilio\", \"domicilio\", \"domicilio\", \"drogas\", \"drogas\", \"drogas\", \"ebriedad\", \"edad\", \"edad\", \"edad\", \"edad\", \"edad\", \"edad\", \"edad\", \"edad\", \"edad\", \"edad\", \"edad\", \"edad\", \"edificio\", \"edificio\", \"edificio\", \"edificio\", \"edificio\", \"edificio\", \"edificio\", \"edificio\", \"edificio\", \"edificio\", \"efectivos\", \"efectivos\", \"efectos\", \"efectos\", \"efectos\", \"efectos\", \"efectos\", \"efectos\", \"efectos\", \"efectos\", \"efectos\", \"efectos\", \"efectos\", \"ejecucion\", \"ejecucion\", \"ejecutivo\", \"ejecutivo\", \"ejecutivo\", \"ejecutivo\", \"ejecutivo\", \"ejecutivo\", \"ejecutivo\", \"ejemplo\", \"ejemplo\", \"ejemplo\", \"ejemplo\", \"ejemplo\", \"ejemplo\", \"ejemplo\", \"ejemplo\", \"ejemplo\", \"ejemplo\", \"ejemplo\", \"ejemplo\", \"ejercito\", \"ejercito\", \"eleccion\", \"eleccion\", \"eleccion\", \"eleccion\", \"eleccion\", \"elecciones\", \"elecciones\", \"elecciones\", \"elecciones\", \"elecciones\", \"elecciones\", \"elecciones\", \"elecciones\", \"elecciones\", \"elecciones\", \"elecciones\", \"elemento\", \"elemento\", \"elemento\", \"elemento\", \"elemento\", \"embargo\", \"embargo\", \"embargo\", \"embargo\", \"embargo\", \"embargo\", \"embargo\", \"embargo\", \"embargo\", \"embargo\", \"embargo\", \"embargo\", \"embarques\", \"embarques\", \"empleos\", \"empresa\", \"empresa\", \"empresa\", \"empresa\", \"empresa\", \"empresa\", \"empresa\", \"empresa\", \"empresa\", \"empresa\", \"empresa\", \"empresa\", \"empresas\", \"empresas\", \"empresas\", \"empresas\", \"empresas\", \"empresas\", \"empresas\", \"empresas\", \"empresas\", \"empresas\", \"empresas\", \"empresas\", \"encubridor\", \"encuestadoras\", \"energias\", \"energias\", \"enfermedades\", \"enfermedades\", \"enfermedades\", \"enfermedades\", \"enfermedades\", \"enfermedades\", \"enfermedades\", \"enfermedades\", \"enfermedades\", \"enfermedades\", \"enfermera\", \"enfermos\", \"enfermos\", \"enfermos\", \"enjuicio\", \"entorno\", \"entorno\", \"entorno\", \"entorno\", \"entorno\", \"entorno\", \"entorno\", \"envergadura\", \"envio\", \"envios\", \"envios\", \"equipo\", \"equipo\", \"equipo\", \"equipo\", \"equipo\", \"equipo\", \"equipo\", \"equipo\", \"equipo\", \"equipo\", \"equipo\", \"equipo\", \"equipos\", \"equipos\", \"equipos\", \"equipos\", \"equipos\", \"equipos\", \"equipos\", \"equipos\", \"equipos\", \"equipos\", \"equipos\", \"equipos\", \"error\", \"error\", \"error\", \"error\", \"error\", \"error\", \"error\", \"error\", \"error\", \"escases\", \"escases\", \"escases\", \"escasez\", \"escasez\", \"escasez\", \"escasez\", \"escasez\", \"escasez\", \"escolta\", \"escrache\", \"escrache\", \"escritora\", \"escritora\", \"escritora\", \"escritora\", \"escritora\", \"esmoquin\", \"espacio\", \"espacio\", \"espacio\", \"espacio\", \"espacio\", \"espacio\", \"espacio\", \"espacio\", \"espacio\", \"espacio\", \"espacio\", \"establecimiento\", \"estandar\", \"estatus\", \"estimaciones\", \"estimaciones\", \"estrategias\", \"estrategias\", \"estrategias\", \"estrategias\", \"estrato\", \"estrato\", \"estrato\", \"estrato\", \"estructura\", \"estructura\", \"estructura\", \"estructura\", \"estructura\", \"estructura\", \"estructura\", \"etiologia\", \"etiologia\", \"euromillones\", \"euromillones\", \"euromillones\", \"euros\", \"euros\", \"euros\", \"euros\", \"euros\", \"euros\", \"euros\", \"euros\", \"euros\", \"euros\", \"euros\", \"euros\", \"evacuacion\", \"evacuacion\", \"eventos\", \"eventos\", \"eventos\", \"eventos\", \"eventos\", \"eventos\", \"eventos\", \"eventos\", \"eventos\", \"eventos\", \"eventos\", \"evidencias\", \"evidencias\", \"evidencias\", \"evidencias\", \"evidencias\", \"evidencias\", \"evidencias\", \"existencia\", \"existencia\", \"existencia\", \"existencia\", \"existencia\", \"existencia\", \"existencia\", \"existencia\", \"existencia\", \"existencia\", \"exministra\", \"exministra\", \"exmodelo\", \"exponente\", \"exportaciones\", \"exportaciones\", \"exportadores\", \"exportadores\", \"exposiciones\", \"extracciones\", \"extracciones\", \"extrajeros\", \"fachada\", \"fachadas\", \"falla\", \"fallecimientos\", \"fallecimientos\", \"familia\", \"familia\", \"familia\", \"familia\", \"familia\", \"familia\", \"familia\", \"familia\", \"familia\", \"familia\", \"familia\", \"familia\", \"familias\", \"familias\", \"familias\", \"familias\", \"familias\", \"familias\", \"familias\", \"familias\", \"familias\", \"familias\", \"familias\", \"familias\", \"farmacia\", \"farmacia\", \"febrero\", \"febrero\", \"febrero\", \"febrero\", \"febrero\", \"febrero\", \"febrero\", \"febrero\", \"febrero\", \"febrero\", \"febrero\", \"febrero\", \"feminismo\", \"feminismo\", \"feminismo\", \"feminismo\", \"feminismo\", \"feminismo\", \"feminismo\", \"feminismo\", \"feminismo\", \"feminismo\", \"feminismo\", \"fichajes\", \"fichajes\", \"fiebre\", \"fiebre\", \"fiebre\", \"fiebre\", \"fiebre\", \"filtros\", \"filtros\", \"filtros\", \"filtros\", \"fin\", \"fin\", \"fin\", \"fin\", \"fin\", \"fin\", \"fin\", \"fin\", \"fin\", \"fin\", \"fin\", \"fin\", \"firma\", \"firma\", \"firma\", \"firma\", \"firma\", \"firma\", \"firma\", \"firma\", \"firma\", \"firma\", \"firma\", \"fisco\", \"flores\", \"flores\", \"flores\", \"flores\", \"flores\", \"flores\", \"folletos\", \"folletos\", \"forma\", \"forma\", \"forma\", \"forma\", \"forma\", \"forma\", \"forma\", \"forma\", \"forma\", \"forma\", \"forma\", \"forma\", \"franja\", \"franja\", \"franja\", \"franja\", \"franja\", \"franja\", \"franja\", \"frase\", \"frase\", \"frase\", \"frase\", \"frase\", \"fraude\", \"fraude\", \"fraude\", \"fraude\", \"fraude\", \"fraude\", \"frente\", \"frente\", \"frente\", \"frente\", \"frente\", \"frente\", \"frente\", \"frente\", \"frente\", \"frente\", \"frente\", \"frente\", \"fronteras\", \"fronteras\", \"fronteras\", \"fronteras\", \"fronteras\", \"fronteras\", \"fronteras\", \"fronteras\", \"fronteras\", \"fronteras\", \"fronteras\", \"fuentes\", \"fuentes\", \"fuentes\", \"fuentes\", \"fuentes\", \"fuentes\", \"fuentes\", \"fuentes\", \"fuentes\", \"fuentes\", \"fuentes\", \"fuentes\", \"futbol\", \"futbol\", \"futbol\", \"futbol\", \"futbol\", \"futbol\", \"futbol\", \"futbol\", \"galardon\", \"galli\", \"general\", \"general\", \"gente\", \"gente\", \"gente\", \"gente\", \"gente\", \"gente\", \"gente\", \"gente\", \"gente\", \"gente\", \"gente\", \"gente\", \"gerente\", \"gerente\", \"germenes\", \"germenes\", \"gira\", \"gira\", \"gira\", \"globulos\", \"globulos\", \"globulos\", \"globulos\", \"gol\", \"gol\", \"gol\", \"gordo\", \"gordo\", \"gritan\", \"grito\", \"grupo\", \"grupo\", \"grupo\", \"grupo\", \"grupo\", \"grupo\", \"grupo\", \"grupo\", \"grupo\", \"grupo\", \"grupo\", \"grupo\", \"gusto\", \"gusto\", \"gusto\", \"gusto\", \"gusto\", \"gusto\", \"gusto\", \"habitantes\", \"habitantes\", \"habitantes\", \"habitantes\", \"habitantes\", \"habitantes\", \"habitantes\", \"habitantes\", \"habitantes\", \"hijos\", \"hijos\", \"hijos\", \"hijos\", \"hijos\", \"hijos\", \"hijos\", \"hijos\", \"hijos\", \"hijos\", \"hijos\", \"hinchas\", \"hipotesis\", \"hipotesis\", \"hipotesis\", \"hipotesis\", \"hitos\", \"hogares\", \"hogares\", \"hombre\", \"hombre\", \"hombre\", \"hombre\", \"hombre\", \"hombre\", \"hombre\", \"hombre\", \"hombre\", \"hombre\", \"hombre\", \"hombres\", \"hombres\", \"hombres\", \"hombres\", \"hombres\", \"hombres\", \"hombres\", \"hombres\", \"hombres\", \"hombres\", \"hombres\", \"hombres\", \"homicidio\", \"homicidio\", \"homicidios\", \"homicidios\", \"homicidios\", \"homicidios\", \"honor\", \"hora\", \"hora\", \"hora\", \"hora\", \"hora\", \"hora\", \"hora\", \"hora\", \"hora\", \"hora\", \"hora\", \"horas\", \"horas\", \"horas\", \"horas\", \"horas\", \"horas\", \"horas\", \"horas\", \"horas\", \"horas\", \"horas\", \"horas\", \"hospital\", \"hospital\", \"hospital\", \"hospital\", \"hospital\", \"hospital\", \"hospital\", \"hospital\", \"hospital\", \"hospital\", \"hospitales\", \"hospitales\", \"hospitales\", \"hospitales\", \"hoy\", \"huawei\", \"huawei\", \"huawei\", \"huawei\", \"huellas\", \"huellas\", \"humoristas\", \"identificacion\", \"identificacion\", \"identificacion\", \"ilegalidades\", \"ilegalidades\", \"ilegalidades\", \"ilegalidades\", \"ilegalidades\", \"ilegalidades\", \"importacion\", \"importancia\", \"importancia\", \"importancia\", \"importancia\", \"importancia\", \"importancia\", \"importancia\", \"importancia\", \"importancia\", \"importancia\", \"importancia\", \"importancia\", \"incidencia\", \"incidencia\", \"incidencias\", \"incidencias\", \"incrementos\", \"incrementos\", \"incumplimientos\", \"indicaciones\", \"indicaciones\", \"indicaciones\", \"indicaciones\", \"indicaciones\", \"indicaciones\", \"inestabilidad\", \"infertilidad\", \"infracciones\", \"infracciones\", \"infracciones\", \"infracciones\", \"infraestructuras\", \"infraestructuras\", \"iniciativa\", \"iniciativa\", \"iniciativa\", \"iniciativa\", \"iniciativa\", \"iniciativas\", \"iniciativas\", \"iniciativas\", \"iniciativas\", \"iniciativas\", \"iniciativas\", \"iniciativas\", \"injerencia\", \"injerencia\", \"inmigrantes\", \"inmigrantes\", \"inseguridad\", \"inseguridad\", \"inseguridad\", \"inseguridad\", \"inspeccion\", \"inspeccion\", \"inspeccion\", \"inspeccion\", \"instancia\", \"instancia\", \"instancia\", \"instancia\", \"instancia\", \"instancia\", \"instancia\", \"instancia\", \"instancia\", \"instancia\", \"instancias\", \"instante\", \"institucionalidad\", \"institucionalidad\", \"institucionalidad\", \"institucionalidad\", \"insultos\", \"insultos\", \"interes\", \"interes\", \"interes\", \"interes\", \"interes\", \"interes\", \"interes\", \"interes\", \"interes\", \"interes\", \"interferencia\", \"intervenciones\", \"intervenciones\", \"jefe\", \"jefe\", \"jefe\", \"jefe\", \"jefe\", \"jefe\", \"jefe\", \"jefe\", \"jefe\", \"jefe\", \"jefe\", \"juego\", \"juego\", \"juego\", \"juego\", \"juego\", \"juego\", \"juego\", \"juego\", \"juego\", \"juego\", \"juego\", \"juez\", \"juez\", \"juez\", \"juez\", \"juez\", \"juez\", \"juez\", \"juez\", \"juez\", \"juez\", \"juez\", \"jugadores\", \"jugadores\", \"jugadores\", \"jugadores\", \"jugadores\", \"jugadores\", \"jugadores\", \"jugadores\", \"jugadores\", \"juicio\", \"juicio\", \"juicio\", \"juicio\", \"juicio\", \"juicio\", \"juicio\", \"juicio\", \"juicio\", \"juicio\", \"juicio\", \"juicio\", \"lanzamientos\", \"lapso\", \"lapso\", \"lapso\", \"lapso\", \"lapso\", \"lazo\", \"lazo\", \"lazo\", \"lazo\", \"lazo\", \"legislador\", \"legislador\", \"legislaturas\", \"lemas\", \"lemas\", \"lemas\", \"lemas\", \"lentitud\", \"lentitud\", \"lentitud\", \"lentitud\", \"ley\", \"ley\", \"ley\", \"ley\", \"ley\", \"ley\", \"ley\", \"ley\", \"ley\", \"ley\", \"ley\", \"ley\", \"libertad\", \"libertad\", \"libertad\", \"libertad\", \"libertad\", \"libertad\", \"libertad\", \"libertad\", \"libertad\", \"libertad\", \"libertad\", \"libertad\", \"licitacion\", \"licitacion\", \"licitacion\", \"licitacion\", \"licitacion\", \"listas\", \"loterias\", \"loxocelismo\", \"lucro\", \"lucro\", \"lugar\", \"lugar\", \"lugar\", \"lugar\", \"lugar\", \"lugar\", \"lugar\", \"lugar\", \"lugar\", \"lugar\", \"lugar\", \"lugar\", \"lujo\", \"lujo\", \"lunes\", \"lunes\", \"lunes\", \"lunes\", \"lunes\", \"lunes\", \"lunes\", \"lunes\", \"lunes\", \"lunes\", \"lunes\", \"lunes\", \"lvarez\", \"lvarez\", \"machismo\", \"machismo\", \"machismo\", \"machismo\", \"machismo\", \"madres\", \"madres\", \"madres\", \"madres\", \"madres\", \"madres\", \"mandato\", \"manera\", \"manera\", \"manera\", \"manera\", \"manera\", \"manera\", \"manera\", \"manera\", \"manera\", \"manera\", \"manera\", \"manera\", \"manto\", \"maquina\", \"mar\", \"mar\", \"mar\", \"mar\", \"mar\", \"mar\", \"mar\", \"mar\", \"mar\", \"mar\", \"mar\", \"mar\", \"marzo\", \"marzo\", \"marzo\", \"marzo\", \"marzo\", \"marzo\", \"marzo\", \"marzo\", \"marzo\", \"marzo\", \"marzo\", \"marzo\", \"matorrales\", \"mecanismo\", \"mecanismo\", \"medidas\", \"medidas\", \"medidas\", \"medidas\", \"medidas\", \"medidas\", \"medidas\", \"medidas\", \"medidas\", \"medidas\", \"medidas\", \"medidas\", \"medios\", \"medios\", \"medios\", \"medios\", \"medios\", \"medios\", \"medios\", \"medios\", \"medios\", \"medios\", \"medios\", \"medios\", \"mejoras\", \"mejoras\", \"mejoras\", \"meningitis\", \"mensaje\", \"mensaje\", \"mensaje\", \"mensaje\", \"mensaje\", \"mensaje\", \"mensaje\", \"mensaje\", \"mensaje\", \"mensaje\", \"mensaje\", \"mensaje\", \"mes\", \"mes\", \"mes\", \"mes\", \"mes\", \"mes\", \"mes\", \"mes\", \"mes\", \"mes\", \"mes\", \"mes\", \"mesa\", \"mesa\", \"mesa\", \"mesa\", \"mesa\", \"mesa\", \"mesa\", \"mesa\", \"mesa\", \"mesa\", \"mesa\", \"mesa\", \"meses\", \"meses\", \"meses\", \"meses\", \"meses\", \"meses\", \"meses\", \"meses\", \"meses\", \"meses\", \"meses\", \"meses\", \"miembros\", \"miembros\", \"miembros\", \"miembros\", \"miembros\", \"miembros\", \"miembros\", \"miembros\", \"miembros\", \"miembros\", \"miembros\", \"miembros\", \"militancia\", \"militancia\", \"militancia\", \"militancia\", \"militancia\", \"militancia\", \"militancia\", \"militantes\", \"militantes\", \"militantes\", \"millones\", \"millones\", \"millones\", \"millones\", \"millones\", \"millones\", \"millones\", \"millones\", \"millones\", \"millones\", \"millones\", \"millones\", \"ministra\", \"ministra\", \"ministra\", \"ministra\", \"ministra\", \"ministra\", \"ministra\", \"ministra\", \"ministra\", \"ministra\", \"ministro\", \"ministro\", \"ministro\", \"ministro\", \"ministro\", \"ministro\", \"ministro\", \"ministro\", \"ministro\", \"ministro\", \"ministro\", \"ministro\", \"mirista\", \"modalidad\", \"modalidad\", \"modalidad\", \"modificaciones\", \"modificaciones\", \"modificaciones\", \"modificaciones\", \"modificaciones\", \"modificaciones\", \"modificaciones\", \"modificaciones\", \"molotov\", \"molotov\", \"molotov\", \"molotov\", \"molotov\", \"momento\", \"momento\", \"momento\", \"momento\", \"momento\", \"momento\", \"momento\", \"momento\", \"momento\", \"momento\", \"momento\", \"momento\", \"momentos\", \"momentos\", \"momentos\", \"momentos\", \"momentos\", \"momentos\", \"momentos\", \"momentos\", \"momentos\", \"momentos\", \"momentos\", \"momentos\", \"moquetas\", \"moto\", \"moto\", \"movil\", \"movil\", \"movimientos\", \"movimientos\", \"movimientos\", \"movimientos\", \"movimientos\", \"movimientos\", \"movimientos\", \"movimientos\", \"movimientos\", \"movimientos\", \"muerte\", \"muerte\", \"muerte\", \"muerte\", \"muerte\", \"muerte\", \"muerte\", \"muerte\", \"muerte\", \"muerte\", \"muerte\", \"muerte\", \"muestras\", \"muestras\", \"muestras\", \"muestras\", \"mujer\", \"mujer\", \"mujer\", \"mujer\", \"mujer\", \"mujer\", \"mujer\", \"mujer\", \"mujer\", \"mujer\", \"mujer\", \"mujer\", \"mujeres\", \"mujeres\", \"mujeres\", \"mujeres\", \"mujeres\", \"mujeres\", \"mujeres\", \"mujeres\", \"mujeres\", \"mujeres\", \"mujeres\", \"mujeres\", \"multiples\", \"mundiales\", \"mundo\", \"mundo\", \"mundo\", \"mundo\", \"mundo\", \"mundo\", \"mundo\", \"mundo\", \"mundo\", \"mundo\", \"mundo\", \"mundo\", \"municiones\", \"municiones\", \"municipalidad\", \"municipalidad\", \"municipalidad\", \"municipalidad\", \"municipalidad\", \"municipalidad\", \"muros\", \"musicos\", \"musicos\", \"musicos\", \"nave\", \"nave\", \"nave\", \"nave\", \"nave\", \"necropsia\", \"necropsia\", \"necropsia\", \"negros\", \"nieve\", \"nieve\", \"nieve\", \"nieve\", \"nieve\", \"nivel\", \"nivel\", \"nivel\", \"nivel\", \"nivel\", \"nivel\", \"nivel\", \"nivel\", \"nivel\", \"nivel\", \"nivel\", \"nivel\", \"noticias\", \"noticias\", \"noticias\", \"noticias\", \"noticias\", \"noticias\", \"noticias\", \"noticias\", \"noticias\", \"noticias\", \"noticias\", \"noticias\", \"numeros\", \"numeros\", \"numeros\", \"numeros\", \"numeros\", \"numeros\", \"numeros\", \"numeros\", \"numeros\", \"numeros\", \"numeros\", \"obras\", \"obras\", \"obras\", \"obras\", \"obras\", \"obras\", \"obras\", \"obras\", \"octubre\", \"octubre\", \"octubre\", \"octubre\", \"octubre\", \"octubre\", \"octubre\", \"octubre\", \"octubre\", \"octubre\", \"octubre\", \"octubre\", \"ofensas\", \"operaciones\", \"operaciones\", \"ordenadores\", \"ores\", \"ores\", \"pacientes\", \"pacientes\", \"pacientes\", \"pacientes\", \"pacientes\", \"pacientes\", \"pacientes\", \"pacientes\", \"pactarse\", \"pacto\", \"pacto\", \"pacto\", \"pacto\", \"pacto\", \"pacto\", \"pacto\", \"pacto\", \"pacto\", \"pacto\", \"padre\", \"padre\", \"padre\", \"padre\", \"padre\", \"padre\", \"padre\", \"padre\", \"padre\", \"padres\", \"padres\", \"padres\", \"padres\", \"padres\", \"padres\", \"padres\", \"padres\", \"padres\", \"padres\", \"padres\", \"panelista\", \"parametros\", \"parametros\", \"parche\", \"parche\", \"parlamentario\", \"parlamentario\", \"parlamentario\", \"parlamentario\", \"paro\", \"paro\", \"paro\", \"paro\", \"parte\", \"parte\", \"parte\", \"parte\", \"parte\", \"parte\", \"parte\", \"parte\", \"parte\", \"parte\", \"parte\", \"parte\", \"particulas\", \"particulas\", \"particulas\", \"partido\", \"partido\", \"partido\", \"partido\", \"partido\", \"partido\", \"partido\", \"partido\", \"partido\", \"partido\", \"partido\", \"partido\", \"pasajero\", \"pasajero\", \"pasajero\", \"pasajero\", \"pasajero\", \"pasajero\", \"pasajeros\", \"pasajeros\", \"pasajeros\", \"pasajeros\", \"pasajeros\", \"pasajeros\", \"pasajeros\", \"pasajeros\", \"pasajeros\", \"pasajeros\", \"pasajeros\", \"pasta\", \"pasta\", \"pasta\", \"pasta\", \"paternidad\", \"paternidad\", \"patologias\", \"patologias\", \"paz\", \"paz\", \"paz\", \"paz\", \"paz\", \"paz\", \"paz\", \"paz\", \"paz\", \"paz\", \"pedaleo\", \"pegamento\", \"pegarle\", \"peligros\", \"peligros\", \"penden\", \"pericia\", \"periodo\", \"periodo\", \"periodo\", \"periodo\", \"periodo\", \"periodo\", \"periodo\", \"periodo\", \"periodo\", \"periodo\", \"periodo\", \"periodo\", \"perjuicios\", \"perjuicios\", \"perjuicios\", \"perjuicios\", \"perpetua\", \"perpetua\", \"persona\", \"persona\", \"persona\", \"persona\", \"persona\", \"persona\", \"persona\", \"persona\", \"persona\", \"persona\", \"persona\", \"persona\", \"personas\", \"personas\", \"personas\", \"personas\", \"personas\", \"personas\", \"personas\", \"personas\", \"personas\", \"personas\", \"personas\", \"personas\", \"pertenencia\", \"picadura\", \"piedad\", \"pieles\", \"pieles\", \"pieles\", \"plantas\", \"plantas\", \"plantas\", \"plantas\", \"plantas\", \"plantas\", \"plantas\", \"plantas\", \"plata\", \"plata\", \"plebiscito\", \"plegarse\", \"plegarse\", \"polos\", \"polos\", \"popularidad\", \"popularidad\", \"porcentajes\", \"porcentajes\", \"porcentajes\", \"porcentajes\", \"pormenores\", \"pormenores\", \"pormenores\", \"posconvergentes\", \"posiciones\", \"posiciones\", \"posiciones\", \"posiciones\", \"posiciones\", \"precauciones\", \"precipitaciones\", \"precipitaciones\", \"precipitaciones\", \"premio\", \"premio\", \"premio\", \"premio\", \"premio\", \"premio\", \"premio\", \"premio\", \"premio\", \"premio\", \"premios\", \"premios\", \"premios\", \"premios\", \"premios\", \"premios\", \"premios\", \"prepararnos\", \"prepararnos\", \"presentadora\", \"presentadora\", \"presentadora\", \"presidente\", \"presidente\", \"presidente\", \"presidente\", \"presidente\", \"presidente\", \"presidente\", \"presidente\", \"presidente\", \"presidente\", \"presidente\", \"presidente\", \"prestaciones\", \"prestaciones\", \"prestaciones\", \"prestaciones\", \"prestaciones\", \"prestaciones\", \"previsiones\", \"previsiones\", \"previsiones\", \"previsiones\", \"previsiones\", \"prisiones\", \"prisiones\", \"prisiones\", \"prisiones\", \"prisiones\", \"prisiones\", \"prisiones\", \"probabilidad\", \"probabilidad\", \"probabilidad\", \"probabilidad\", \"probabilidad\", \"probabilidad\", \"problema\", \"problema\", \"problema\", \"problema\", \"problema\", \"problema\", \"problema\", \"problema\", \"problema\", \"problema\", \"problema\", \"problema\", \"problemas\", \"problemas\", \"problemas\", \"problemas\", \"problemas\", \"problemas\", \"problemas\", \"problemas\", \"problemas\", \"problemas\", \"problemas\", \"problemas\", \"proceso\", \"proceso\", \"proceso\", \"proceso\", \"proceso\", \"proceso\", \"proceso\", \"proceso\", \"proceso\", \"proceso\", \"proceso\", \"proceso\", \"productos\", \"productos\", \"productos\", \"productos\", \"productos\", \"productos\", \"productos\", \"productos\", \"productos\", \"productos\", \"productos\", \"profesor\", \"profesor\", \"profesor\", \"profesor\", \"profesor\", \"profesor\", \"profesor\", \"profesor\", \"progenitores\", \"progenitores\", \"programa\", \"programa\", \"programa\", \"programa\", \"programa\", \"programa\", \"programa\", \"programa\", \"programa\", \"programa\", \"programa\", \"programa\", \"programas\", \"programas\", \"programas\", \"programas\", \"prohibicion\", \"propagacion\", \"propagacion\", \"propagacion\", \"propagacion\", \"propagacion\", \"propagacion\", \"propagacion\", \"propinas\", \"propinas\", \"proposiciones\", \"propuestos\", \"protagonista\", \"protagonista\", \"protagonista\", \"protagonista\", \"protagonista\", \"protagonista\", \"protagonista\", \"protagonista\", \"protocolo\", \"protocolo\", \"protocolo\", \"protocolo\", \"protocolo\", \"proveedor\", \"proveedor\", \"proveedor\", \"proyecto\", \"proyecto\", \"proyecto\", \"proyecto\", \"proyecto\", \"proyecto\", \"proyecto\", \"proyecto\", \"proyecto\", \"proyecto\", \"proyecto\", \"proyecto\", \"publicidad\", \"publicidad\", \"publicidad\", \"publicidad\", \"publicidad\", \"publicidad\", \"publicidad\", \"publicidad\", \"publicidad\", \"puente\", \"puente\", \"punto\", \"punto\", \"punto\", \"punto\", \"punto\", \"punto\", \"punto\", \"punto\", \"punto\", \"punto\", \"punto\", \"punto\", \"querella\", \"querella\", \"quiebre\", \"racionamiento\", \"racionamiento\", \"racionamiento\", \"racionamiento\", \"ralentizacion\", \"ralentizacion\", \"rapidez\", \"rapidez\", \"rapidez\", \"ratones\", \"rayos\", \"rayos\", \"rayos\", \"reciclaje\", \"reciclaje\", \"recinto\", \"recinto\", \"recinto\", \"recinto\", \"recinto\", \"recinto\", \"recinto\", \"reconstruccion\", \"reconstruccion\", \"recorte\", \"recorte\", \"recursos\", \"recursos\", \"recursos\", \"recursos\", \"recursos\", \"recursos\", \"recursos\", \"recursos\", \"recursos\", \"recursos\", \"recursos\", \"recursos\", \"red\", \"red\", \"red\", \"red\", \"red\", \"red\", \"red\", \"red\", \"red\", \"red\", \"red\", \"red\", \"redes\", \"redes\", \"redes\", \"redes\", \"redes\", \"redes\", \"redes\", \"redes\", \"redes\", \"redes\", \"redes\", \"redes\", \"reforma\", \"reforma\", \"reforma\", \"reforma\", \"reforma\", \"reforma\", \"reforma\", \"reforma\", \"regantes\", \"regantes\", \"regantes\", \"regantes\", \"regantes\", \"regimen\", \"regiones\", \"regiones\", \"regiones\", \"regiones\", \"regiones\", \"regiones\", \"regiones\", \"regiones\", \"regiones\", \"regiones\", \"regulatorias\", \"regulatorias\", \"relaciones\", \"relaciones\", \"relaciones\", \"relaciones\", \"relaciones\", \"relaciones\", \"relaciones\", \"relaciones\", \"relaciones\", \"relaciones\", \"reparticion\", \"repudio\", \"repunte\", \"repunte\", \"requerimiento\", \"requerimiento\", \"respecto\", \"respecto\", \"respecto\", \"respecto\", \"respecto\", \"respecto\", \"respecto\", \"respecto\", \"respecto\", \"respecto\", \"respecto\", \"respecto\", \"respeto\", \"respeto\", \"respeto\", \"respeto\", \"respeto\", \"respeto\", \"respeto\", \"respeto\", \"respeto\", \"respeto\", \"respeto\", \"respuesta\", \"respuesta\", \"respuesta\", \"respuesta\", \"respuesta\", \"respuesta\", \"respuesta\", \"respuesta\", \"respuesta\", \"respuesta\", \"respuesta\", \"respuesta\", \"restos\", \"restos\", \"restos\", \"restos\", \"restos\", \"resuelve\", \"resuelve\", \"resuelve\", \"resultados\", \"resultados\", \"resultados\", \"resultados\", \"resultados\", \"resultados\", \"resultados\", \"resultados\", \"resultados\", \"resultados\", \"resultados\", \"resultados\", \"retos\", \"retos\", \"retos\", \"retos\", \"reunirse\", \"ribetes\", \"ribetes\", \"ribetes\", \"ribetes\", \"ribetes\", \"riesgo\", \"riesgo\", \"riesgo\", \"riesgo\", \"riesgo\", \"riesgo\", \"riesgo\", \"riesgo\", \"riesgo\", \"riesgo\", \"riesgo\", \"riesgo\", \"rios\", \"rios\", \"robos\", \"robos\", \"robos\", \"robos\", \"romperla\", \"romperla\", \"ruido\", \"ruido\", \"ruido\", \"rutina\", \"rutina\", \"sabor\", \"sabor\", \"sabor\", \"sabor\", \"sacrificios\", \"saldo\", \"saldo\", \"salinas\", \"salio\", \"salio\", \"secretaria\", \"secretaria\", \"secretaria\", \"secretaria\", \"secretaria\", \"secretaria\", \"secretario\", \"secretario\", \"secretario\", \"secretario\", \"secretario\", \"secretario\", \"secretario\", \"secretario\", \"secretario\", \"secretario\", \"secretarios\", \"sectores\", \"sectores\", \"sectores\", \"sectores\", \"sectores\", \"sectores\", \"sectores\", \"sectores\", \"sectores\", \"sectores\", \"secuestros\", \"secuestros\", \"secuestros\", \"segmentos\", \"seguridad\", \"seguridad\", \"seguridad\", \"seguridad\", \"seguridad\", \"seguridad\", \"seguridad\", \"seguridad\", \"seguridad\", \"seguridad\", \"seguridad\", \"seguridad\", \"semana\", \"semana\", \"semana\", \"semana\", \"semana\", \"semana\", \"semana\", \"semana\", \"semana\", \"semana\", \"semana\", \"semana\", \"semanas\", \"semanas\", \"semanas\", \"semanas\", \"semanas\", \"semanas\", \"semanas\", \"semanas\", \"semanas\", \"semanas\", \"senadora\", \"senadora\", \"sequia\", \"sequia\", \"sequia\", \"sequia\", \"sere\", \"serie\", \"serie\", \"serie\", \"serie\", \"serie\", \"serie\", \"serie\", \"serie\", \"serie\", \"serie\", \"serie\", \"serie\", \"sermones\", \"sindicatos\", \"sindicatos\", \"sindicatos\", \"sintomas\", \"sintomas\", \"sintomas\", \"sintomas\", \"sintomas\", \"sintomas\", \"sintomas\", \"sintomas\", \"sintomas\", \"sintomas\", \"sintomatologia\", \"sistema\", \"sistema\", \"sistema\", \"sistema\", \"sistema\", \"sistema\", \"sistema\", \"sistema\", \"sistema\", \"sistema\", \"sistema\", \"sistema\", \"soporte\", \"soporte\", \"subidas\", \"sueldazo\", \"sueldazo\", \"sufragistas\", \"sufragistas\", \"suicidio\", \"suicidio\", \"suicidio\", \"suicidio\", \"suministro\", \"suministro\", \"suministro\", \"suministro\", \"suministro\", \"super\", \"super\", \"super\", \"suscribirse\", \"suscribirse\", \"tambien\", \"tambien\", \"tambien\", \"tambien\", \"tambien\", \"tambien\", \"tambien\", \"tambien\", \"tambien\", \"tambien\", \"tambien\", \"tambien\", \"tasas\", \"tema\", \"tema\", \"tema\", \"tema\", \"tema\", \"tema\", \"tema\", \"tema\", \"tema\", \"tema\", \"tema\", \"tema\", \"temperaturas\", \"teniente\", \"test\", \"test\", \"test\", \"test\", \"test\", \"tibieza\", \"tiburones\", \"tiempo\", \"tiempo\", \"tiempo\", \"tiempo\", \"tiempo\", \"tiempo\", \"tiempo\", \"tiempo\", \"tiempo\", \"tiempo\", \"tiempo\", \"tiempo\", \"tifus\", \"tifus\", \"tipo\", \"tipo\", \"tipo\", \"tipo\", \"tipo\", \"tipo\", \"tipo\", \"tipo\", \"tipo\", \"tipo\", \"tipo\", \"tipo\", \"torno\", \"torno\", \"torno\", \"torno\", \"torno\", \"torno\", \"torno\", \"torno\", \"tos\", \"tos\", \"tos\", \"tos\", \"tos\", \"trabajo\", \"trabajo\", \"trabajo\", \"trabajo\", \"trabajo\", \"trabajo\", \"trabajo\", \"trabajo\", \"trabajo\", \"trabajo\", \"trabajo\", \"trabajo\", \"trabajos\", \"trabajos\", \"trabajos\", \"trabajos\", \"trabajos\", \"trabajos\", \"trabajos\", \"trabajos\", \"tractores\", \"tractores\", \"tramites\", \"tramites\", \"tramites\", \"transacciones\", \"trimestre\", \"trimestre\", \"trimestre\", \"trimestre\", \"trimestre\", \"udi\", \"urgencias\", \"urgencias\", \"vacaciones\", \"vacaciones\", \"vacaciones\", \"vacunas\", \"vacunas\", \"verdades\", \"vestidos\", \"vez\", \"vez\", \"vez\", \"vez\", \"vez\", \"vez\", \"vez\", \"vez\", \"vez\", \"vez\", \"vez\", \"vez\", \"viaje\", \"viaje\", \"viaje\", \"viaje\", \"viaje\", \"viaje\", \"viaje\", \"vias\", \"vias\", \"vias\", \"vias\", \"vicepresidente\", \"vicepresidente\", \"vicepresidente\", \"vicepresidente\", \"vicepresidente\", \"vicepresidente\", \"vicepresidente\", \"vicepresidente\", \"vida\", \"vida\", \"vida\", \"vida\", \"vida\", \"vida\", \"vida\", \"vida\", \"vida\", \"vida\", \"vida\", \"vida\", \"viernes\", \"viernes\", \"viernes\", \"viernes\", \"viernes\", \"viernes\", \"viernes\", \"viernes\", \"viernes\", \"viernes\", \"viernes\", \"viernes\", \"vigilancia\", \"vigilancia\", \"vigilancia\", \"vigilancia\", \"vigilancia\", \"vigilancia\", \"vigilancia\", \"violencia\", \"violencia\", \"violencia\", \"violencia\", \"violencia\", \"violencia\", \"violencia\", \"violencia\", \"violencia\", \"violencia\", \"violencia\", \"violencia\", \"virus\", \"virus\", \"virus\", \"virus\", \"virus\", \"virus\", \"virus\", \"virus\", \"virus\", \"virus\", \"virus\", \"virus\", \"visiones\", \"viveres\", \"viviendas\", \"voto\", \"voto\", \"voto\", \"voto\", \"voto\", \"voto\", \"voto\", \"votos\", \"votos\", \"votos\", \"votos\", \"votos\", \"votos\", \"zona\", \"zona\", \"zona\", \"zona\", \"zona\", \"zona\", \"zona\", \"zona\", \"zona\", \"zona\", \"zona\", \"zona\", \"zonas\", \"zonas\", \"zonas\", \"zonas\", \"zonas\", \"zonas\", \"zonas\", \"zonas\", \"zonas\", \"zonas\", \"zonas\"]}, \"R\": 30, \"lambda.step\": 0.01, \"plot.opts\": {\"xlab\": \"PC1\", \"ylab\": \"PC2\"}, \"topic.order\": [8, 5, 12, 1, 3, 11, 9, 4, 7, 10, 6, 2]};\n",
       "\n",
       "function LDAvis_load_lib(url, callback){\n",
       "  var s = document.createElement('script');\n",
       "  s.src = url;\n",
       "  s.async = true;\n",
       "  s.onreadystatechange = s.onload = callback;\n",
       "  s.onerror = function(){console.warn(\"failed to load library \" + url);};\n",
       "  document.getElementsByTagName(\"head\")[0].appendChild(s);\n",
       "}\n",
       "\n",
       "if(typeof(LDAvis) !== \"undefined\"){\n",
       "   // already loaded: just create the visualization\n",
       "   !function(LDAvis){\n",
       "       new LDAvis(\"#\" + \"ldavis_el1070411571652565309490938\", ldavis_el1070411571652565309490938_data);\n",
       "   }(LDAvis);\n",
       "}else if(typeof define === \"function\" && define.amd){\n",
       "   // require.js is available: use it to load d3/LDAvis\n",
       "   require.config({paths: {d3: \"https://cdnjs.cloudflare.com/ajax/libs/d3/3.5.5/d3.min\"}});\n",
       "   require([\"d3\"], function(d3){\n",
       "      window.d3 = d3;\n",
       "      LDAvis_load_lib(\"https://cdn.rawgit.com/bmabey/pyLDAvis/files/ldavis.v1.0.0.js\", function(){\n",
       "        new LDAvis(\"#\" + \"ldavis_el1070411571652565309490938\", ldavis_el1070411571652565309490938_data);\n",
       "      });\n",
       "    });\n",
       "}else{\n",
       "    // require.js not available: dynamically load d3 & LDAvis\n",
       "    LDAvis_load_lib(\"https://cdnjs.cloudflare.com/ajax/libs/d3/3.5.5/d3.min.js\", function(){\n",
       "         LDAvis_load_lib(\"https://cdn.rawgit.com/bmabey/pyLDAvis/files/ldavis.v1.0.0.js\", function(){\n",
       "                 new LDAvis(\"#\" + \"ldavis_el1070411571652565309490938\", ldavis_el1070411571652565309490938_data);\n",
       "            })\n",
       "         });\n",
       "}\n",
       "</script>"
      ],
      "text/plain": [
       "PreparedData(topic_coordinates=              x         y  topics  cluster       Freq\n",
       "topic                                                \n",
       "7     -0.109561 -0.034202       1        1  10.584554\n",
       "4     -0.035227 -0.018742       2        1  10.469298\n",
       "11     0.056808 -0.020406       3        1  10.261782\n",
       "0     -0.050681 -0.009046       4        1  10.015429\n",
       "2     -0.031727  0.006116       5        1   9.439596\n",
       "10     0.023066  0.026333       6        1   9.340072\n",
       "8      0.009161  0.057391       7        1   8.143942\n",
       "3      0.008244  0.022988       8        1   7.812334\n",
       "6      0.048836 -0.042451       9        1   7.050725\n",
       "9      0.008678 -0.033113      10        1   5.981282\n",
       "5      0.007404  0.093903      11        1   5.706047\n",
       "1      0.064998 -0.048771      12        1   5.194948, topic_info=           Term        Freq       Total Category  logprob  loglift\n",
       "763       euros  148.000000  148.000000  Default  30.0000  30.0000\n",
       "399        agua   69.000000   69.000000  Default  29.0000  29.0000\n",
       "643  presidente  187.000000  187.000000  Default  28.0000  28.0000\n",
       "590     delitos   95.000000   95.000000  Default  27.0000  27.0000\n",
       "636     partido  114.000000  114.000000  Default  26.0000  26.0000\n",
       "..          ...         ...         ...      ...      ...      ...\n",
       "57      febrero    6.638974  100.764290  Topic12  -5.6091   0.2377\n",
       "460       marzo    6.796609  134.582321  Topic12  -5.5856  -0.0283\n",
       "310      semana    6.701159  125.546440  Topic12  -5.5998   0.0271\n",
       "6          caso    6.298914  236.354355  Topic12  -5.6617  -0.6675\n",
       "643  presidente    6.074093  187.696426  Topic12  -5.6980  -0.4733\n",
       "\n",
       "[890 rows x 6 columns], token_table=      Topic      Freq   Term\n",
       "term                        \n",
       "0         1  0.050731  abril\n",
       "0         2  0.118373  abril\n",
       "0         3  0.338208  abril\n",
       "0         4  0.016910  abril\n",
       "0         5  0.067642  abril\n",
       "...     ...       ...    ...\n",
       "286       7  0.036957  zonas\n",
       "286       8  0.073913  zonas\n",
       "286       9  0.055435  zonas\n",
       "286      10  0.036957  zonas\n",
       "286      11  0.166305  zonas\n",
       "\n",
       "[3181 rows x 3 columns], R=30, lambda_step=0.01, plot_opts={'xlab': 'PC1', 'ylab': 'PC2'}, topic_order=[8, 5, 12, 1, 3, 11, 9, 4, 7, 10, 6, 2])"
      ]
     },
     "execution_count": 105,
     "metadata": {},
     "output_type": "execute_result"
    }
   ],
   "source": [
    "# %%time\n",
    "import pyLDAvis.gensim\n",
    "pyLDAvis.gensim.prepare(ldamodel, corpus, dictionary)"
   ]
  },
  {
   "cell_type": "code",
   "execution_count": null,
   "metadata": {},
   "outputs": [],
   "source": []
  }
 ],
 "metadata": {
  "kernelspec": {
   "display_name": "Python 3",
   "language": "python",
   "name": "python3"
  },
  "language_info": {
   "codemirror_mode": {
    "name": "ipython",
    "version": 3
   },
   "file_extension": ".py",
   "mimetype": "text/x-python",
   "name": "python",
   "nbconvert_exporter": "python",
   "pygments_lexer": "ipython3",
   "version": "3.7.6"
  }
 },
 "nbformat": 4,
 "nbformat_minor": 4
}
